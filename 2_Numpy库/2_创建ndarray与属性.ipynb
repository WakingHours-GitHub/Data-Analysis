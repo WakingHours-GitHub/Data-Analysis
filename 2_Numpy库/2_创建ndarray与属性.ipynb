{
 "cells": [
  {
   "cell_type": "markdown",
   "id": "53b7477c",
   "metadata": {
    "pycharm": {
     "name": "#%% md\n"
    }
   },
   "source": [
    "## 创建ndarray对象\n",
    "通过 NumPy 的内置函数 array() 可以创建 ndarray 对象，其语法格式如下：\n",
    "\n",
    "<b>numpy.array(object, dtype = None, copy = True, order = None,subok=False,ndmin = 0)</b>\n",
    "\n",
    "参数说明   \n",
    "\n",
    "| 序号 | 参数 | 描述说明 |\n",
    "| :--- | :--- | :--- |\n",
    "| 1      | object| 表示一个数组序列。       |\n",
    "| 2   | dtype | 可选参数，通过它可以更改数组的数据类型。        |\n",
    "| 3      | copy | 可选参数，表示数组能否被复制(深拷贝)，默认是 True。        |\n",
    "| 4      | ndmin |  用于指定数组的维度。       |\n",
    "| 5      | subok |  可选参数，类型为bool值，默认False。为True，使用object的内部数据类型；False：使用object数组的数据类型。|"
   ]
  },
  {
   "cell_type": "code",
   "execution_count": 2,
   "id": "726373a9",
   "metadata": {
    "pycharm": {
     "name": "#%%\n"
    }
   },
   "outputs": [],
   "source": [
    "import numpy as np\n",
    "# 创建ndarray对象"
   ]
  },
  {
   "cell_type": "code",
   "execution_count": 3,
   "outputs": [
    {
     "data": {
      "text/plain": "array([1, 2, 3, 4, 5])"
     },
     "execution_count": 3,
     "metadata": {},
     "output_type": "execute_result"
    }
   ],
   "source": [
    "# 可以使用任何序列类型数据进行生成对象.\n",
    "np.array([1, 2, 3, 4, 5])  # 使用list生成对象."
   ],
   "metadata": {
    "collapsed": false,
    "pycharm": {
     "name": "#%%\n"
    }
   }
  },
  {
   "cell_type": "code",
   "execution_count": 4,
   "outputs": [
    {
     "data": {
      "text/plain": "array([0, 1, 2, 3, 4, 5, 6, 7, 8, 9])"
     },
     "execution_count": 4,
     "metadata": {},
     "output_type": "execute_result"
    }
   ],
   "source": [
    "np.array([i for i in range(10)])  # 使用生成器生成ndarray序列."
   ],
   "metadata": {
    "collapsed": false,
    "pycharm": {
     "name": "#%%\n"
    }
   }
  },
  {
   "cell_type": "code",
   "execution_count": 5,
   "outputs": [
    {
     "data": {
      "text/plain": "array(['1', '2', '3', '4', '5', 'a'], dtype='<U11')"
     },
     "execution_count": 5,
     "metadata": {},
     "output_type": "execute_result"
    }
   ],
   "source": [
    "# 列表中元素不相同的情况\n",
    "np.array([1, 2, 3, 4, 5, 'a'])\n",
    "# 统一转换成占用内存最大的那种数据类型. 这里就是U11"
   ],
   "metadata": {
    "collapsed": false,
    "pycharm": {
     "name": "#%%\n"
    }
   }
  },
  {
   "cell_type": "code",
   "execution_count": 6,
   "outputs": [
    {
     "name": "stdout",
     "output_type": "stream",
     "text": [
      "float32\n",
      "float64\n"
     ]
    }
   ],
   "source": [
    "# np.array()参数练习\n",
    "# dtype: 指定数据类型\n",
    "a = np.array([1, 2, 3], dtype=np.float32)\n",
    "# 类型为float32.\n",
    "a  # array([1., 2., 3.], dtype=float32)\n",
    "print(a.dtype)\n",
    "\n",
    "b = np.array([1, 2, 3], dtype=\"float\")  # 默认是float\n",
    "b  # array([1., 2., 3.], dtype=float64)\n",
    "print(b.dtype)  # float64"
   ],
   "metadata": {
    "collapsed": false,
    "pycharm": {
     "name": "#%%\n"
    }
   }
  },
  {
   "cell_type": "code",
   "execution_count": 7,
   "outputs": [
    {
     "name": "stdout",
     "output_type": "stream",
     "text": [
      "id(a):3059561956816, id(b):3059561856144\n",
      "[10  2  3  4  5]\n",
      "[1 2 3 4 5]\n"
     ]
    }
   ],
   "source": [
    "# 设置copy参数， 默认为True\n",
    "a = np.array([1, 2, 3, 4, 5])\n",
    "b = np.array(a)  # 从a复制给b\n",
    "print(f\"id(a):{id(a)}, id(b):{id(b)}\")  # 可见, id不同, 因此不是一个数组\n",
    "\n",
    "b[0] = 10  # 修改b元素\n",
    "print(b)\n",
    "print(a)  # 可见, a与b无关"
   ],
   "metadata": {
    "collapsed": false,
    "pycharm": {
     "name": "#%%\n"
    }
   }
  },
  {
   "cell_type": "code",
   "execution_count": 8,
   "outputs": [
    {
     "name": "stdout",
     "output_type": "stream",
     "text": [
      "id(a):3059561957296, id(b):3059561957296\n"
     ]
    }
   ],
   "source": [
    "# 当设置copy参数为False时\n",
    "a = np.array([1, 2, 3, 4, 5])\n",
    "b = np.array(a, copy=False)  # 创建的时候不复制, 不会创建副本, 即,b同样指向a的区域.\n",
    "print(f\"id(a):{id(a)}, id(b):{id(b)}\")  # 可见, id不同, 因此不是一个数组\n"
   ],
   "metadata": {
    "collapsed": false,
    "pycharm": {
     "name": "#%%\n"
    }
   }
  },
  {
   "cell_type": "code",
   "execution_count": 9,
   "id": "a2b851ad",
   "metadata": {
    "pycharm": {
     "name": "#%%\n"
    }
   },
   "outputs": [
    {
     "data": {
      "text/plain": "2"
     },
     "execution_count": 9,
     "metadata": {},
     "output_type": "execute_result"
    }
   ],
   "source": [
    "# ndmin: 用于指定数组的维度\n",
    "a = np.array([1, 2, 3], ndmin=2)\n",
    "a.ndim  # 2维度"
   ]
  },
  {
   "cell_type": "code",
   "execution_count": 10,
   "id": "f4aaf875",
   "metadata": {
    "pycharm": {
     "name": "#%%\n"
    }
   },
   "outputs": [
    {
     "name": "stdout",
     "output_type": "stream",
     "text": [
      "<class 'numpy.matrix'>\n",
      "subok=True <class 'numpy.matrix'>\n",
      "subok=False <class 'numpy.ndarray'>\n"
     ]
    }
   ],
   "source": [
    "# subok参数: 类型为bool值, 默认为False为True, 使用object内部的数据类型, False: 使用object数组的数据类型\n",
    "a = np.mat([1, 2, 3, 4]) # 创建矩阵对象\n",
    "print(type(a)) # <class 'numpy.matrix'>\n",
    "\n",
    "at = np.array(a, subok=True)\n",
    "af = np.array(a, subok=False)\n",
    "print('subok=True', type(at)) # subok=True <class 'numpy.matrix'> # 使用object类型作为数据类型\n",
    "print('subok=False', type(af)) # subok=False <class 'numpy.ndarray'> # 仅仅使用ndarray作为数据类型\n",
    "\n"
   ]
  },
  {
   "cell_type": "code",
   "execution_count": 13,
   "id": "284ec3ad",
   "metadata": {
    "pycharm": {
     "name": "#%%\n"
    }
   },
   "outputs": [
    {
     "name": "stdout",
     "output_type": "stream",
     "text": [
      "3059577016016 3059321312624\n",
      "3059577016016 3059561956624\n"
     ]
    }
   ],
   "source": [
    "# 复制数组\n",
    "a = np.array([2, 3, 4 ,5 ])\n",
    "# 从a定义b时候, 有几种方案:\n",
    "b  = np.array(a)\n",
    "print(id(a), id(b)) # 不同\n",
    "\n",
    "# 使用.copy()方法\n",
    "c = a.copy()\n",
    "print(id(a), id(c)) # 不同\n",
    "\n",
    "# 这些都是深拷贝, 也就是数据拷贝, 不是地址拷贝"
   ]
  },
  {
   "cell_type": "code",
   "execution_count": null,
   "outputs": [],
   "source": [],
   "metadata": {
    "collapsed": false,
    "pycharm": {
     "name": "#%%\n"
    }
   }
  },
  {
   "cell_type": "code",
   "execution_count": null,
   "outputs": [],
   "source": [],
   "metadata": {
    "collapsed": false,
    "pycharm": {
     "name": "#%%\n"
    }
   }
  },
  {
   "cell_type": "code",
   "execution_count": null,
   "id": "e2f2c20b",
   "metadata": {
    "pycharm": {
     "name": "#%%\n"
    }
   },
   "outputs": [],
   "source": [
    "# argnge()生成区间数组\n",
    "# 与range()类似, 不过返回对象是ndarray类型"
   ]
  },
  {
   "cell_type": "code",
   "execution_count": null,
   "id": "91094867",
   "metadata": {
    "pycharm": {
     "name": "#%%\n"
    }
   },
   "outputs": [],
   "source": []
  },
  {
   "cell_type": "code",
   "execution_count": null,
   "id": "c5d58172",
   "metadata": {
    "pycharm": {
     "name": "#%%\n"
    }
   },
   "outputs": [],
   "source": []
  },
  {
   "cell_type": "code",
   "execution_count": null,
   "id": "38342605",
   "metadata": {
    "pycharm": {
     "name": "#%%\n"
    }
   },
   "outputs": [],
   "source": []
  },
  {
   "cell_type": "code",
   "execution_count": null,
   "id": "fd07bc11",
   "metadata": {
    "pycharm": {
     "name": "#%%\n"
    }
   },
   "outputs": [],
   "source": []
  },
  {
   "cell_type": "code",
   "execution_count": null,
   "id": "44af061a",
   "metadata": {
    "pycharm": {
     "name": "#%%\n"
    }
   },
   "outputs": [],
   "source": []
  },
  {
   "cell_type": "code",
   "execution_count": null,
   "id": "04d59af5",
   "metadata": {
    "pycharm": {
     "name": "#%%\n"
    }
   },
   "outputs": [],
   "source": []
  },
  {
   "cell_type": "code",
   "execution_count": null,
   "id": "d9848690",
   "metadata": {
    "pycharm": {
     "name": "#%%\n"
    }
   },
   "outputs": [],
   "source": []
  },
  {
   "cell_type": "code",
   "execution_count": null,
   "id": "2bc98d14",
   "metadata": {
    "pycharm": {
     "name": "#%%\n"
    }
   },
   "outputs": [],
   "source": []
  },
  {
   "cell_type": "code",
   "execution_count": null,
   "id": "3f440c03",
   "metadata": {
    "pycharm": {
     "name": "#%%\n"
    }
   },
   "outputs": [],
   "source": []
  },
  {
   "cell_type": "code",
   "execution_count": null,
   "id": "eec01452",
   "metadata": {
    "pycharm": {
     "name": "#%%\n"
    }
   },
   "outputs": [],
   "source": []
  },
  {
   "cell_type": "code",
   "execution_count": null,
   "id": "b2ad025d",
   "metadata": {
    "pycharm": {
     "name": "#%%\n"
    }
   },
   "outputs": [],
   "source": []
  },
  {
   "cell_type": "code",
   "execution_count": null,
   "id": "2837c49c",
   "metadata": {
    "pycharm": {
     "name": "#%%\n"
    }
   },
   "outputs": [],
   "source": []
  },
  {
   "cell_type": "code",
   "execution_count": null,
   "id": "a251d857",
   "metadata": {
    "pycharm": {
     "name": "#%%\n"
    }
   },
   "outputs": [],
   "source": []
  },
  {
   "cell_type": "code",
   "execution_count": null,
   "id": "bcbbc39a",
   "metadata": {
    "pycharm": {
     "name": "#%%\n"
    }
   },
   "outputs": [],
   "source": []
  },
  {
   "cell_type": "code",
   "execution_count": null,
   "id": "385b096e",
   "metadata": {
    "pycharm": {
     "name": "#%%\n"
    }
   },
   "outputs": [],
   "source": []
  }
 ],
 "metadata": {
  "kernelspec": {
   "display_name": "Python 3 (ipykernel)",
   "language": "python",
   "name": "python3"
  },
  "language_info": {
   "codemirror_mode": {
    "name": "ipython",
    "version": 3
   },
   "file_extension": ".py",
   "mimetype": "text/x-python",
   "name": "python",
   "nbconvert_exporter": "python",
   "pygments_lexer": "ipython3",
   "version": "3.9.9"
  }
 },
 "nbformat": 4,
 "nbformat_minor": 5
}