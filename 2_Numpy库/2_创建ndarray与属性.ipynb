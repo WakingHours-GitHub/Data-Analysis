{
 "cells": [
  {
   "cell_type": "markdown",
   "id": "53b7477c",
   "metadata": {
    "pycharm": {
     "name": "#%% md\n"
    }
   },
   "source": [
    "## 创建ndarray对象\n",
    "通过 NumPy 的内置函数 array() 可以创建 ndarray 对象，其语法格式如下：\n",
    "\n",
    "<b>numpy.array(object, dtype = None, copy = True, order = None,subok=False,ndmin = 0)</b>\n",
    "\n",
    "参数说明   \n",
    "\n",
    "| 序号 | 参数 | 描述说明 |\n",
    "| :--- | :--- | :--- |\n",
    "| 1      | object| 表示一个数组序列。       |\n",
    "| 2   | dtype | 可选参数，通过它可以更改数组的数据类型。        |\n",
    "| 3      | copy | 可选参数，表示数组能否被复制(深拷贝)，默认是 True。        |\n",
    "| 4      | ndmin |  用于指定数组的维度。       |\n",
    "| 5      | subok |  可选参数，类型为bool值，默认False。为True，使用object的内部数据类型；False：使用object数组的数据类型。|"
   ]
  },
  {
   "cell_type": "code",
   "execution_count": 1,
   "id": "726373a9",
   "metadata": {
    "pycharm": {
     "name": "#%%\n"
    }
   },
   "outputs": [],
   "source": [
    "import numpy as np\n",
    "# 创建ndarray对象"
   ]
  },
  {
   "cell_type": "code",
   "execution_count": 2,
   "outputs": [
    {
     "data": {
      "text/plain": "array([1, 2, 3, 4, 5])"
     },
     "execution_count": 2,
     "metadata": {},
     "output_type": "execute_result"
    }
   ],
   "source": [
    "# 可以使用任何序列 类型数据进行生成对象.\n",
    "np.array([1, 2, 3, 4, 5])  # 使用list生成对象."
   ],
   "metadata": {
    "collapsed": false,
    "pycharm": {
     "name": "#%%\n"
    }
   }
  },
  {
   "cell_type": "code",
   "execution_count": 3,
   "outputs": [
    {
     "data": {
      "text/plain": "array([0, 1, 2, 3, 4, 5, 6, 7, 8, 9])"
     },
     "execution_count": 3,
     "metadata": {},
     "output_type": "execute_result"
    }
   ],
   "source": [
    "np.array([i for i in range(10)])  # 使用生成器生成ndarray序列."
   ],
   "metadata": {
    "collapsed": false,
    "pycharm": {
     "name": "#%%\n"
    }
   }
  },
  {
   "cell_type": "code",
   "execution_count": 4,
   "outputs": [
    {
     "data": {
      "text/plain": "array(['1', '2', '3', '4', '5', 'a'], dtype='<U11')"
     },
     "execution_count": 4,
     "metadata": {},
     "output_type": "execute_result"
    }
   ],
   "source": [
    "# 列表中元素不相同的情况\n",
    "np.array([1, 2, 3, 4, 5, 'a'])\n",
    "# 统一转换成占用内存最大的那种数据类型. 这里就是U11"
   ],
   "metadata": {
    "collapsed": false,
    "pycharm": {
     "name": "#%%\n"
    }
   }
  },
  {
   "cell_type": "code",
   "execution_count": 5,
   "outputs": [
    {
     "name": "stdout",
     "output_type": "stream",
     "text": [
      "float32\n",
      "float64\n"
     ]
    }
   ],
   "source": [
    "# np.array()参数练习\n",
    "# dtype: 指定数据类型\n",
    "a = np.array([1, 2, 3], dtype=np.float32)\n",
    "# 类型为float32.\n",
    "a  # array([1., 2., 3.], dtype=float32)\n",
    "print(a.dtype)\n",
    "\n",
    "b = np.array([1, 2, 3], dtype=\"float\")  # 默认是float\n",
    "b  # array([1., 2., 3.], dtype=float64)\n",
    "print(b.dtype)  # float64"
   ],
   "metadata": {
    "collapsed": false,
    "pycharm": {
     "name": "#%%\n"
    }
   }
  },
  {
   "cell_type": "code",
   "execution_count": 6,
   "outputs": [
    {
     "name": "stdout",
     "output_type": "stream",
     "text": [
      "id(a):1899463176912, id(b):1899463080816\n",
      "[10  2  3  4  5]\n",
      "[1 2 3 4 5]\n"
     ]
    }
   ],
   "source": [
    "# 设置copy参数， 默认为True\n",
    "a = np.array([1, 2, 3, 4, 5])\n",
    "b = np.array(a)  # 从a复制给b\n",
    "print(f\"id(a):{id(a)}, id(b):{id(b)}\")  # 可见, id不同, 因此不是一个数组\n",
    "\n",
    "b[0] = 10  # 修改b元素\n",
    "print(b)\n",
    "print(a)  # 可见, a与b无关"
   ],
   "metadata": {
    "collapsed": false,
    "pycharm": {
     "name": "#%%\n"
    }
   }
  },
  {
   "cell_type": "code",
   "execution_count": 7,
   "outputs": [
    {
     "name": "stdout",
     "output_type": "stream",
     "text": [
      "id(a):1899463178928, id(b):1899463178928\n"
     ]
    }
   ],
   "source": [
    "# 当设置copy参数为False时\n",
    "a = np.array([1, 2, 3, 4, 5])\n",
    "b = np.array(a, copy=False)  # 创建的时候不复制, 不会创建副本, 即,b同样指向a的区域.\n",
    "print(f\"id(a):{id(a)}, id(b):{id(b)}\")  # 可见, id不同, 因此不是一个数组\n"
   ],
   "metadata": {
    "collapsed": false,
    "pycharm": {
     "name": "#%%\n"
    }
   }
  },
  {
   "cell_type": "code",
   "execution_count": 8,
   "id": "a2b851ad",
   "metadata": {
    "pycharm": {
     "name": "#%%\n"
    }
   },
   "outputs": [
    {
     "data": {
      "text/plain": "2"
     },
     "execution_count": 8,
     "metadata": {},
     "output_type": "execute_result"
    }
   ],
   "source": [
    "# ndmin: 用于指定数组的维度\n",
    "a = np.array([1, 2, 3], ndmin=2)\n",
    "a.ndim  # 2维度"
   ]
  },
  {
   "cell_type": "code",
   "execution_count": 9,
   "id": "f4aaf875",
   "metadata": {
    "pycharm": {
     "name": "#%%\n"
    }
   },
   "outputs": [
    {
     "name": "stdout",
     "output_type": "stream",
     "text": [
      "<class 'numpy.matrix'>\n",
      "subok=True <class 'numpy.matrix'>\n",
      "subok=False <class 'numpy.ndarray'>\n"
     ]
    }
   ],
   "source": [
    "# subok参数: 类型为bool值, 默认为False为True, 使用object内部的数据类型, False: 使用object数组的数据类型\n",
    "a = np.mat([1, 2, 3, 4]) # 创建矩阵对象\n",
    "print(type(a)) # <class 'numpy.matrix'>\n",
    "\n",
    "at = np.array(a, subok=True)\n",
    "af = np.array(a, subok=False)\n",
    "print('subok=True', type(at)) # subok=True <class 'numpy.matrix'> # 使用object类型作为数据类型\n",
    "print('subok=False', type(af)) # subok=False <class 'numpy.ndarray'> # 仅仅使用ndarray作为数据类型\n",
    "\n"
   ]
  },
  {
   "cell_type": "code",
   "execution_count": 10,
   "id": "284ec3ad",
   "metadata": {
    "pycharm": {
     "name": "#%%\n"
    }
   },
   "outputs": [
    {
     "name": "stdout",
     "output_type": "stream",
     "text": [
      "1899463178064 1899463178736\n",
      "1899463178064 1899463178928\n"
     ]
    }
   ],
   "source": [
    "# 复制数组\n",
    "a = np.array([2, 3, 4 ,5 ])\n",
    "# 从a定义b时候, 有几种方案:\n",
    "b  = np.array(a)\n",
    "print(id(a), id(b)) # 不同\n",
    "\n",
    "# 使用.copy()方法\n",
    "c = a.copy()\n",
    "print(id(a), id(c)) # 不同\n",
    "\n",
    "# 这些都是深拷贝, 也就是数据拷贝, 不是地址拷贝"
   ]
  },
  {
   "cell_type": "code",
   "execution_count": 11,
   "outputs": [
    {
     "name": "stdout",
     "output_type": "stream",
     "text": [
      "[1 2]\n",
      "2\n",
      "[list([1, 2, 3]) list([1, 2])]\n",
      "1\n",
      "[1 2]\n"
     ]
    },
    {
     "name": "stderr",
     "output_type": "stream",
     "text": [
      "C:\\Users\\ASUS\\AppData\\Local\\Temp\\ipykernel_7912\\3015915134.py:11: VisibleDeprecationWarning: Creating an ndarray from ragged nested sequences (which is a list-or-tuple of lists-or-tuples-or ndarrays with different lengths or shapes) is deprecated. If you meant to do this, you must specify 'dtype=object' when creating the ndarray.\n",
      "  c = np.array([[1,  2, 3], [1, 2]])\n"
     ]
    }
   ],
   "source": [
    "# 练习:\n",
    "# 创建一个1维数组\n",
    "a = np.array([1, 2,], ndmin=1)\n",
    "print(a)\n",
    "\n",
    "# 创建一个2维数组\n",
    "b = np.array([1, ], ndmin=2)\n",
    "print(b.ndim)\n",
    "\n",
    "# 创建嵌套序列不一样的数组,\n",
    "c = np.array([[1,  2, 3], [1, 2]])\n",
    "print(c) # [list([1, 2, 3]) list([1, 2])] # see, is a 1 dimension\n",
    "print(c.ndim) # 1\n",
    "\n",
    "# 测试数组a, 将数组赋给b,修改b,观察a是否发生变化.\n",
    "b = np.array(a, copy=True)\n",
    "print(b)"
   ],
   "metadata": {
    "collapsed": false,
    "pycharm": {
     "name": "#%%\n"
    }
   }
  },
  {
   "cell_type": "code",
   "execution_count": 11,
   "outputs": [],
   "source": [],
   "metadata": {
    "collapsed": false,
    "pycharm": {
     "name": "#%%\n"
    }
   }
  },
  {
   "cell_type": "code",
   "execution_count": 22,
   "id": "e2f2c20b",
   "metadata": {
    "pycharm": {
     "name": "#%%\n"
    }
   },
   "outputs": [
    {
     "name": "stdout",
     "output_type": "stream",
     "text": [
      "[0 1 2 3 4 5 6 7 8 9]\n"
     ]
    }
   ],
   "source": [
    "# arange()生成区间数组\n",
    "# 与range()类似, 不过返回对象是ndarray类型\n",
    "# 使用方法:\n",
    "# arange(start=None, end, step=1, dtype)\n",
    "# 包前不包后\n",
    "# arange([start,] stop[, step,], dtype=None, *, like=None) # 可见, start和step都是非必要参数\n",
    "print(np.arange(10)) # [0 1 2 3 4 5 6 7 8 9]\n",
    "\n",
    "\n",
    "\n",
    "\n",
    "\n"
   ]
  },
  {
   "cell_type": "code",
   "execution_count": 27,
   "id": "91094867",
   "metadata": {
    "pycharm": {
     "name": "#%%\n"
    }
   },
   "outputs": [
    {
     "data": {
      "text/plain": "array([0., 1., 2., 3.])"
     },
     "execution_count": 27,
     "metadata": {},
     "output_type": "execute_result"
    }
   ],
   "source": [
    "# 支持使用浮点型数据\n",
    "np.arange(3.1)\n",
    "# 可见start=0, step=1 (默认情况下)"
   ]
  },
  {
   "cell_type": "code",
   "execution_count": 28,
   "id": "c5d58172",
   "metadata": {
    "pycharm": {
     "name": "#%%\n"
    }
   },
   "outputs": [
    {
     "ename": "TypeError",
     "evalue": "'float' object cannot be interpreted as an integer",
     "output_type": "error",
     "traceback": [
      "\u001B[1;31m---------------------------------------------------------------------------\u001B[0m",
      "\u001B[1;31mTypeError\u001B[0m                                 Traceback (most recent call last)",
      "Input \u001B[1;32mIn [28]\u001B[0m, in \u001B[0;36m<cell line: 2>\u001B[1;34m()\u001B[0m\n\u001B[0;32m      1\u001B[0m \u001B[38;5;66;03m# 在cpython中的range()就不支持浮点数数据\u001B[39;00m\n\u001B[1;32m----> 2\u001B[0m \u001B[38;5;28;43mrange\u001B[39;49m\u001B[43m(\u001B[49m\u001B[38;5;241;43m3.1\u001B[39;49m\u001B[43m)\u001B[49m\n",
      "\u001B[1;31mTypeError\u001B[0m: 'float' object cannot be interpreted as an integer"
     ]
    }
   ],
   "source": [
    "# 在cpython中的range()就不支持浮点数数据\n",
    "# range(3.1) # 'float' object cannot be interpreted as an integer"
   ]
  },
  {
   "cell_type": "code",
   "execution_count": 52,
   "id": "38342605",
   "metadata": {
    "pycharm": {
     "name": "#%%\n"
    }
   },
   "outputs": [
    {
     "name": "stdout",
     "output_type": "stream",
     "text": [
      "[0. 1. 2. 3. 4.]\n",
      "float32\n"
     ]
    }
   ],
   "source": [
    "# arange指定数据类型\n",
    "a = np.arange(5, dtype=np.float32)\n",
    "print(a) # [0. 1. 2. 3. 4.]\n",
    "print(a.dtype) #\n"
   ]
  },
  {
   "cell_type": "code",
   "execution_count": 53,
   "outputs": [
    {
     "data": {
      "text/plain": "array([10, 12, 14, 16, 18, 20, 22, 24, 26, 28, 30, 32, 34, 36, 38])"
     },
     "execution_count": 53,
     "metadata": {},
     "output_type": "execute_result"
    }
   ],
   "source": [
    "# 参数\n",
    "np.arange(10, 40, 2)\n"
   ],
   "metadata": {
    "collapsed": false,
    "pycharm": {
     "name": "#%%\n"
    }
   }
  },
  {
   "cell_type": "code",
   "execution_count": 59,
   "id": "fd07bc11",
   "metadata": {
    "pycharm": {
     "name": "#%%\n"
    }
   },
   "outputs": [
    {
     "name": "stdout",
     "output_type": "stream",
     "text": [
      "[]\n",
      "[ 0  3  6  9 12 15 18]\n"
     ]
    }
   ],
   "source": [
    "# 默认两个参数\n",
    "ar2 = np.arange(20, 3)\n",
    "print(ar2)\n",
    "# 正确, 但是是[] 也就是没有返回任何值, 从20, 到3, 显然不满足向左的原则. 因此也就没有返回任何元素\n",
    "\n",
    "# 正确的书写格式\n",
    "ar2 = np.arange(0, 20, 3)\n",
    "print(ar2) # [ 0  3  6  9 12 15 18]"
   ]
  },
  {
   "cell_type": "markdown",
   "source": [],
   "metadata": {
    "collapsed": false,
    "pycharm": {
     "name": "#%% md\n"
    }
   }
  },
  {
   "cell_type": "code",
   "execution_count": 60,
   "id": "44af061a",
   "metadata": {
    "pycharm": {
     "name": "#%%\n"
    }
   },
   "outputs": [
    {
     "data": {
      "text/plain": "array(10000)"
     },
     "execution_count": 60,
     "metadata": {},
     "output_type": "execute_result"
    }
   ],
   "source": [
    "# jupyter中有趣的特性 -> 如果数组过长或者显示不下, 那么jupyter就会省略中间数值, 只展示开头和结尾\n",
    "np.array(10000)"
   ]
  },
  {
   "cell_type": "code",
   "execution_count": 62,
   "id": "04d59af5",
   "metadata": {
    "pycharm": {
     "name": "#%%\n"
    }
   },
   "outputs": [
    {
     "name": "stdout",
     "output_type": "stream",
     "text": [
      "[0.1 0.2 0.3 0.4]\n"
     ]
    }
   ],
   "source": [
    "# 如何防止float的不精确, 印象到np.arange()\n",
    "# look a instance:\n",
    "ar = np.arange(0.1, 0.4, 0.1)\n",
    "print(ar) # [0.1 0.2 0.3 0.4]\n",
    "# 可见, 从0.1开始到0.4结束, step is 01, 但是本应不包含0.4, 但这里却包含了, 这是因为float的存储是不精确的. 因此使用这种方法无法准确的获取我们想要的序列.\n",
    "#\n",
    "# 因此引出np.linspace()创建等差数列.\n",
    "#"
   ]
  },
  {
   "cell_type": "markdown",
   "source": [],
   "metadata": {
    "collapsed": false,
    "pycharm": {
     "name": "#%% md\n"
    }
   }
  },
  {
   "cell_type": "code",
   "execution_count": 66,
   "id": "d9848690",
   "metadata": {
    "pycharm": {
     "name": "#%%\n"
    }
   },
   "outputs": [
    {
     "name": "stdout",
     "output_type": "stream",
     "text": [
      "[ 1.  2.  3.  4.  5.  6.  7.  8.  9. 10. 11. 12. 13. 14. 15. 16. 17. 18.\n",
      " 19. 20. 21. 22. 23. 24. 25. 26. 27. 28. 29. 30. 31. 32. 33. 34. 35. 36.\n",
      " 37. 38. 39. 40. 41. 42. 43. 44. 45. 46. 47. 48. 49. 50.]\n",
      "float64\n"
     ]
    }
   ],
   "source": [
    "# linspace()创建等差数列\n",
    "# 使用\n",
    "# np.linspace(start, stop, num=50, endpoint=True, retstep=False, dtype=None)\n",
    "# 在[start, stop] 中等间隔划分num个点, endpoint表示是否包含stop, retstep表示是否显示间距, dtype表示数据类型\n",
    "\n",
    "# 使用案例:\n",
    "a = np.linspace(1, 50)\n",
    "print(a) # 可见, 默认是被分成了50等份\n",
    "# see, default it Separated 50\n",
    "print(a.dtype) # float64"
   ]
  },
  {
   "cell_type": "code",
   "execution_count": 69,
   "id": "2bc98d14",
   "metadata": {
    "pycharm": {
     "name": "#%%\n"
    }
   },
   "outputs": [
    {
     "name": "stdout",
     "output_type": "stream",
     "text": [
      "[ 1.  2.  3.  4.  5.  6.  7.  8.  9. 10.]\n"
     ]
    }
   ],
   "source": [
    "# num参数, 也就是在间隔内有多少个点\n",
    "a = np.linspace(1, 10, 10)\n",
    "print(a)"
   ]
  },
  {
   "cell_type": "code",
   "execution_count": 71,
   "id": "3f440c03",
   "metadata": {
    "pycharm": {
     "name": "#%%\n"
    }
   },
   "outputs": [
    {
     "name": "stdout",
     "output_type": "stream",
     "text": [
      "[1.  1.9 2.8 3.7 4.6 5.5 6.4 7.3 8.2 9.1]\n"
     ]
    }
   ],
   "source": [
    "# endpoint: 默认为True, 是否包含最后截至点, 默认包含\n",
    "a = np.linspace(1, 10, 10, endpoint=False)\n",
    "print(a) # 可见, 此时就不包含10 stop 了."
   ]
  },
  {
   "cell_type": "code",
   "execution_count": 76,
   "id": "eec01452",
   "metadata": {
    "pycharm": {
     "name": "#%%\n"
    }
   },
   "outputs": [
    {
     "name": "stdout",
     "output_type": "stream",
     "text": [
      "(array([ 1.,  2.,  3.,  4.,  5.,  6.,  7.,  8.,  9., 10.]), 1.0)\n",
      "<class 'tuple'>\n",
      "========================================\n",
      "[2.  2.5 3.  3.5 4.  4.5 5.  5.5 6. ]\n",
      "0.5\n"
     ]
    }
   ],
   "source": [
    "# 设置retstop显示不长\n",
    "tuple_ar_step = np.linspace(1, 10, 10, retstep=True)\n",
    "print(tuple_ar_step)\n",
    "print(type(tuple_ar_step)) # 可见是元组类型\n",
    "# 第一个元素是ndarray, 第二个元素是步长\n",
    "\n",
    "print('=' * 40)\n",
    "\n",
    "array, step = np.linspace(2, 6, 9, retstep=True)\n",
    "print(array)\n",
    "print(step)"
   ]
  },
  {
   "cell_type": "code",
   "execution_count": 12,
   "id": "b2ad025d",
   "metadata": {
    "pycharm": {
     "name": "#%%\n"
    }
   },
   "outputs": [],
   "source": []
  },
  {
   "cell_type": "code",
   "execution_count": 12,
   "id": "2837c49c",
   "metadata": {
    "pycharm": {
     "name": "#%%\n"
    }
   },
   "outputs": [],
   "source": []
  },
  {
   "cell_type": "code",
   "execution_count": 12,
   "id": "a251d857",
   "metadata": {
    "pycharm": {
     "name": "#%%\n"
    }
   },
   "outputs": [],
   "source": []
  },
  {
   "cell_type": "code",
   "execution_count": 12,
   "id": "bcbbc39a",
   "metadata": {
    "pycharm": {
     "name": "#%%\n"
    }
   },
   "outputs": [],
   "source": []
  },
  {
   "cell_type": "code",
   "execution_count": 12,
   "id": "385b096e",
   "metadata": {
    "pycharm": {
     "name": "#%%\n"
    }
   },
   "outputs": [],
   "source": []
  }
 ],
 "metadata": {
  "kernelspec": {
   "display_name": "Python 3 (ipykernel)",
   "language": "python",
   "name": "python3"
  },
  "language_info": {
   "codemirror_mode": {
    "name": "ipython",
    "version": 3
   },
   "file_extension": ".py",
   "mimetype": "text/x-python",
   "name": "python",
   "nbconvert_exporter": "python",
   "pygments_lexer": "ipython3",
   "version": "3.9.9"
  }
 },
 "nbformat": 4,
 "nbformat_minor": 5
}