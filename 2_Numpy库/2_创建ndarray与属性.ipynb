{
 "cells": [
  {
   "cell_type": "markdown",
   "id": "53b7477c",
   "metadata": {
    "pycharm": {
     "name": "#%% md\n"
    }
   },
   "source": [
    "## 创建ndarray对象\n",
    "通过 NumPy 的内置函数 array() 可以创建 ndarray 对象，其语法格式如下：\n",
    "\n",
    "<b>numpy.array(object, dtype = None, copy = True, order = None,subok=False,ndmin = 0)</b>\n",
    "\n",
    "参数说明   \n",
    "\n",
    "| 序号 | 参数 | 描述说明 |\n",
    "| :--- | :--- | :--- |\n",
    "| 1      | object| 表示一个数组序列。       |\n",
    "| 2   | dtype | 可选参数，通过它可以更改数组的数据类型。        |\n",
    "| 3      | copy | 可选参数，表示数组能否被复制(深拷贝)，默认是 True。        |\n",
    "| 4      | ndmin |  用于指定数组的维度。       |\n",
    "| 5      | subok |  可选参数，类型为bool值，默认False。为True，使用object的内部数据类型；False：使用object数组的数据类型。|"
   ]
  },
  {
   "cell_type": "code",
   "execution_count": 1,
   "id": "726373a9",
   "metadata": {
    "pycharm": {
     "name": "#%%\n"
    }
   },
   "outputs": [],
   "source": [
    "import numpy as np\n",
    "# 创建ndarray对象"
   ]
  },
  {
   "cell_type": "code",
   "execution_count": 2,
   "outputs": [
    {
     "data": {
      "text/plain": "array([1, 2, 3, 4, 5])"
     },
     "execution_count": 2,
     "metadata": {},
     "output_type": "execute_result"
    }
   ],
   "source": [
    "# 可以使用任何序列 类型数据进行生成对象.\n",
    "np.array([1, 2, 3, 4, 5])  # 使用list生成对象."
   ],
   "metadata": {
    "collapsed": false,
    "pycharm": {
     "name": "#%%\n"
    }
   }
  },
  {
   "cell_type": "code",
   "execution_count": 3,
   "outputs": [
    {
     "data": {
      "text/plain": "array([0, 1, 2, 3, 4, 5, 6, 7, 8, 9])"
     },
     "execution_count": 3,
     "metadata": {},
     "output_type": "execute_result"
    }
   ],
   "source": [
    "np.array([i for i in range(10)])  # 使用生成器生成ndarray序列."
   ],
   "metadata": {
    "collapsed": false,
    "pycharm": {
     "name": "#%%\n"
    }
   }
  },
  {
   "cell_type": "code",
   "execution_count": 4,
   "outputs": [
    {
     "data": {
      "text/plain": "array(['1', '2', '3', '4', '5', 'a'], dtype='<U11')"
     },
     "execution_count": 4,
     "metadata": {},
     "output_type": "execute_result"
    }
   ],
   "source": [
    "# 列表中元素不相同的情况\n",
    "np.array([1, 2, 3, 4, 5, 'a'])\n",
    "# 统一转换成占用内存最大的那种数据类型. 这里就是U11"
   ],
   "metadata": {
    "collapsed": false,
    "pycharm": {
     "name": "#%%\n"
    }
   }
  },
  {
   "cell_type": "code",
   "execution_count": 5,
   "outputs": [
    {
     "name": "stdout",
     "output_type": "stream",
     "text": [
      "float32\n",
      "float64\n"
     ]
    }
   ],
   "source": [
    "# np.array()参数练习\n",
    "# dtype: 指定数据类型\n",
    "a = np.array([1, 2, 3], dtype=np.float32)\n",
    "# 类型为float32.\n",
    "a  # array([1., 2., 3.], dtype=float32)\n",
    "print(a.dtype)\n",
    "\n",
    "b = np.array([1, 2, 3], dtype=\"float\")  # 默认是float\n",
    "b  # array([1., 2., 3.], dtype=float64)\n",
    "print(b.dtype)  # float64"
   ],
   "metadata": {
    "collapsed": false,
    "pycharm": {
     "name": "#%%\n"
    }
   }
  },
  {
   "cell_type": "code",
   "execution_count": 6,
   "outputs": [
    {
     "name": "stdout",
     "output_type": "stream",
     "text": [
      "id(a):1677077058352, id(b):1677076963024\n",
      "[10  2  3  4  5]\n",
      "[1 2 3 4 5]\n"
     ]
    }
   ],
   "source": [
    "# 设置copy参数， 默认为True\n",
    "a = np.array([1, 2, 3, 4, 5])\n",
    "b = np.array(a)  # 从a复制给b\n",
    "print(f\"id(a):{id(a)}, id(b):{id(b)}\")  # 可见, id不同, 因此不是一个数组\n",
    "\n",
    "b[0] = 10  # 修改b元素\n",
    "print(b)\n",
    "print(a)  # 可见, a与b无关"
   ],
   "metadata": {
    "collapsed": false,
    "pycharm": {
     "name": "#%%\n"
    }
   }
  },
  {
   "cell_type": "code",
   "execution_count": 7,
   "outputs": [
    {
     "name": "stdout",
     "output_type": "stream",
     "text": [
      "id(a):1677076962544, id(b):1677076962544\n"
     ]
    }
   ],
   "source": [
    "# 当设置copy参数为False时\n",
    "a = np.array([1, 2, 3, 4, 5])\n",
    "b = np.array(a, copy=False)  # 创建的时候不复制, 不会创建副本, 即,b同样指向a的区域.\n",
    "print(f\"id(a):{id(a)}, id(b):{id(b)}\")  # 可见, id不同, 因此不是一个数组\n"
   ],
   "metadata": {
    "collapsed": false,
    "pycharm": {
     "name": "#%%\n"
    }
   }
  },
  {
   "cell_type": "code",
   "execution_count": 8,
   "id": "a2b851ad",
   "metadata": {
    "pycharm": {
     "name": "#%%\n"
    }
   },
   "outputs": [
    {
     "data": {
      "text/plain": "2"
     },
     "execution_count": 8,
     "metadata": {},
     "output_type": "execute_result"
    }
   ],
   "source": [
    "# ndmin: 用于指定数组的维度\n",
    "a = np.array([1, 2, 3], ndmin=2)\n",
    "a.ndim  # 2维度"
   ]
  },
  {
   "cell_type": "code",
   "execution_count": 9,
   "id": "f4aaf875",
   "metadata": {
    "pycharm": {
     "name": "#%%\n"
    }
   },
   "outputs": [
    {
     "name": "stdout",
     "output_type": "stream",
     "text": [
      "<class 'numpy.matrix'>\n",
      "subok=True <class 'numpy.matrix'>\n",
      "subok=False <class 'numpy.ndarray'>\n"
     ]
    }
   ],
   "source": [
    "# subok参数: 类型为bool值, 默认为False为True, 使用object内部的数据类型, False: 使用object数组的数据类型\n",
    "a = np.mat([1, 2, 3, 4]) # 创建矩阵对象\n",
    "print(type(a)) # <class 'numpy.matrix'>\n",
    "\n",
    "at = np.array(a, subok=True)\n",
    "af = np.array(a, subok=False)\n",
    "print('subok=True', type(at)) # subok=True <class 'numpy.matrix'> # 使用object类型作为数据类型\n",
    "print('subok=False', type(af)) # subok=False <class 'numpy.ndarray'> # 仅仅使用ndarray作为数据类型\n",
    "\n"
   ]
  },
  {
   "cell_type": "code",
   "execution_count": 10,
   "id": "284ec3ad",
   "metadata": {
    "pycharm": {
     "name": "#%%\n"
    }
   },
   "outputs": [
    {
     "name": "stdout",
     "output_type": "stream",
     "text": [
      "1677077060176 1677077058928\n",
      "1677077060176 1677076962544\n"
     ]
    }
   ],
   "source": [
    "# 复制数组\n",
    "a = np.array([2, 3, 4 ,5 ])\n",
    "# 从a定义b时候, 有几种方案:\n",
    "b  = np.array(a)\n",
    "print(id(a), id(b)) # 不同\n",
    "\n",
    "# 使用.copy()方法\n",
    "c = a.copy()\n",
    "print(id(a), id(c)) # 不同\n",
    "\n",
    "# 这些都是深拷贝, 也就是数据拷贝, 不是地址拷贝"
   ]
  },
  {
   "cell_type": "code",
   "execution_count": 11,
   "outputs": [
    {
     "name": "stdout",
     "output_type": "stream",
     "text": [
      "[1 2]\n",
      "2\n",
      "[list([1, 2, 3]) list([1, 2])]\n",
      "1\n",
      "[1 2]\n"
     ]
    },
    {
     "name": "stderr",
     "output_type": "stream",
     "text": [
      "C:\\Users\\ASUS\\AppData\\Local\\Temp\\ipykernel_1932\\3015915134.py:11: VisibleDeprecationWarning: Creating an ndarray from ragged nested sequences (which is a list-or-tuple of lists-or-tuples-or ndarrays with different lengths or shapes) is deprecated. If you meant to do this, you must specify 'dtype=object' when creating the ndarray.\n",
      "  c = np.array([[1,  2, 3], [1, 2]])\n"
     ]
    }
   ],
   "source": [
    "# 练习:\n",
    "# 创建一个1维数组\n",
    "a = np.array([1, 2,], ndmin=1)\n",
    "print(a)\n",
    "\n",
    "# 创建一个2维数组\n",
    "b = np.array([1, ], ndmin=2)\n",
    "print(b.ndim)\n",
    "\n",
    "# 创建嵌套序列不一样的数组,\n",
    "c = np.array([[1,  2, 3], [1, 2]])\n",
    "print(c) # [list([1, 2, 3]) list([1, 2])] # see, is a 1 dimension\n",
    "print(c.ndim) # 1\n",
    "\n",
    "# 测试数组a, 将数组赋给b,修改b,观察a是否发生变化.\n",
    "b = np.array(a, copy=True)\n",
    "print(b)"
   ],
   "metadata": {
    "collapsed": false,
    "pycharm": {
     "name": "#%%\n"
    }
   }
  },
  {
   "cell_type": "code",
   "execution_count": 11,
   "outputs": [],
   "source": [],
   "metadata": {
    "collapsed": false,
    "pycharm": {
     "name": "#%%\n"
    }
   }
  },
  {
   "cell_type": "code",
   "execution_count": 12,
   "id": "e2f2c20b",
   "metadata": {
    "pycharm": {
     "name": "#%%\n"
    }
   },
   "outputs": [
    {
     "name": "stdout",
     "output_type": "stream",
     "text": [
      "[0 1 2 3 4 5 6 7 8 9]\n"
     ]
    }
   ],
   "source": [
    "# arange()生成区间数组\n",
    "# 与range()类似, 不过返回对象是ndarray类型\n",
    "# 使用方法:\n",
    "# arange(start=None, end, step=1, dtype)\n",
    "# 包前不包后\n",
    "# arange([start,] stop[, step,], dtype=None, *, like=None) # 可见, start和step都是非必要参数\n",
    "print(np.arange(10)) # [0 1 2 3 4 5 6 7 8 9]\n",
    "\n",
    "\n",
    "\n",
    "\n",
    "\n"
   ]
  },
  {
   "cell_type": "code",
   "execution_count": 13,
   "id": "91094867",
   "metadata": {
    "pycharm": {
     "name": "#%%\n"
    }
   },
   "outputs": [
    {
     "data": {
      "text/plain": "array([0., 1., 2., 3.])"
     },
     "execution_count": 13,
     "metadata": {},
     "output_type": "execute_result"
    }
   ],
   "source": [
    "# 支持使用浮点型数据\n",
    "np.arange(3.1)\n",
    "# 可见start=0, step=1 (默认情况下)"
   ]
  },
  {
   "cell_type": "code",
   "execution_count": 14,
   "id": "c5d58172",
   "metadata": {
    "pycharm": {
     "name": "#%%\n"
    }
   },
   "outputs": [],
   "source": [
    "# 在cpython中的range()就不支持浮点数数据\n",
    "# range(3.1) # 'float' object cannot be interpreted as an integer"
   ]
  },
  {
   "cell_type": "code",
   "execution_count": 15,
   "id": "38342605",
   "metadata": {
    "pycharm": {
     "name": "#%%\n"
    }
   },
   "outputs": [
    {
     "name": "stdout",
     "output_type": "stream",
     "text": [
      "[0. 1. 2. 3. 4.]\n",
      "float32\n"
     ]
    }
   ],
   "source": [
    "# arange指定数据类型\n",
    "a = np.arange(5, dtype=np.float32)\n",
    "print(a) # [0. 1. 2. 3. 4.]\n",
    "print(a.dtype) #\n"
   ]
  },
  {
   "cell_type": "code",
   "execution_count": 16,
   "outputs": [
    {
     "data": {
      "text/plain": "array([10, 12, 14, 16, 18, 20, 22, 24, 26, 28, 30, 32, 34, 36, 38])"
     },
     "execution_count": 16,
     "metadata": {},
     "output_type": "execute_result"
    }
   ],
   "source": [
    "# 参数\n",
    "np.arange(10, 40, 2)\n"
   ],
   "metadata": {
    "collapsed": false,
    "pycharm": {
     "name": "#%%\n"
    }
   }
  },
  {
   "cell_type": "code",
   "execution_count": 17,
   "id": "fd07bc11",
   "metadata": {
    "pycharm": {
     "name": "#%%\n"
    }
   },
   "outputs": [
    {
     "name": "stdout",
     "output_type": "stream",
     "text": [
      "[]\n",
      "[ 0  3  6  9 12 15 18]\n"
     ]
    }
   ],
   "source": [
    "# 默认两个参数\n",
    "ar2 = np.arange(20, 3)\n",
    "print(ar2)\n",
    "# 正确, 但是是[] 也就是没有返回任何值, 从20, 到3, 显然不满足向左的原则. 因此也就没有返回任何元素\n",
    "\n",
    "# 正确的书写格式\n",
    "ar2 = np.arange(0, 20, 3)\n",
    "print(ar2) # [ 0  3  6  9 12 15 18]"
   ]
  },
  {
   "cell_type": "markdown",
   "source": [],
   "metadata": {
    "collapsed": false,
    "pycharm": {
     "name": "#%% md\n"
    }
   }
  },
  {
   "cell_type": "code",
   "execution_count": 18,
   "id": "44af061a",
   "metadata": {
    "pycharm": {
     "name": "#%%\n"
    }
   },
   "outputs": [
    {
     "data": {
      "text/plain": "array(10000)"
     },
     "execution_count": 18,
     "metadata": {},
     "output_type": "execute_result"
    }
   ],
   "source": [
    "# jupyter中有趣的特性 -> 如果数组过长或者显示不下, 那么jupyter就会省略中间数值, 只展示开头和结尾\n",
    "np.array(10000)"
   ]
  },
  {
   "cell_type": "code",
   "execution_count": 19,
   "id": "04d59af5",
   "metadata": {
    "pycharm": {
     "name": "#%%\n"
    }
   },
   "outputs": [
    {
     "name": "stdout",
     "output_type": "stream",
     "text": [
      "[0.1 0.2 0.3 0.4]\n"
     ]
    }
   ],
   "source": [
    "# 如何防止float的不精确, 印象到np.arange()\n",
    "# look a instance:\n",
    "ar = np.arange(0.1, 0.4, 0.1)\n",
    "print(ar) # [0.1 0.2 0.3 0.4]\n",
    "# 可见, 从0.1开始到0.4结束, step is 01, 但是本应不包含0.4, 但这里却包含了, 这是因为float的存储是不精确的. 因此使用这种方法无法准确的获取我们想要的序列.\n",
    "#\n",
    "# 因此引出np.linspace()创建等差数列.\n",
    "#"
   ]
  },
  {
   "cell_type": "markdown",
   "source": [],
   "metadata": {
    "collapsed": false,
    "pycharm": {
     "name": "#%% md\n"
    }
   }
  },
  {
   "cell_type": "code",
   "execution_count": 20,
   "id": "d9848690",
   "metadata": {
    "pycharm": {
     "name": "#%%\n"
    }
   },
   "outputs": [
    {
     "name": "stdout",
     "output_type": "stream",
     "text": [
      "[ 1.  2.  3.  4.  5.  6.  7.  8.  9. 10. 11. 12. 13. 14. 15. 16. 17. 18.\n",
      " 19. 20. 21. 22. 23. 24. 25. 26. 27. 28. 29. 30. 31. 32. 33. 34. 35. 36.\n",
      " 37. 38. 39. 40. 41. 42. 43. 44. 45. 46. 47. 48. 49. 50.]\n",
      "float64\n"
     ]
    }
   ],
   "source": [
    "# linspace()创建等差数列\n",
    "# 使用\n",
    "# np.linspace(start, stop, num=50, endpoint=True, retstep=False, dtype=None)\n",
    "# 在[start, stop] 中等间隔划分num个点, endpoint表示是否包含stop, retstep表示是否显示间距, dtype表示数据类型\n",
    "\n",
    "# 使用案例:\n",
    "a = np.linspace(1, 50)\n",
    "print(a) # 可见, 默认是被分成了50等份\n",
    "# see, default it Separated 50\n",
    "print(a.dtype) # float64"
   ]
  },
  {
   "cell_type": "code",
   "execution_count": 21,
   "id": "2bc98d14",
   "metadata": {
    "pycharm": {
     "name": "#%%\n"
    }
   },
   "outputs": [
    {
     "name": "stdout",
     "output_type": "stream",
     "text": [
      "[ 1.  2.  3.  4.  5.  6.  7.  8.  9. 10.]\n"
     ]
    }
   ],
   "source": [
    "# num参数, 也就是在间隔内有多少个点\n",
    "a = np.linspace(1, 10, 10)\n",
    "print(a)"
   ]
  },
  {
   "cell_type": "code",
   "execution_count": 22,
   "id": "3f440c03",
   "metadata": {
    "pycharm": {
     "name": "#%%\n"
    }
   },
   "outputs": [
    {
     "name": "stdout",
     "output_type": "stream",
     "text": [
      "[1.  1.9 2.8 3.7 4.6 5.5 6.4 7.3 8.2 9.1]\n"
     ]
    }
   ],
   "source": [
    "# endpoint: 默认为True, 是否包含最后截至点, 默认包含\n",
    "a = np.linspace(1, 10, 10, endpoint=False)\n",
    "print(a) # 可见, 此时就不包含10 stop 了."
   ]
  },
  {
   "cell_type": "code",
   "execution_count": 23,
   "id": "eec01452",
   "metadata": {
    "pycharm": {
     "name": "#%%\n"
    }
   },
   "outputs": [
    {
     "name": "stdout",
     "output_type": "stream",
     "text": [
      "(array([ 1.,  2.,  3.,  4.,  5.,  6.,  7.,  8.,  9., 10.]), 1.0)\n",
      "<class 'tuple'>\n",
      "========================================\n",
      "[2.  2.5 3.  3.5 4.  4.5 5.  5.5 6. ]\n",
      "0.5\n"
     ]
    }
   ],
   "source": [
    "# 设置retstop显示不长\n",
    "tuple_ar_step = np.linspace(1, 10, 10, retstep=True)\n",
    "print(tuple_ar_step)\n",
    "print(type(tuple_ar_step)) # 可见是元组类型\n",
    "# 第一个元素是ndarray, 第二个元素是步长\n",
    "\n",
    "print('=' * 40)\n",
    "\n",
    "array, step = np.linspace(2, 6, 9, retstep=True)\n",
    "print(array)\n",
    "print(step)"
   ]
  },
  {
   "cell_type": "code",
   "execution_count": 24,
   "id": "b2ad025d",
   "metadata": {
    "pycharm": {
     "name": "#%%\n"
    }
   },
   "outputs": [
    {
     "name": "stdout",
     "output_type": "stream",
     "text": [
      "[  1.   2.   4.   8.  16.  32.  64. 128. 256. 512.]\n"
     ]
    }
   ],
   "source": [
    "# 等比数列:\n",
    "# 使用\n",
    "# np.logspace(start, stop, num=50, endpoint=True, base=10.0, dtype=None)\n",
    "# start: 开始\n",
    "# stop: 结束\n",
    "# num: 样本数量\n",
    "# endpoint: 是否包含终止值\n",
    "# base: 对数log的底数, 默认是10.\n",
    "# dtype: 数据类型\n",
    "\n",
    "# 使用案例：\n",
    "a = np.logspace(0, 9, 10, base=2) # 可见，q就是2，然后是2^[0-9]十个点，所以也就是0-9这些个整数\n",
    "print(a)"
   ]
  },
  {
   "cell_type": "code",
   "execution_count": 25,
   "id": "2837c49c",
   "metadata": {
    "pycharm": {
     "name": "#%%\n"
    }
   },
   "outputs": [
    {
     "data": {
      "text/plain": "array([ 2.,  8., 32.])"
     },
     "execution_count": 25,
     "metadata": {},
     "output_type": "execute_result"
    }
   ],
   "source": [
    "# np.logspace() 例子\n",
    "np.logspace(1, 5, 3, base=2)\n",
    "# [1, 5], 等间隔取三个点, 也就是1, 3, 5. base=2因此, 也就是1^2, 3^2, 5^2"
   ]
  },
  {
   "cell_type": "code",
   "execution_count": 26,
   "id": "a251d857",
   "metadata": {
    "pycharm": {
     "name": "#%%\n"
    }
   },
   "outputs": [
    {
     "data": {
      "text/plain": "array([ 10.        ,  12.91549665,  16.68100537,  21.5443469 ,\n        27.82559402,  35.93813664,  46.41588834,  59.94842503,\n        77.42636827, 100.        ])"
     },
     "execution_count": 26,
     "metadata": {},
     "output_type": "execute_result"
    }
   ],
   "source": [
    "# 取得1-2中的10个常用对数\n",
    "np.logspace(1, 2, num=10)\n",
    "# 也就是[1,2]取10个点, base=10\n"
   ]
  },
  {
   "cell_type": "markdown",
   "source": [
    "# 其他, 创建数组的函数"
   ],
   "metadata": {
    "collapsed": false,
    "pycharm": {
     "name": "#%% md\n"
    }
   }
  },
  {
   "cell_type": "code",
   "execution_count": 27,
   "outputs": [
    {
     "name": "stdout",
     "output_type": "stream",
     "text": [
      "[[0. 0. 0. 0.]\n",
      " [0. 0. 0. 0.]\n",
      " [0. 0. 0. 0.]]\n",
      "float64\n"
     ]
    }
   ],
   "source": [
    "# 全0数组\n",
    "# ndarray = np.zeros(shape=[int, iterable, tuple[int]], dtype=None, order='C')\n",
    "# 作用: 返回shape形状的全零数组.\n",
    "# shape是数组形状, 类型可以是int, 可迭代对象, 以及tuple[int]\n",
    "# dtype: 数据类型\n",
    "a = np.zeros(shape=(3, 4))\n",
    "print(a)\n",
    "print(a.dtype) # float64, 默认是float64类型."
   ],
   "metadata": {
    "collapsed": false,
    "pycharm": {
     "name": "#%%\n"
    }
   }
  },
  {
   "cell_type": "code",
   "execution_count": 28,
   "outputs": [
    {
     "name": "stdout",
     "output_type": "stream",
     "text": [
      "(2, 3)\n",
      "[[0 0 0]\n",
      " [0 0 0]]\n"
     ]
    }
   ],
   "source": [
    "# *_like(array), 就是生成array形状相同的一个数组\n",
    "# 例子\n",
    "ar1 = np.array([[1, 2, 3], [3, 4, 5]])\n",
    "print(ar1.shape)\n",
    "ar1_like_zeros = np.zeros_like(ar1) # 就是创建ar1相同形状的全0数组\n",
    "print(ar1_like_zeros)\n",
    "\n"
   ],
   "metadata": {
    "collapsed": false,
    "pycharm": {
     "name": "#%%\n"
    }
   }
  },
  {
   "cell_type": "code",
   "execution_count": 29,
   "outputs": [
    {
     "name": "stdout",
     "output_type": "stream",
     "text": [
      "[1. 1. 1. 1. 1. 1. 1. 1. 1.]\n",
      "[[[1. 1. 1. 1.]\n",
      "  [1. 1. 1. 1.]\n",
      "  [1. 1. 1. 1.]]\n",
      "\n",
      " [[1. 1. 1. 1.]\n",
      "  [1. 1. 1. 1.]\n",
      "  [1. 1. 1. 1.]]]\n",
      "[1. 1. 1. 1. 1. 1. 1. 1. 1.]\n"
     ]
    }
   ],
   "source": [
    "# 全1数组.\n",
    "# np.ones(参数列表)\n",
    "# 参数列表和zeros中参数列表相同\n",
    "a = np.ones(9)\n",
    "print(a)\n",
    "b = np.ones((2, 3, 4))\n",
    "print(b)\n",
    "c = np.ones_like(a)\n",
    "print(c)\n"
   ],
   "metadata": {
    "collapsed": false,
    "pycharm": {
     "name": "#%%\n"
    }
   }
  },
  {
   "cell_type": "code",
   "execution_count": 30,
   "outputs": [
    {
     "name": "stdout",
     "output_type": "stream",
     "text": [
      "[[1. 0. 0. 0. 0. 0. 0. 0. 0. 0.]\n",
      " [0. 1. 0. 0. 0. 0. 0. 0. 0. 0.]\n",
      " [0. 0. 1. 0. 0. 0. 0. 0. 0. 0.]\n",
      " [0. 0. 0. 1. 0. 0. 0. 0. 0. 0.]\n",
      " [0. 0. 0. 0. 1. 0. 0. 0. 0. 0.]\n",
      " [0. 0. 0. 0. 0. 1. 0. 0. 0. 0.]\n",
      " [0. 0. 0. 0. 0. 0. 1. 0. 0. 0.]\n",
      " [0. 0. 0. 0. 0. 0. 0. 1. 0. 0.]\n",
      " [0. 0. 0. 0. 0. 0. 0. 0. 1. 0.]\n",
      " [0. 0. 0. 0. 0. 0. 0. 0. 0. 1.]]\n",
      "\n"
     ]
    }
   ],
   "source": [
    "# 创建单位矩阵E:\n",
    "# np.eye(N) # 就是创建N秩单位向量\n",
    "print(np.eye(10)) # 创建10单位向量\n",
    "print()"
   ],
   "metadata": {
    "collapsed": false,
    "pycharm": {
     "name": "#%%\n"
    }
   }
  },
  {
   "cell_type": "markdown",
   "source": [
    "# Numpy数组属性\n",
    "---\n",
    "| 属性 \t| 说明 |\n",
    "| ------  \t|:------ |\n",
    "| ndarray.ndim\t| 秩，即轴的数量或维度的数量 |\n",
    "| ndarray.shape\t | 数组的维度，对于矩阵，n 行 m 列 |\n",
    "| ndarray.size \t | 数组元素的总个数，相当于 .shape 中 n*m 的值 |\n",
    "| ndarray.dtype \t | ndarray 对象的元素类型 |\n",
    "| ndarray.itemsize  | \tndarray 对象中每个元素的大小，以字节为单位 |"
   ],
   "metadata": {
    "collapsed": false,
    "pycharm": {
     "name": "#%% md\n"
    }
   }
  },
  {
   "cell_type": "code",
   "execution_count": 31,
   "outputs": [
    {
     "name": "stdout",
     "output_type": "stream",
     "text": [
      "1\n",
      "2\n"
     ]
    }
   ],
   "source": [
    "# ndarray.ndim\n",
    "a = np.array([1, 2, 3, 4, 5, 6])\n",
    "print(a.ndim) # 1 1维\n",
    "b = np.array([[1, 2, 3], [3, 4, 5]])\n",
    "print(b.ndim) # 2"
   ],
   "metadata": {
    "collapsed": false,
    "pycharm": {
     "name": "#%%\n"
    }
   }
  },
  {
   "cell_type": "code",
   "execution_count": 32,
   "outputs": [
    {
     "name": "stdout",
     "output_type": "stream",
     "text": [
      "a.shape: (6,)\n",
      "(2, 2)\n",
      "(1, 2, 2)\n"
     ]
    }
   ],
   "source": [
    "# ndarray.shape\n",
    "a = np.array([1, 2, 3, 4, 5, 6])\n",
    "print(\"a.shape: \" + a.shape.__str__()) # a.shape: (6,)\n",
    "b = np.array([[1, 3], [4, 5]])\n",
    "print(b.shape) # (2, 2)\n",
    "c = np.array([\n",
    "    [[1,1], [1, 2]\n",
    "     ]\n",
    "])\n",
    "print(c.shape)  # (1, 2, 2)\n",
    "\n",
    "# .shape返回一个元组, 返回的就是档期那元素的形状\n"
   ],
   "metadata": {
    "collapsed": false,
    "pycharm": {
     "name": "#%%\n"
    }
   }
  },
  {
   "cell_type": "code",
   "execution_count": 33,
   "outputs": [
    {
     "name": "stdout",
     "output_type": "stream",
     "text": [
      "(6,)\n",
      "(6,)\n",
      "(2, 3)\n"
     ]
    }
   ],
   "source": [
    "# 改变数组形状.\n",
    "# ndarray.reshape(new_shape)\n",
    "# np.reshape(a, new_shape)\n",
    "# 前提: 必须要满足广播机制. 否则会报错.\n",
    "# 广播机制:\n",
    "# 1. 变换前后元素个数要相同\n",
    "# 2. 某一维度上, 维数为1\n",
    "# 3. 某一维度上, 变换前后维数相同\n",
    "a = np.array([1, 2, 3, 4, 5, 6])\n",
    "print(a.shape) # (6, 1)\n",
    "b = a.reshape((2, 3)) #\n",
    "print(a.shape) # (6,)\n",
    "print(b.shape) # (2, 3)\n",
    "# 可见, reshape返回新数组, 原数组不修改"
   ],
   "metadata": {
    "collapsed": false,
    "pycharm": {
     "name": "#%%\n"
    }
   }
  },
  {
   "cell_type": "code",
   "execution_count": 34,
   "outputs": [
    {
     "name": "stdout",
     "output_type": "stream",
     "text": [
      "a.shape  (3,)\n",
      "[1 2 3]\n",
      "[[1 2 3]\n",
      " [1 2 3]]\n",
      "[1 2 3]\n",
      "None\n",
      "[[1 2 3]\n",
      " [0 0 0]]\n",
      "[1 2 3 0 0 0]\n"
     ]
    }
   ],
   "source": [
    "# new_array = np.resize(a, new_shape) 如果新数组在某一维度上大于原始数组, 则使用数组重复填充, 直到满足原始新数组\n",
    "# None = ndarray.resize(new_shape) # 同理, 不过是使用0进行填充, 并且更改原数组\n",
    "# 不需满足广播机制, 多余部分使用原数组或者使用0进行填充.\n",
    "a = np.array([1, 2, 3])\n",
    "print(\"a.shape \", a.shape)\n",
    "print(a)\n",
    "b = np.resize(a, (2, 3))\n",
    "print(b) #\n",
    "# [[1 2 3]\n",
    "#  [1 2 3]]\n",
    "print(a) # [1 2 3]\n",
    "# 可见np.resize()不改变原数组\n",
    "# 并且是使用原数组(a)进行重复填充\n",
    "\n",
    "# 而ndarray.resize() 不返回值, 直接改变原数组, 而且重复的部分使用0进行填充\n",
    "b = a.resize((2, 3))\n",
    "print(b) # None\n",
    "print(a)\n",
    "# [[1 2 3]\n",
    "#  [0 0 0]]\n",
    "a = np.array([1, 2, 3])\n",
    "a.resize((6, ))\n",
    "print(a) # [1 2 3 0 0 0] # 可见进行很横向填充. (以0填充)\n",
    "\n"
   ],
   "metadata": {
    "collapsed": false,
    "pycharm": {
     "name": "#%%\n"
    }
   }
  },
  {
   "cell_type": "code",
   "execution_count": 43,
   "outputs": [
    {
     "name": "stdout",
     "output_type": "stream",
     "text": [
      "6\n",
      "6\n"
     ]
    }
   ],
   "source": [
    "# ndarray.size # 数组元素中的总个数, 也就是数组中有少个元素\n",
    "a = np.array([1, 2, 3, 4, 5, 6])\n",
    "print(a.size) # 6\n",
    "\n",
    "b = np.array([[1, 2, 3], [4, 5, 6]])\n",
    "print(b.size) # 6 # 两行三列, 同样也是6个元素"
   ],
   "metadata": {
    "collapsed": false,
    "pycharm": {
     "name": "#%%\n"
    }
   }
  },
  {
   "cell_type": "code",
   "execution_count": 44,
   "outputs": [
    {
     "name": "stdout",
     "output_type": "stream",
     "text": [
      "int32\n",
      "float64\n"
     ]
    }
   ],
   "source": [
    "# ndarray.dtype 表示对象的元素类型.\n",
    "a = np.array([1, 2, 3, 4, 5, 6])\n",
    "print(a.dtype)\n",
    "\n",
    "b = np.array([1, 2], dtype=np.float64)\n",
    "print(b.dtype)\n"
   ],
   "metadata": {
    "collapsed": false,
    "pycharm": {
     "name": "#%%\n"
    }
   }
  },
  {
   "cell_type": "code",
   "execution_count": 58,
   "outputs": [
    {
     "name": "stdout",
     "output_type": "stream",
     "text": [
      "float64\n",
      "float32\n",
      "float64\n",
      "float32\n"
     ]
    }
   ],
   "source": [
    "# 数组数据类型转换: ndarray.astype()\n",
    "a = np.array([1.1, 1.2])\n",
    "print(a.dtype) # float64\n",
    "# 修改数据类型\n",
    "print(a.astype('float32').dtype) # float32\n",
    "# 可见, 数据类型改变了\n",
    "print(a.dtype) # float64 # 并且不改变原来数组的数据类型\n",
    "\n",
    "\n",
    "a = a.astype('float32') # 支持字符串, 以及np.数据类型\n",
    "\n",
    "print(a.dtype) # float32 此时才修改了原数组\n"
   ],
   "metadata": {
    "collapsed": false,
    "pycharm": {
     "name": "#%%\n"
    }
   }
  },
  {
   "cell_type": "code",
   "execution_count": 60,
   "outputs": [
    {
     "name": "stdout",
     "output_type": "stream",
     "text": [
      "4\n"
     ]
    }
   ],
   "source": [
    "# ndarray.itemsize 以字节的形式返回数组中元素的大小\n",
    "a = np.array([1, 2, 3])\n",
    "print(a.itemsize) # 4 可见int类型占用4个字节"
   ],
   "metadata": {
    "collapsed": false,
    "pycharm": {
     "name": "#%%\n"
    }
   }
  },
  {
   "cell_type": "code",
   "execution_count": null,
   "outputs": [],
   "source": [
    "# 数据类型\n"
   ],
   "metadata": {
    "collapsed": false,
    "pycharm": {
     "name": "#%%\n"
    }
   }
  },
  {
   "cell_type": "markdown",
   "source": [],
   "metadata": {
    "collapsed": false,
    "pycharm": {
     "name": "#%% md\n"
    }
   }
  },
  {
   "cell_type": "markdown",
   "source": [
    "# 数据类型\n",
    "\n",
    "| 名称 \t| 描述 | 名称 \t| 描述 |\n",
    "| ------  \t|:------ |------  \t|:------ |\n",
    "| bool_\t| 布尔型数据类型（True 或者 False） |float_\t| float64 类型的简写 |\n",
    "|int_\t | 默认的整数类型（类似于 C 语言中的 long，int32 或 int64） |float16/32/64\t| 半精度浮点数:1 个符号位，5 个指数位，10个尾数位<br/>单精度浮点数:1 个符号位，8 个指数位，23个尾数位<br/>双精度浮点数,包括：1 个符号位，11 个指数位，52个尾数位|\n",
    "| intc \t | 和 C 语言的 int 类型一样，一般是 int32 或 int 64 |complex_\t| 复数类型，与 complex128 类型相同 |\n",
    "| intp \t | 用于索引的整数类型（类似于 C 的 ssize_t，通常为 int32 或 int64） |complex64/128\t| 复数，表示双 32 位浮点数（实数部分和虚数部分）<br/>复数，表示双 64 位浮点数（实数部分和虚数部分） |\n",
    "| int8/16/32/64  | \t代表与1字节相同的8位整数<br/>代表与2字节相同的16位整数<br/>代表与4字节相同的32位整数<br/>代表与8字节相同的64位整数 |str_\t| 表示字符串类型 |\n",
    "| uint8/16/32/64  | 代表1字节（8位）无符号整数<br/>代表与2字节相同的16位整数<br/>代表与4字节相同的32位整数<br/>代表与8字节相同的64位整数 |string_\t| 表示字节串类型,也就是bytes类型 |"
   ],
   "metadata": {
    "collapsed": false,
    "pycharm": {
     "name": "#%% md\n"
    }
   }
  },
  {
   "cell_type": "code",
   "execution_count": 77,
   "outputs": [
    {
     "name": "stdout",
     "output_type": "stream",
     "text": [
      "float64\n",
      "[ True  True  True]\n",
      "bool\n",
      "int8\n",
      "float64\n"
     ]
    }
   ],
   "source": [
    "# 常见数据类型\n",
    "a = np.array([1, 2, 3, 4], dtype=np.float64)\n",
    "print(a.dtype) #\n",
    "\n",
    "a = np.array([1, 2, 3], dtype=np.bool_)\n",
    "print(a) #\n",
    "print(a.dtype)\n",
    "\n",
    "a = np.array([1, 2, 3], dtype=np.int8)\n",
    "print(a.dtype) # int8\n",
    "\n",
    "a = np.array([1, 2, 3, 4.1], dtype=np.float_) # float_默认就是float64\n",
    "print(a.dtype) # float64"
   ],
   "metadata": {
    "collapsed": false,
    "pycharm": {
     "name": "#%%\n"
    }
   }
  },
  {
   "cell_type": "code",
   "execution_count": 81,
   "outputs": [
    {
     "name": "stdout",
     "output_type": "stream",
     "text": [
      "['1' '2' '3' '4' '5'] <U1\n",
      "[b'1' b'2' b'3' b'4' b'5'] |S1\n",
      "['lip' '2' '3' '4'] <U3\n",
      "[b'lipu' b'2' b'3'] |S4\n"
     ]
    }
   ],
   "source": [
    "# str_和string_数据类型的区别\n",
    "str1 = np.array([1, 2, 3, 4, 5], dtype=np.str_)\n",
    "string1 = np.array([1, 2, 3, 4, 5], dtype=np.string_)\n",
    "\n",
    "str2 = np.array(['lip', 2, 3 ,4 ], dtype=np.str_)\n",
    "string2 = np.array(['lipu', 2, 3], dtype=np.string_)\n",
    "\n",
    "\n",
    "\n",
    "print(str1, str1.dtype)\n",
    "print(string1, string1.dtype)\n",
    "print(str2, str2.dtype)\n",
    "print(string2, string2.dtype)\n",
    "\n",
    "# str_就是普通的字符串类型, 保存在内存中, 采用unicode编码, 而保存到文件, 保存到硬盘当中去.\n",
    "# 都转换成了utf-8, 以字节码(Byte)的形式存入到硬盘当中去."
   ],
   "metadata": {
    "collapsed": false,
    "pycharm": {
     "name": "#%%\n"
    }
   }
  },
  {
   "cell_type": "code",
   "execution_count": null,
   "outputs": [],
   "source": [
    "# 定义结构化数据类型\n",
    "# 结构化数据, 表示一列用一个笔名定义, 如果有多列, 则"
   ],
   "metadata": {
    "collapsed": false,
    "pycharm": {
     "name": "#%%\n"
    }
   }
  },
  {
   "cell_type": "markdown",
   "source": [
    "### 定义结构化数据\n",
    "\n",
    "使用数据类型标识码\n",
    "\n",
    "| 字符 \t| 对应类型 | 字符 \t| 对应类型 | 字符 \t| 对应类型 | 字符 \t| 对应类型 |\n",
    "| ------  \t|:------ |------  \t|:------ | ------  \t|:------ |------  \t|:------ |\n",
    "| b \t| 代表布尔型| i \t| 带符号整型| u \t| 无符号整型| f \t| 浮点型|\n",
    "| c \t| 复数浮点型| m \t| 时间间隔（timedelta）| M \t| datatime（日期时间）| O \t| Python对象|\n",
    "| S,a \t| 字节串（S）与字符串（a）| U \t| Unicode| V \t| 原始数据（void）|  \t| |\n",
    "\n",
    "\n",
    "还可以将两个字符作为参数传给数据类型的构造函数。此时，第一个字符表示数据类型，\n",
    "第二个字符表示该类型在内存中占用的字节数（2、4、8分别代表精度为16、32、64位的\n",
    "浮点数）："
   ],
   "metadata": {
    "collapsed": false,
    "pycharm": {
     "name": "#%% md\n"
    }
   }
  },
  {
   "cell_type": "code",
   "execution_count": 85,
   "outputs": [
    {
     "name": "stdout",
     "output_type": "stream",
     "text": [
      "[('age', 'i1')]\n"
     ]
    },
    {
     "data": {
      "text/plain": "array([(18,), (19,)], dtype=[('age', 'i1')])"
     },
     "execution_count": 85,
     "metadata": {},
     "output_type": "execute_result"
    }
   ],
   "source": [
    "# 首先创建结构化数据类型: np.dtype()\n",
    "dt = np.dtype([('age', 'i1')]) # 创建了一个数据类型, 别名为age, 类型为i1 -> int8 # 就是8bit int类型\n",
    "print(dt) # print(dt)\n",
    "\n",
    "# 将定义好的结构化数据类型应用于ndarray对象\n",
    "students = np.array([(18), (19)], dtype=dt)\n",
    "students\n"
   ],
   "metadata": {
    "collapsed": false,
    "pycharm": {
     "name": "#%%\n"
    }
   }
  },
  {
   "cell_type": "code",
   "execution_count": 94,
   "outputs": [
    {
     "name": "stdout",
     "output_type": "stream",
     "text": [
      "[('name', '<U1'), ('age', 'i1'), ('salary', '<f4')]\n"
     ]
    },
    {
     "data": {
      "text/plain": "array([('w', 32, 8357.5), ('i', 28, 7856.8)],\n      dtype=[('name', '<U1'), ('age', 'i1'), ('salary', '<f4')])"
     },
     "execution_count": 94,
     "metadata": {},
     "output_type": "execute_result"
    }
   ],
   "source": [
    "# 练习\n",
    "teacher_type = np.dtype([('name', np.str_, 1), ('age', 'i1'), ('salary', 'f4')])\n",
    "print(teacher_type) #\n",
    "\n",
    "# 将该自定义数据类型应用在ndarray对象上\n",
    "b = np.array([('w1', 32, 8357.50), ('ih', 28, 7856.80)], dtype=teacher_type)\n",
    "b # 在jupyter中, 可以看到别名, 以及数据本身"
   ],
   "metadata": {
    "collapsed": false,
    "pycharm": {
     "name": "#%%\n"
    }
   }
  },
  {
   "cell_type": "code",
   "execution_count": null,
   "outputs": [],
   "source": [],
   "metadata": {
    "collapsed": false,
    "pycharm": {
     "name": "#%%\n"
    }
   }
  },
  {
   "cell_type": "code",
   "execution_count": null,
   "outputs": [],
   "source": [],
   "metadata": {
    "collapsed": false,
    "pycharm": {
     "name": "#%%\n"
    }
   }
  },
  {
   "cell_type": "code",
   "execution_count": null,
   "outputs": [],
   "source": [],
   "metadata": {
    "collapsed": false,
    "pycharm": {
     "name": "#%%\n"
    }
   }
  },
  {
   "cell_type": "code",
   "execution_count": null,
   "outputs": [],
   "source": [],
   "metadata": {
    "collapsed": false,
    "pycharm": {
     "name": "#%%\n"
    }
   }
  },
  {
   "cell_type": "code",
   "execution_count": null,
   "outputs": [],
   "source": [],
   "metadata": {
    "collapsed": false,
    "pycharm": {
     "name": "#%%\n"
    }
   }
  },
  {
   "cell_type": "code",
   "execution_count": null,
   "outputs": [],
   "source": [],
   "metadata": {
    "collapsed": false,
    "pycharm": {
     "name": "#%%\n"
    }
   }
  },
  {
   "cell_type": "code",
   "execution_count": null,
   "outputs": [],
   "source": [],
   "metadata": {
    "collapsed": false,
    "pycharm": {
     "name": "#%%\n"
    }
   }
  },
  {
   "cell_type": "code",
   "execution_count": null,
   "outputs": [],
   "source": [],
   "metadata": {
    "collapsed": false,
    "pycharm": {
     "name": "#%%\n"
    }
   }
  },
  {
   "cell_type": "code",
   "execution_count": null,
   "outputs": [],
   "source": [],
   "metadata": {
    "collapsed": false,
    "pycharm": {
     "name": "#%%\n"
    }
   }
  },
  {
   "cell_type": "code",
   "execution_count": null,
   "outputs": [],
   "source": [],
   "metadata": {
    "collapsed": false,
    "pycharm": {
     "name": "#%%\n"
    }
   }
  },
  {
   "cell_type": "code",
   "execution_count": null,
   "outputs": [],
   "source": [],
   "metadata": {
    "collapsed": false,
    "pycharm": {
     "name": "#%%\n"
    }
   }
  },
  {
   "cell_type": "code",
   "execution_count": null,
   "outputs": [],
   "source": [],
   "metadata": {
    "collapsed": false,
    "pycharm": {
     "name": "#%%\n"
    }
   }
  },
  {
   "cell_type": "code",
   "execution_count": null,
   "outputs": [],
   "source": [],
   "metadata": {
    "collapsed": false,
    "pycharm": {
     "name": "#%%\n"
    }
   }
  },
  {
   "cell_type": "code",
   "execution_count": null,
   "outputs": [],
   "source": [],
   "metadata": {
    "collapsed": false,
    "pycharm": {
     "name": "#%%\n"
    }
   }
  }
 ],
 "metadata": {
  "kernelspec": {
   "display_name": "Python 3 (ipykernel)",
   "language": "python",
   "name": "python3"
  },
  "language_info": {
   "codemirror_mode": {
    "name": "ipython",
    "version": 3
   },
   "file_extension": ".py",
   "mimetype": "text/x-python",
   "name": "python",
   "nbconvert_exporter": "python",
   "pygments_lexer": "ipython3",
   "version": "3.9.9"
  }
 },
 "nbformat": 4,
 "nbformat_minor": 5
}