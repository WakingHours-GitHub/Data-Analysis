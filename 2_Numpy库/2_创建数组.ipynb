{
 "cells": [
  {
   "cell_type": "code",
   "execution_count": null,
   "outputs": [],
   "source": [
    "\"\"\"\n",
    "numpy创建数组:\n",
    "语法:\n",
    "    array(p_object, dtype=None,copy=True, order=None, subok=False, ndmin=0)\n",
    "参数:\n",
    "    object: 表示一个数组序列, 可以是数组, 列表, 元组等数据类型. 可以将python原生类型转变为ndarray类型\n",
    "    dtype: 可选参数, 指定数据类型. 整形默认为int32, 浮点型默认为float16\n",
    "    copy: 可选, 表示数据源是ndarray时表示数组能否被复制. 默认是True\n",
    "    order: 可选, 以哪种内存布局创建数组, C:行序列, F:列序列, A默认\n",
    "    subok: 可选, 类型为bool,默认为False. True: 使用object的内部类型数据, False: 使用object数组的数据类型.\n",
    "    ndmin: 可选, 用于指定数组的维度\n",
    "\n",
    "当创建ndarray对象时, 如果数据类型不统一, 则改变数据类型为当前元素中最大占用内存的那个元素类型\n",
    "\n",
    "\n",
    "\"\"\"\n",
    "import numpy as np"
   ],
   "metadata": {
    "collapsed": false,
    "pycharm": {
     "name": "#%%\n"
    }
   }
  },
  {
   "cell_type": "code",
   "execution_count": null,
   "outputs": [],
   "source": [
    "np.array([1, 2, 3, 4, 5])"
   ],
   "metadata": {
    "collapsed": false,
    "pycharm": {
     "name": "#%%\n"
    }
   }
  },
  {
   "cell_type": "code",
   "execution_count": null,
   "outputs": [],
   "source": [
    "type(np.array)"
   ],
   "metadata": {
    "collapsed": false,
    "pycharm": {
     "name": "#%%\n"
    }
   }
  },
  {
   "cell_type": "code",
   "execution_count": null,
   "outputs": [],
   "source": [],
   "metadata": {
    "collapsed": false,
    "pycharm": {
     "name": "#%%\n"
    }
   }
  },
  {
   "cell_type": "code",
   "execution_count": null,
   "metadata": {},
   "outputs": [],
   "source": []
  }
 ],
 "metadata": {
  "kernelspec": {
   "display_name": "Python 3 (ipykernel)",
   "language": "python",
   "name": "python3"
  },
  "language_info": {
   "codemirror_mode": {
    "name": "ipython",
    "version": 3
   },
   "file_extension": ".py",
   "mimetype": "text/x-python",
   "name": "python",
   "nbconvert_exporter": "python",
   "pygments_lexer": "ipython3",
   "version": "3.9.9"
  }
 },
 "nbformat": 4,
 "nbformat_minor": 1
}