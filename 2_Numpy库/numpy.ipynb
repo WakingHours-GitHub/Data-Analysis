{
 "cells": [
  {
   "cell_type": "code",
   "execution_count": 1,
   "id": "8fe19078",
   "metadata": {},
   "outputs": [],
   "source": [
    "import numpy as np # 导入numpy"
   ]
  },
  {
   "cell_type": "code",
   "execution_count": 2,
   "id": "0c1fcab1",
   "metadata": {},
   "outputs": [],
   "source": [
    "score = np.array([[80, 89, 86, 67, 79],\n",
    "[78, 97, 89, 67, 81],\n",
    "[90, 94, 78, 67, 74],\n",
    "[91, 91, 90, 67, 69],\n",
    "[76, 87, 75, 67, 86],\n",
    "[70, 79, 84, 67, 84],\n",
    "[94, 92, 93, 67, 64],\n",
    "[86, 85, 83, 67, 80]]) # 从现有数据生成ndarray数组\n",
    "\n",
    "# 从二维列表直接生成到ndarray\n",
    "# API: np.array()"
   ]
  },
  {
   "cell_type": "code",
   "execution_count": 3,
   "id": "a3ef4846",
   "metadata": {},
   "outputs": [
    {
     "data": {
      "text/plain": [
       "array([[80, 89, 86, 67, 79],\n",
       "       [78, 97, 89, 67, 81],\n",
       "       [90, 94, 78, 67, 74],\n",
       "       [91, 91, 90, 67, 69],\n",
       "       [76, 87, 75, 67, 86],\n",
       "       [70, 79, 84, 67, 84],\n",
       "       [94, 92, 93, 67, 64],\n",
       "       [86, 85, 83, 67, 80]])"
      ]
     },
     "execution_count": 3,
     "metadata": {},
     "output_type": "execute_result"
    }
   ],
   "source": [
    "score"
   ]
  },
  {
   "cell_type": "code",
   "execution_count": 4,
   "id": "94f025b0",
   "metadata": {},
   "outputs": [
    {
     "data": {
      "text/plain": [
       "numpy.ndarray"
      ]
     },
     "execution_count": 4,
     "metadata": {},
     "output_type": "execute_result"
    }
   ],
   "source": [
    "type(score)"
   ]
  },
  {
   "cell_type": "markdown",
   "id": "17feba10",
   "metadata": {},
   "source": [
    "这种嵌套列表的形式，我们为什么不使用python原生list类型，而是使用ndarray"
   ]
  },
  {
   "cell_type": "markdown",
   "id": "185e1a0c",
   "metadata": {},
   "source": [
    "### ndarray和Python原生list对比(效率对比)"
   ]
  },
  {
   "cell_type": "code",
   "execution_count": 5,
   "id": "d439e41f",
   "metadata": {},
   "outputs": [],
   "source": [
    "import random \n",
    "import time\n",
    "\n",
    "# 生成一个大一点的数组\n",
    "python_list = []\n",
    "for i in range(1000000):\n",
    "    python_list.append(random.random())\n",
    "# 生成ndarray, 直接从现有元素生成\n",
    "ndarray_list = np.array(python_list)\n",
    "\n",
    "\n"
   ]
  },
  {
   "cell_type": "code",
   "execution_count": 6,
   "id": "a2614f6f",
   "metadata": {},
   "outputs": [
    {
     "data": {
      "text/plain": [
       "1000000"
      ]
     },
     "execution_count": 6,
     "metadata": {},
     "output_type": "execute_result"
    }
   ],
   "source": [
    "len(ndarray_list)"
   ]
  },
  {
   "cell_type": "code",
   "execution_count": 7,
   "id": "8485526f",
   "metadata": {},
   "outputs": [
    {
     "name": "stdout",
     "output_type": "stream",
     "text": [
      "原生list: 0.00498652458190918,\n",
      " ndarray: 0.0019741058\n"
     ]
    }
   ],
   "source": [
    "# 原生list求和\n",
    "t1 = time.time()\n",
    "list_sum = sum(python_list)\n",
    "t2 = time.time()\n",
    "d1 = t2-t1\n",
    "\n",
    "# ndarray类型求和\n",
    "t3 = time.time()\n",
    "ndarray_list = np.sum(ndarray_list)\n",
    "t4 = time.time()\n",
    "d2 = t4 - t3\n",
    "\n",
    "print(f\"原生list: {d1},\\n ndarray: %.10f\" % d2)"
   ]
  },
  {
   "cell_type": "markdown",
   "id": "7fa95d6b",
   "metadata": {},
   "source": [
    "    可见ndarray的计算速度要快上很多, 很节约时间. 后面做机器学习的时候, 需要大量的数据计算.\n",
    "    此时使用, numpy计算的时候, 速度就会快上很多\n",
    "    \n",
    "    并且, Numpy针对ndarray对象的操作和运算进行了优化设计, 所以数组的存储效率和输入输出性能优于python中的嵌套列表, 数组越大, Numpy的优势就越明显\n",
    "   "
   ]
  },
  {
   "cell_type": "markdown",
   "id": "7dce7107",
   "metadata": {},
   "source": [
    "### ndarray的属性\n",
    "          属性名字:           属性解释:\n",
    "        ndarray.shape      数组维度的元组\n",
    "        ndarray.ndim       数组维度\n",
    "        ndarray.size       数组中的元素数量\n",
    "        ndarray.itemsize   一个数组元素的长度(字节)\n",
    "        ndarray.dtype      数组元素的类型\n",
    "    常用的:\n",
    "        shape -> 可以知道维度, 和大小: ndim, size\n",
    "        dtype -> itemsize"
   ]
  },
  {
   "cell_type": "code",
   "execution_count": 8,
   "id": "4c22906b",
   "metadata": {},
   "outputs": [
    {
     "data": {
      "text/plain": [
       "array([[80, 89, 86, 67, 79],\n",
       "       [78, 97, 89, 67, 81],\n",
       "       [90, 94, 78, 67, 74],\n",
       "       [91, 91, 90, 67, 69],\n",
       "       [76, 87, 75, 67, 86],\n",
       "       [70, 79, 84, 67, 84],\n",
       "       [94, 92, 93, 67, 64],\n",
       "       [86, 85, 83, 67, 80]])"
      ]
     },
     "execution_count": 8,
     "metadata": {},
     "output_type": "execute_result"
    }
   ],
   "source": [
    "score # 刚才生成的ndarray数据"
   ]
  },
  {
   "cell_type": "code",
   "execution_count": 9,
   "id": "9aecf169",
   "metadata": {},
   "outputs": [
    {
     "data": {
      "text/plain": [
       "(8, 5)"
      ]
     },
     "execution_count": 9,
     "metadata": {},
     "output_type": "execute_result"
    }
   ],
   "source": [
    "# 查看score的形状:\n",
    "score.shape # (8, 5)\n"
   ]
  },
  {
   "cell_type": "code",
   "execution_count": 10,
   "id": "b6c06311",
   "metadata": {},
   "outputs": [
    {
     "data": {
      "text/plain": [
       "2"
      ]
     },
     "execution_count": 10,
     "metadata": {},
     "output_type": "execute_result"
    }
   ],
   "source": [
    "# 查看维度 dimension\n",
    "score.ndim # 2\n"
   ]
  },
  {
   "cell_type": "code",
   "execution_count": 11,
   "id": "b837a1e8",
   "metadata": {},
   "outputs": [
    {
     "data": {
      "text/plain": [
       "40"
      ]
     },
     "execution_count": 11,
     "metadata": {},
     "output_type": "execute_result"
    }
   ],
   "source": [
    "# 查看数组元素的个数\n",
    "score.size # 40"
   ]
  },
  {
   "cell_type": "code",
   "execution_count": 12,
   "id": "6f9fa01a",
   "metadata": {},
   "outputs": [
    {
     "data": {
      "text/plain": [
       "dtype('int32')"
      ]
     },
     "execution_count": 12,
     "metadata": {},
     "output_type": "execute_result"
    }
   ],
   "source": [
    "# 查看ndarray的类型:\n",
    "score.dtype # dtypt('int32')"
   ]
  },
  {
   "cell_type": "code",
   "execution_count": 13,
   "id": "c748ae61",
   "metadata": {},
   "outputs": [
    {
     "data": {
      "text/plain": [
       "4"
      ]
     },
     "execution_count": 13,
     "metadata": {},
     "output_type": "execute_result"
    }
   ],
   "source": [
    "# 查看ndarray每个元素所占的字节个数\n",
    "score.itemsize # 4"
   ]
  },
  {
   "cell_type": "markdown",
   "id": "3e1685ad",
   "metadata": {},
   "source": [
    "### ndarray的形状"
   ]
  },
  {
   "cell_type": "code",
   "execution_count": 14,
   "id": "49a49250",
   "metadata": {},
   "outputs": [],
   "source": [
    "a = np.array(\n",
    "    [[1, 2, 3],\n",
    "    [4, 5, 6]]\n",
    ")\n",
    "b = np.array(\n",
    "    [1, 2, 3, 4]\n",
    ")\n",
    "c = np.array(\n",
    "    [\n",
    "        [[1,2,3],\n",
    "        [4,5,6],\n",
    "        [7,8,9]]\n",
    "    ]\n",
    ")"
   ]
  },
  {
   "cell_type": "code",
   "execution_count": 15,
   "id": "cefbea79",
   "metadata": {},
   "outputs": [
    {
     "data": {
      "text/plain": [
       "(2, 3)"
      ]
     },
     "execution_count": 15,
     "metadata": {},
     "output_type": "execute_result"
    }
   ],
   "source": [
    "a # array([[1, 2, 3],\n",
    "#        [4, 5, 6]])\n",
    "\n",
    "a.shape # (2, 3)\n"
   ]
  },
  {
   "cell_type": "code",
   "execution_count": 16,
   "id": "042dedad",
   "metadata": {},
   "outputs": [
    {
     "data": {
      "text/plain": [
       "(4,)"
      ]
     },
     "execution_count": 16,
     "metadata": {},
     "output_type": "execute_result"
    }
   ],
   "source": [
    "b # array([1, 2, 3, 4])\n",
    "\n",
    "b.shape # (4,)\n",
    "# 此时b是一维, 我们用元组表示其形状, 所以, 需要(,) 加上逗号以表示元组"
   ]
  },
  {
   "cell_type": "code",
   "execution_count": 17,
   "id": "17d139ba",
   "metadata": {},
   "outputs": [
    {
     "data": {
      "text/plain": [
       "array([[[1, 2, 3],\n",
       "        [4, 5, 6],\n",
       "        [7, 8, 9]]])"
      ]
     },
     "execution_count": 17,
     "metadata": {},
     "output_type": "execute_result"
    }
   ],
   "source": [
    "c"
   ]
  },
  {
   "cell_type": "code",
   "execution_count": 18,
   "id": "edc5c5f9",
   "metadata": {},
   "outputs": [
    {
     "data": {
      "text/plain": [
       "(1, 3, 3)"
      ]
     },
     "execution_count": 18,
     "metadata": {},
     "output_type": "execute_result"
    }
   ],
   "source": [
    "c.shape"
   ]
  },
  {
   "cell_type": "markdown",
   "id": "13e1e301",
   "metadata": {},
   "source": [
    "### ndarray的元素类型\n",
    "    不指定类型:\n",
    "    整形: 默认是int32\n",
    "    浮点型: 默认是float64"
   ]
  },
  {
   "cell_type": "code",
   "execution_count": 19,
   "id": "b2c76784",
   "metadata": {},
   "outputs": [],
   "source": [
    "# 直接从现有数据生成ndarray\n",
    "data = np.array([1.1, 2.2, 3.3])"
   ]
  },
  {
   "cell_type": "code",
   "execution_count": 20,
   "id": "f6063490",
   "metadata": {},
   "outputs": [
    {
     "data": {
      "text/plain": [
       "array([1.1, 2.2, 3.3])"
      ]
     },
     "execution_count": 20,
     "metadata": {},
     "output_type": "execute_result"
    }
   ],
   "source": [
    "data"
   ]
  },
  {
   "cell_type": "code",
   "execution_count": 21,
   "id": "b7814bc3",
   "metadata": {},
   "outputs": [
    {
     "data": {
      "text/plain": [
       "dtype('float64')"
      ]
     },
     "execution_count": 21,
     "metadata": {},
     "output_type": "execute_result"
    }
   ],
   "source": [
    "data.dtype # dtype('float64')"
   ]
  },
  {
   "cell_type": "code",
   "execution_count": 22,
   "id": "b25ccd8c",
   "metadata": {},
   "outputs": [
    {
     "data": {
      "text/plain": [
       "array([1.1, 1.2, 1.3], dtype=float32)"
      ]
     },
     "execution_count": 22,
     "metadata": {},
     "output_type": "execute_result"
    }
   ],
   "source": [
    "# 创建数组的时候指定元素类型\n",
    "np.array([1.1, 1.2, 1.3], dtype=np.float32)"
   ]
  },
  {
   "cell_type": "code",
   "execution_count": 23,
   "id": "bcc1c88c",
   "metadata": {},
   "outputs": [
    {
     "data": {
      "text/plain": [
       "array([1.1, 1.2], dtype=float32)"
      ]
     },
     "execution_count": 23,
     "metadata": {},
     "output_type": "execute_result"
    }
   ],
   "source": [
    "# 或者使用这种方法:\n",
    "np.array([1.1, 1.2], dtype=\"float32\")"
   ]
  },
  {
   "cell_type": "code",
   "execution_count": 24,
   "id": "2222f308",
   "metadata": {},
   "outputs": [
    {
     "data": {
      "text/plain": [
       "dtype('int32')"
      ]
     },
     "execution_count": 24,
     "metadata": {},
     "output_type": "execute_result"
    }
   ],
   "source": [
    "np.array([1, 2]).dtype"
   ]
  },
  {
   "cell_type": "markdown",
   "id": "4b607270",
   "metadata": {},
   "source": [
    "### 生成数组的方法:\n",
    "\n",
    "    基本操作:\n",
    "    ndarray.方法()\n",
    "    np.函数名()"
   ]
  },
  {
   "cell_type": "markdown",
   "id": "94e6c5f3",
   "metadata": {},
   "source": [
    "#### 生成0,1数组"
   ]
  },
  {
   "cell_type": "code",
   "execution_count": 25,
   "id": "e5b4b713",
   "metadata": {
    "scrolled": true
   },
   "outputs": [
    {
     "data": {
      "text/plain": [
       "array([[0., 0., 0., 0.],\n",
       "       [0., 0., 0., 0.],\n",
       "       [0., 0., 0., 0.]], dtype=float32)"
      ]
     },
     "execution_count": 25,
     "metadata": {},
     "output_type": "execute_result"
    }
   ],
   "source": [
    "# 1.生成0, 1数组:\n",
    "np.zeros(shape=(3,4), dtype=np.float32)"
   ]
  },
  {
   "cell_type": "code",
   "execution_count": 26,
   "id": "08eb7418",
   "metadata": {},
   "outputs": [
    {
     "data": {
      "text/plain": [
       "array([[1, 1, 1, 1],\n",
       "       [1, 1, 1, 1],\n",
       "       [1, 1, 1, 1]])"
      ]
     },
     "execution_count": 26,
     "metadata": {},
     "output_type": "execute_result"
    }
   ],
   "source": [
    "np.ones(shape=(3, 4), dtype=np.int32)"
   ]
  },
  {
   "cell_type": "code",
   "execution_count": 27,
   "id": "fbda864f",
   "metadata": {},
   "outputs": [
    {
     "data": {
      "text/plain": [
       "(2, 3)"
      ]
     },
     "execution_count": 27,
     "metadata": {},
     "output_type": "execute_result"
    }
   ],
   "source": [
    "# np.*_like(A)  # 以另一个数组作为参数, 创建一个形状大小相同的数组\n",
    "A = np.array(\n",
    "    [[1, 2, 3],\n",
    "    [4, 5, 6]]\n",
    ")\n",
    "A.shape"
   ]
  },
  {
   "cell_type": "code",
   "execution_count": 28,
   "id": "8e87cdcb",
   "metadata": {},
   "outputs": [
    {
     "data": {
      "text/plain": [
       "array([[1, 1, 1],\n",
       "       [1, 1, 1]])"
      ]
     },
     "execution_count": 28,
     "metadata": {},
     "output_type": "execute_result"
    }
   ],
   "source": [
    "A_ones = np.ones_like(A)\n",
    "A_ones # 创建和A大小相同的矩阵, 但是全1的.\n"
   ]
  },
  {
   "cell_type": "markdown",
   "id": "62c44ede",
   "metadata": {},
   "source": [
    "#### 2.从现有数据中生成"
   ]
  },
  {
   "cell_type": "markdown",
   "id": "882a24b6",
   "metadata": {},
   "source": [
    "     从现有数据中生成:\n",
    "     np.array(A) # 上面已经说过了.\n",
    "\n",
    "     numpy.array(object, dtype=None, copy=True, order='K', subok=False, ndmin=0) 深拷贝\n",
    "     np.copy() 深拷贝\n",
    "     np.asarray() 浅拷贝\n",
    "     \n",
    "     深拷贝: 复制一个新的对象, 不同的内存地址\n",
    "     浅拷贝: 拷贝引用, 地址\n",
    "     \n",
    "     浅拷贝只复制指向某个对象的指针，而不复制对象本身，新旧对象还是共享同一块内存。但深拷贝会另外创造一个一模一样的对象，新对象跟原对象不共享内存，修改新对象不会改到原对象。"
   ]
  },
  {
   "cell_type": "code",
   "execution_count": 29,
   "id": "d09459c3",
   "metadata": {},
   "outputs": [
    {
     "data": {
      "text/plain": [
       "array([[80, 89, 86, 67, 79],\n",
       "       [78, 97, 89, 67, 81],\n",
       "       [90, 94, 78, 67, 74],\n",
       "       [91, 91, 90, 67, 69],\n",
       "       [76, 87, 75, 67, 86],\n",
       "       [70, 79, 84, 67, 84],\n",
       "       [94, 92, 93, 67, 64],\n",
       "       [86, 85, 83, 67, 80]])"
      ]
     },
     "execution_count": 29,
     "metadata": {},
     "output_type": "execute_result"
    }
   ],
   "source": [
    "score # 刚才我们直接生成的数据"
   ]
  },
  {
   "cell_type": "code",
   "execution_count": 30,
   "id": "66684161",
   "metadata": {},
   "outputs": [
    {
     "data": {
      "text/plain": [
       "1316066234064"
      ]
     },
     "execution_count": 30,
     "metadata": {},
     "output_type": "execute_result"
    }
   ],
   "source": [
    "id(score) # 1575791255440"
   ]
  },
  {
   "cell_type": "code",
   "execution_count": 31,
   "id": "e4cbfb44",
   "metadata": {},
   "outputs": [],
   "source": [
    "# np.array(A) # 深拷贝\n",
    "data1 = np.array(score) # 直接从score生成ndarray数据\n"
   ]
  },
  {
   "cell_type": "code",
   "execution_count": 32,
   "id": "6307fc3e",
   "metadata": {},
   "outputs": [
    {
     "name": "stdout",
     "output_type": "stream",
     "text": [
      "1316322618512\n",
      "1316066234064\n"
     ]
    }
   ],
   "source": [
    "print(id(data1))\n",
    "print(id(score))\n",
    "# 深拷贝, 赋值一个新的数组对象"
   ]
  },
  {
   "cell_type": "code",
   "execution_count": 33,
   "id": "49eda29a",
   "metadata": {},
   "outputs": [
    {
     "data": {
      "text/plain": [
       "array([[80, 89, 86, 67, 79],\n",
       "       [78, 97, 89, 67, 81],\n",
       "       [90, 94, 78, 67, 74],\n",
       "       [91, 91, 90, 67, 69],\n",
       "       [76, 87, 75, 67, 86],\n",
       "       [70, 79, 84, 67, 84],\n",
       "       [94, 92, 93, 67, 64],\n",
       "       [86, 85, 83, 67, 80]])"
      ]
     },
     "execution_count": 33,
     "metadata": {},
     "output_type": "execute_result"
    }
   ],
   "source": [
    "data1 "
   ]
  },
  {
   "cell_type": "code",
   "execution_count": 34,
   "id": "a607001c",
   "metadata": {},
   "outputs": [],
   "source": [
    "# np.asarray() # 浅拷贝, 赋值一个新的数组\n",
    "data2 = np.asarray(score)"
   ]
  },
  {
   "cell_type": "code",
   "execution_count": 35,
   "id": "30401e40",
   "metadata": {},
   "outputs": [
    {
     "data": {
      "text/plain": [
       "array([[80, 89, 86, 67, 79],\n",
       "       [78, 97, 89, 67, 81],\n",
       "       [90, 94, 78, 67, 74],\n",
       "       [91, 91, 90, 67, 69],\n",
       "       [76, 87, 75, 67, 86],\n",
       "       [70, 79, 84, 67, 84],\n",
       "       [94, 92, 93, 67, 64],\n",
       "       [86, 85, 83, 67, 80]])"
      ]
     },
     "execution_count": 35,
     "metadata": {},
     "output_type": "execute_result"
    }
   ],
   "source": [
    "data2"
   ]
  },
  {
   "cell_type": "code",
   "execution_count": 36,
   "id": "3b886b82",
   "metadata": {},
   "outputs": [
    {
     "name": "stdout",
     "output_type": "stream",
     "text": [
      "id(data2): 1316066234064 \n",
      " id(score): 1316066234064\n"
     ]
    }
   ],
   "source": [
    "print(\"id(data2):\", id(data2), \"\\n\", \"id(score):\", id(score))\n",
    "# 可以发现两个内存地址是一样的. 这就是浅拷贝, 仅仅拷贝引用"
   ]
  },
  {
   "cell_type": "code",
   "execution_count": 37,
   "id": "fb8b8fe1",
   "metadata": {},
   "outputs": [
    {
     "data": {
      "text/plain": [
       "array([[80, 89, 86, 67, 79],\n",
       "       [78, 97, 89, 67, 81],\n",
       "       [90, 94, 78, 67, 74],\n",
       "       [91, 91, 90, 67, 69],\n",
       "       [76, 87, 75, 67, 86],\n",
       "       [70, 79, 84, 67, 84],\n",
       "       [94, 92, 93, 67, 64],\n",
       "       [86, 85, 83, 67, 80]])"
      ]
     },
     "execution_count": 37,
     "metadata": {},
     "output_type": "execute_result"
    }
   ],
   "source": [
    "# np.copy() 深拷贝:\n",
    "data3 = np.copy(score)\n",
    "data3"
   ]
  },
  {
   "cell_type": "code",
   "execution_count": 38,
   "id": "92bf474c",
   "metadata": {},
   "outputs": [
    {
     "name": "stdout",
     "output_type": "stream",
     "text": [
      "1316322618320\n",
      "1316066234064\n"
     ]
    }
   ],
   "source": [
    "print(id(data3))\n",
    "print(id(score)) \n",
    "# 深拷贝, 内存地址不同"
   ]
  },
  {
   "cell_type": "markdown",
   "id": "11e25c7d",
   "metadata": {},
   "source": [
    "#### 3.生成固定范围的数组\n",
    "    np.linspace(start, stop, num, endpoint, retstep, dtype)\n",
    "        生成: [start, stop] 一共有num个等间距的点(等差数列)\n",
    "\n",
    "    np.arange(start, stop, step, dtype)\n",
    "     -> range(start, stop, step)\n",
    "            生成: [a, b) c是步长"
   ]
  },
  {
   "cell_type": "code",
   "execution_count": 39,
   "id": "27f310ef",
   "metadata": {},
   "outputs": [
    {
     "data": {
      "text/plain": [
       "array([ 0. ,  2.5,  5. ,  7.5, 10. ])"
      ]
     },
     "execution_count": 39,
     "metadata": {},
     "output_type": "execute_result"
    }
   ],
   "source": [
    "np.linspace(0, 10, 5) # 等间距的生成array\n",
    "# 从0, 到10(两端包括), 生成5个点\n"
   ]
  },
  {
   "cell_type": "code",
   "execution_count": 40,
   "id": "67204afc",
   "metadata": {},
   "outputs": [
    {
     "data": {
      "text/plain": [
       "array([0, 2, 4, 6, 8])"
      ]
     },
     "execution_count": 40,
     "metadata": {},
     "output_type": "execute_result"
    }
   ],
   "source": [
    "# np.arange(start, stop, step)\n",
    "# 类似于range(), 前闭后开, 然后间距step\n",
    "np.arange(0, 10, 2) #"
   ]
  },
  {
   "cell_type": "markdown",
   "id": "53830ef3",
   "metadata": {
    "pycharm": {
     "name": "#%% md\n"
    }
   },
   "source": [
    "#### 4. 生成随机数组\n",
    "    np.random模块.\n",
    "    均匀分布:\n",
    "        np.random.rand(d0, d1, ..., dn)\n",
    "            rand函数根据给定维度生成[0,1)之间的数据，包含0，不包含1, 就是shape, 直接写入即可\n",
    "            dn表格每个维度\n",
    "            返回值为指定维度的array\n",
    "        np.random.uniform(low=0.0, high=1.0, size=None)\n",
    "            功能: 从一共均匀分布[low, high)中随机抽样\n",
    "            参数:\n",
    "                low: 采样下界, float类型, 默认值为0\n",
    "                high: 采样上界, float类型, 默认值为1\n",
    "                size: 输出样本数目, 为int或元组类型, 例如, size(m, n, k) 则输出mnk个样本吗, 默认值为1\n",
    "            返回:\n",
    "                ndarray类型, 其形状和参数size中的描述一样\n",
    "        np.random.randint(low, high=None, size=None, dtype='int')\n",
    "            从一个均匀分布中随机采样, 生成一个整数或者N维整数数组, 取值范围: 若high不为None时,\n",
    "            取[low, high)之间的随机整数, 否则取值[0, low)之间随机整数.\n",
    "\n",
    "\n",
    "    正态分布:\n",
    "        np.random.randn(d0, d1, ..., dn)\n",
    "            从标准正太分布中返回一个或多个样本值\n",
    "        np.random.normal(loc=0.0, scale=1.0, size=None)\n",
    "            参数:\n",
    "                loc: 均值, 坐标轴\n",
    "                scale: 标准差, 离散程度\n",
    "                size: 输出的size, 默认为None, 只输出一个值\n",
    "            返回一个正太分布的随机数矩阵\n",
    "        np.random.standard_normal(size=None)\n",
    "            返回指定形状的标准正态分布的数组"
   ]
  },
  {
   "cell_type": "code",
   "execution_count": 41,
   "id": "e1940fef",
   "metadata": {},
   "outputs": [
    {
     "data": {
      "text/plain": [
       "array([[0.2310922 , 0.51955745, 0.07765106, 0.06510552],\n",
       "       [0.40403409, 0.24082788, 0.89786637, 0.77700259],\n",
       "       [0.02569015, 0.5512401 , 0.26178615, 0.38006611]])"
      ]
     },
     "execution_count": 41,
     "metadata": {},
     "output_type": "execute_result"
    }
   ],
   "source": [
    "# np.random.rand()\n",
    "np.random.rand(3, 4)\n",
    "# 直接生成3行,4列的数据, 元素都在[0,1)之间"
   ]
  },
  {
   "cell_type": "code",
   "execution_count": 42,
   "id": "6f06622c",
   "metadata": {},
   "outputs": [
    {
     "data": {
      "text/plain": [
       "array([[-0.34874747, -0.67402775, -0.66060793,  0.3256011 ],\n",
       "       [ 0.61196128,  0.9125722 , -0.08459175,  0.0580672 ],\n",
       "       [ 0.72832521, -0.19811564, -0.10517067, -0.83424369]])"
      ]
     },
     "execution_count": 42,
     "metadata": {},
     "output_type": "execute_result"
    }
   ],
   "source": [
    "# np.random.uniform(low=0.0, high=1.0, size=None)\n",
    "np.random.uniform(-1.0, 1.0, size=(3, 4))"
   ]
  },
  {
   "cell_type": "code",
   "execution_count": 43,
   "id": "1dd71edf",
   "metadata": {},
   "outputs": [
    {
     "data": {
      "text/plain": [
       "array([-0.38476935, -0.83828807, -0.75781319, ...,  0.94091086,\n",
       "       -0.9264863 , -0.51895347])"
      ]
     },
     "execution_count": 43,
     "metadata": {},
     "output_type": "execute_result"
    }
   ],
   "source": [
    "data = np.random.uniform(-1.0, 1.0, size=1000000)\n",
    "data # 数据过长, 这里直接省略"
   ]
  },
  {
   "cell_type": "code",
   "execution_count": 44,
   "id": "e24016ba",
   "metadata": {
    "pycharm": {
     "is_executing": true
    }
   },
   "outputs": [],
   "source": [
    "import matplotlib.pyplot as plt"
   ]
  },
  {
   "cell_type": "code",
   "execution_count": 45,
   "id": "73c61cd3",
   "metadata": {
    "pycharm": {
     "is_executing": true
    }
   },
   "outputs": [
    {
     "data": {
      "image/png": "[encoded data removed]",
      "text/plain": [
       "<Figure size 800x480 with 1 Axes>"
      ]
     },
     "metadata": {
      "needs_background": "light"
     },
     "output_type": "display_data"
    }
   ],
   "source": [
    "# 1. 创建画布:\n",
    "plt.figure(figsize=(10,6), dpi=80)\n",
    "# 2. 绘制直方图:\n",
    "plt.hist(data, 1000)\n",
    "# bins=1000, 个数\n",
    "# 3. 显示图像\n",
    "plt.show()\n",
    "\n",
    "# 因为是均匀分布, 利用直方图看, 大体分布均匀\n"
   ]
  },
  {
   "cell_type": "code",
   "execution_count": 46,
   "id": "79c0ffd2",
   "metadata": {
    "pycharm": {
     "is_executing": true
    }
   },
   "outputs": [
    {
     "data": {
      "text/plain": [
       "array([1.82955328, 1.81346873, 1.81412336, ..., 1.87012021, 1.71864057,\n",
       "       1.64640383])"
      ]
     },
     "execution_count": 46,
     "metadata": {},
     "output_type": "execute_result"
    }
   ],
   "source": [
    "# 正态分布:\n",
    "data = np.random.normal(loc=1.75, scale=0.1, size=1000000)\n",
    "data"
   ]
  },
  {
   "cell_type": "code",
   "execution_count": 47,
   "id": "b1ba07d3",
   "metadata": {
    "pycharm": {
     "is_executing": true
    }
   },
   "outputs": [
    {
     "data": {
      "image/png": "[encoded data removed]",
      "text/plain": [
       "<Figure size 800x480 with 1 Axes>"
      ]
     },
     "metadata": {
      "needs_background": "light"
     },
     "output_type": "display_data"
    }
   ],
   "source": [
    "# 1. 创建画布:\n",
    "plt.figure(figsize=(10, 6), dpi=80)\n",
    "# 画图:\n",
    "plt.hist(data, bins=10000) # 切分的组距,\n",
    "# 展示图像\n",
    "plt.show()"
   ]
  },
  {
   "cell_type": "markdown",
   "id": "aebae1e9",
   "metadata": {
    "pycharm": {
     "is_executing": true
    }
   },
   "source": [
    "### 案例: 8只股票两周交易日的涨幅数据\n",
    "        数组的索引、切片\n",
    "        ndarray[,..]\n",
    "        与matlib差不多\n",
    "       "
   ]
  },
  {
   "cell_type": "code",
   "execution_count": 52,
   "id": "47f8ec94",
   "metadata": {
    "pycharm": {
     "is_executing": true
    }
   },
   "outputs": [],
   "source": [
    "stock_data = np.random.normal(loc=0, scale=1, size=[8, 10]) # 返回一个标准正太分布\n",
    "# stock_data = np.random.standard_normal(size=)"
   ]
  },
  {
   "cell_type": "code",
   "execution_count": 53,
   "id": "0f514773",
   "metadata": {
    "pycharm": {
     "is_executing": true
    }
   },
   "outputs": [
    {
     "data": {
      "text/plain": [
       "array([[ 0.67541888, -1.05624709,  0.42669919, -0.27246984,  0.02943205,\n",
       "        -0.40881647, -1.06445175,  0.7058758 ,  0.78935793, -0.32440291],\n",
       "       [ 0.38217219,  0.13538199, -0.52543439,  1.40276495,  0.75353884,\n",
       "        -0.77909042,  0.64821131,  1.17389997, -0.71260251,  0.5416957 ],\n",
       "       [ 0.38782294, -1.50655857,  0.29385971,  1.32217075, -0.71434269,\n",
       "        -0.1314364 , -1.27544334,  1.03082962,  2.1617304 ,  0.6541825 ],\n",
       "       [-1.47716124, -0.8733871 ,  1.16881617, -0.43541611,  0.51431521,\n",
       "        -0.27929973,  0.306665  , -1.23733701,  2.09623612, -1.13943896],\n",
       "       [ 0.74228738,  1.12376699, -0.19497536, -0.38082017,  0.58007486,\n",
       "        -0.74406619, -0.86045204, -2.6338802 , -0.02525209, -0.93752256],\n",
       "       [-1.12561575, -0.45614181,  1.49223189,  0.10210538,  0.32792804,\n",
       "         1.14503302, -0.91383003, -1.60697165, -0.16483575, -0.03525721],\n",
       "       [-2.30112915,  0.15674306,  2.01319341,  1.06823536, -0.02761372,\n",
       "         0.77444241,  0.01253082,  0.36984741, -0.89954284,  0.58391727],\n",
       "       [ 0.34269887, -0.99531352, -1.25543777,  1.13506492, -0.99616237,\n",
       "        -0.63556902,  1.21280389, -2.11801007, -0.37040073,  0.08909951]])"
      ]
     },
     "execution_count": 53,
     "metadata": {},
     "output_type": "execute_result"
    }
   ],
   "source": [
    "stock_data # 随机生成的数据"
   ]
  },
  {
   "cell_type": "code",
   "execution_count": 55,
   "id": "ef39dd73",
   "metadata": {
    "pycharm": {
     "is_executing": true
    }
   },
   "outputs": [
    {
     "data": {
      "text/plain": [
       "array([ 0.67541888, -1.05624709,  0.42669919])"
      ]
     },
     "execution_count": 55,
     "metadata": {},
     "output_type": "execute_result"
    }
   ],
   "source": [
    "# 获取第一个股票的前3个交易日的涨跌幅数据:\n",
    "stock_data[0, :3] # 这与matlab操作一样, 用, 来隔绝维度, 然后在切片操作\n",
    "# 这个切片就是获取, 第0行, 列:0~2\n",
    "# 都是包前不包后"
   ]
  },
  {
   "cell_type": "code",
   "execution_count": 59,
   "id": "2c38ff61",
   "metadata": {
    "pycharm": {
     "is_executing": true
    }
   },
   "outputs": [
    {
     "data": {
      "text/plain": [
       "array([[[ 1,  2,  3],\n",
       "        [ 4,  5,  6]],\n",
       "\n",
       "       [[ 7,  8,  9],\n",
       "        [10, 11, 12]]])"
      ]
     },
     "execution_count": 59,
     "metadata": {},
     "output_type": "execute_result"
    }
   ],
   "source": [
    "# 三维数据如何获取:\n",
    "data = np.array(\n",
    "    [\n",
    "        [[1, 2, 3], [4, 5, 6]],\n",
    "        [[7, 8, 9], [10, 11, 12]]\n",
    "    ]\n",
    ")\n",
    "data  #array([[[ 1,  2,  3],\n",
    "#         [ 4,  5,  6]],\n",
    "# \n",
    "#        [[ 7,  8,  9],\n",
    "#         [10, 11, 12]]])"
   ]
  },
  {
   "cell_type": "code",
   "execution_count": 62,
   "id": "8f61d782",
   "metadata": {
    "pycharm": {
     "is_executing": true
    }
   },
   "outputs": [
    {
     "data": {
      "text/plain": [
       "(2, 2, 3)"
      ]
     },
     "execution_count": 62,
     "metadata": {},
     "output_type": "execute_result"
    }
   ],
   "source": [
    "data.shape # (2, 2, 3)"
   ]
  },
  {
   "cell_type": "code",
   "execution_count": 64,
   "id": "5258d785",
   "metadata": {
    "pycharm": {
     "is_executing": true
    }
   },
   "outputs": [
    {
     "data": {
      "text/plain": [
       "12"
      ]
     },
     "execution_count": 64,
     "metadata": {},
     "output_type": "execute_result"
    }
   ],
   "source": [
    "# 通过索引获取data数值\n",
    "data[1, 1, 2]"
   ]
  },
  {
   "cell_type": "code",
   "execution_count": 65,
   "id": "e8abcb87",
   "metadata": {
    "pycharm": {
     "is_executing": true
    }
   },
   "outputs": [
    {
     "data": {
      "text/plain": [
       "array([[[  1,   2,   3],\n",
       "        [  4,   5,   6]],\n",
       "\n",
       "       [[  7,   8,   9],\n",
       "        [ 10,  11, 100]]])"
      ]
     },
     "execution_count": 65,
     "metadata": {},
     "output_type": "execute_result"
    }
   ],
   "source": [
    "# 修改:\n",
    "data[1, 1, 2] = 100\n",
    "data # 修改成功"
   ]
  },
  {
   "cell_type": "markdown",
   "id": "4668b9fa",
   "metadata": {
    "pycharm": {
     "is_executing": true
    }
   },
   "source": [
    "### 形状修改\n",
    "    通过np.函数名():\n",
    "    np.reshape(A, newshape) 返回一个修改后的ndarray数组, 但不会更改原始数组\n",
    "    np.resize(A, newshape) 返回一个修改后的ndarray数组, 但会更改原始数组\n",
    "\n",
    "    通过ndarray.方法()实现:\n",
    "    ndarray.reshape(shape) 返回新的ndarray，原始数据没有改变, # 只是将原来的数据进行了分割\n",
    "        shape=(a, b) , 当a=-1时, 表示自动计算\n",
    "    ndarray.resize(shape) 没有返回值, 对原始的ndarray进行了修改, 效果与reshape一样\n",
    "        前两个都没有对行列进行转换, 只是简单的分割\n",
    "        \n",
    "    ndarray.T 转置 行变成列，列变成行, 转至是对行列进行转换. (是ndarray的属性, 修改原数组)"
   ]
  },
  {
   "cell_type": "code",
   "execution_count": 84,
   "id": "8fbace0f",
   "metadata": {
    "pycharm": {
     "is_executing": true
    }
   },
   "outputs": [
    {
     "data": {
      "text/plain": [
       "(2, 3)"
      ]
     },
     "execution_count": 84,
     "metadata": {},
     "output_type": "execute_result"
    }
   ],
   "source": [
    "# 实现行列互换\n",
    "data = np.array(\n",
    "    [\n",
    "        [1.1, 1.2, 1.3],\n",
    "        [2.1, 2.2, 2.3]\n",
    "    ]\n",
    ")\n",
    "\n",
    "data.shape\n"
   ]
  },
  {
   "cell_type": "code",
   "execution_count": 77,
   "id": "05ebf53f",
   "metadata": {},
   "outputs": [
    {
     "data": {
      "text/plain": [
       "array([[1.1, 1.2, 1.3],\n",
       "       [2.1, 2.2, 2.3]])"
      ]
     },
     "execution_count": 77,
     "metadata": {},
     "output_type": "execute_result"
    }
   ],
   "source": [
    "data"
   ]
  },
  {
   "cell_type": "code",
   "execution_count": 79,
   "id": "2656e039",
   "metadata": {
    "pycharm": {
     "is_executing": true
    }
   },
   "outputs": [
    {
     "data": {
      "text/plain": [
       "array([[1.1, 1.2],\n",
       "       [1.3, 2.1],\n",
       "       [2.2, 2.3]])"
      ]
     },
     "execution_count": 79,
     "metadata": {},
     "output_type": "execute_result"
    }
   ],
   "source": [
    "# data.reshape((3, 2)) # 但是仅仅是将原来的数据进行了切割\n",
    "# 或者使用np.函数名()\n",
    "np.reshape(data, (3,2))"
   ]
  },
  {
   "cell_type": "code",
   "execution_count": 78,
   "id": "996b8bc0",
   "metadata": {
    "pycharm": {
     "is_executing": true
    }
   },
   "outputs": [
    {
     "data": {
      "text/plain": [
       "array([[1.1, 1.2, 1.3],\n",
       "       [2.1, 2.2, 2.3]])"
      ]
     },
     "execution_count": 78,
     "metadata": {},
     "output_type": "execute_result"
    }
   ],
   "source": [
    "data # 并且使用ndarray.shape()并不改变原来的数组, 返回的是一个新的数组"
   ]
  },
  {
   "cell_type": "code",
   "execution_count": 87,
   "id": "c6c422c8",
   "metadata": {
    "pycharm": {
     "is_executing": true
    }
   },
   "outputs": [],
   "source": [
    "# 使用resize() 没有返回值, 直接对原数组进行操作\n",
    "data.resize(3, 2)\n"
   ]
  },
  {
   "cell_type": "code",
   "execution_count": 88,
   "id": "a59f3d0f",
   "metadata": {
    "pycharm": {
     "is_executing": true
    }
   },
   "outputs": [
    {
     "data": {
      "text/plain": [
       "array([[1.1, 1.2],\n",
       "       [1.3, 2.1],\n",
       "       [2.2, 2.3]])"
      ]
     },
     "execution_count": 88,
     "metadata": {},
     "output_type": "execute_result"
    }
   ],
   "source": [
    "data"
   ]
  },
  {
   "cell_type": "code",
   "execution_count": 91,
   "id": "b7151788",
   "metadata": {
    "pycharm": {
     "is_executing": true
    }
   },
   "outputs": [
    {
     "data": {
      "text/plain": [
       "array([[1.1, 1.2, 1.3],\n",
       "       [2.1, 2.2, 2.3]])"
      ]
     },
     "execution_count": 91,
     "metadata": {},
     "output_type": "execute_result"
    }
   ],
   "source": [
    "np.resize(data, (2,3)) # 不会更改原来的数组"
   ]
  },
  {
   "cell_type": "code",
   "execution_count": 92,
   "id": "c0c24f98",
   "metadata": {},
   "outputs": [
    {
     "data": {
      "text/plain": [
       "array([[1.1, 1.2],\n",
       "       [1.3, 2.1],\n",
       "       [2.2, 2.3]])"
      ]
     },
     "execution_count": 92,
     "metadata": {},
     "output_type": "execute_result"
    }
   ],
   "source": [
    "data"
   ]
  },
  {
   "cell_type": "code",
   "execution_count": 93,
   "id": "7d888bb9",
   "metadata": {},
   "outputs": [
    {
     "data": {
      "text/plain": [
       "array([[1.1, 1.3, 2.2],\n",
       "       [1.2, 2.1, 2.3]])"
      ]
     },
     "execution_count": 93,
     "metadata": {},
     "output_type": "execute_result"
    }
   ],
   "source": [
    "# 转置：\n",
    "data.T"
   ]
  },
  {
   "cell_type": "markdown",
   "id": "21a96e7d",
   "metadata": {},
   "source": [
    "### 类型修改\n",
    "    ndarray.astype(type) -> 通用的\n",
    "        type: 需要修改的类型。\n",
    "        ndarray序列化到本地 (序列化就是将python的数据, 编成流(bytes), 从而保存在本地)\n",
    "    ndarray.tostring() # 序列化到本地"
   ]
  },
  {
   "cell_type": "code",
   "execution_count": 96,
   "id": "623075e7",
   "metadata": {},
   "outputs": [
    {
     "data": {
      "text/plain": [
       "dtype('float64')"
      ]
     },
     "execution_count": 96,
     "metadata": {},
     "output_type": "execute_result"
    }
   ],
   "source": [
    "# 通用修改方式：\n",
    "data.dtype"
   ]
  },
  {
   "cell_type": "code",
   "execution_count": 98,
   "id": "b80f92a0",
   "metadata": {},
   "outputs": [
    {
     "data": {
      "text/plain": [
       "array([[1.1, 1.2],\n",
       "       [1.3, 2.1],\n",
       "       [2.2, 2.3]], dtype=float32)"
      ]
     },
     "execution_count": 98,
     "metadata": {},
     "output_type": "execute_result"
    }
   ],
   "source": [
    "data.astype(np.float32)"
   ]
  },
  {
   "cell_type": "code",
   "execution_count": 100,
   "id": "8af66fe8",
   "metadata": {},
   "outputs": [
    {
     "name": "stderr",
     "output_type": "stream",
     "text": [
      "C:\\Users\\HP\\AppData\\Local\\Temp\\ipykernel_3848\\3251022554.py:1: DeprecationWarning: tostring() is deprecated. Use tobytes() instead.\n",
      "  data.tostring()\n"
     ]
    },
    {
     "data": {
      "text/plain": [
       "b'\\x9a\\x99\\x99\\x99\\x99\\x99\\xf1?333333\\xf3?\\xcd\\xcc\\xcc\\xcc\\xcc\\xcc\\xf4?\\xcd\\xcc\\xcc\\xcc\\xcc\\xcc\\x00@\\x9a\\x99\\x99\\x99\\x99\\x99\\x01@ffffff\\x02@'"
      ]
     },
     "execution_count": 100,
     "metadata": {},
     "output_type": "execute_result"
    }
   ],
   "source": [
    " data.tostring()\n",
    "# 返回值就是一堆字节码, 是bytes类型。（字节码流）\n",
    "# 需要注意的就是, 如果数组太大, 转换成为bytes的时候, 输出(打印)的时候吗, jupyter可能会报错\n",
    "# 这是因为jupyter有一个输出限制, 不过可以修改配置文件, 不过不建议这样去做"
   ]
  },
  {
   "cell_type": "markdown",
   "id": "261621a6",
   "metadata": {},
   "source": [
    "### 数组的去重\n",
    "    np.unique(ndarray)\n",
    "    类似于: set() -> 不过set需要的是一维的.\n",
    "    set(temp.flatten()) # 可以使用flatten, 这样数组就变成一维的了, 此时使用set就可以去重了\n"
   ]
  },
  {
   "cell_type": "code",
   "execution_count": 101,
   "id": "6bbdc8ec",
   "metadata": {},
   "outputs": [],
   "source": [
    "data = np.array(\n",
    "    [\n",
    "        [1, 2, 3, 4],\n",
    "        [3, 4, 5, 6]\n",
    "    ]\n",
    ")"
   ]
  },
  {
   "cell_type": "code",
   "execution_count": 102,
   "id": "479c0610",
   "metadata": {},
   "outputs": [
    {
     "data": {
      "text/plain": [
       "array([[1, 2, 3, 4],\n",
       "       [3, 4, 5, 6]])"
      ]
     },
     "execution_count": 102,
     "metadata": {},
     "output_type": "execute_result"
    }
   ],
   "source": [
    "data"
   ]
  },
  {
   "cell_type": "code",
   "execution_count": 106,
   "id": "612d4727",
   "metadata": {},
   "outputs": [],
   "source": [
    "data_unique = np.unique(data) # 直接去重, 得到的结果为一维数组"
   ]
  },
  {
   "cell_type": "code",
   "execution_count": 107,
   "id": "3a1142eb",
   "metadata": {},
   "outputs": [
    {
     "data": {
      "text/plain": [
       "array([1, 2, 3, 4, 5, 6])"
      ]
     },
     "execution_count": 107,
     "metadata": {},
     "output_type": "execute_result"
    }
   ],
   "source": [
    "data_unique"
   ]
  },
  {
   "cell_type": "code",
   "execution_count": 108,
   "id": "e49e831f",
   "metadata": {},
   "outputs": [
    {
     "data": {
      "text/plain": [
       "(6,)"
      ]
     },
     "execution_count": 108,
     "metadata": {},
     "output_type": "execute_result"
    }
   ],
   "source": [
    "data_unique.shape"
   ]
  },
  {
   "cell_type": "code",
   "execution_count": 110,
   "id": "4b9aa3c1",
   "metadata": {},
   "outputs": [
    {
     "data": {
      "text/plain": [
       "{1, 2, 3, 4, 5, 6}"
      ]
     },
     "execution_count": 110,
     "metadata": {},
     "output_type": "execute_result"
    }
   ],
   "source": [
    "# 同样我们可以将数据降维, 然后直接用set去重\n",
    "# 可以使用flatten, 这样数组就变成一维的了, 此时使用set就可以去重了\n",
    "set(data.flatten())"
   ]
  },
  {
   "cell_type": "markdown",
   "id": "b6b61b46",
   "metadata": {},
   "source": [
    "## ndarray运算:"
   ]
  },
  {
   "cell_type": "markdown",
   "id": "ac3f1098",
   "metadata": {},
   "source": [
    "### 逻辑运算\n",
    "    布尔索引\n",
    "        我们不仅仅可以使用数字作为索引, 还可以使用bool值作为索引\n",
    "        我们可以通过比较运算符, 得到一个逻辑数组\n",
    "        \n",
    "    通用判断函数\n",
    "        np.all(布尔值(矩阵))\n",
    "            只要有一个False就返回False，只有全是True才返回True\n",
    "        np.any(bool matrix(布尔矩阵) )\n",
    "            只要有一个True就返回True，只有全是False才返回False\n",
    "        np.where（三元运算符）---\n",
    "            np.where(布尔矩阵 , True的位置的值, False的位置的值)\n",
    "           \n",
    "        axis参数, 表示对哪个维度进行遍历. 并且合并该维度\n",
    "            \n",
    "    复合逻辑运算:\n",
    "        np.logical_and(逻辑矩阵, 逻辑矩阵)\n",
    "        np.logical_or(逻辑矩阵, 逻辑矩阵)\n",
    "        # 例子: np.logical_and(temp > 0.5, temp < 0.1) 返回的仍然是逻辑矩阵\n",
    "            实际上就是矩阵做逻辑运算"
   ]
  },
  {
   "cell_type": "code",
   "execution_count": 111,
   "id": "16b9744d",
   "metadata": {},
   "outputs": [],
   "source": [
    "import numpy as np"
   ]
  },
  {
   "cell_type": "code",
   "execution_count": 114,
   "id": "3761ab7d",
   "metadata": {},
   "outputs": [],
   "source": [
    "stock_data = np.random.normal(loc=0.0, scale=1.0, size=[4, 3])"
   ]
  },
  {
   "cell_type": "code",
   "execution_count": 115,
   "id": "ae918bd2",
   "metadata": {},
   "outputs": [
    {
     "data": {
      "text/plain": [
       "array([[ 0.13611639,  0.57241614, -0.72341639],\n",
       "       [-2.0893965 , -0.37546609,  1.39475564],\n",
       "       [-0.3593248 ,  0.32181401, -0.5459122 ],\n",
       "       [ 1.33872381,  0.05370726,  2.1104214 ]])"
      ]
     },
     "execution_count": 115,
     "metadata": {},
     "output_type": "execute_result"
    }
   ],
   "source": [
    "stock_data"
   ]
  },
  {
   "cell_type": "code",
   "execution_count": 117,
   "id": "0664dc31",
   "metadata": {},
   "outputs": [
    {
     "data": {
      "text/plain": [
       "array([[False,  True, False],\n",
       "       [False, False,  True],\n",
       "       [False, False, False],\n",
       "       [ True, False,  True]])"
      ]
     },
     "execution_count": 117,
     "metadata": {},
     "output_type": "execute_result"
    }
   ],
   "source": [
    "# 直接使用运算符, 进行一个判断, 返回一个逻辑矩阵(与matlab相同)\n",
    "stock_data > 0.5"
   ]
  },
  {
   "cell_type": "code",
   "execution_count": 119,
   "id": "bd2ffecb",
   "metadata": {},
   "outputs": [],
   "source": [
    "# 此时我们可以通过布尔索引, 来获取True的数据.\n",
    "stock_data[stock_data > 0.5] = 1.0\n",
    "# 直接将逻辑矩阵作为布尔索引, 然后为True的位置进行操作\n",
    "# 同理, 对于其他的运算符也是如此"
   ]
  },
  {
   "cell_type": "code",
   "execution_count": 122,
   "id": "549cb243",
   "metadata": {},
   "outputs": [
    {
     "data": {
      "text/plain": [
       "array([[ 0.13611639,  1.        , -0.72341639],\n",
       "       [-2.0893965 , -0.37546609,  1.        ],\n",
       "       [-0.3593248 ,  0.32181401, -0.5459122 ],\n",
       "       [ 1.        ,  0.05370726,  1.        ]])"
      ]
     },
     "execution_count": 122,
     "metadata": {},
     "output_type": "execute_result"
    }
   ],
   "source": [
    "stock_data # 此时>0.5的地方就已经修改为1了"
   ]
  },
  {
   "cell_type": "code",
   "execution_count": 138,
   "id": "cd0e5796",
   "metadata": {},
   "outputs": [
    {
     "data": {
      "text/plain": [
       "array([[ True,  True],\n",
       "       [False, False]])"
      ]
     },
     "execution_count": 138,
     "metadata": {},
     "output_type": "execute_result"
    }
   ],
   "source": [
    "# 通用判断函数:\n",
    "# np.all() # 全True为True\n",
    "# np.any() # 全False为False\n",
    "# np.where(A, True value, False value) # True位置上为True value的值, False同理\n",
    "\n",
    "# 判断stock_data[0:2, 0:2]是都为全部上涨的\n",
    "temp = stock_data[0:2, 0:2] > 0\n",
    "temp"
   ]
  },
  {
   "cell_type": "code",
   "execution_count": 126,
   "id": "9eb3163b",
   "metadata": {},
   "outputs": [
    {
     "data": {
      "text/plain": [
       "False"
      ]
     },
     "execution_count": 126,
     "metadata": {},
     "output_type": "execute_result"
    }
   ],
   "source": [
    "np.all(stock_data[0:2, 0:2] > 0)\n",
    "# 显然不全为True"
   ]
  },
  {
   "cell_type": "code",
   "execution_count": 130,
   "id": "57778b4f",
   "metadata": {},
   "outputs": [
    {
     "data": {
      "text/plain": [
       "True"
      ]
     },
     "execution_count": 130,
     "metadata": {},
     "output_type": "execute_result"
    }
   ],
   "source": [
    "# 判断前2只股票是否有上涨的:\n",
    "np.any(stock_data[0:2, :])\n",
    "# 有上涨的."
   ]
  },
  {
   "cell_type": "code",
   "execution_count": 139,
   "id": "83fd113b",
   "metadata": {},
   "outputs": [
    {
     "data": {
      "text/plain": [
       "array([[ True,  True],\n",
       "       [False, False]])"
      ]
     },
     "execution_count": 139,
     "metadata": {},
     "output_type": "execute_result"
    }
   ],
   "source": [
    "# 使用axis参数:\n",
    "temp"
   ]
  },
  {
   "cell_type": "code",
   "execution_count": 143,
   "id": "7687fca0",
   "metadata": {},
   "outputs": [
    {
     "data": {
      "text/plain": [
       "array([False, False])"
      ]
     },
     "execution_count": 143,
     "metadata": {},
     "output_type": "execute_result"
    }
   ],
   "source": [
    "np.all(temp, axis=0) # 以行为一个整体"
   ]
  },
  {
   "cell_type": "code",
   "execution_count": 144,
   "id": "817c9cad",
   "metadata": {},
   "outputs": [
    {
     "data": {
      "text/plain": [
       "array([ True, False])"
      ]
     },
     "execution_count": 144,
     "metadata": {},
     "output_type": "execute_result"
    }
   ],
   "source": [
    "np.all(temp, axis=1) # 以列,为一个整体"
   ]
  },
  {
   "cell_type": "code",
   "execution_count": 132,
   "id": "e8c5d776",
   "metadata": {},
   "outputs": [],
   "source": [
    "# 三元运算符\n",
    "# np.where()\n",
    "# 判断4个股票前2天的涨跌幅 大于0的置为1，否则为0\n",
    "temp = stock_data[:, :2] > 0\n"
   ]
  },
  {
   "cell_type": "code",
   "execution_count": 133,
   "id": "7e37378a",
   "metadata": {},
   "outputs": [
    {
     "data": {
      "text/plain": [
       "array([[ True,  True],\n",
       "       [False, False],\n",
       "       [False,  True],\n",
       "       [ True,  True]])"
      ]
     },
     "execution_count": 133,
     "metadata": {},
     "output_type": "execute_result"
    }
   ],
   "source": [
    "temp"
   ]
  },
  {
   "cell_type": "code",
   "execution_count": 134,
   "id": "0b86bec2",
   "metadata": {},
   "outputs": [
    {
     "data": {
      "text/plain": [
       "array([[1, 1],\n",
       "       [0, 0],\n",
       "       [0, 1],\n",
       "       [1, 1]])"
      ]
     },
     "execution_count": 134,
     "metadata": {},
     "output_type": "execute_result"
    }
   ],
   "source": [
    "np.where(temp, 1, 0)\n",
    "# 参数: 逻辑矩阵, True位置的赋的值, False位置的值"
   ]
  },
  {
   "cell_type": "code",
   "execution_count": 135,
   "id": "416da0d3",
   "metadata": {},
   "outputs": [
    {
     "data": {
      "text/plain": [
       "array([[False,  True,  True],\n",
       "       [ True, False,  True],\n",
       "       [False, False,  True],\n",
       "       [ True, False,  True]])"
      ]
     },
     "execution_count": 135,
     "metadata": {},
     "output_type": "execute_result"
    }
   ],
   "source": [
    "# 复合逻辑运算\n",
    "# 判断4只股票涨跌幅, 大于0.5, 或者小于-0.5,换为1, 否则为0\n",
    "np.logical_or(stock_data > 0.5, stock_data < -0.5)\n",
    "# 同样返回一个逻辑矩阵"
   ]
  },
  {
   "cell_type": "code",
   "execution_count": 137,
   "id": "a9d832bd",
   "metadata": {},
   "outputs": [
    {
     "data": {
      "text/plain": [
       "array([[ 3, 11, 11],\n",
       "       [11,  3, 11],\n",
       "       [ 3,  3, 11],\n",
       "       [11,  3, 11]])"
      ]
     },
     "execution_count": 137,
     "metadata": {},
     "output_type": "execute_result"
    }
   ],
   "source": [
    "np.where(np.logical_or(stock_data > 0.5, stock_data < -0.5), 11, 3)"
   ]
  },
  {
   "cell_type": "markdown",
   "id": "e9746d89",
   "metadata": {},
   "source": [
    "### 统计运算\n",
    "     min, max, mean, median, var, std\n",
    "            np.函数名()\n",
    "            ndarray.方法名\n",
    "            例: np.max(A), 或者A.max()\n",
    "        返回最大值、最小值所在位置: 返回相应的索引\n",
    "            np.argmax(temp, axis=)\n",
    "            np.argmin(temp, axis=)"
   ]
  },
  {
   "cell_type": "code",
   "execution_count": 154,
   "id": "95409565",
   "metadata": {},
   "outputs": [],
   "source": [
    "data = np.random.randint(low=-10, high=10, size=[8, 6])\n"
   ]
  },
  {
   "cell_type": "code",
   "execution_count": 156,
   "id": "031b133a",
   "metadata": {},
   "outputs": [
    {
     "data": {
      "text/plain": [
       "array([[-10,   5, -10,  -6,   5,  -6],\n",
       "       [ -3, -10,   8,   3,   6,   6],\n",
       "       [  6,  -2,   2,   5,   3,  -1],\n",
       "       [  3,   7,   6,   9,   2,   1],\n",
       "       [  3,   1,   2,   8,  -4,   2],\n",
       "       [-10,  -8,  -6,   9,   9,   6],\n",
       "       [ -1,   3,  -7,  -1,  -9,  -2],\n",
       "       [  4,  -3,   1,   0,  -6,  -4]])"
      ]
     },
     "execution_count": 156,
     "metadata": {},
     "output_type": "execute_result"
    }
   ],
   "source": [
    "data # (8, 6)"
   ]
  },
  {
   "cell_type": "code",
   "execution_count": 157,
   "id": "3e3a16e5",
   "metadata": {},
   "outputs": [
    {
     "data": {
      "text/plain": [
       "9"
      ]
     },
     "execution_count": 157,
     "metadata": {},
     "output_type": "execute_result"
    }
   ],
   "source": [
    "# 求取最大值:\n",
    "np.max(data)\n",
    "data.max()"
   ]
  },
  {
   "cell_type": "code",
   "execution_count": 160,
   "id": "26941125",
   "metadata": {},
   "outputs": [
    {
     "data": {
      "text/plain": [
       "array([6, 7, 8, 9, 9, 6])"
      ]
     },
     "execution_count": 160,
     "metadata": {},
     "output_type": "execute_result"
    }
   ],
   "source": [
    "# 使用axis参数:\n",
    "data.max(axis=0)\n",
    "# axis=0, 表示计算表示遍历每行,计算,得到的就是列向量"
   ]
  },
  {
   "cell_type": "code",
   "execution_count": 163,
   "id": "57ee295d",
   "metadata": {},
   "outputs": [
    {
     "data": {
      "text/plain": [
       "16"
      ]
     },
     "execution_count": 163,
     "metadata": {},
     "output_type": "execute_result"
    }
   ],
   "source": [
    "# 求和操作:\n",
    "np.sum(data) # data.sum()"
   ]
  },
  {
   "cell_type": "code",
   "execution_count": 165,
   "id": "5037f091",
   "metadata": {},
   "outputs": [
    {
     "data": {
      "text/plain": [
       "array([-8, -7, -4, 27,  6,  2])"
      ]
     },
     "execution_count": 165,
     "metadata": {},
     "output_type": "execute_result"
    }
   ],
   "source": [
    "np.sum(data, axis = 0) # 遍历每一行(这里的一行是指大的整体), 进行求和, "
   ]
  },
  {
   "cell_type": "code",
   "execution_count": 166,
   "id": "ff4dfc97",
   "metadata": {},
   "outputs": [
    {
     "data": {
      "text/plain": [
       "array([-22,  10,  13,  28,  12,   0, -17,  -8])"
      ]
     },
     "execution_count": 166,
     "metadata": {},
     "output_type": "execute_result"
    }
   ],
   "source": [
    "np.sum(data, axis=1) # 遍历每一列(这里的一列, 是指二维数据中的数据[][]), 进行求和, 的列向量"
   ]
  },
  {
   "cell_type": "code",
   "execution_count": 170,
   "id": "af6907ed",
   "metadata": {},
   "outputs": [
    {
     "data": {
      "text/plain": [
       "21"
      ]
     },
     "execution_count": 170,
     "metadata": {},
     "output_type": "execute_result"
    }
   ],
   "source": [
    "# np.argmax(temp, axis=)\n",
    "# np.argmin(temp, axis=)\n",
    "# 查找最大最小值所在的位置, 返回相应的索引\n",
    "np.argmax(data) # 返回的是顺序索引, 从0开始, 从行到列. 数组默认展平"
   ]
  },
  {
   "cell_type": "code",
   "execution_count": 177,
   "id": "db83978c",
   "metadata": {},
   "outputs": [
    {
     "data": {
      "text/plain": [
       "array([[-10,   5, -10,  -6,   5,  -6],\n",
       "       [ -3, -10,   8,   3,   6,   6],\n",
       "       [  6,  -2,   2,   5,   3,  -1],\n",
       "       [  3,   7,   6,   9,   2,   1],\n",
       "       [  3,   1,   2,   8,  -4,   2],\n",
       "       [-10,  -8,  -6,   9,   9,   6],\n",
       "       [ -1,   3,  -7,  -1,  -9,  -2],\n",
       "       [  4,  -3,   1,   0,  -6,  -4]])"
      ]
     },
     "execution_count": 177,
     "metadata": {},
     "output_type": "execute_result"
    }
   ],
   "source": [
    "data"
   ]
  },
  {
   "cell_type": "code",
   "execution_count": 179,
   "id": "90f3c0a2",
   "metadata": {},
   "outputs": [
    {
     "data": {
      "text/plain": [
       "array([2, 3, 1, 3, 5, 1], dtype=int64)"
      ]
     },
     "execution_count": 179,
     "metadata": {},
     "output_type": "execute_result"
    }
   ],
   "source": [
    "np.argmax(data, axis=0) # 遍历行维度(对列), 得行向量"
   ]
  },
  {
   "cell_type": "code",
   "execution_count": 181,
   "id": "7f16ede1",
   "metadata": {},
   "outputs": [
    {
     "data": {
      "text/plain": [
       "array([1, 2, 0, 3, 3, 3, 1, 0], dtype=int64)"
      ]
     },
     "execution_count": 181,
     "metadata": {},
     "output_type": "execute_result"
    }
   ],
   "source": [
    "np.argmax(data, axis=1) # 遍历列维度(对行), 得到列向量"
   ]
  },
  {
   "cell_type": "markdown",
   "id": "a7a9c3d3",
   "metadata": {},
   "source": [
    "### 数组与数得运算"
   ]
  },
  {
   "cell_type": "code",
   "execution_count": null,
   "id": "b4692258",
   "metadata": {},
   "outputs": [],
   "source": []
  }
 ],
 "metadata": {
  "kernelspec": {
   "display_name": "Python 3 (ipykernel)",
   "language": "python",
   "name": "python3"
  },
  "language_info": {
   "codemirror_mode": {
    "name": "ipython",
    "version": 3
   },
   "file_extension": ".py",
   "mimetype": "text/x-python",
   "name": "python",
   "nbconvert_exporter": "python",
   "pygments_lexer": "ipython3",
   "version": "3.9.9"
  },
  "latex_envs": {
   "LaTeX_envs_menu_present": true,
   "autoclose": false,
   "autocomplete": true,
   "bibliofile": "biblio.bib",
   "cite_by": "apalike",
   "current_citInitial": 1,
   "eqLabelWithNumbers": true,
   "eqNumInitial": 1,
   "hotkeys": {
    "equation": "Ctrl-E",
    "itemize": "Ctrl-I"
   },
   "labels_anchors": false,
   "latex_user_defs": false,
   "report_style_numbering": false,
   "user_envs_cfg": false
  }
 },
 "nbformat": 4,
 "nbformat_minor": 5
}