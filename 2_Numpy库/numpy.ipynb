{
 "cells": [
  {
   "cell_type": "code",
   "execution_count": 1,
   "id": "8fe19078",
   "metadata": {},
   "outputs": [],
   "source": [
    "import numpy as np # 导入numpy"
   ]
  },
  {
   "cell_type": "code",
   "execution_count": 2,
   "id": "0c1fcab1",
   "metadata": {},
   "outputs": [],
   "source": [
    "score = np.array([[80, 89, 86, 67, 79],\n",
    "[78, 97, 89, 67, 81],\n",
    "[90, 94, 78, 67, 74],\n",
    "[91, 91, 90, 67, 69],\n",
    "[76, 87, 75, 67, 86],\n",
    "[70, 79, 84, 67, 84],\n",
    "[94, 92, 93, 67, 64],\n",
    "[86, 85, 83, 67, 80]]) # 从现有数据生成ndarray数组\n",
    "\n",
    "# 从二维列表直接生成到ndarray\n",
    "# API: np.array()"
   ]
  },
  {
   "cell_type": "code",
   "execution_count": 3,
   "id": "a3ef4846",
   "metadata": {},
   "outputs": [
    {
     "data": {
      "text/plain": [
       "array([[80, 89, 86, 67, 79],\n",
       "       [78, 97, 89, 67, 81],\n",
       "       [90, 94, 78, 67, 74],\n",
       "       [91, 91, 90, 67, 69],\n",
       "       [76, 87, 75, 67, 86],\n",
       "       [70, 79, 84, 67, 84],\n",
       "       [94, 92, 93, 67, 64],\n",
       "       [86, 85, 83, 67, 80]])"
      ]
     },
     "execution_count": 3,
     "metadata": {},
     "output_type": "execute_result"
    }
   ],
   "source": [
    "score"
   ]
  },
  {
   "cell_type": "code",
   "execution_count": 4,
   "id": "94f025b0",
   "metadata": {},
   "outputs": [
    {
     "data": {
      "text/plain": [
       "numpy.ndarray"
      ]
     },
     "execution_count": 4,
     "metadata": {},
     "output_type": "execute_result"
    }
   ],
   "source": [
    "type(score)"
   ]
  },
  {
   "cell_type": "markdown",
   "id": "17feba10",
   "metadata": {},
   "source": [
    "这种嵌套列表的形式，我们为什么不使用python原生list类型，而是使用ndarray"
   ]
  },
  {
   "cell_type": "markdown",
   "id": "185e1a0c",
   "metadata": {},
   "source": [
    "### ndarray和Python原生list对比(效率对比)"
   ]
  },
  {
   "cell_type": "code",
   "execution_count": 5,
   "id": "d439e41f",
   "metadata": {},
   "outputs": [],
   "source": [
    "import random \n",
    "import time\n",
    "\n",
    "# 生成一个大一点的数组\n",
    "python_list = []\n",
    "for i in range(1000000):\n",
    "    python_list.append(random.random())\n",
    "# 生成ndarray, 直接从现有元素生成\n",
    "ndarray_list = np.array(python_list)\n",
    "\n",
    "\n"
   ]
  },
  {
   "cell_type": "code",
   "execution_count": 6,
   "id": "a2614f6f",
   "metadata": {},
   "outputs": [
    {
     "data": {
      "text/plain": [
       "1000000"
      ]
     },
     "execution_count": 6,
     "metadata": {},
     "output_type": "execute_result"
    }
   ],
   "source": [
    "len(ndarray_list)"
   ]
  },
  {
   "cell_type": "code",
   "execution_count": 7,
   "id": "8485526f",
   "metadata": {},
   "outputs": [
    {
     "name": "stdout",
     "output_type": "stream",
     "text": [
      "原生list: 0.005984783172607422,\n",
      " ndarray: 0.0019941330\n"
     ]
    }
   ],
   "source": [
    "# 原生list求和\n",
    "t1 = time.time()\n",
    "list_sum = sum(python_list)\n",
    "t2 = time.time()\n",
    "d1 = t2-t1\n",
    "\n",
    "# ndarray类型求和\n",
    "t3 = time.time()\n",
    "ndarray_list = np.sum(ndarray_list)\n",
    "t4 = time.time()\n",
    "d2 = t4 - t3\n",
    "\n",
    "print(f\"原生list: {d1},\\n ndarray: %.10f\" % d2)"
   ]
  },
  {
   "cell_type": "markdown",
   "id": "7fa95d6b",
   "metadata": {},
   "source": [
    "    可见ndarray的计算速度要快上很多, 很节约时间. 后面做机器学习的时候, 需要大量的数据计算.\n",
    "    此时使用, numpy计算的时候, 速度就会快上很多\n",
    "    \n",
    "    并且, Numpy针对ndarray对象的操作和运算进行了优化设计, 所以数组的存储效率和输入输出性能优于python中的嵌套列表, 数组越大, Numpy的优势就越明显\n",
    "   "
   ]
  },
  {
   "cell_type": "markdown",
   "id": "7dce7107",
   "metadata": {},
   "source": [
    "### ndarray的属性\n",
    "          属性名字:           属性解释:\n",
    "        ndarray.shape      数组维度的元组\n",
    "        ndarray.ndim       数组维度\n",
    "        ndarray.size       数组中的元素数量\n",
    "        ndarray.itemsize   一个数组元素的长度(字节)\n",
    "        ndarray.dtype      数组元素的类型\n",
    "    常用的:\n",
    "        shape -> 可以知道维度, 和大小: ndim, size\n",
    "        dtype -> itemsize"
   ]
  },
  {
   "cell_type": "code",
   "execution_count": 8,
   "id": "4c22906b",
   "metadata": {},
   "outputs": [
    {
     "data": {
      "text/plain": [
       "array([[80, 89, 86, 67, 79],\n",
       "       [78, 97, 89, 67, 81],\n",
       "       [90, 94, 78, 67, 74],\n",
       "       [91, 91, 90, 67, 69],\n",
       "       [76, 87, 75, 67, 86],\n",
       "       [70, 79, 84, 67, 84],\n",
       "       [94, 92, 93, 67, 64],\n",
       "       [86, 85, 83, 67, 80]])"
      ]
     },
     "execution_count": 8,
     "metadata": {},
     "output_type": "execute_result"
    }
   ],
   "source": [
    "score # 刚才生成的ndarray数据"
   ]
  },
  {
   "cell_type": "code",
   "execution_count": 9,
   "id": "9aecf169",
   "metadata": {},
   "outputs": [
    {
     "data": {
      "text/plain": [
       "(8, 5)"
      ]
     },
     "execution_count": 9,
     "metadata": {},
     "output_type": "execute_result"
    }
   ],
   "source": [
    "# 查看score的形状:\n",
    "score.shape # (8, 5)\n"
   ]
  },
  {
   "cell_type": "code",
   "execution_count": 10,
   "id": "b6c06311",
   "metadata": {},
   "outputs": [
    {
     "data": {
      "text/plain": [
       "2"
      ]
     },
     "execution_count": 10,
     "metadata": {},
     "output_type": "execute_result"
    }
   ],
   "source": [
    "# 查看维度 dimension\n",
    "score.ndim # 2\n"
   ]
  },
  {
   "cell_type": "code",
   "execution_count": 11,
   "id": "b837a1e8",
   "metadata": {},
   "outputs": [
    {
     "data": {
      "text/plain": [
       "40"
      ]
     },
     "execution_count": 11,
     "metadata": {},
     "output_type": "execute_result"
    }
   ],
   "source": [
    "# 查看数组元素的个数\n",
    "score.size # 40"
   ]
  },
  {
   "cell_type": "code",
   "execution_count": 12,
   "id": "6f9fa01a",
   "metadata": {},
   "outputs": [
    {
     "data": {
      "text/plain": [
       "dtype('int32')"
      ]
     },
     "execution_count": 12,
     "metadata": {},
     "output_type": "execute_result"
    }
   ],
   "source": [
    "# 查看ndarray的类型:\n",
    "score.dtype # dtypt('int32')"
   ]
  },
  {
   "cell_type": "code",
   "execution_count": 13,
   "id": "c748ae61",
   "metadata": {},
   "outputs": [
    {
     "data": {
      "text/plain": [
       "4"
      ]
     },
     "execution_count": 13,
     "metadata": {},
     "output_type": "execute_result"
    }
   ],
   "source": [
    "# 查看ndarray每个元素所占的字节个数\n",
    "score.itemsize # 4"
   ]
  },
  {
   "cell_type": "markdown",
   "id": "3e1685ad",
   "metadata": {},
   "source": [
    "### ndarray的形状"
   ]
  },
  {
   "cell_type": "code",
   "execution_count": 14,
   "id": "49a49250",
   "metadata": {},
   "outputs": [],
   "source": [
    "a = np.array(\n",
    "    [[1, 2, 3],\n",
    "    [4, 5, 6]]\n",
    ")\n",
    "b = np.array(\n",
    "    [1, 2, 3, 4]\n",
    ")\n",
    "c = np.array(\n",
    "    [\n",
    "        [[1,2,3],\n",
    "        [4,5,6],\n",
    "        [7,8,9]]\n",
    "    ]\n",
    ")"
   ]
  },
  {
   "cell_type": "code",
   "execution_count": 15,
   "id": "cefbea79",
   "metadata": {},
   "outputs": [
    {
     "data": {
      "text/plain": [
       "(2, 3)"
      ]
     },
     "execution_count": 15,
     "metadata": {},
     "output_type": "execute_result"
    }
   ],
   "source": [
    "a # array([[1, 2, 3],\n",
    "#        [4, 5, 6]])\n",
    "\n",
    "a.shape # (2, 3)\n"
   ]
  },
  {
   "cell_type": "code",
   "execution_count": 16,
   "id": "042dedad",
   "metadata": {},
   "outputs": [
    {
     "data": {
      "text/plain": [
       "(4,)"
      ]
     },
     "execution_count": 16,
     "metadata": {},
     "output_type": "execute_result"
    }
   ],
   "source": [
    "b # array([1, 2, 3, 4])\n",
    "\n",
    "b.shape # (4,)\n",
    "# 此时b是一维, 我们用元组表示其形状, 所以, 需要(,) 加上逗号以表示元组"
   ]
  },
  {
   "cell_type": "code",
   "execution_count": 17,
   "id": "17d139ba",
   "metadata": {},
   "outputs": [
    {
     "data": {
      "text/plain": [
       "array([[[1, 2, 3],\n",
       "        [4, 5, 6],\n",
       "        [7, 8, 9]]])"
      ]
     },
     "execution_count": 17,
     "metadata": {},
     "output_type": "execute_result"
    }
   ],
   "source": [
    "c"
   ]
  },
  {
   "cell_type": "code",
   "execution_count": 18,
   "id": "edc5c5f9",
   "metadata": {},
   "outputs": [
    {
     "data": {
      "text/plain": [
       "(1, 3, 3)"
      ]
     },
     "execution_count": 18,
     "metadata": {},
     "output_type": "execute_result"
    }
   ],
   "source": [
    "c.shape"
   ]
  },
  {
   "cell_type": "markdown",
   "id": "13e1e301",
   "metadata": {},
   "source": [
    "### ndarray的元素类型\n",
    "    不指定类型:\n",
    "    整形: 默认是int32\n",
    "    浮点型: 默认是float64"
   ]
  },
  {
   "cell_type": "code",
   "execution_count": 19,
   "id": "b2c76784",
   "metadata": {},
   "outputs": [],
   "source": [
    "# 直接从现有数据生成ndarray\n",
    "data = np.array([1.1, 2.2, 3.3])"
   ]
  },
  {
   "cell_type": "code",
   "execution_count": 20,
   "id": "f6063490",
   "metadata": {},
   "outputs": [
    {
     "data": {
      "text/plain": [
       "array([1.1, 2.2, 3.3])"
      ]
     },
     "execution_count": 20,
     "metadata": {},
     "output_type": "execute_result"
    }
   ],
   "source": [
    "data"
   ]
  },
  {
   "cell_type": "code",
   "execution_count": 21,
   "id": "b7814bc3",
   "metadata": {},
   "outputs": [
    {
     "data": {
      "text/plain": [
       "dtype('float64')"
      ]
     },
     "execution_count": 21,
     "metadata": {},
     "output_type": "execute_result"
    }
   ],
   "source": [
    "data.dtype # dtype('float64')"
   ]
  },
  {
   "cell_type": "code",
   "execution_count": 22,
   "id": "b25ccd8c",
   "metadata": {},
   "outputs": [
    {
     "data": {
      "text/plain": [
       "array([1.1, 1.2, 1.3], dtype=float32)"
      ]
     },
     "execution_count": 22,
     "metadata": {},
     "output_type": "execute_result"
    }
   ],
   "source": [
    "# 创建数组的时候指定元素类型\n",
    "np.array([1.1, 1.2, 1.3], dtype=np.float32)"
   ]
  },
  {
   "cell_type": "code",
   "execution_count": 23,
   "id": "bcc1c88c",
   "metadata": {},
   "outputs": [
    {
     "data": {
      "text/plain": [
       "array([1.1, 1.2], dtype=float32)"
      ]
     },
     "execution_count": 23,
     "metadata": {},
     "output_type": "execute_result"
    }
   ],
   "source": [
    "# 或者使用这种方法:\n",
    "np.array([1.1, 1.2], dtype=\"float32\")"
   ]
  },
  {
   "cell_type": "code",
   "execution_count": 24,
   "id": "2222f308",
   "metadata": {},
   "outputs": [
    {
     "data": {
      "text/plain": [
       "dtype('int32')"
      ]
     },
     "execution_count": 24,
     "metadata": {},
     "output_type": "execute_result"
    }
   ],
   "source": [
    "np.array([1, 2]).dtype"
   ]
  },
  {
   "cell_type": "markdown",
   "id": "4b607270",
   "metadata": {},
   "source": [
    "### 生成数组的方法:\n",
    "\n",
    "    基本操作:\n",
    "    ndarray.方法()\n",
    "    np.函数名()"
   ]
  },
  {
   "cell_type": "markdown",
   "id": "94e6c5f3",
   "metadata": {},
   "source": [
    "#### 生成0,1数组"
   ]
  },
  {
   "cell_type": "code",
   "execution_count": 25,
   "id": "e5b4b713",
   "metadata": {
    "scrolled": true
   },
   "outputs": [
    {
     "data": {
      "text/plain": [
       "array([[0., 0., 0., 0.],\n",
       "       [0., 0., 0., 0.],\n",
       "       [0., 0., 0., 0.]], dtype=float32)"
      ]
     },
     "execution_count": 25,
     "metadata": {},
     "output_type": "execute_result"
    }
   ],
   "source": [
    "# 1.生成0, 1数组:\n",
    "np.zeros(shape=(3,4), dtype=np.float32)"
   ]
  },
  {
   "cell_type": "code",
   "execution_count": 26,
   "id": "08eb7418",
   "metadata": {},
   "outputs": [
    {
     "data": {
      "text/plain": [
       "array([[1, 1, 1, 1],\n",
       "       [1, 1, 1, 1],\n",
       "       [1, 1, 1, 1]])"
      ]
     },
     "execution_count": 26,
     "metadata": {},
     "output_type": "execute_result"
    }
   ],
   "source": [
    "np.ones(shape=(3, 4), dtype=np.int32)"
   ]
  },
  {
   "cell_type": "code",
   "execution_count": 27,
   "id": "fbda864f",
   "metadata": {},
   "outputs": [
    {
     "data": {
      "text/plain": [
       "(2, 3)"
      ]
     },
     "execution_count": 27,
     "metadata": {},
     "output_type": "execute_result"
    }
   ],
   "source": [
    "# np.*_like(A)  # 以另一个数组作为参数, 创建一个形状大小相同的数组\n",
    "A = np.array(\n",
    "    [[1, 2, 3],\n",
    "    [4, 5, 6]]\n",
    ")\n",
    "A.shape"
   ]
  },
  {
   "cell_type": "code",
   "execution_count": 28,
   "id": "8e87cdcb",
   "metadata": {},
   "outputs": [
    {
     "data": {
      "text/plain": [
       "array([[1, 1, 1],\n",
       "       [1, 1, 1]])"
      ]
     },
     "execution_count": 28,
     "metadata": {},
     "output_type": "execute_result"
    }
   ],
   "source": [
    "A_ones = np.ones_like(A)\n",
    "A_ones # 创建和A大小相同的矩阵, 但是全1的.\n"
   ]
  },
  {
   "cell_type": "markdown",
   "id": "62c44ede",
   "metadata": {},
   "source": [
    "#### 2.从现有数据中生成"
   ]
  },
  {
   "cell_type": "markdown",
   "id": "882a24b6",
   "metadata": {},
   "source": [
    "     从现有数据中生成:\n",
    "     np.array(A) # 上面已经说过了.\n",
    "\n",
    "     numpy.array(object, dtype=None, copy=True, order='K', subok=False, ndmin=0) 深拷贝\n",
    "     np.copy() 深拷贝\n",
    "     np.asarray() 浅拷贝\n",
    "     \n",
    "     深拷贝: 复制一个新的对象, 不同的内存地址\n",
    "     浅拷贝: 拷贝引用, 地址\n",
    "     \n",
    "     浅拷贝只复制指向某个对象的指针，而不复制对象本身，新旧对象还是共享同一块内存。但深拷贝会另外创造一个一模一样的对象，新对象跟原对象不共享内存，修改新对象不会改到原对象。"
   ]
  },
  {
   "cell_type": "code",
   "execution_count": 29,
   "id": "d09459c3",
   "metadata": {},
   "outputs": [
    {
     "data": {
      "text/plain": [
       "array([[80, 89, 86, 67, 79],\n",
       "       [78, 97, 89, 67, 81],\n",
       "       [90, 94, 78, 67, 74],\n",
       "       [91, 91, 90, 67, 69],\n",
       "       [76, 87, 75, 67, 86],\n",
       "       [70, 79, 84, 67, 84],\n",
       "       [94, 92, 93, 67, 64],\n",
       "       [86, 85, 83, 67, 80]])"
      ]
     },
     "execution_count": 29,
     "metadata": {},
     "output_type": "execute_result"
    }
   ],
   "source": [
    "score # 刚才我们直接生成的数据"
   ]
  },
  {
   "cell_type": "code",
   "execution_count": 30,
   "id": "66684161",
   "metadata": {},
   "outputs": [
    {
     "data": {
      "text/plain": [
       "2448124683344"
      ]
     },
     "execution_count": 30,
     "metadata": {},
     "output_type": "execute_result"
    }
   ],
   "source": [
    "id(score) # 1575791255440"
   ]
  },
  {
   "cell_type": "code",
   "execution_count": 31,
   "id": "e4cbfb44",
   "metadata": {},
   "outputs": [],
   "source": [
    "# np.array(A) # 深拷贝\n",
    "data1 = np.array(score) # 直接从score生成ndarray数据\n"
   ]
  },
  {
   "cell_type": "code",
   "execution_count": 32,
   "id": "6307fc3e",
   "metadata": {},
   "outputs": [
    {
     "name": "stdout",
     "output_type": "stream",
     "text": [
      "2446036556656\n",
      "2448124683344\n"
     ]
    }
   ],
   "source": [
    "print(id(data1))\n",
    "print(id(score))\n",
    "# 深拷贝, 赋值一个新的数组对象"
   ]
  },
  {
   "cell_type": "code",
   "execution_count": 33,
   "id": "49eda29a",
   "metadata": {},
   "outputs": [
    {
     "data": {
      "text/plain": [
       "array([[80, 89, 86, 67, 79],\n",
       "       [78, 97, 89, 67, 81],\n",
       "       [90, 94, 78, 67, 74],\n",
       "       [91, 91, 90, 67, 69],\n",
       "       [76, 87, 75, 67, 86],\n",
       "       [70, 79, 84, 67, 84],\n",
       "       [94, 92, 93, 67, 64],\n",
       "       [86, 85, 83, 67, 80]])"
      ]
     },
     "execution_count": 33,
     "metadata": {},
     "output_type": "execute_result"
    }
   ],
   "source": [
    "data1 "
   ]
  },
  {
   "cell_type": "code",
   "execution_count": 34,
   "id": "a607001c",
   "metadata": {},
   "outputs": [],
   "source": [
    "# np.asarray() # 浅拷贝, 赋值一个新的数组\n",
    "data2 = np.asarray(score)"
   ]
  },
  {
   "cell_type": "code",
   "execution_count": 35,
   "id": "30401e40",
   "metadata": {},
   "outputs": [
    {
     "data": {
      "text/plain": [
       "array([[80, 89, 86, 67, 79],\n",
       "       [78, 97, 89, 67, 81],\n",
       "       [90, 94, 78, 67, 74],\n",
       "       [91, 91, 90, 67, 69],\n",
       "       [76, 87, 75, 67, 86],\n",
       "       [70, 79, 84, 67, 84],\n",
       "       [94, 92, 93, 67, 64],\n",
       "       [86, 85, 83, 67, 80]])"
      ]
     },
     "execution_count": 35,
     "metadata": {},
     "output_type": "execute_result"
    }
   ],
   "source": [
    "data2"
   ]
  },
  {
   "cell_type": "code",
   "execution_count": 36,
   "id": "3b886b82",
   "metadata": {},
   "outputs": [
    {
     "name": "stdout",
     "output_type": "stream",
     "text": [
      "id(data2): 2448124683344 \n",
      " id(score): 2448124683344\n"
     ]
    }
   ],
   "source": [
    "print(\"id(data2):\", id(data2), \"\\n\", \"id(score):\", id(score))\n",
    "# 可以发现两个内存地址是一样的. 这就是浅拷贝, 仅仅拷贝引用"
   ]
  },
  {
   "cell_type": "code",
   "execution_count": 37,
   "id": "fb8b8fe1",
   "metadata": {},
   "outputs": [
    {
     "data": {
      "text/plain": [
       "array([[80, 89, 86, 67, 79],\n",
       "       [78, 97, 89, 67, 81],\n",
       "       [90, 94, 78, 67, 74],\n",
       "       [91, 91, 90, 67, 69],\n",
       "       [76, 87, 75, 67, 86],\n",
       "       [70, 79, 84, 67, 84],\n",
       "       [94, 92, 93, 67, 64],\n",
       "       [86, 85, 83, 67, 80]])"
      ]
     },
     "execution_count": 37,
     "metadata": {},
     "output_type": "execute_result"
    }
   ],
   "source": [
    "# np.copy() 深拷贝:\n",
    "data3 = np.copy(score)\n",
    "data3"
   ]
  },
  {
   "cell_type": "code",
   "execution_count": 38,
   "id": "92bf474c",
   "metadata": {},
   "outputs": [
    {
     "name": "stdout",
     "output_type": "stream",
     "text": [
      "2446036603312\n",
      "2448124683344\n"
     ]
    }
   ],
   "source": [
    "print(id(data3))\n",
    "print(id(score)) \n",
    "# 深拷贝, 内存地址不同"
   ]
  },
  {
   "cell_type": "markdown",
   "id": "11e25c7d",
   "metadata": {},
   "source": [
    "#### 3.生成固定范围的数组\n",
    "    np.linspace(start, stop, num, endpoint, retstep, dtype)\n",
    "        生成: [start, stop] 一共有num个等间距的点(等差数列)\n",
    "\n",
    "    np.arange(start, stop, step, dtype)\n",
    "     -> range(start, stop, step)\n",
    "            生成: [a, b) c是步长"
   ]
  },
  {
   "cell_type": "code",
   "execution_count": 39,
   "id": "27f310ef",
   "metadata": {},
   "outputs": [
    {
     "data": {
      "text/plain": [
       "array([ 0. ,  2.5,  5. ,  7.5, 10. ])"
      ]
     },
     "execution_count": 39,
     "metadata": {},
     "output_type": "execute_result"
    }
   ],
   "source": [
    "np.linspace(0, 10, 5) # 等间距的生成array\n",
    "# 从0, 到10(两端包括), 生成5个点\n"
   ]
  },
  {
   "cell_type": "code",
   "execution_count": 40,
   "id": "67204afc",
   "metadata": {},
   "outputs": [
    {
     "data": {
      "text/plain": [
       "array([0, 2, 4, 6, 8])"
      ]
     },
     "execution_count": 40,
     "metadata": {},
     "output_type": "execute_result"
    }
   ],
   "source": [
    "# np.arange(start, stop, step)\n",
    "# 类似于range(), 前闭后开, 然后间距step\n",
    "np.arange(0, 10, 2) #"
   ]
  },
  {
   "cell_type": "markdown",
   "id": "53830ef3",
   "metadata": {
    "pycharm": {
     "name": "#%% md\n"
    }
   },
   "source": [
    "#### 4. 生成随机数组\n",
    "    np.random模块.\n",
    "    均匀分布:\n",
    "        np.random.rand(d0, d1, ..., dn)\n",
    "            rand函数根据给定维度生成[0,1)之间的数据，包含0，不包含1, 就是shape, 直接写入即可\n",
    "            dn表格每个维度\n",
    "            返回值为指定维度的array\n",
    "        np.random.uniform(low=0.0, high=1.0, size=None)\n",
    "            功能: 从一共均匀分布[low, high)中随机抽样\n",
    "            参数:\n",
    "                low: 采样下界, float类型, 默认值为0\n",
    "                high: 采样上界, float类型, 默认值为1\n",
    "                size: 输出样本数目, 为int或元组类型, 例如, size(m, n, k) 则输出mnk个样本吗, 默认值为1\n",
    "            返回:\n",
    "                ndarray类型, 其形状和参数size中的描述一样\n",
    "        np.random.randint(low, high=None, size=None, dtype='int')\n",
    "            从一个均匀分布中随机采样, 生成一个整数或者N维整数数组, 取值范围: 若high不为None时,\n",
    "            取[low, high)之间的随机整数, 否则取值[0, low)之间随机整数.\n",
    "\n",
    "\n",
    "    正态分布:\n",
    "        np.random.randn(d0, d1, ..., dn)\n",
    "            从标准正太分布中返回一个或多个样本值\n",
    "        np.random.normal(loc=0.0, scale=1.0, size=None)\n",
    "            参数:\n",
    "                loc: 均值, 坐标轴\n",
    "                scale: 标准差, 离散程度\n",
    "                size: 输出的size, 默认为None, 只输出一个值\n",
    "            返回一个正太分布的随机数矩阵\n",
    "        np.random.standard_normal(size=None)\n",
    "            返回指定形状的标准正态分布的数组"
   ]
  },
  {
   "cell_type": "code",
   "execution_count": 41,
   "id": "e1940fef",
   "metadata": {},
   "outputs": [
    {
     "data": {
      "text/plain": [
       "array([[0.23374183, 0.01457395, 0.84699704, 0.48479943],\n",
       "       [0.11701222, 0.9569401 , 0.10367297, 0.61636805],\n",
       "       [0.53026872, 0.42641906, 0.92089653, 0.12372263]])"
      ]
     },
     "execution_count": 41,
     "metadata": {},
     "output_type": "execute_result"
    }
   ],
   "source": [
    "# np.random.rand()\n",
    "np.random.rand(3, 4)\n",
    "# 直接生成3行,4列的数据, 元素都在[0,1)之间"
   ]
  },
  {
   "cell_type": "code",
   "execution_count": 42,
   "id": "6f06622c",
   "metadata": {},
   "outputs": [
    {
     "data": {
      "text/plain": [
       "array([[-0.97764535,  0.65634864,  0.40730567, -0.03455762],\n",
       "       [ 0.43118748,  0.88424239,  0.57033569,  0.33010337],\n",
       "       [ 0.21264611, -0.56631188,  0.26707301,  0.64414424]])"
      ]
     },
     "execution_count": 42,
     "metadata": {},
     "output_type": "execute_result"
    }
   ],
   "source": [
    "# np.random.uniform(low=0.0, high=1.0, size=None)\n",
    "np.random.uniform(-1.0, 1.0, size=(3, 4))"
   ]
  },
  {
   "cell_type": "code",
   "execution_count": 43,
   "id": "1dd71edf",
   "metadata": {},
   "outputs": [
    {
     "data": {
      "text/plain": [
       "array([-0.64998988, -0.42766112, -0.67190237, ...,  0.73502121,\n",
       "       -0.67070866,  0.57753127])"
      ]
     },
     "execution_count": 43,
     "metadata": {},
     "output_type": "execute_result"
    }
   ],
   "source": [
    "data = np.random.uniform(-1.0, 1.0, size=1000000)\n",
    "data # 数据过长, 这里直接省略"
   ]
  },
  {
   "cell_type": "code",
   "execution_count": 44,
   "id": "e24016ba",
   "metadata": {},
   "outputs": [],
   "source": [
    "import matplotlib.pyplot as plt"
   ]
  },
  {
   "cell_type": "code",
   "execution_count": 45,
   "id": "73c61cd3",
   "metadata": {},
   "outputs": [
    {
     "data": {
      "image/png": "[encoded data removed]",
      "text/plain": [
       "<Figure size 800x480 with 1 Axes>"
      ]
     },
     "metadata": {
      "needs_background": "light"
     },
     "output_type": "display_data"
    }
   ],
   "source": [
    "# 1. 创建画布:\n",
    "plt.figure(figsize=(10,6), dpi=80)\n",
    "# 2. 绘制直方图:\n",
    "plt.hist(data, 1000)\n",
    "# bins=1000, 个数\n",
    "# 3. 显示图像\n",
    "plt.show()\n",
    "\n",
    "# 因为是均匀分布, 利用直方图看, 大体分布均匀\n"
   ]
  },
  {
   "cell_type": "code",
   "execution_count": 46,
   "id": "79c0ffd2",
   "metadata": {},
   "outputs": [
    {
     "data": {
      "text/plain": [
       "array([1.82246891, 1.89959483, 1.77659368, ..., 1.6444645 , 1.61810202,\n",
       "       1.63101054])"
      ]
     },
     "execution_count": 46,
     "metadata": {},
     "output_type": "execute_result"
    }
   ],
   "source": [
    "# 正态分布:\n",
    "data = np.random.normal(loc=1.75, scale=0.1, size=1000000)\n",
    "data"
   ]
  },
  {
   "cell_type": "code",
   "execution_count": 47,
   "id": "b1ba07d3",
   "metadata": {},
   "outputs": [
    {
     "data": {
      "image/png": "[encoded data removed]",
      "text/plain": [
       "<Figure size 800x480 with 1 Axes>"
      ]
     },
     "metadata": {
      "needs_background": "light"
     },
     "output_type": "display_data"
    }
   ],
   "source": [
    "# 1. 创建画布:\n",
    "plt.figure(figsize=(10, 6), dpi=80)\n",
    "# 画图:\n",
    "plt.hist(data, bins=10000) # 切分的组距,\n",
    "# 展示图像\n",
    "plt.show()"
   ]
  },
  {
   "cell_type": "markdown",
   "id": "aebae1e9",
   "metadata": {
    "pycharm": {
     "is_executing": true
    }
   },
   "source": [
    "### 案例: 8只股票两周交易日的涨幅数据\n",
    "        数组的索引、切片\n",
    "        ndarray[,..]\n",
    "        与matlib差不多\n",
    "       "
   ]
  },
  {
   "cell_type": "code",
   "execution_count": 48,
   "id": "47f8ec94",
   "metadata": {},
   "outputs": [],
   "source": [
    "stock_data = np.random.normal(loc=0, scale=1, size=[8, 10]) # 返回一个标准正太分布\n",
    "# stock_data = np.random.standard_normal(size=)"
   ]
  },
  {
   "cell_type": "code",
   "execution_count": 49,
   "id": "0f514773",
   "metadata": {},
   "outputs": [
    {
     "data": {
      "text/plain": [
       "array([[ 0.51112851, -1.00599648, -1.14526331,  1.75786543, -1.80326917,\n",
       "        -0.06019696, -0.12923053,  0.43953405, -0.59178704,  0.30104451],\n",
       "       [-0.8315127 , -1.26321626, -0.79394649,  1.89428649,  0.49897209,\n",
       "         0.17026022,  1.43294845,  0.10547563,  0.18316831, -2.02014626],\n",
       "       [-0.37035966,  0.99655614,  1.18552608,  0.56982619,  0.84030757,\n",
       "         1.00063655,  1.25945889,  0.98980676,  0.44060901, -0.43225084],\n",
       "       [ 0.69376736,  0.29248272, -1.22502507, -0.14091861, -0.05303044,\n",
       "         0.09138032,  0.74599667, -0.32671317,  1.55020771, -0.60432506],\n",
       "       [-1.71544757, -1.32788481, -0.56519087, -1.61105604, -0.83326652,\n",
       "        -0.84789304, -0.51845662, -0.84103376,  4.06551597,  0.66520064],\n",
       "       [ 0.04265421,  0.28648668,  0.98690851, -0.11784412, -1.05553436,\n",
       "        -0.71732919,  0.52740645,  0.5637942 ,  0.55659636, -2.41864239],\n",
       "       [ 0.13003653, -1.22826638, -0.96062613, -1.82381725,  0.6150954 ,\n",
       "        -0.26049033,  1.36013694,  1.3212778 ,  0.77291435,  0.33267106],\n",
       "       [-1.12636378, -0.01804298,  3.34454647, -0.35793706, -0.43968931,\n",
       "         0.78212806, -0.78072249, -0.5366685 , -0.23707071,  0.77528284]])"
      ]
     },
     "execution_count": 49,
     "metadata": {},
     "output_type": "execute_result"
    }
   ],
   "source": [
    "stock_data # 随机生成的数据"
   ]
  },
  {
   "cell_type": "code",
   "execution_count": 50,
   "id": "ef39dd73",
   "metadata": {},
   "outputs": [
    {
     "data": {
      "text/plain": [
       "array([ 0.51112851, -1.00599648, -1.14526331])"
      ]
     },
     "execution_count": 50,
     "metadata": {},
     "output_type": "execute_result"
    }
   ],
   "source": [
    "# 获取第一个股票的前3个交易日的涨跌幅数据:\n",
    "stock_data[0, :3] # 这与matlab操作一样, 用, 来隔绝维度, 然后在切片操作\n",
    "# 这个切片就是获取, 第0行, 列:0~2\n",
    "# 都是包前不包后"
   ]
  },
  {
   "cell_type": "code",
   "execution_count": 51,
   "id": "2c38ff61",
   "metadata": {},
   "outputs": [
    {
     "data": {
      "text/plain": [
       "array([[[ 1,  2,  3],\n",
       "        [ 4,  5,  6]],\n",
       "\n",
       "       [[ 7,  8,  9],\n",
       "        [10, 11, 12]]])"
      ]
     },
     "execution_count": 51,
     "metadata": {},
     "output_type": "execute_result"
    }
   ],
   "source": [
    "# 三维数据如何获取:\n",
    "data = np.array(\n",
    "    [\n",
    "        [[1, 2, 3], [4, 5, 6]],\n",
    "        [[7, 8, 9], [10, 11, 12]]\n",
    "    ]\n",
    ")\n",
    "data  #array([[[ 1,  2,  3],\n",
    "#         [ 4,  5,  6]],\n",
    "# \n",
    "#        [[ 7,  8,  9],\n",
    "#         [10, 11, 12]]])"
   ]
  },
  {
   "cell_type": "code",
   "execution_count": 52,
   "id": "8f61d782",
   "metadata": {},
   "outputs": [
    {
     "data": {
      "text/plain": [
       "(2, 2, 3)"
      ]
     },
     "execution_count": 52,
     "metadata": {},
     "output_type": "execute_result"
    }
   ],
   "source": [
    "data.shape # (2, 2, 3)"
   ]
  },
  {
   "cell_type": "code",
   "execution_count": 53,
   "id": "5258d785",
   "metadata": {},
   "outputs": [
    {
     "data": {
      "text/plain": [
       "12"
      ]
     },
     "execution_count": 53,
     "metadata": {},
     "output_type": "execute_result"
    }
   ],
   "source": [
    "# 通过索引获取data数值\n",
    "data[1, 1, 2]"
   ]
  },
  {
   "cell_type": "code",
   "execution_count": 54,
   "id": "e8abcb87",
   "metadata": {},
   "outputs": [
    {
     "data": {
      "text/plain": [
       "array([[[  1,   2,   3],\n",
       "        [  4,   5,   6]],\n",
       "\n",
       "       [[  7,   8,   9],\n",
       "        [ 10,  11, 100]]])"
      ]
     },
     "execution_count": 54,
     "metadata": {},
     "output_type": "execute_result"
    }
   ],
   "source": [
    "# 修改:\n",
    "data[1, 1, 2] = 100\n",
    "data # 修改成功"
   ]
  },
  {
   "cell_type": "markdown",
   "id": "4668b9fa",
   "metadata": {
    "pycharm": {
     "is_executing": true
    }
   },
   "source": [
    "### 形状修改\n",
    "    通过np.函数名():\n",
    "    np.reshape(A, newshape) 返回一个修改后的ndarray数组, 但不会更改原始数组\n",
    "    np.resize(A, newshape) 返回一个修改后的ndarray数组, 但会更改原始数组\n",
    "\n",
    "    通过ndarray.方法()实现:\n",
    "    ndarray.reshape(shape) 返回新的ndarray，原始数据没有改变, # 只是将原来的数据进行了分割\n",
    "        shape=(a, b) , 当a=-1时, 表示自动计算\n",
    "    ndarray.resize(shape) 没有返回值, 对原始的ndarray进行了修改, 效果与reshape一样\n",
    "        前两个都没有对行列进行转换, 只是简单的分割\n",
    "        \n",
    "    ndarray.T 转置 行变成列，列变成行, 转至是对行列进行转换. (是ndarray的属性, 修改原数组)"
   ]
  },
  {
   "cell_type": "code",
   "execution_count": 55,
   "id": "8fbace0f",
   "metadata": {},
   "outputs": [
    {
     "data": {
      "text/plain": [
       "(2, 3)"
      ]
     },
     "execution_count": 55,
     "metadata": {},
     "output_type": "execute_result"
    }
   ],
   "source": [
    "# 实现行列互换\n",
    "data = np.array(\n",
    "    [\n",
    "        [1.1, 1.2, 1.3],\n",
    "        [2.1, 2.2, 2.3]\n",
    "    ]\n",
    ")\n",
    "\n",
    "data.shape\n"
   ]
  },
  {
   "cell_type": "code",
   "execution_count": 56,
   "id": "05ebf53f",
   "metadata": {},
   "outputs": [
    {
     "data": {
      "text/plain": [
       "array([[1.1, 1.2, 1.3],\n",
       "       [2.1, 2.2, 2.3]])"
      ]
     },
     "execution_count": 56,
     "metadata": {},
     "output_type": "execute_result"
    }
   ],
   "source": [
    "data"
   ]
  },
  {
   "cell_type": "code",
   "execution_count": 57,
   "id": "2656e039",
   "metadata": {},
   "outputs": [
    {
     "data": {
      "text/plain": [
       "array([[1.1, 1.2],\n",
       "       [1.3, 2.1],\n",
       "       [2.2, 2.3]])"
      ]
     },
     "execution_count": 57,
     "metadata": {},
     "output_type": "execute_result"
    }
   ],
   "source": [
    "# data.reshape((3, 2)) # 但是仅仅是将原来的数据进行了切割\n",
    "# 或者使用np.函数名()\n",
    "np.reshape(data, (3,2))"
   ]
  },
  {
   "cell_type": "code",
   "execution_count": 58,
   "id": "996b8bc0",
   "metadata": {},
   "outputs": [
    {
     "data": {
      "text/plain": [
       "array([[1.1, 1.2, 1.3],\n",
       "       [2.1, 2.2, 2.3]])"
      ]
     },
     "execution_count": 58,
     "metadata": {},
     "output_type": "execute_result"
    }
   ],
   "source": [
    "data # 并且使用ndarray.shape()并不改变原来的数组, 返回的是一个新的数组"
   ]
  },
  {
   "cell_type": "code",
   "execution_count": 59,
   "id": "c6c422c8",
   "metadata": {},
   "outputs": [],
   "source": [
    "# 使用resize() 没有返回值, 直接对原数组进行操作\n",
    "data.resize(3, 2)\n"
   ]
  },
  {
   "cell_type": "code",
   "execution_count": 60,
   "id": "a59f3d0f",
   "metadata": {},
   "outputs": [
    {
     "data": {
      "text/plain": [
       "array([[1.1, 1.2],\n",
       "       [1.3, 2.1],\n",
       "       [2.2, 2.3]])"
      ]
     },
     "execution_count": 60,
     "metadata": {},
     "output_type": "execute_result"
    }
   ],
   "source": [
    "data"
   ]
  },
  {
   "cell_type": "code",
   "execution_count": 61,
   "id": "b7151788",
   "metadata": {},
   "outputs": [
    {
     "data": {
      "text/plain": [
       "array([[1.1, 1.2, 1.3],\n",
       "       [2.1, 2.2, 2.3]])"
      ]
     },
     "execution_count": 61,
     "metadata": {},
     "output_type": "execute_result"
    }
   ],
   "source": [
    "np.resize(data, (2,3)) # 不会更改原来的数组"
   ]
  },
  {
   "cell_type": "code",
   "execution_count": 62,
   "id": "c0c24f98",
   "metadata": {},
   "outputs": [
    {
     "data": {
      "text/plain": [
       "array([[1.1, 1.2],\n",
       "       [1.3, 2.1],\n",
       "       [2.2, 2.3]])"
      ]
     },
     "execution_count": 62,
     "metadata": {},
     "output_type": "execute_result"
    }
   ],
   "source": [
    "data"
   ]
  },
  {
   "cell_type": "code",
   "execution_count": 63,
   "id": "7d888bb9",
   "metadata": {},
   "outputs": [
    {
     "data": {
      "text/plain": [
       "array([[1.1, 1.3, 2.2],\n",
       "       [1.2, 2.1, 2.3]])"
      ]
     },
     "execution_count": 63,
     "metadata": {},
     "output_type": "execute_result"
    }
   ],
   "source": [
    "# 转置：\n",
    "data.T"
   ]
  },
  {
   "cell_type": "markdown",
   "id": "21a96e7d",
   "metadata": {},
   "source": [
    "### 类型修改\n",
    "    ndarray.astype(type) -> 通用的\n",
    "        type: 需要修改的类型。\n",
    "        ndarray序列化到本地 (序列化就是将python的数据, 编成流(bytes), 从而保存在本地)\n",
    "    或者:\n",
    "    np.astype(A, type)  # 与上面同理\n",
    "    ndarray.tostring() # 序列化到本地"
   ]
  },
  {
   "cell_type": "code",
   "execution_count": 64,
   "id": "623075e7",
   "metadata": {},
   "outputs": [
    {
     "data": {
      "text/plain": [
       "dtype('float64')"
      ]
     },
     "execution_count": 64,
     "metadata": {},
     "output_type": "execute_result"
    }
   ],
   "source": [
    "# 通用修改方式：\n",
    "data.dtype"
   ]
  },
  {
   "cell_type": "code",
   "execution_count": 65,
   "id": "b80f92a0",
   "metadata": {},
   "outputs": [
    {
     "data": {
      "text/plain": [
       "array([[1.1, 1.2],\n",
       "       [1.3, 2.1],\n",
       "       [2.2, 2.3]], dtype=float32)"
      ]
     },
     "execution_count": 65,
     "metadata": {},
     "output_type": "execute_result"
    }
   ],
   "source": [
    "data.astype(np.float32)"
   ]
  },
  {
   "cell_type": "code",
   "execution_count": 66,
   "id": "8af66fe8",
   "metadata": {},
   "outputs": [
    {
     "name": "stderr",
     "output_type": "stream",
     "text": [
      "C:\\Users\\HP\\AppData\\Local\\Temp\\ipykernel_11644\\3251022554.py:1: DeprecationWarning: tostring() is deprecated. Use tobytes() instead.\n",
      "  data.tostring()\n"
     ]
    },
    {
     "data": {
      "text/plain": [
       "b'\\x9a\\x99\\x99\\x99\\x99\\x99\\xf1?333333\\xf3?\\xcd\\xcc\\xcc\\xcc\\xcc\\xcc\\xf4?\\xcd\\xcc\\xcc\\xcc\\xcc\\xcc\\x00@\\x9a\\x99\\x99\\x99\\x99\\x99\\x01@ffffff\\x02@'"
      ]
     },
     "execution_count": 66,
     "metadata": {},
     "output_type": "execute_result"
    }
   ],
   "source": [
    " data.tostring()\n",
    "# 返回值就是一堆字节码, 是bytes类型。（字节码流）\n",
    "# 需要注意的就是, 如果数组太大, 转换成为bytes的时候, 输出(打印)的时候吗, jupyter可能会报错\n",
    "# 这是因为jupyter有一个输出限制, 不过可以修改配置文件, 不过不建议这样去做"
   ]
  },
  {
   "cell_type": "markdown",
   "id": "261621a6",
   "metadata": {},
   "source": [
    "### 数组的去重\n",
    "    np.unique(ndarray)\n",
    "    类似于: set() -> 不过set需要的是一维的.\n",
    "    set(temp.flatten()) # 可以使用flatten, 这样数组就变成一维的了, 此时使用set就可以去重了\n"
   ]
  },
  {
   "cell_type": "code",
   "execution_count": 67,
   "id": "6bbdc8ec",
   "metadata": {},
   "outputs": [],
   "source": [
    "data = np.array(\n",
    "    [\n",
    "        [1, 2, 3, 4],\n",
    "        [3, 4, 5, 6]\n",
    "    ]\n",
    ")"
   ]
  },
  {
   "cell_type": "code",
   "execution_count": 68,
   "id": "479c0610",
   "metadata": {},
   "outputs": [
    {
     "data": {
      "text/plain": [
       "array([[1, 2, 3, 4],\n",
       "       [3, 4, 5, 6]])"
      ]
     },
     "execution_count": 68,
     "metadata": {},
     "output_type": "execute_result"
    }
   ],
   "source": [
    "data"
   ]
  },
  {
   "cell_type": "code",
   "execution_count": 69,
   "id": "612d4727",
   "metadata": {},
   "outputs": [],
   "source": [
    "data_unique = np.unique(data) # 直接去重, 得到的结果为一维数组"
   ]
  },
  {
   "cell_type": "code",
   "execution_count": 70,
   "id": "3a1142eb",
   "metadata": {},
   "outputs": [
    {
     "data": {
      "text/plain": [
       "array([1, 2, 3, 4, 5, 6])"
      ]
     },
     "execution_count": 70,
     "metadata": {},
     "output_type": "execute_result"
    }
   ],
   "source": [
    "data_unique"
   ]
  },
  {
   "cell_type": "code",
   "execution_count": 71,
   "id": "e49e831f",
   "metadata": {},
   "outputs": [
    {
     "data": {
      "text/plain": [
       "(6,)"
      ]
     },
     "execution_count": 71,
     "metadata": {},
     "output_type": "execute_result"
    }
   ],
   "source": [
    "data_unique.shape"
   ]
  },
  {
   "cell_type": "code",
   "execution_count": 72,
   "id": "4b9aa3c1",
   "metadata": {},
   "outputs": [
    {
     "data": {
      "text/plain": [
       "{1, 2, 3, 4, 5, 6}"
      ]
     },
     "execution_count": 72,
     "metadata": {},
     "output_type": "execute_result"
    }
   ],
   "source": [
    "# 同样我们可以将数据降维, 然后直接用set去重\n",
    "# 可以使用flatten, 这样数组就变成一维的了, 此时使用set就可以去重了\n",
    "set(data.flatten())"
   ]
  },
  {
   "cell_type": "markdown",
   "id": "b6b61b46",
   "metadata": {},
   "source": [
    "## ndarray运算:"
   ]
  },
  {
   "cell_type": "markdown",
   "id": "ac3f1098",
   "metadata": {},
   "source": [
    "### 逻辑运算\n",
    "    布尔索引\n",
    "        我们不仅仅可以使用数字作为索引, 还可以使用bool值作为索引\n",
    "        我们可以通过比较运算符, 得到一个逻辑数组\n",
    "        \n",
    "    通用判断函数\n",
    "        np.all(布尔值(矩阵))\n",
    "            只要有一个False就返回False，只有全是True才返回True\n",
    "        np.any(bool matrix(布尔矩阵) )\n",
    "            只要有一个True就返回True，只有全是False才返回False\n",
    "        np.where（三元运算符）---\n",
    "            np.where(布尔矩阵 , True的位置的值, False的位置的值)\n",
    "           \n",
    "        axis参数, 表示对哪个维度进行遍历. 并且合并该维度\n",
    "            \n",
    "    复合逻辑运算:\n",
    "        np.logical_and(逻辑矩阵, 逻辑矩阵)\n",
    "        np.logical_or(逻辑矩阵, 逻辑矩阵)\n",
    "        # 例子: np.logical_and(temp > 0.5, temp < 0.1) 返回的仍然是逻辑矩阵\n",
    "            实际上就是矩阵做逻辑运算"
   ]
  },
  {
   "cell_type": "code",
   "execution_count": 73,
   "id": "16b9744d",
   "metadata": {},
   "outputs": [],
   "source": [
    "import numpy as np"
   ]
  },
  {
   "cell_type": "code",
   "execution_count": 74,
   "id": "3761ab7d",
   "metadata": {},
   "outputs": [],
   "source": [
    "stock_data = np.random.normal(loc=0.0, scale=1.0, size=[4, 3])"
   ]
  },
  {
   "cell_type": "code",
   "execution_count": 75,
   "id": "ae918bd2",
   "metadata": {},
   "outputs": [
    {
     "data": {
      "text/plain": [
       "array([[-1.57618612,  0.00659902, -1.09160207],\n",
       "       [ 1.15043684,  0.5693611 ,  1.44176968],\n",
       "       [ 1.17963287,  0.90148323, -1.20679998],\n",
       "       [ 1.31860896, -0.4794341 ,  0.05812376]])"
      ]
     },
     "execution_count": 75,
     "metadata": {},
     "output_type": "execute_result"
    }
   ],
   "source": [
    "stock_data"
   ]
  },
  {
   "cell_type": "code",
   "execution_count": 76,
   "id": "0664dc31",
   "metadata": {},
   "outputs": [
    {
     "data": {
      "text/plain": [
       "array([[False, False, False],\n",
       "       [ True,  True,  True],\n",
       "       [ True,  True, False],\n",
       "       [ True, False, False]])"
      ]
     },
     "execution_count": 76,
     "metadata": {},
     "output_type": "execute_result"
    }
   ],
   "source": [
    "# 直接使用运算符, 进行一个判断, 返回一个逻辑矩阵(与matlab相同)\n",
    "stock_data > 0.5"
   ]
  },
  {
   "cell_type": "code",
   "execution_count": 77,
   "id": "bd2ffecb",
   "metadata": {},
   "outputs": [],
   "source": [
    "# 此时我们可以通过布尔索引, 来获取True的数据.\n",
    "stock_data[stock_data > 0.5] = 1.0\n",
    "# 直接将逻辑矩阵作为布尔索引, 然后为True的位置进行操作\n",
    "# 同理, 对于其他的运算符也是如此"
   ]
  },
  {
   "cell_type": "code",
   "execution_count": 78,
   "id": "549cb243",
   "metadata": {},
   "outputs": [
    {
     "data": {
      "text/plain": [
       "array([[-1.57618612,  0.00659902, -1.09160207],\n",
       "       [ 1.        ,  1.        ,  1.        ],\n",
       "       [ 1.        ,  1.        , -1.20679998],\n",
       "       [ 1.        , -0.4794341 ,  0.05812376]])"
      ]
     },
     "execution_count": 78,
     "metadata": {},
     "output_type": "execute_result"
    }
   ],
   "source": [
    "stock_data # 此时>0.5的地方就已经修改为1了"
   ]
  },
  {
   "cell_type": "code",
   "execution_count": 79,
   "id": "cd0e5796",
   "metadata": {},
   "outputs": [
    {
     "data": {
      "text/plain": [
       "array([[False,  True],\n",
       "       [ True,  True]])"
      ]
     },
     "execution_count": 79,
     "metadata": {},
     "output_type": "execute_result"
    }
   ],
   "source": [
    "# 通用判断函数:\n",
    "# np.all() # 全True为True\n",
    "# np.any() # 全False为False\n",
    "# np.where(A, True value, False value) # True位置上为True value的值, False同理\n",
    "\n",
    "# 判断stock_data[0:2, 0:2]是都为全部上涨的\n",
    "temp = stock_data[0:2, 0:2] > 0\n",
    "temp"
   ]
  },
  {
   "cell_type": "code",
   "execution_count": 80,
   "id": "9eb3163b",
   "metadata": {},
   "outputs": [
    {
     "data": {
      "text/plain": [
       "False"
      ]
     },
     "execution_count": 80,
     "metadata": {},
     "output_type": "execute_result"
    }
   ],
   "source": [
    "np.all(stock_data[0:2, 0:2] > 0)\n",
    "# 显然不全为True"
   ]
  },
  {
   "cell_type": "code",
   "execution_count": 81,
   "id": "57778b4f",
   "metadata": {},
   "outputs": [
    {
     "data": {
      "text/plain": [
       "True"
      ]
     },
     "execution_count": 81,
     "metadata": {},
     "output_type": "execute_result"
    }
   ],
   "source": [
    "# 判断前2只股票是否有上涨的:\n",
    "np.any(stock_data[0:2, :])\n",
    "# 有上涨的."
   ]
  },
  {
   "cell_type": "code",
   "execution_count": 82,
   "id": "83fd113b",
   "metadata": {},
   "outputs": [
    {
     "data": {
      "text/plain": [
       "array([[False,  True],\n",
       "       [ True,  True]])"
      ]
     },
     "execution_count": 82,
     "metadata": {},
     "output_type": "execute_result"
    }
   ],
   "source": [
    "# 使用axis参数:\n",
    "temp"
   ]
  },
  {
   "cell_type": "code",
   "execution_count": 83,
   "id": "7687fca0",
   "metadata": {},
   "outputs": [
    {
     "data": {
      "text/plain": [
       "array([False,  True])"
      ]
     },
     "execution_count": 83,
     "metadata": {},
     "output_type": "execute_result"
    }
   ],
   "source": [
    "np.all(temp, axis=0) # 以行为一个整体"
   ]
  },
  {
   "cell_type": "code",
   "execution_count": 84,
   "id": "817c9cad",
   "metadata": {},
   "outputs": [
    {
     "data": {
      "text/plain": [
       "array([False,  True])"
      ]
     },
     "execution_count": 84,
     "metadata": {},
     "output_type": "execute_result"
    }
   ],
   "source": [
    "np.all(temp, axis=1) # 以列,为一个整体"
   ]
  },
  {
   "cell_type": "code",
   "execution_count": 85,
   "id": "e8c5d776",
   "metadata": {},
   "outputs": [],
   "source": [
    "# 三元运算符\n",
    "# np.where()\n",
    "# 判断4个股票前2天的涨跌幅 大于0的置为1，否则为0\n",
    "temp = stock_data[:, :2] > 0\n"
   ]
  },
  {
   "cell_type": "code",
   "execution_count": 86,
   "id": "7e37378a",
   "metadata": {},
   "outputs": [
    {
     "data": {
      "text/plain": [
       "array([[False,  True],\n",
       "       [ True,  True],\n",
       "       [ True,  True],\n",
       "       [ True, False]])"
      ]
     },
     "execution_count": 86,
     "metadata": {},
     "output_type": "execute_result"
    }
   ],
   "source": [
    "temp"
   ]
  },
  {
   "cell_type": "code",
   "execution_count": 87,
   "id": "0b86bec2",
   "metadata": {},
   "outputs": [
    {
     "data": {
      "text/plain": [
       "array([[0, 1],\n",
       "       [1, 1],\n",
       "       [1, 1],\n",
       "       [1, 0]])"
      ]
     },
     "execution_count": 87,
     "metadata": {},
     "output_type": "execute_result"
    }
   ],
   "source": [
    "np.where(temp, 1, 0)\n",
    "# 参数: 逻辑矩阵, True位置的赋的值, False位置的值"
   ]
  },
  {
   "cell_type": "code",
   "execution_count": 88,
   "id": "416da0d3",
   "metadata": {},
   "outputs": [
    {
     "data": {
      "text/plain": [
       "array([[ True, False,  True],\n",
       "       [ True,  True,  True],\n",
       "       [ True,  True,  True],\n",
       "       [ True, False, False]])"
      ]
     },
     "execution_count": 88,
     "metadata": {},
     "output_type": "execute_result"
    }
   ],
   "source": [
    "# 复合逻辑运算\n",
    "# 判断4只股票涨跌幅, 大于0.5, 或者小于-0.5,换为1, 否则为0\n",
    "np.logical_or(stock_data > 0.5, stock_data < -0.5)\n",
    "# 同样返回一个逻辑矩阵"
   ]
  },
  {
   "cell_type": "code",
   "execution_count": 89,
   "id": "a9d832bd",
   "metadata": {},
   "outputs": [
    {
     "data": {
      "text/plain": [
       "array([[11,  3, 11],\n",
       "       [11, 11, 11],\n",
       "       [11, 11, 11],\n",
       "       [11,  3,  3]])"
      ]
     },
     "execution_count": 89,
     "metadata": {},
     "output_type": "execute_result"
    }
   ],
   "source": [
    "np.where(np.logical_or(stock_data > 0.5, stock_data < -0.5), 11, 3)"
   ]
  },
  {
   "cell_type": "markdown",
   "id": "e9746d89",
   "metadata": {},
   "source": [
    "### 统计运算\n",
    "     min, max, mean, median, var, std\n",
    "            np.函数名()\n",
    "            ndarray.方法名\n",
    "            例: np.max(A), 或者A.max()\n",
    "        返回最大值、最小值所在位置: 返回相应的索引\n",
    "            np.argmax(temp, axis=)\n",
    "            np.argmin(temp, axis=)"
   ]
  },
  {
   "cell_type": "code",
   "execution_count": 90,
   "id": "95409565",
   "metadata": {},
   "outputs": [],
   "source": [
    "data = np.random.randint(low=-10, high=10, size=[8, 6])\n"
   ]
  },
  {
   "cell_type": "code",
   "execution_count": 91,
   "id": "031b133a",
   "metadata": {},
   "outputs": [
    {
     "data": {
      "text/plain": [
       "array([[ -6,  -5,  -3,   3,   4,  -5],\n",
       "       [ -3,  -6,  -7,   6, -10,   1],\n",
       "       [ -3,   3,  -2,  -9,  -2,   2],\n",
       "       [ -8, -10,  -7, -10,  -1,   4],\n",
       "       [ -7,  -1,  -4,   7,  -4,  -9],\n",
       "       [ -1,  -1,   2,   1,   4,   5],\n",
       "       [ -2,   7,   8,  -8,   2,  -9],\n",
       "       [ -9,  -8,   5,  -6,   2,   2]])"
      ]
     },
     "execution_count": 91,
     "metadata": {},
     "output_type": "execute_result"
    }
   ],
   "source": [
    "data # (8, 6)"
   ]
  },
  {
   "cell_type": "code",
   "execution_count": 92,
   "id": "3e3a16e5",
   "metadata": {},
   "outputs": [
    {
     "data": {
      "text/plain": [
       "8"
      ]
     },
     "execution_count": 92,
     "metadata": {},
     "output_type": "execute_result"
    }
   ],
   "source": [
    "# 求取最大值:\n",
    "np.max(data)\n",
    "data.max()"
   ]
  },
  {
   "cell_type": "code",
   "execution_count": 93,
   "id": "26941125",
   "metadata": {},
   "outputs": [
    {
     "data": {
      "text/plain": [
       "array([-1,  7,  8,  7,  4,  5])"
      ]
     },
     "execution_count": 93,
     "metadata": {},
     "output_type": "execute_result"
    }
   ],
   "source": [
    "# 使用axis参数:\n",
    "data.max(axis=0)\n",
    "# axis=0, 表示计算表示遍历每行,计算,得到的就是列向量"
   ]
  },
  {
   "cell_type": "code",
   "execution_count": 94,
   "id": "57ee295d",
   "metadata": {},
   "outputs": [
    {
     "data": {
      "text/plain": [
       "-98"
      ]
     },
     "execution_count": 94,
     "metadata": {},
     "output_type": "execute_result"
    }
   ],
   "source": [
    "# 求和操作:\n",
    "np.sum(data) # data.sum()"
   ]
  },
  {
   "cell_type": "code",
   "execution_count": 95,
   "id": "5037f091",
   "metadata": {},
   "outputs": [
    {
     "data": {
      "text/plain": [
       "array([-39, -21,  -8, -16,  -5,  -9])"
      ]
     },
     "execution_count": 95,
     "metadata": {},
     "output_type": "execute_result"
    }
   ],
   "source": [
    "np.sum(data, axis = 0) # 遍历每一行(这里的一行是指大的整体), 进行求和, "
   ]
  },
  {
   "cell_type": "code",
   "execution_count": 96,
   "id": "ff4dfc97",
   "metadata": {},
   "outputs": [
    {
     "data": {
      "text/plain": [
       "array([-12, -19, -11, -32, -18,  10,  -2, -14])"
      ]
     },
     "execution_count": 96,
     "metadata": {},
     "output_type": "execute_result"
    }
   ],
   "source": [
    "np.sum(data, axis=1) # 遍历每一列(这里的一列, 是指二维数据中的数据[][]), 进行求和, 的列向量"
   ]
  },
  {
   "cell_type": "code",
   "execution_count": 97,
   "id": "af6907ed",
   "metadata": {},
   "outputs": [
    {
     "data": {
      "text/plain": [
       "38"
      ]
     },
     "execution_count": 97,
     "metadata": {},
     "output_type": "execute_result"
    }
   ],
   "source": [
    "# np.argmax(temp, axis=)\n",
    "# np.argmin(temp, axis=)\n",
    "# 查找最大最小值所在的位置, 返回相应的索引\n",
    "np.argmax(data) # 返回的是顺序索引, 从0开始, 从行到列. 数组默认展平"
   ]
  },
  {
   "cell_type": "code",
   "execution_count": 98,
   "id": "db83978c",
   "metadata": {},
   "outputs": [
    {
     "data": {
      "text/plain": [
       "array([[ -6,  -5,  -3,   3,   4,  -5],\n",
       "       [ -3,  -6,  -7,   6, -10,   1],\n",
       "       [ -3,   3,  -2,  -9,  -2,   2],\n",
       "       [ -8, -10,  -7, -10,  -1,   4],\n",
       "       [ -7,  -1,  -4,   7,  -4,  -9],\n",
       "       [ -1,  -1,   2,   1,   4,   5],\n",
       "       [ -2,   7,   8,  -8,   2,  -9],\n",
       "       [ -9,  -8,   5,  -6,   2,   2]])"
      ]
     },
     "execution_count": 98,
     "metadata": {},
     "output_type": "execute_result"
    }
   ],
   "source": [
    "data"
   ]
  },
  {
   "cell_type": "code",
   "execution_count": 99,
   "id": "90f3c0a2",
   "metadata": {},
   "outputs": [
    {
     "data": {
      "text/plain": [
       "array([5, 6, 6, 4, 0, 5], dtype=int64)"
      ]
     },
     "execution_count": 99,
     "metadata": {},
     "output_type": "execute_result"
    }
   ],
   "source": [
    "np.argmax(data, axis=0) # 遍历行维度(对列), 得行向量"
   ]
  },
  {
   "cell_type": "code",
   "execution_count": 100,
   "id": "7f16ede1",
   "metadata": {},
   "outputs": [
    {
     "data": {
      "text/plain": [
       "array([4, 3, 1, 5, 3, 5, 2, 2], dtype=int64)"
      ]
     },
     "execution_count": 100,
     "metadata": {},
     "output_type": "execute_result"
    }
   ],
   "source": [
    "np.argmax(data, axis=1) # 遍历列维度(对行), 得到列向量"
   ]
  },
  {
   "cell_type": "markdown",
   "id": "a7a9c3d3",
   "metadata": {},
   "source": [
    "### 数组与数得运算\n",
    "    数组与数进行运算, 就是数组元素与数运算\n",
    "    而list直接与数进行运算, 则会报错, 此时可以使用for, 列表生成式, 或者map()"
   ]
  },
  {
   "cell_type": "code",
   "execution_count": 101,
   "id": "b50f4923",
   "metadata": {},
   "outputs": [],
   "source": [
    "import numpy as np"
   ]
  },
  {
   "cell_type": "code",
   "execution_count": 102,
   "id": "76d99811",
   "metadata": {},
   "outputs": [],
   "source": [
    "arr = np.array([[1, 2, 3, 4, 5, 6],[2, 3, 4, 5, 6, 7]]) "
   ]
  },
  {
   "cell_type": "code",
   "execution_count": 103,
   "id": "0227a9eb",
   "metadata": {},
   "outputs": [
    {
     "data": {
      "text/plain": [
       "array([[1, 2, 3, 4, 5, 6],\n",
       "       [2, 3, 4, 5, 6, 7]])"
      ]
     },
     "execution_count": 103,
     "metadata": {},
     "output_type": "execute_result"
    }
   ],
   "source": [
    "arr # (2, 6)"
   ]
  },
  {
   "cell_type": "code",
   "execution_count": 104,
   "id": "9929b8e9",
   "metadata": {},
   "outputs": [
    {
     "data": {
      "text/plain": [
       "array([[0.1, 0.2, 0.3, 0.4, 0.5, 0.6],\n",
       "       [0.2, 0.3, 0.4, 0.5, 0.6, 0.7]])"
      ]
     },
     "execution_count": 104,
     "metadata": {},
     "output_type": "execute_result"
    }
   ],
   "source": [
    "arr/10 # 就是数组中元素进行运算"
   ]
  },
  {
   "cell_type": "code",
   "execution_count": 106,
   "id": "7ad6fcc5",
   "metadata": {},
   "outputs": [
    {
     "ename": "TypeError",
     "evalue": "unsupported operand type(s) for /: 'list' and 'int'",
     "output_type": "error",
     "traceback": [
      "\u001B[1;31m---------------------------------------------------------------------------\u001B[0m",
      "\u001B[1;31mTypeError\u001B[0m                                 Traceback (most recent call last)",
      "Input \u001B[1;32mIn [106]\u001B[0m, in \u001B[0;36m<module>\u001B[1;34m\u001B[0m\n\u001B[0;32m      1\u001B[0m ls \u001B[38;5;241m=\u001B[39m [\u001B[38;5;241m1\u001B[39m, \u001B[38;5;241m2\u001B[39m, \u001B[38;5;241m3\u001B[39m, \u001B[38;5;241m4\u001B[39m, \u001B[38;5;241m5\u001B[39m, \u001B[38;5;241m6\u001B[39m]\n\u001B[1;32m----> 2\u001B[0m \u001B[43mls\u001B[49m\u001B[38;5;241;43m/\u001B[39;49m\u001B[38;5;241;43m10\u001B[39;49m\n",
      "\u001B[1;31mTypeError\u001B[0m: unsupported operand type(s) for /: 'list' and 'int'"
     ]
    }
   ],
   "source": [
    "ls = [1, 2, 3, 4, 5, 6]\n",
    "ls/10 # 直接对列表进行操作就会报错\n"
   ]
  },
  {
   "cell_type": "code",
   "execution_count": 107,
   "id": "a72d29b9",
   "metadata": {},
   "outputs": [
    {
     "data": {
      "text/plain": [
       "[0.1, 0.2, 0.3, 0.4, 0.5, 0.6]"
      ]
     },
     "execution_count": 107,
     "metadata": {},
     "output_type": "execute_result"
    }
   ],
   "source": [
    "list(map(lambda x: x/10, ls)) # 可以使用map函数\n",
    "# 可以使用列表生成式或者map函数"
   ]
  },
  {
   "cell_type": "markdown",
   "id": "4434bf73",
   "metadata": {},
   "source": [
    "### 数组与数组间的运算\n",
    "    执行broadcast的前提在于, 两个ndarray执行的是element-wish的运算,Broadcast机制的功能\n",
    "    是方便不同形状的ndarray(numpy库的核心数据结构)进行数学运算.\n",
    "\n",
    "    广播机制:\n",
    "        当操作两个数组的时, numpy会逐个比较他们的shape(构成的元组tuple),\n",
    "        只有在每个维度满足:\n",
    "            - 维数相等\n",
    "            - shape(其中相对应的一个维度为1.)\n",
    "        时, 两个数组才能够进行数组的运算.\n",
    "        (这个维度, 要么维数相等, 要么shape有一方为1)\n",
    "        最终取每个维度最大的, 为最后的形状"
   ]
  },
  {
   "cell_type": "code",
   "execution_count": 108,
   "id": "b4692258",
   "metadata": {},
   "outputs": [],
   "source": [
    "arr1 = np.array([[1, 2, 3, 2, 1, 4], [5, 6, 1, 1 ,3, 1]])\n",
    "arr2 = np.array([[1, 2, 3, 4], [3, 4, 5, 6]])"
   ]
  },
  {
   "cell_type": "code",
   "execution_count": 109,
   "id": "dc906478",
   "metadata": {},
   "outputs": [
    {
     "data": {
      "text/plain": [
       "array([[1, 2, 3, 2, 1, 4],\n",
       "       [5, 6, 1, 1, 3, 1]])"
      ]
     },
     "execution_count": 109,
     "metadata": {},
     "output_type": "execute_result"
    }
   ],
   "source": [
    "arr1 # (2, 6)"
   ]
  },
  {
   "cell_type": "code",
   "execution_count": 110,
   "id": "22cc9cb3",
   "metadata": {},
   "outputs": [
    {
     "data": {
      "text/plain": [
       "array([[1, 2, 3, 4],\n",
       "       [3, 4, 5, 6]])"
      ]
     },
     "execution_count": 110,
     "metadata": {},
     "output_type": "execute_result"
    }
   ],
   "source": [
    "arr2 # (2, 4)"
   ]
  },
  {
   "cell_type": "code",
   "execution_count": 111,
   "id": "347c1e4e",
   "metadata": {},
   "outputs": [
    {
     "ename": "ValueError",
     "evalue": "operands could not be broadcast together with shapes (2,6) (2,4) ",
     "output_type": "error",
     "traceback": [
      "\u001B[1;31m---------------------------------------------------------------------------\u001B[0m",
      "\u001B[1;31mValueError\u001B[0m                                Traceback (most recent call last)",
      "Input \u001B[1;32mIn [111]\u001B[0m, in \u001B[0;36m<module>\u001B[1;34m\u001B[0m\n\u001B[1;32m----> 1\u001B[0m \u001B[43marr1\u001B[49m\u001B[43m \u001B[49m\u001B[38;5;241;43m+\u001B[39;49m\u001B[43m \u001B[49m\u001B[43marr2\u001B[49m\n",
      "\u001B[1;31mValueError\u001B[0m: operands could not be broadcast together with shapes (2,6) (2,4) "
     ]
    }
   ],
   "source": [
    "arr1 + arr2 # 报错:  operands could not be broadcast\n",
    "# 因为arr1和arr2不满足广播机制\n",
    "# 我们如果想让不同形状的两个数组进行运算是需要满足广播机制的."
   ]
  },
  {
   "cell_type": "code",
   "execution_count": 112,
   "id": "cf1c0e7b",
   "metadata": {},
   "outputs": [],
   "source": [
    "arr1 = np.array([[1, 2, 3, 2, 1, 4], [5, 6, 1, 2 ,3, 1]])\n",
    "arr2 = np.array([[1], [3]])"
   ]
  },
  {
   "cell_type": "code",
   "execution_count": 113,
   "id": "32224664",
   "metadata": {},
   "outputs": [
    {
     "ename": "TypeError",
     "evalue": "'numpy.ndarray' object is not callable",
     "output_type": "error",
     "traceback": [
      "\u001B[1;31m---------------------------------------------------------------------------\u001B[0m",
      "\u001B[1;31mTypeError\u001B[0m                                 Traceback (most recent call last)",
      "Input \u001B[1;32mIn [113]\u001B[0m, in \u001B[0;36m<module>\u001B[1;34m\u001B[0m\n\u001B[1;32m----> 1\u001B[0m \u001B[43marr1\u001B[49m\u001B[43m \u001B[49m\u001B[43m(\u001B[49m\u001B[38;5;241;43m2\u001B[39;49m\u001B[43m,\u001B[49m\u001B[43m \u001B[49m\u001B[38;5;241;43m6\u001B[39;49m\u001B[43m)\u001B[49m\n",
      "\u001B[1;31mTypeError\u001B[0m: 'numpy.ndarray' object is not callable"
     ]
    }
   ],
   "source": [
    "arr1 (2, 6)"
   ]
  },
  {
   "cell_type": "code",
   "execution_count": 114,
   "id": "a38d391e",
   "metadata": {},
   "outputs": [
    {
     "data": {
      "text/plain": [
       "array([[1],\n",
       "       [3]])"
      ]
     },
     "execution_count": 114,
     "metadata": {},
     "output_type": "execute_result"
    }
   ],
   "source": [
    "arr2 # (2, 1)"
   ]
  },
  {
   "cell_type": "code",
   "execution_count": 115,
   "id": "59cd4b2b",
   "metadata": {},
   "outputs": [
    {
     "data": {
      "text/plain": [
       "array([[2, 3, 4, 3, 2, 5],\n",
       "       [8, 9, 4, 5, 6, 4]])"
      ]
     },
     "execution_count": 115,
     "metadata": {},
     "output_type": "execute_result"
    }
   ],
   "source": [
    "# 此时arr1和arr2就满足了广播机制\n",
    "# 第一个维度相等, 第二个维度有1, 这样就符合了广播机制, 我们说是可切割的\n",
    "arr1 + arr2 # # 最终的结果就是取每个维度的最大值 \n"
   ]
  },
  {
   "cell_type": "code",
   "execution_count": 116,
   "id": "b835b6f4",
   "metadata": {},
   "outputs": [
    {
     "data": {
      "text/plain": [
       "array([[1.        , 2.        , 3.        , 2.        , 1.        ,\n",
       "        4.        ],\n",
       "       [1.66666667, 2.        , 0.33333333, 0.66666667, 1.        ,\n",
       "        0.33333333]])"
      ]
     },
     "execution_count": 116,
     "metadata": {},
     "output_type": "execute_result"
    }
   ],
   "source": [
    "arr1/arr2"
   ]
  },
  {
   "cell_type": "markdown",
   "id": "d9bbadd3",
   "metadata": {},
   "source": [
    "### 矩阵运算\n",
    "    矩阵matrix 二维数组\n",
    "    矩阵 & 二维数组的区别:\n",
    "        矩阵的存储肯定是二维数组, 但是二维数组不一定是矩阵\n",
    "    两种方法存储矩阵\n",
    "        1）ndarray 二维数组形式\n",
    "            矩阵乘法：\n",
    "                np.matmul() # 矩阵相乘\n",
    "                 np.dot()\n",
    "        2）matrix数据结构\n",
    "            np.mat()\n",
    "                将数组转换成矩阵类型\n",
    "            直接操作"
   ]
  },
  {
   "cell_type": "code",
   "execution_count": 117,
   "id": "930d9ab7",
   "metadata": {},
   "outputs": [
    {
     "data": {
      "text/plain": [
       "array([[80, 86],\n",
       "       [82, 80],\n",
       "       [85, 78],\n",
       "       [90, 90],\n",
       "       [86, 82],\n",
       "       [82, 90],\n",
       "       [78, 80],\n",
       "       [92, 94]])"
      ]
     },
     "execution_count": 117,
     "metadata": {},
     "output_type": "execute_result"
    }
   ],
   "source": [
    "# ndarry存储矩阵, 实际上就是二维数组\n",
    "data_ndarray = np.array(\n",
    "    [\n",
    "        [80, 86],\n",
    "        [82, 80],\n",
    "        [85, 78],\n",
    "        [90, 90],\n",
    "        [86, 82],\n",
    "        [82, 90],\n",
    "        [78, 80],\n",
    "        [92, 94]\n",
    "    ]\n",
    ")\n",
    "data_ndarray"
   ]
  },
  {
   "cell_type": "code",
   "execution_count": 118,
   "id": "762cea34",
   "metadata": {},
   "outputs": [
    {
     "data": {
      "text/plain": [
       "matrix([[80, 86],\n",
       "        [82, 80],\n",
       "        [85, 78],\n",
       "        [90, 90],\n",
       "        [86, 82],\n",
       "        [82, 90],\n",
       "        [78, 80],\n",
       "        [92, 94]])"
      ]
     },
     "execution_count": 118,
     "metadata": {},
     "output_type": "execute_result"
    }
   ],
   "source": [
    "# matrix存储矩阵\n",
    "data_mat = np.mat([[80, 86],\n",
    "       [82, 80],\n",
    "       [85, 78],\n",
    "       [90, 90],\n",
    "       [86, 82],\n",
    "       [82, 90],\n",
    "       [78, 80],\n",
    "       [92, 94]])\n",
    "data_mat"
   ]
  },
  {
   "cell_type": "code",
   "execution_count": 119,
   "id": "e619ba40",
   "metadata": {},
   "outputs": [
    {
     "data": {
      "text/plain": [
       "numpy.matrix"
      ]
     },
     "execution_count": 119,
     "metadata": {},
     "output_type": "execute_result"
    }
   ],
   "source": [
    "type(data_mat)"
   ]
  },
  {
   "cell_type": "code",
   "execution_count": 120,
   "id": "d0cfdd1a",
   "metadata": {},
   "outputs": [
    {
     "data": {
      "text/plain": [
       "array([[80, 86],\n",
       "       [82, 80],\n",
       "       [85, 78],\n",
       "       [90, 90],\n",
       "       [86, 82],\n",
       "       [82, 90],\n",
       "       [78, 80],\n",
       "       [92, 94]])"
      ]
     },
     "execution_count": 120,
     "metadata": {},
     "output_type": "execute_result"
    }
   ],
   "source": [
    "# 矩阵运算: \n",
    "# 矩阵乘法 -> 这里与线性代数的算法一样\n",
    "data_ndarray"
   ]
  },
  {
   "cell_type": "code",
   "execution_count": 121,
   "id": "98a3be1a",
   "metadata": {},
   "outputs": [
    {
     "data": {
      "text/plain": [
       "(8, 2)"
      ]
     },
     "execution_count": 121,
     "metadata": {},
     "output_type": "execute_result"
    }
   ],
   "source": [
    "data_ndarray.shape"
   ]
  },
  {
   "cell_type": "code",
   "execution_count": 122,
   "id": "49588f6d",
   "metadata": {},
   "outputs": [],
   "source": [
    "weights = np.array(\n",
    "    [[0.3],\n",
    "    [0.7]]\n",
    ")\n",
    "weights_mat = np.mat(\n",
    "    [[.3],\n",
    "    [.7]]\n",
    ")"
   ]
  },
  {
   "cell_type": "code",
   "execution_count": 123,
   "id": "9ebda0f5",
   "metadata": {},
   "outputs": [
    {
     "data": {
      "text/plain": [
       "(2, 1)"
      ]
     },
     "execution_count": 123,
     "metadata": {},
     "output_type": "execute_result"
    }
   ],
   "source": [
    "weights.shape"
   ]
  },
  {
   "cell_type": "code",
   "execution_count": 124,
   "id": "899d2155",
   "metadata": {},
   "outputs": [
    {
     "data": {
      "text/plain": [
       "array([[84.2],\n",
       "       [80.6],\n",
       "       [80.1],\n",
       "       [90. ],\n",
       "       [83.2],\n",
       "       [87.6],\n",
       "       [79.4],\n",
       "       [93.4]])"
      ]
     },
     "execution_count": 124,
     "metadata": {},
     "output_type": "execute_result"
    }
   ],
   "source": [
    "# (8,2) * (2,1) -> (8,1)\n",
    "# 矩阵运算:\n",
    "np.matmul(data_ndarray, weights) # (8, 1)"
   ]
  },
  {
   "cell_type": "code",
   "execution_count": 125,
   "id": "39614683",
   "metadata": {},
   "outputs": [
    {
     "data": {
      "text/plain": [
       "array([[84.2],\n",
       "       [80.6],\n",
       "       [80.1],\n",
       "       [90. ],\n",
       "       [83.2],\n",
       "       [87.6],\n",
       "       [79.4],\n",
       "       [93.4]])"
      ]
     },
     "execution_count": 125,
     "metadata": {},
     "output_type": "execute_result"
    }
   ],
   "source": [
    "np.dot(data_ndarray, weights) # np.dot也是矩阵乘法"
   ]
  },
  {
   "cell_type": "code",
   "execution_count": 126,
   "id": "6adc232d",
   "metadata": {},
   "outputs": [
    {
     "ename": "ValueError",
     "evalue": "matmul: Input operand 1 has a mismatch in its core dimension 0, with gufunc signature (n?,k),(k,m?)->(n?,m?) (size 2 is different from 6)",
     "output_type": "error",
     "traceback": [
      "\u001B[1;31m---------------------------------------------------------------------------\u001B[0m",
      "\u001B[1;31mValueError\u001B[0m                                Traceback (most recent call last)",
      "Input \u001B[1;32mIn [126]\u001B[0m, in \u001B[0;36m<module>\u001B[1;34m\u001B[0m\n\u001B[1;32m----> 1\u001B[0m \u001B[43mdata\u001B[49m\u001B[43m \u001B[49m\u001B[38;5;241;43m@\u001B[39;49m\u001B[43m \u001B[49m\u001B[43mweights\u001B[49m\n",
      "\u001B[1;31mValueError\u001B[0m: matmul: Input operand 1 has a mismatch in its core dimension 0, with gufunc signature (n?,k),(k,m?)->(n?,m?) (size 2 is different from 6)"
     ]
    }
   ],
   "source": [
    "data @ weights # 这是ndarray之间, 直接用运算符进行矩阵乘法(拓展内容)"
   ]
  },
  {
   "cell_type": "code",
   "execution_count": 127,
   "id": "11232981",
   "metadata": {},
   "outputs": [
    {
     "data": {
      "text/plain": [
       "matrix([[84.2],\n",
       "        [80.6],\n",
       "        [80.1],\n",
       "        [90. ],\n",
       "        [83.2],\n",
       "        [87.6],\n",
       "        [79.4],\n",
       "        [93.4]])"
      ]
     },
     "execution_count": 127,
     "metadata": {},
     "output_type": "execute_result"
    }
   ],
   "source": [
    "# 对于matrix数据类型, 乘除法直接使用运算符即可\n",
    "data_mat * weights_mat"
   ]
  },
  {
   "cell_type": "code",
   "execution_count": 128,
   "id": "195b4470",
   "metadata": {
    "pycharm": {
     "name": "#%%\n"
    }
   },
   "outputs": [
    {
     "data": {
      "text/plain": [
       "(8, 2)"
      ]
     },
     "execution_count": 128,
     "metadata": {},
     "output_type": "execute_result"
    }
   ],
   "source": [
    "data_ndarray.shape"
   ]
  },
  {
   "cell_type": "code",
   "execution_count": 129,
   "id": "9a984940",
   "metadata": {
    "pycharm": {
     "name": "#%%\n"
    }
   },
   "outputs": [
    {
     "data": {
      "text/plain": [
       "(2, 1)"
      ]
     },
     "execution_count": 129,
     "metadata": {},
     "output_type": "execute_result"
    }
   ],
   "source": [
    "weights.shape"
   ]
  },
  {
   "cell_type": "code",
   "execution_count": 130,
   "id": "bc716a30",
   "metadata": {
    "pycharm": {
     "name": "#%%\n"
    }
   },
   "outputs": [],
   "source": [
    "# 显然data_ndarray和weights不能满足数组间的运算, 因为不满足广播机制\n",
    "# 第一个维度不相等, 且没有=1, 第二个维度有=1\n",
    "# 这两个是数组, 如果是martix类型, 那么就可以进行*运算, 但是他们是数组, 所以不可以运算\n",
    "# 所以, 矩阵一定是二维数组, 但是二维数组不一定是矩阵"
   ]
  },
  {
   "cell_type": "markdown",
   "id": "a0122fcd",
   "metadata": {
    "pycharm": {
     "name": "#%% md\n"
    }
   },
   "source": [
    "### 合并:\n",
    "       合并\n",
    "        np.hstack(tup) 水平合并数组\n",
    "        np.vstack(tup) 垂直合并数组\n",
    "        np.concatenate((a1, a2, ...), axis=0) 指定维度拼接.\n",
    "    分割:\n",
    "        np.split(A, indices_or_sections, axis=0)\n",
    "        按照indices_or_sections(一个列表) 分割A, axis指定维度"
   ]
  },
  {
   "cell_type": "code",
   "execution_count": 131,
   "id": "bda0008a",
   "metadata": {},
   "outputs": [
    {
     "data": {
      "text/plain": [
       "array([[ -6,  -5,  -3,   3,   4,  -5],\n",
       "       [ -3,  -6,  -7,   6, -10,   1],\n",
       "       [ -3,   3,  -2,  -9,  -2,   2],\n",
       "       [ -8, -10,  -7, -10,  -1,   4],\n",
       "       [ -7,  -1,  -4,   7,  -4,  -9],\n",
       "       [ -1,  -1,   2,   1,   4,   5],\n",
       "       [ -2,   7,   8,  -8,   2,  -9],\n",
       "       [ -9,  -8,   5,  -6,   2,   2]])"
      ]
     },
     "execution_count": 131,
     "metadata": {},
     "output_type": "execute_result"
    }
   ],
   "source": [
    "data"
   ]
  },
  {
   "cell_type": "code",
   "execution_count": 143,
   "id": "a3412353",
   "metadata": {},
   "outputs": [],
   "source": [
    "a = data[:2, 0:4]\n",
    "b = data[4:6, 0:4]"
   ]
  },
  {
   "cell_type": "code",
   "execution_count": 144,
   "id": "7e95ad93",
   "metadata": {},
   "outputs": [
    {
     "data": {
      "text/plain": [
       "array([[-6, -5, -3,  3],\n",
       "       [-3, -6, -7,  6]])"
      ]
     },
     "execution_count": 144,
     "metadata": {},
     "output_type": "execute_result"
    }
   ],
   "source": [
    "a"
   ]
  },
  {
   "cell_type": "code",
   "execution_count": 145,
   "id": "b1413a04",
   "metadata": {},
   "outputs": [
    {
     "data": {
      "text/plain": [
       "(2, 4)"
      ]
     },
     "execution_count": 145,
     "metadata": {},
     "output_type": "execute_result"
    }
   ],
   "source": [
    "a.shape"
   ]
  },
  {
   "cell_type": "code",
   "execution_count": 146,
   "id": "91084a6f",
   "metadata": {},
   "outputs": [
    {
     "data": {
      "text/plain": [
       "array([[-7, -1, -4,  7],\n",
       "       [-1, -1,  2,  1]])"
      ]
     },
     "execution_count": 146,
     "metadata": {},
     "output_type": "execute_result"
    }
   ],
   "source": [
    "b"
   ]
  },
  {
   "cell_type": "code",
   "execution_count": 147,
   "id": "64d330c9",
   "metadata": {},
   "outputs": [
    {
     "data": {
      "text/plain": [
       "(2, 4)"
      ]
     },
     "execution_count": 147,
     "metadata": {},
     "output_type": "execute_result"
    }
   ],
   "source": [
    "b.shape"
   ]
  },
  {
   "cell_type": "code",
   "execution_count": 148,
   "id": "f6c8e49e",
   "metadata": {},
   "outputs": [
    {
     "data": {
      "text/plain": [
       "array([[-6, -5],\n",
       "       [-3,  3],\n",
       "       [-3, -6],\n",
       "       [-7,  6]])"
      ]
     },
     "execution_count": 148,
     "metadata": {},
     "output_type": "execute_result"
    }
   ],
   "source": [
    "a.reshape((-1, 2)) \n",
    "# 这里-1表示自动极端行, 列表示为2"
   ]
  },
  {
   "cell_type": "code",
   "execution_count": 150,
   "id": "e13dab14",
   "metadata": {},
   "outputs": [
    {
     "data": {
      "text/plain": [
       "array([[-6, -5, -3,  3, -7, -1, -4,  7],\n",
       "       [-3, -6, -7,  6, -1, -1,  2,  1]])"
      ]
     },
     "execution_count": 150,
     "metadata": {},
     "output_type": "execute_result"
    }
   ],
   "source": [
    "np.hstack((a, b)) # 横向拼接"
   ]
  },
  {
   "cell_type": "code",
   "execution_count": 152,
   "id": "39047818",
   "metadata": {},
   "outputs": [
    {
     "data": {
      "text/plain": [
       "array([[-6, -5, -3,  3],\n",
       "       [-3, -6, -7,  6],\n",
       "       [-7, -1, -4,  7],\n",
       "       [-1, -1,  2,  1]])"
      ]
     },
     "execution_count": 152,
     "metadata": {},
     "output_type": "execute_result"
    }
   ],
   "source": [
    "np.vstack((a, b)) # 竖向拼接"
   ]
  },
  {
   "cell_type": "code",
   "execution_count": 154,
   "id": "8684c8eb",
   "metadata": {},
   "outputs": [
    {
     "data": {
      "text/plain": [
       "array([[-6, -5, -3,  3],\n",
       "       [-3, -6, -7,  6],\n",
       "       [-7, -1, -4,  7],\n",
       "       [-1, -1,  2,  1]])"
      ]
     },
     "execution_count": 154,
     "metadata": {},
     "output_type": "execute_result"
    }
   ],
   "source": [
    "np.concatenate((a, b), axis=0) # 按照维度进行拼接"
   ]
  },
  {
   "cell_type": "markdown",
   "id": "a8b26699",
   "metadata": {},
   "source": [
    "### Numpy读取\n",
    "    numpy无法读取字符串类型, 只能读取纯数字类型的文件, 但是后面的pandas可以完美处理这个问题\n",
    "    np.genfromtxt(fname[, dtype, comments, ...], delimiter=)\n",
    "    功能: 加载数据文件\n",
    "    参数:\n",
    "        fname: 数据文件路径\n",
    "        delimiter: 指定分隔符"
   ]
  },
  {
   "cell_type": "code",
   "execution_count": 157,
   "id": "15ca4d89",
   "metadata": {},
   "outputs": [],
   "source": [
    "data =np.genfromtxt(\"test.csv\", delimiter=\",\")\n",
    "# 参数: 文件路径, 指定的分隔符"
   ]
  },
  {
   "cell_type": "code",
   "execution_count": 156,
   "id": "7cc93d4a",
   "metadata": {},
   "outputs": [
    {
     "data": {
      "text/plain": [
       "array([[  nan,   nan,   nan,   nan],\n",
       "       [  1. , 123. ,   1.4,  23. ],\n",
       "       [  2. , 110. ,   nan,  18. ],\n",
       "       [  3. ,   nan,   2.1,  19. ]])"
      ]
     },
     "execution_count": 156,
     "metadata": {},
     "output_type": "execute_result"
    }
   ],
   "source": [
    "data\n",
    "# 首先第一行没有解释出来, 应该是字符串类型,  但是到了数组中确实nan\n",
    "# 其次, 有缺失值, 在数组中也是nan\n",
    "# numpy是运算工具, 而不是读取数据工具"
   ]
  },
  {
   "cell_type": "code",
   "execution_count": 158,
   "id": "214c454c",
   "metadata": {},
   "outputs": [],
   "source": [
    "# 使用numpy处理缺失值\n",
    "def fill_nan_by_column_mean(t):\n",
    "    for i in range(t.shape[1]): # 遍历列\n",
    "        # 计算nan的个数\n",
    "        nan_num = np.count_nonzero(t[:, i][t[:, i] != t[:, i]])\n",
    "        if nan_num > 0:\n",
    "            now_col = t[:, i]\n",
    "            # 求和\n",
    "            now_col_not_nan = now_col[np.isnan(now_col) == False].sum()\n",
    "            # 和/个数\n",
    "            now_col_mean = now_col_not_nan / (t.shape[0] - nan_num) # 平均值\n",
    "            # 赋值给now_col\n",
    "            now_col[np.isnan(now_col)] = now_col_mean\n",
    "            # 赋值给t，即更新t的当前列\n",
    "            t[:, i] = now_col\n",
    "    return t"
   ]
  },
  {
   "cell_type": "code",
   "execution_count": 159,
   "id": "6bf340ad",
   "metadata": {},
   "outputs": [
    {
     "data": {
      "text/plain": [
       "array([[  nan,   nan,   nan,   nan],\n",
       "       [  1. , 123. ,   1.4,  23. ],\n",
       "       [  2. , 110. ,   nan,  18. ],\n",
       "       [  3. ,   nan,   2.1,  19. ]])"
      ]
     },
     "execution_count": 159,
     "metadata": {},
     "output_type": "execute_result"
    }
   ],
   "source": [
    "data"
   ]
  },
  {
   "cell_type": "code",
   "execution_count": 160,
   "id": "acbae1ee",
   "metadata": {},
   "outputs": [
    {
     "data": {
      "text/plain": [
       "array([[  2.  , 116.5 ,   1.75,  20.  ],\n",
       "       [  1.  , 123.  ,   1.4 ,  23.  ],\n",
       "       [  2.  , 110.  ,   1.75,  18.  ],\n",
       "       [  3.  , 116.5 ,   2.1 ,  19.  ]])"
      ]
     },
     "execution_count": 160,
     "metadata": {},
     "output_type": "execute_result"
    }
   ],
   "source": [
    "fill_nan_by_column_mean(data)\n",
    "# 成功处理了异常值."
   ]
  },
  {
   "cell_type": "code",
   "execution_count": null,
   "id": "e08d7e9e",
   "metadata": {},
   "outputs": [],
   "source": []
  }
 ],
 "metadata": {
  "kernelspec": {
   "display_name": "Python 3 (ipykernel)",
   "language": "python",
   "name": "python3"
  },
  "language_info": {
   "codemirror_mode": {
    "name": "ipython",
    "version": 3
   },
   "file_extension": ".py",
   "mimetype": "text/x-python",
   "name": "python",
   "nbconvert_exporter": "python",
   "pygments_lexer": "ipython3",
   "version": "3.9.9"
  },
  "latex_envs": {
   "LaTeX_envs_menu_present": true,
   "autoclose": false,
   "autocomplete": true,
   "bibliofile": "biblio.bib",
   "cite_by": "apalike",
   "current_citInitial": 1,
   "eqLabelWithNumbers": true,
   "eqNumInitial": 1,
   "hotkeys": {
    "equation": "Ctrl-E",
    "itemize": "Ctrl-I"
   },
   "labels_anchors": false,
   "latex_user_defs": false,
   "report_style_numbering": false,
   "user_envs_cfg": false
  }
 },
 "nbformat": 4,
 "nbformat_minor": 5
}