{
 "cells": [
  {
   "cell_type": "code",
   "execution_count": 8,
   "metadata": {
    "collapsed": true,
    "pycharm": {
     "name": "#%%\n"
    }
   },
   "outputs": [],
   "source": [
    "import matplotlib.pyplot as plt\n",
    "import pandas as pd\n",
    "\n",
    "data = pd.read_csv(\"工作簿1.csv\")"
   ]
  },
  {
   "cell_type": "code",
   "execution_count": 9,
   "outputs": [
    {
     "data": {
      "text/plain": "  益滴项目（上市）  单价(元)  平均月销量（个）        收入（元）        成本（元）       资产（元）       负债（元）  \\\n0      第一年    730      3157  12304460.07  12091569.48  1520488.76   795310.13   \n1      第二年    730      3535  12580273.91  12349069.24  2011488.44  1200724.96   \n2      第三年    730      4667  13406824.35  13078026.78  2547995.22  1661828.53   \n3      第四年    730      6195  14521957.07  14098517.77  4243246.62  3195188.56   \n4      第五年    730      6331  14621854.46  14207498.82  4896046.28  3757248.38   \n\n     营业利润（元）     净利润（元）  \n0  125612.66  115282.07  \n1   84674.59   75091.39  \n2  111806.74   94434.74  \n3  137138.47  114739.07  \n4  104421.09   88682.83  ",
      "text/html": "<div>\n<style scoped>\n    .dataframe tbody tr th:only-of-type {\n        vertical-align: middle;\n    }\n\n    .dataframe tbody tr th {\n        vertical-align: top;\n    }\n\n    .dataframe thead th {\n        text-align: right;\n    }\n</style>\n<table border=\"1\" class=\"dataframe\">\n  <thead>\n    <tr style=\"text-align: right;\">\n      <th></th>\n      <th>益滴项目（上市）</th>\n      <th>单价(元)</th>\n      <th>平均月销量（个）</th>\n      <th>收入（元）</th>\n      <th>成本（元）</th>\n      <th>资产（元）</th>\n      <th>负债（元）</th>\n      <th>营业利润（元）</th>\n      <th>净利润（元）</th>\n    </tr>\n  </thead>\n  <tbody>\n    <tr>\n      <th>0</th>\n      <td>第一年</td>\n      <td>730</td>\n      <td>3157</td>\n      <td>12304460.07</td>\n      <td>12091569.48</td>\n      <td>1520488.76</td>\n      <td>795310.13</td>\n      <td>125612.66</td>\n      <td>115282.07</td>\n    </tr>\n    <tr>\n      <th>1</th>\n      <td>第二年</td>\n      <td>730</td>\n      <td>3535</td>\n      <td>12580273.91</td>\n      <td>12349069.24</td>\n      <td>2011488.44</td>\n      <td>1200724.96</td>\n      <td>84674.59</td>\n      <td>75091.39</td>\n    </tr>\n    <tr>\n      <th>2</th>\n      <td>第三年</td>\n      <td>730</td>\n      <td>4667</td>\n      <td>13406824.35</td>\n      <td>13078026.78</td>\n      <td>2547995.22</td>\n      <td>1661828.53</td>\n      <td>111806.74</td>\n      <td>94434.74</td>\n    </tr>\n    <tr>\n      <th>3</th>\n      <td>第四年</td>\n      <td>730</td>\n      <td>6195</td>\n      <td>14521957.07</td>\n      <td>14098517.77</td>\n      <td>4243246.62</td>\n      <td>3195188.56</td>\n      <td>137138.47</td>\n      <td>114739.07</td>\n    </tr>\n    <tr>\n      <th>4</th>\n      <td>第五年</td>\n      <td>730</td>\n      <td>6331</td>\n      <td>14621854.46</td>\n      <td>14207498.82</td>\n      <td>4896046.28</td>\n      <td>3757248.38</td>\n      <td>104421.09</td>\n      <td>88682.83</td>\n    </tr>\n  </tbody>\n</table>\n</div>"
     },
     "execution_count": 9,
     "metadata": {},
     "output_type": "execute_result"
    }
   ],
   "source": [
    "data"
   ],
   "metadata": {
    "collapsed": false,
    "pycharm": {
     "name": "#%%\n"
    }
   }
  },
  {
   "cell_type": "code",
   "execution_count": 28,
   "outputs": [
    {
     "data": {
      "text/plain": "<Figure size 720x480 with 1 Axes>",
      "image/png": "[encoded data removed]"
     },
     "metadata": {
      "needs_background": "light"
     },
     "output_type": "display_data"
    }
   ],
   "source": [
    "# 创建数据\n",
    "x = range(5)\n",
    "x_label = [f\"第{i+1}年\" for i in x]\n",
    "price = data.iloc[:, 1] # 单价\n",
    "sales = data.iloc[:, 2] # 平均月销量\n",
    "income = data.iloc[:, 3] # 收入\n",
    "cost = data.iloc[:, 4] # 成本\n",
    "\n",
    "\n",
    "width = 0.2\n",
    "plt.figure(figsize=(12, 8), dpi=60)\n",
    "plt.bar(x, price, width=width)\n",
    "plt.bar([i + width for i in x], sales, width=width)\n",
    "plt.bar([i + width * 2 for i in x], income, width=width)\n",
    "plt.bar([i + width * 3 for i in x], cost, width=width)\n",
    "plt.bar\n",
    "\n",
    "plt.show()"
   ],
   "metadata": {
    "collapsed": false,
    "pycharm": {
     "name": "#%%\n"
    }
   }
  }
 ],
 "metadata": {
  "kernelspec": {
   "display_name": "Python 3 (ipykernel)",
   "language": "python",
   "name": "python3"
  },
  "language_info": {
   "codemirror_mode": {
    "name": "ipython",
    "version": 3
   },
   "file_extension": ".py",
   "mimetype": "text/x-python",
   "name": "python",
   "nbconvert_exporter": "python",
   "pygments_lexer": "ipython3",
   "version": "3.9.9"
  },
  "latex_envs": {
   "LaTeX_envs_menu_present": true,
   "autoclose": false,
   "autocomplete": true,
   "bibliofile": "biblio.bib",
   "cite_by": "apalike",
   "current_citInitial": 1,
   "eqLabelWithNumbers": true,
   "eqNumInitial": 1,
   "hotkeys": {
    "equation": "Ctrl-E",
    "itemize": "Ctrl-I"
   },
   "labels_anchors": false,
   "latex_user_defs": false,
   "report_style_numbering": false,
   "user_envs_cfg": false
  }
 },
 "nbformat": 4,
 "nbformat_minor": 1
}