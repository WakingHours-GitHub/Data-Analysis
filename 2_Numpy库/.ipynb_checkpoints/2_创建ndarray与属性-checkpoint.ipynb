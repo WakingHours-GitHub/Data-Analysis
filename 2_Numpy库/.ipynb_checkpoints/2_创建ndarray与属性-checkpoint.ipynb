{
 "cells": [
  {
   "cell_type": "markdown",
   "id": "dbf55b4d",
   "metadata": {},
   "source": [
    "## 创建ndarray对象\n",
    "通过 NumPy 的内置函数 array() 可以创建 ndarray 对象，其语法格式如下：\n",
    "\n",
    "<b>numpy.array(object, dtype = None, copy = True, order = None,subok=False,ndmin = 0)</b>\n",
    "\n",
    "参数说明   \n",
    "\n",
    "| 序号 | 参数 | 描述说明 |\n",
    "| :--- | :--- | :--- |\n",
    "| 1      | object| 表示一个数组序列。       |\n",
    "| 2   | dtype | 可选参数，通过它可以更改数组的数据类型。        |\n",
    "| 3      | copy | 可选参数，表示数组能否被复制，默认是 True。        |\n",
    "| 4      | ndmin |  用于指定数组的维度。       |\n",
    "| 5      | subok |  可选参数，类型为bool值，默认False。为True，使用object的内部数据类型；False：使用object数组的数据类型。|"
   ]
  },
  {
   "cell_type": "code",
   "execution_count": 5,
   "id": "6e5716d8",
   "metadata": {},
   "outputs": [],
   "source": [
    "import numpy as np\n",
    "# 创建ndarray对象"
   ]
  },
  {
   "cell_type": "code",
   "execution_count": 4,
   "id": "f6d51524",
   "metadata": {},
   "outputs": [
    {
     "data": {
      "text/plain": [
       "array([1, 2, 3, 4, 5])"
      ]
     },
     "execution_count": 4,
     "metadata": {},
     "output_type": "execute_result"
    }
   ],
   "source": [
    "# 可以使用任何序列类型数据进行生成对象.\n",
    "np.array([1, 2 ,3 ,4 ,5]) # 使用list生成对象."
   ]
  },
  {
   "cell_type": "code",
   "execution_count": 8,
   "id": "3716667d",
   "metadata": {},
   "outputs": [
    {
     "data": {
      "text/plain": [
       "array([0, 1, 2, 3, 4, 5, 6, 7, 8, 9])"
      ]
     },
     "execution_count": 8,
     "metadata": {},
     "output_type": "execute_result"
    }
   ],
   "source": [
    "np.array([i for i in range(10)]) #  使用生成器生成ndarray序列."
   ]
  },
  {
   "cell_type": "code",
   "execution_count": 10,
   "id": "1b7d9003",
   "metadata": {},
   "outputs": [
    {
     "data": {
      "text/plain": [
       "array(['1', '2', '3', '4', '5', 'a'], dtype='<U11')"
      ]
     },
     "execution_count": 10,
     "metadata": {},
     "output_type": "execute_result"
    }
   ],
   "source": [
    "# 列表中元素不相同的情况\n",
    "np.array([1, 2, 3, 4, 5, 'a'])\n",
    "# 统一转换成占用内存最大的那种数据类型. 这里就是U11"
   ]
  },
  {
   "cell_type": "code",
   "execution_count": 25,
   "id": "25e484c5",
   "metadata": {},
   "outputs": [
    {
     "data": {
      "text/plain": [
       "dtype('float64')"
      ]
     },
     "execution_count": 25,
     "metadata": {},
     "output_type": "execute_result"
    }
   ],
   "source": [
    "# np.array()参数练习\n",
    "# dtype: 指定数据类型\n",
    "a = np.array([1, 2, 3], dtype=np.float32)\n",
    "# 类型为float32.\n",
    "a # array([1., 2., 3.], dtype=float32)\n",
    "\n",
    "b = np.array([1, 2, 3], dtype=\"float\")\n",
    "b # array([1., 2., 3.], dtype=float64)\n"
   ]
  },
  {
   "cell_type": "code",
   "execution_count": null,
   "id": "1fb9a9a1",
   "metadata": {},
   "outputs": [],
   "source": []
  },
  {
   "cell_type": "code",
   "execution_count": null,
   "id": "a2b851ad",
   "metadata": {},
   "outputs": [],
   "source": []
  },
  {
   "cell_type": "code",
   "execution_count": null,
   "id": "f4aaf875",
   "metadata": {},
   "outputs": [],
   "source": []
  },
  {
   "cell_type": "code",
   "execution_count": null,
   "id": "284ec3ad",
   "metadata": {},
   "outputs": [],
   "source": []
  },
  {
   "cell_type": "code",
   "execution_count": null,
   "id": "e2f2c20b",
   "metadata": {},
   "outputs": [],
   "source": []
  },
  {
   "cell_type": "code",
   "execution_count": null,
   "id": "91094867",
   "metadata": {},
   "outputs": [],
   "source": []
  },
  {
   "cell_type": "code",
   "execution_count": null,
   "id": "c5d58172",
   "metadata": {},
   "outputs": [],
   "source": []
  },
  {
   "cell_type": "code",
   "execution_count": null,
   "id": "38342605",
   "metadata": {},
   "outputs": [],
   "source": []
  },
  {
   "cell_type": "code",
   "execution_count": null,
   "id": "fd07bc11",
   "metadata": {},
   "outputs": [],
   "source": []
  },
  {
   "cell_type": "code",
   "execution_count": null,
   "id": "44af061a",
   "metadata": {},
   "outputs": [],
   "source": []
  },
  {
   "cell_type": "code",
   "execution_count": null,
   "id": "04d59af5",
   "metadata": {},
   "outputs": [],
   "source": []
  },
  {
   "cell_type": "code",
   "execution_count": null,
   "id": "d9848690",
   "metadata": {},
   "outputs": [],
   "source": []
  },
  {
   "cell_type": "code",
   "execution_count": null,
   "id": "2bc98d14",
   "metadata": {},
   "outputs": [],
   "source": []
  },
  {
   "cell_type": "code",
   "execution_count": null,
   "id": "3f440c03",
   "metadata": {},
   "outputs": [],
   "source": []
  },
  {
   "cell_type": "code",
   "execution_count": null,
   "id": "eec01452",
   "metadata": {},
   "outputs": [],
   "source": []
  },
  {
   "cell_type": "code",
   "execution_count": null,
   "id": "b2ad025d",
   "metadata": {},
   "outputs": [],
   "source": []
  },
  {
   "cell_type": "code",
   "execution_count": null,
   "id": "2837c49c",
   "metadata": {},
   "outputs": [],
   "source": []
  },
  {
   "cell_type": "code",
   "execution_count": null,
   "id": "a251d857",
   "metadata": {},
   "outputs": [],
   "source": []
  },
  {
   "cell_type": "code",
   "execution_count": null,
   "id": "bcbbc39a",
   "metadata": {},
   "outputs": [],
   "source": []
  },
  {
   "cell_type": "code",
   "execution_count": null,
   "id": "385b096e",
   "metadata": {},
   "outputs": [],
   "source": []
  }
 ],
 "metadata": {
  "kernelspec": {
   "display_name": "Python 3 (ipykernel)",
   "language": "python",
   "name": "python3"
  },
  "language_info": {
   "codemirror_mode": {
    "name": "ipython",
    "version": 3
   },
   "file_extension": ".py",
   "mimetype": "text/x-python",
   "name": "python",
   "nbconvert_exporter": "python",
   "pygments_lexer": "ipython3",
   "version": "3.9.9"
  }
 },
 "nbformat": 4,
 "nbformat_minor": 5
}
