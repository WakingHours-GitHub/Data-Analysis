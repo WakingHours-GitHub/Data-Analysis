{
 "cells": [
  {
   "cell_type": "code",
   "execution_count": 3,
   "id": "8fe19078",
   "metadata": {},
   "outputs": [],
   "source": [
    "import numpy as np # 导入numpy"
   ]
  },
  {
   "cell_type": "code",
   "execution_count": 4,
   "id": "0c1fcab1",
   "metadata": {},
   "outputs": [],
   "source": [
    "score = np.array([[80, 89, 86, 67, 79],\n",
    "[78, 97, 89, 67, 81],\n",
    "[90, 94, 78, 67, 74],\n",
    "[91, 91, 90, 67, 69],\n",
    "[76, 87, 75, 67, 86],\n",
    "[70, 79, 84, 67, 84],\n",
    "[94, 92, 93, 67, 64],\n",
    "[86, 85, 83, 67, 80]]) # 从现有数据生成ndarray数组\n",
    "\n",
    "# 从二维列表直接生成到ndarray\n",
    "# API: np.array()"
   ]
  },
  {
   "cell_type": "code",
   "execution_count": 5,
   "id": "a3ef4846",
   "metadata": {},
   "outputs": [
    {
     "data": {
      "text/plain": [
       "array([[80, 89, 86, 67, 79],\n",
       "       [78, 97, 89, 67, 81],\n",
       "       [90, 94, 78, 67, 74],\n",
       "       [91, 91, 90, 67, 69],\n",
       "       [76, 87, 75, 67, 86],\n",
       "       [70, 79, 84, 67, 84],\n",
       "       [94, 92, 93, 67, 64],\n",
       "       [86, 85, 83, 67, 80]])"
      ]
     },
     "execution_count": 5,
     "metadata": {},
     "output_type": "execute_result"
    }
   ],
   "source": [
    "score"
   ]
  },
  {
   "cell_type": "code",
   "execution_count": 6,
   "id": "94f025b0",
   "metadata": {},
   "outputs": [
    {
     "data": {
      "text/plain": [
       "numpy.ndarray"
      ]
     },
     "execution_count": 6,
     "metadata": {},
     "output_type": "execute_result"
    }
   ],
   "source": [
    "type(score)"
   ]
  },
  {
   "cell_type": "markdown",
   "id": "17feba10",
   "metadata": {},
   "source": [
    "这种嵌套列表的形式，我们为什么不使用python原生list类型，而是使用ndarray"
   ]
  },
  {
   "cell_type": "markdown",
   "id": "185e1a0c",
   "metadata": {},
   "source": [
    "### ndarray和Python原生list对比(效率对比)"
   ]
  },
  {
   "cell_type": "code",
   "execution_count": 7,
   "id": "d439e41f",
   "metadata": {},
   "outputs": [],
   "source": [
    "import random \n",
    "import time\n",
    "\n",
    "# 生成一个大一点的数组\n",
    "python_list = []\n",
    "for i in range(1000000):\n",
    "    python_list.append(random.random())\n",
    "# 生成ndarray, 直接从现有元素生成\n",
    "ndarray_list = np.array(python_list)\n",
    "\n",
    "\n"
   ]
  },
  {
   "cell_type": "code",
   "execution_count": 8,
   "id": "a2614f6f",
   "metadata": {},
   "outputs": [
    {
     "data": {
      "text/plain": [
       "1000000"
      ]
     },
     "execution_count": 8,
     "metadata": {},
     "output_type": "execute_result"
    }
   ],
   "source": [
    "len(ndarray_list)"
   ]
  },
  {
   "cell_type": "code",
   "execution_count": 9,
   "id": "8485526f",
   "metadata": {},
   "outputs": [
    {
     "name": "stdout",
     "output_type": "stream",
     "text": [
      "原生list: 0.004986763000488281,\n",
      " ndarray: 0.0019946098\n"
     ]
    }
   ],
   "source": [
    "# 原生list求和\n",
    "t1 = time.time()\n",
    "list_sum = sum(python_list)\n",
    "t2 = time.time()\n",
    "d1 = t2-t1\n",
    "\n",
    "# ndarray类型求和\n",
    "t3 = time.time()\n",
    "ndarray_list = np.sum(ndarray_list)\n",
    "t4 = time.time()\n",
    "d2 = t4 - t3\n",
    "\n",
    "print(f\"原生list: {d1},\\n ndarray: %.10f\" % d2)"
   ]
  },
  {
   "cell_type": "markdown",
   "id": "7fa95d6b",
   "metadata": {},
   "source": [
    "    可见ndarray的计算速度要快上很多, 很节约时间. 后面做机器学习的时候, 需要大量的数据计算.\n",
    "    此时使用, numpy计算的时候, 速度就会快上很多\n",
    "    \n",
    "    并且, Numpy针对ndarray对象的操作和运算进行了优化设计, 所以数组的存储效率和输入输出性能优于python中的嵌套列表, 数组越大, Numpy的优势就越明显\n",
    "   "
   ]
  },
  {
   "cell_type": "markdown",
   "id": "7dce7107",
   "metadata": {},
   "source": [
    "### ndarray的属性\n",
    "          属性名字:           属性解释:\n",
    "        ndarray.shape      数组维度的元组\n",
    "        ndarray.ndim       数组维度\n",
    "        ndarray.size       数组中的元素数量\n",
    "        ndarray.itemsize   一个数组元素的长度(字节)\n",
    "        ndarray.dtype      数组元素的类型\n",
    "    常用的:\n",
    "        shape -> 可以知道维度, 和大小: ndim, size\n",
    "        dtype -> itemsize"
   ]
  },
  {
   "cell_type": "code",
   "execution_count": 10,
   "id": "4c22906b",
   "metadata": {},
   "outputs": [
    {
     "data": {
      "text/plain": [
       "array([[80, 89, 86, 67, 79],\n",
       "       [78, 97, 89, 67, 81],\n",
       "       [90, 94, 78, 67, 74],\n",
       "       [91, 91, 90, 67, 69],\n",
       "       [76, 87, 75, 67, 86],\n",
       "       [70, 79, 84, 67, 84],\n",
       "       [94, 92, 93, 67, 64],\n",
       "       [86, 85, 83, 67, 80]])"
      ]
     },
     "execution_count": 10,
     "metadata": {},
     "output_type": "execute_result"
    }
   ],
   "source": [
    "score # 刚才生成的ndarray数据"
   ]
  },
  {
   "cell_type": "code",
   "execution_count": 11,
   "id": "9aecf169",
   "metadata": {},
   "outputs": [
    {
     "data": {
      "text/plain": [
       "(8, 5)"
      ]
     },
     "execution_count": 11,
     "metadata": {},
     "output_type": "execute_result"
    }
   ],
   "source": [
    "# 查看score的形状:\n",
    "score.shape # (8, 5)\n"
   ]
  },
  {
   "cell_type": "code",
   "execution_count": 12,
   "id": "b6c06311",
   "metadata": {},
   "outputs": [
    {
     "data": {
      "text/plain": [
       "2"
      ]
     },
     "execution_count": 12,
     "metadata": {},
     "output_type": "execute_result"
    }
   ],
   "source": [
    "# 查看维度 dimension\n",
    "score.ndim # 2\n"
   ]
  },
  {
   "cell_type": "code",
   "execution_count": 13,
   "id": "b837a1e8",
   "metadata": {},
   "outputs": [
    {
     "data": {
      "text/plain": [
       "40"
      ]
     },
     "execution_count": 13,
     "metadata": {},
     "output_type": "execute_result"
    }
   ],
   "source": [
    "# 查看数组元素的个数\n",
    "score.size # 40"
   ]
  },
  {
   "cell_type": "code",
   "execution_count": 14,
   "id": "6f9fa01a",
   "metadata": {},
   "outputs": [
    {
     "data": {
      "text/plain": [
       "dtype('int32')"
      ]
     },
     "execution_count": 14,
     "metadata": {},
     "output_type": "execute_result"
    }
   ],
   "source": [
    "# 查看ndarray的类型:\n",
    "score.dtype # dtypt('int32')"
   ]
  },
  {
   "cell_type": "code",
   "execution_count": 15,
   "id": "c748ae61",
   "metadata": {},
   "outputs": [
    {
     "data": {
      "text/plain": [
       "4"
      ]
     },
     "execution_count": 15,
     "metadata": {},
     "output_type": "execute_result"
    }
   ],
   "source": [
    "# 查看ndarray每个元素所占的字节个数\n",
    "score.itemsize # 4"
   ]
  },
  {
   "cell_type": "markdown",
   "id": "3e1685ad",
   "metadata": {},
   "source": [
    "### ndarray的形状"
   ]
  },
  {
   "cell_type": "code",
   "execution_count": 16,
   "id": "49a49250",
   "metadata": {},
   "outputs": [],
   "source": [
    "a = np.array(\n",
    "    [[1, 2, 3],\n",
    "    [4, 5, 6]]\n",
    ")\n",
    "b = np.array(\n",
    "    [1, 2, 3, 4]\n",
    ")\n",
    "c = np.array(\n",
    "    [\n",
    "        [[1,2,3],\n",
    "        [4,5,6],\n",
    "        [7,8,9]]\n",
    "    ]\n",
    ")"
   ]
  },
  {
   "cell_type": "code",
   "execution_count": 17,
   "id": "cefbea79",
   "metadata": {},
   "outputs": [
    {
     "data": {
      "text/plain": [
       "(2, 3)"
      ]
     },
     "execution_count": 17,
     "metadata": {},
     "output_type": "execute_result"
    }
   ],
   "source": [
    "a # array([[1, 2, 3],\n",
    "#        [4, 5, 6]])\n",
    "\n",
    "a.shape # (2, 3)\n"
   ]
  },
  {
   "cell_type": "code",
   "execution_count": 18,
   "id": "042dedad",
   "metadata": {},
   "outputs": [
    {
     "data": {
      "text/plain": [
       "(4,)"
      ]
     },
     "execution_count": 18,
     "metadata": {},
     "output_type": "execute_result"
    }
   ],
   "source": [
    "b # array([1, 2, 3, 4])\n",
    "\n",
    "b.shape # (4,)\n",
    "# 此时b是一维, 我们用元组表示其形状, 所以, 需要(,) 加上逗号以表示元组"
   ]
  },
  {
   "cell_type": "code",
   "execution_count": 19,
   "id": "17d139ba",
   "metadata": {},
   "outputs": [
    {
     "data": {
      "text/plain": [
       "array([[[1, 2, 3],\n",
       "        [4, 5, 6],\n",
       "        [7, 8, 9]]])"
      ]
     },
     "execution_count": 19,
     "metadata": {},
     "output_type": "execute_result"
    }
   ],
   "source": [
    "c"
   ]
  },
  {
   "cell_type": "code",
   "execution_count": 20,
   "id": "edc5c5f9",
   "metadata": {},
   "outputs": [
    {
     "data": {
      "text/plain": [
       "(1, 3, 3)"
      ]
     },
     "execution_count": 20,
     "metadata": {},
     "output_type": "execute_result"
    }
   ],
   "source": [
    "c.shape"
   ]
  },
  {
   "cell_type": "markdown",
   "id": "13e1e301",
   "metadata": {},
   "source": [
    "### ndarray的元素类型\n",
    "    不指定类型:\n",
    "    整形: 默认是int32\n",
    "    浮点型: 默认是float64"
   ]
  },
  {
   "cell_type": "code",
   "execution_count": 21,
   "id": "b2c76784",
   "metadata": {},
   "outputs": [],
   "source": [
    "# 直接从现有数据生成ndarray\n",
    "data = np.array([1.1, 2.2, 3.3])"
   ]
  },
  {
   "cell_type": "code",
   "execution_count": 22,
   "id": "f6063490",
   "metadata": {},
   "outputs": [
    {
     "data": {
      "text/plain": [
       "array([1.1, 2.2, 3.3])"
      ]
     },
     "execution_count": 22,
     "metadata": {},
     "output_type": "execute_result"
    }
   ],
   "source": [
    "data"
   ]
  },
  {
   "cell_type": "code",
   "execution_count": 23,
   "id": "b7814bc3",
   "metadata": {},
   "outputs": [
    {
     "data": {
      "text/plain": [
       "dtype('float64')"
      ]
     },
     "execution_count": 23,
     "metadata": {},
     "output_type": "execute_result"
    }
   ],
   "source": [
    "data.dtype # dtype('float64')"
   ]
  },
  {
   "cell_type": "code",
   "execution_count": 24,
   "id": "b25ccd8c",
   "metadata": {},
   "outputs": [
    {
     "data": {
      "text/plain": [
       "array([1.1, 1.2, 1.3], dtype=float32)"
      ]
     },
     "execution_count": 24,
     "metadata": {},
     "output_type": "execute_result"
    }
   ],
   "source": [
    "# 创建数组的时候指定元素类型\n",
    "np.array([1.1, 1.2, 1.3], dtype=np.float32)"
   ]
  },
  {
   "cell_type": "code",
   "execution_count": 25,
   "id": "bcc1c88c",
   "metadata": {},
   "outputs": [
    {
     "data": {
      "text/plain": [
       "array([1.1, 1.2], dtype=float32)"
      ]
     },
     "execution_count": 25,
     "metadata": {},
     "output_type": "execute_result"
    }
   ],
   "source": [
    "# 或者使用这种方法:\n",
    "np.array([1.1, 1.2], dtype=\"float32\")"
   ]
  },
  {
   "cell_type": "code",
   "execution_count": 26,
   "id": "2222f308",
   "metadata": {},
   "outputs": [
    {
     "data": {
      "text/plain": [
       "dtype('int32')"
      ]
     },
     "execution_count": 26,
     "metadata": {},
     "output_type": "execute_result"
    }
   ],
   "source": [
    "np.array([1, 2]).dtype"
   ]
  },
  {
   "cell_type": "markdown",
   "id": "4b607270",
   "metadata": {},
   "source": [
    "### 生成数组的方法:\n",
    "\n",
    "    基本操作:\n",
    "    ndarray.方法()\n",
    "    np.函数名()"
   ]
  },
  {
   "cell_type": "markdown",
   "id": "94e6c5f3",
   "metadata": {},
   "source": [
    "#### 生成0,1数组"
   ]
  },
  {
   "cell_type": "code",
   "execution_count": 27,
   "id": "e5b4b713",
   "metadata": {
    "scrolled": true
   },
   "outputs": [
    {
     "data": {
      "text/plain": [
       "array([[0., 0., 0., 0.],\n",
       "       [0., 0., 0., 0.],\n",
       "       [0., 0., 0., 0.]], dtype=float32)"
      ]
     },
     "execution_count": 27,
     "metadata": {},
     "output_type": "execute_result"
    }
   ],
   "source": [
    "# 1.生成0, 1数组:\n",
    "np.zeros(shape=(3,4), dtype=np.float32)"
   ]
  },
  {
   "cell_type": "code",
   "execution_count": 28,
   "id": "08eb7418",
   "metadata": {},
   "outputs": [
    {
     "data": {
      "text/plain": [
       "array([[1, 1, 1, 1],\n",
       "       [1, 1, 1, 1],\n",
       "       [1, 1, 1, 1]])"
      ]
     },
     "execution_count": 28,
     "metadata": {},
     "output_type": "execute_result"
    }
   ],
   "source": [
    "np.ones(shape=(3, 4), dtype=np.int32)"
   ]
  },
  {
   "cell_type": "code",
   "execution_count": 29,
   "id": "fbda864f",
   "metadata": {},
   "outputs": [
    {
     "data": {
      "text/plain": [
       "(2, 3)"
      ]
     },
     "execution_count": 29,
     "metadata": {},
     "output_type": "execute_result"
    }
   ],
   "source": [
    "# np.*_like(A)  # 以另一个数组作为参数, 创建一个形状大小相同的数组\n",
    "A = np.array(\n",
    "    [[1, 2, 3],\n",
    "    [4, 5, 6]]\n",
    ")\n",
    "A.shape"
   ]
  },
  {
   "cell_type": "code",
   "execution_count": 30,
   "id": "8e87cdcb",
   "metadata": {},
   "outputs": [
    {
     "data": {
      "text/plain": [
       "array([[1, 1, 1],\n",
       "       [1, 1, 1]])"
      ]
     },
     "execution_count": 30,
     "metadata": {},
     "output_type": "execute_result"
    }
   ],
   "source": [
    "A_ones = np.ones_like(A)\n",
    "A_ones # 创建和A大小相同的矩阵, 但是全1的.\n"
   ]
  },
  {
   "cell_type": "markdown",
   "id": "62c44ede",
   "metadata": {},
   "source": [
    "#### 2.从现有数据中生成"
   ]
  },
  {
   "cell_type": "markdown",
   "id": "882a24b6",
   "metadata": {},
   "source": [
    "     从现有数据中生成:\n",
    "     np.array(A) # 上面已经说过了.\n",
    "\n",
    "     numpy.array(object, dtype=None, copy=True, order='K', subok=False, ndmin=0) 深拷贝\n",
    "     np.copy() 深拷贝\n",
    "     np.asarray() 浅拷贝\n",
    "     \n",
    "     深拷贝: 复制一个新的对象, 不同的内存地址\n",
    "     浅拷贝: 拷贝引用, 地址\n",
    "     \n",
    "     浅拷贝只复制指向某个对象的指针，而不复制对象本身，新旧对象还是共享同一块内存。但深拷贝会另外创造一个一模一样的对象，新对象跟原对象不共享内存，修改新对象不会改到原对象。"
   ]
  },
  {
   "cell_type": "code",
   "execution_count": 31,
   "id": "d09459c3",
   "metadata": {},
   "outputs": [
    {
     "data": {
      "text/plain": [
       "array([[80, 89, 86, 67, 79],\n",
       "       [78, 97, 89, 67, 81],\n",
       "       [90, 94, 78, 67, 74],\n",
       "       [91, 91, 90, 67, 69],\n",
       "       [76, 87, 75, 67, 86],\n",
       "       [70, 79, 84, 67, 84],\n",
       "       [94, 92, 93, 67, 64],\n",
       "       [86, 85, 83, 67, 80]])"
      ]
     },
     "execution_count": 31,
     "metadata": {},
     "output_type": "execute_result"
    }
   ],
   "source": [
    "score # 刚才我们直接生成的数据"
   ]
  },
  {
   "cell_type": "code",
   "execution_count": 32,
   "id": "66684161",
   "metadata": {},
   "outputs": [
    {
     "data": {
      "text/plain": [
       "1804757774864"
      ]
     },
     "execution_count": 32,
     "metadata": {},
     "output_type": "execute_result"
    }
   ],
   "source": [
    "id(score) # 1575791255440"
   ]
  },
  {
   "cell_type": "code",
   "execution_count": 33,
   "id": "e4cbfb44",
   "metadata": {},
   "outputs": [],
   "source": [
    "# np.array(A) # 深拷贝\n",
    "data1 = np.array(score) # 直接从score生成ndarray数据\n"
   ]
  },
  {
   "cell_type": "code",
   "execution_count": 34,
   "id": "6307fc3e",
   "metadata": {},
   "outputs": [
    {
     "name": "stdout",
     "output_type": "stream",
     "text": [
      "1805046220816\n",
      "1804757774864\n"
     ]
    }
   ],
   "source": [
    "print(id(data1))\n",
    "print(id(score))\n",
    "# 深拷贝, 赋值一个新的数组对象"
   ]
  },
  {
   "cell_type": "code",
   "execution_count": 35,
   "id": "49eda29a",
   "metadata": {},
   "outputs": [
    {
     "data": {
      "text/plain": [
       "array([[80, 89, 86, 67, 79],\n",
       "       [78, 97, 89, 67, 81],\n",
       "       [90, 94, 78, 67, 74],\n",
       "       [91, 91, 90, 67, 69],\n",
       "       [76, 87, 75, 67, 86],\n",
       "       [70, 79, 84, 67, 84],\n",
       "       [94, 92, 93, 67, 64],\n",
       "       [86, 85, 83, 67, 80]])"
      ]
     },
     "execution_count": 35,
     "metadata": {},
     "output_type": "execute_result"
    }
   ],
   "source": [
    "data1 "
   ]
  },
  {
   "cell_type": "code",
   "execution_count": 36,
   "id": "a607001c",
   "metadata": {},
   "outputs": [],
   "source": [
    "# np.asarray() # 浅拷贝, 赋值一个新的数组\n",
    "data2 = np.asarray(score)"
   ]
  },
  {
   "cell_type": "code",
   "execution_count": 37,
   "id": "30401e40",
   "metadata": {},
   "outputs": [
    {
     "data": {
      "text/plain": [
       "array([[80, 89, 86, 67, 79],\n",
       "       [78, 97, 89, 67, 81],\n",
       "       [90, 94, 78, 67, 74],\n",
       "       [91, 91, 90, 67, 69],\n",
       "       [76, 87, 75, 67, 86],\n",
       "       [70, 79, 84, 67, 84],\n",
       "       [94, 92, 93, 67, 64],\n",
       "       [86, 85, 83, 67, 80]])"
      ]
     },
     "execution_count": 37,
     "metadata": {},
     "output_type": "execute_result"
    }
   ],
   "source": [
    "data2"
   ]
  },
  {
   "cell_type": "code",
   "execution_count": 38,
   "id": "3b886b82",
   "metadata": {},
   "outputs": [
    {
     "name": "stdout",
     "output_type": "stream",
     "text": [
      "id(data2): 1804757774864 \n",
      " id(score): 1804757774864\n"
     ]
    }
   ],
   "source": [
    "print(\"id(data2):\", id(data2), \"\\n\", \"id(score):\", id(score))\n",
    "# 可以发现两个内存地址是一样的. 这就是浅拷贝, 仅仅拷贝引用"
   ]
  },
  {
   "cell_type": "code",
   "execution_count": 39,
   "id": "fb8b8fe1",
   "metadata": {},
   "outputs": [
    {
     "data": {
      "text/plain": [
       "array([[80, 89, 86, 67, 79],\n",
       "       [78, 97, 89, 67, 81],\n",
       "       [90, 94, 78, 67, 74],\n",
       "       [91, 91, 90, 67, 69],\n",
       "       [76, 87, 75, 67, 86],\n",
       "       [70, 79, 84, 67, 84],\n",
       "       [94, 92, 93, 67, 64],\n",
       "       [86, 85, 83, 67, 80]])"
      ]
     },
     "execution_count": 39,
     "metadata": {},
     "output_type": "execute_result"
    }
   ],
   "source": [
    "# np.copy() 深拷贝:\n",
    "data3 = np.copy(score)\n",
    "data3"
   ]
  },
  {
   "cell_type": "code",
   "execution_count": 40,
   "id": "92bf474c",
   "metadata": {},
   "outputs": [
    {
     "name": "stdout",
     "output_type": "stream",
     "text": [
      "1805046221488\n",
      "1804757774864\n"
     ]
    }
   ],
   "source": [
    "print(id(data3))\n",
    "print(id(score)) \n",
    "# 深拷贝, 内存地址不同"
   ]
  },
  {
   "cell_type": "markdown",
   "id": "11e25c7d",
   "metadata": {},
   "source": [
    "#### 3.生成固定范围的数组\n",
    "    np.linspace(start, stop, num, endpoint, retstep, dtype)\n",
    "        生成: [start, stop] 一共有num个等间距的点(等差数列)\n",
    "\n",
    "    np.arange(start, stop, step, dtype)\n",
    "     -> range(start, stop, step)\n",
    "            生成: [a, b) c是步长"
   ]
  },
  {
   "cell_type": "code",
   "execution_count": 41,
   "id": "27f310ef",
   "metadata": {},
   "outputs": [
    {
     "data": {
      "text/plain": [
       "array([ 0. ,  2.5,  5. ,  7.5, 10. ])"
      ]
     },
     "execution_count": 41,
     "metadata": {},
     "output_type": "execute_result"
    }
   ],
   "source": [
    "np.linspace(0, 10, 5) # 等间距的生成array\n",
    "# 从0, 到10(两端包括), 生成5个点\n"
   ]
  },
  {
   "cell_type": "code",
   "execution_count": 42,
   "id": "67204afc",
   "metadata": {},
   "outputs": [
    {
     "data": {
      "text/plain": [
       "array([0, 2, 4, 6, 8])"
      ]
     },
     "execution_count": 42,
     "metadata": {},
     "output_type": "execute_result"
    }
   ],
   "source": [
    "# np.arange(start, stop, step)\n",
    "# 类似于range(), 前闭后开, 然后间距step\n",
    "np.arange(0, 10, 2) #"
   ]
  },
  {
   "cell_type": "markdown",
   "id": "53830ef3",
   "metadata": {
    "pycharm": {
     "name": "#%% md\n"
    }
   },
   "source": [
    "#### 4. 生成随机数组\n",
    "    np.random模块.\n",
    "    均匀分布:\n",
    "        np.random.rand(d0, d1, ..., dn)\n",
    "            rand函数根据给定维度生成[0,1)之间的数据，包含0，不包含1, 就是shape, 直接写入即可\n",
    "            dn表格每个维度\n",
    "            返回值为指定维度的array\n",
    "        np.random.uniform(low=0.0, high=1.0, size=None)\n",
    "            功能: 从一共均匀分布[low, high)中随机抽样\n",
    "            参数:\n",
    "                low: 采样下界, float类型, 默认值为0\n",
    "                high: 采样上界, float类型, 默认值为1\n",
    "                size: 输出样本数目, 为int或元组类型, 例如, size(m, n, k) 则输出mnk个样本吗, 默认值为1\n",
    "            返回:\n",
    "                ndarray类型, 其形状和参数size中的描述一样\n",
    "        np.random.randint(low, high=None, size=None, dtype='int')\n",
    "            从一个均匀分布中随机采样, 生成一个整数或者N维整数数组, 取值范围: 若high不为None时,\n",
    "            取[low, high)之间的随机整数, 否则取值[0, low)之间随机整数.\n",
    "\n",
    "\n",
    "    正态分布:\n",
    "        np.random.randn(d0, d1, ..., dn)\n",
    "            从标准正太分布中返回一个或多个样本值\n",
    "        np.random.normal(loc=0.0, scale=1.0, size=None)\n",
    "            参数:\n",
    "                loc: 均值, 坐标轴\n",
    "                scale: 标准差, 离散程度\n",
    "                size: 输出的size, 默认为None, 只输出一个值\n",
    "            返回一个正太分布的随机数矩阵\n",
    "        np.random.standard_normal(size=None)\n",
    "            返回指定形状的标准正态分布的数组"
   ]
  },
  {
   "cell_type": "code",
   "execution_count": 43,
   "id": "e1940fef",
   "metadata": {},
   "outputs": [
    {
     "data": {
      "text/plain": [
       "array([[0.21942663, 0.54608526, 0.14032826, 0.8511499 ],\n",
       "       [0.51279384, 0.31312776, 0.28400723, 0.94851602],\n",
       "       [0.59232014, 0.42629946, 0.01722861, 0.38360891]])"
      ]
     },
     "execution_count": 43,
     "metadata": {},
     "output_type": "execute_result"
    }
   ],
   "source": [
    "# np.random.rand()\n",
    "np.random.rand(3, 4)\n",
    "# 直接生成3行,4列的数据, 元素都在[0,1)之间"
   ]
  },
  {
   "cell_type": "code",
   "execution_count": 44,
   "id": "6f06622c",
   "metadata": {},
   "outputs": [
    {
     "data": {
      "text/plain": [
       "array([[ 0.69007531, -0.82642215, -0.99651649, -0.76243837],\n",
       "       [-0.52469348, -0.88565134,  0.45953088, -0.8526084 ],\n",
       "       [ 0.85314095,  0.96067333,  0.40037056,  0.47134974]])"
      ]
     },
     "execution_count": 44,
     "metadata": {},
     "output_type": "execute_result"
    }
   ],
   "source": [
    "# np.random.uniform(low=0.0, high=1.0, size=None)\n",
    "np.random.uniform(-1.0, 1.0, size=(3, 4))"
   ]
  },
  {
   "cell_type": "code",
   "execution_count": 45,
   "id": "1dd71edf",
   "metadata": {},
   "outputs": [
    {
     "data": {
      "text/plain": [
       "array([-0.36263656,  0.87836787, -0.80357725, ...,  0.60627448,\n",
       "       -0.37218912, -0.66368466])"
      ]
     },
     "execution_count": 45,
     "metadata": {},
     "output_type": "execute_result"
    }
   ],
   "source": [
    "data = np.random.uniform(-1.0, 1.0, size=1000000)\n",
    "data # 数据过长, 这里直接省略"
   ]
  },
  {
   "cell_type": "code",
   "execution_count": 46,
   "id": "e24016ba",
   "metadata": {
    "pycharm": {
     "is_executing": true
    }
   },
   "outputs": [],
   "source": [
    "import matplotlib.pyplot as plt"
   ]
  },
  {
   "cell_type": "code",
   "execution_count": 47,
   "id": "73c61cd3",
   "metadata": {
    "pycharm": {
     "is_executing": true
    }
   },
   "outputs": [
    {
     "data": {
      "image/png": "[encoded data removed]",
      "text/plain": [
       "<Figure size 800x480 with 1 Axes>"
      ]
     },
     "metadata": {
      "needs_background": "light"
     },
     "output_type": "display_data"
    }
   ],
   "source": [
    "# 1. 创建画布:\n",
    "plt.figure(figsize=(10,6), dpi=80)\n",
    "# 2. 绘制直方图:\n",
    "plt.hist(data, 1000)\n",
    "# bins=1000, 个数\n",
    "# 3. 显示图像\n",
    "plt.show()\n",
    "\n",
    "# 因为是均匀分布, 利用直方图看, 大体分布均匀\n"
   ]
  },
  {
   "cell_type": "code",
   "execution_count": 55,
   "id": "79c0ffd2",
   "metadata": {
    "pycharm": {
     "is_executing": true
    }
   },
   "outputs": [
    {
     "data": {
      "text/plain": [
       "array([1.76794906, 1.80386759, 1.73871086, ..., 1.82940208, 1.72689873,\n",
       "       1.71727079])"
      ]
     },
     "execution_count": 55,
     "metadata": {},
     "output_type": "execute_result"
    }
   ],
   "source": [
    "# 正态分布:\n",
    "data = np.random.normal(loc=1.75, scale=0.1, size=1000000)\n",
    "data"
   ]
  },
  {
   "cell_type": "code",
   "execution_count": 56,
   "id": "b1ba07d3",
   "metadata": {
    "pycharm": {
     "is_executing": true
    }
   },
   "outputs": [
    {
     "data": {
      "image/png": "[encoded data removed]",
      "text/plain": [
       "<Figure size 800x480 with 1 Axes>"
      ]
     },
     "metadata": {
      "needs_background": "light"
     },
     "output_type": "display_data"
    }
   ],
   "source": [
    "# 1. 创建画布:\n",
    "plt.figure(figsize=(10, 6), dpi=80)\n",
    "# 画图:\n",
    "plt.hist(data, bins=10000) # 切分的组距,\n",
    "# 展示图像\n",
    "plt.show()"
   ]
  },
  {
   "cell_type": "markdown",
   "id": "aebae1e9",
   "metadata": {
    "pycharm": {
     "is_executing": true
    }
   },
   "source": [
    "### 案例: 8只股票两周交易日的涨幅数据"
   ]
  },
  {
   "cell_type": "code",
   "execution_count": 59,
   "id": "47f8ec94",
   "metadata": {
    "pycharm": {
     "is_executing": true
    }
   },
   "outputs": [],
   "source": [
    "stock_data = np.random.normal(loc=0, scale=1, size=[8, 10]) # 返回一个标准正太分布\n",
    "stock_data = np.random.standard_normal(size=)"
   ]
  },
  {
   "cell_type": "code",
   "execution_count": 61,
   "id": "0f514773",
   "metadata": {
    "pycharm": {
     "is_executing": true
    }
   },
   "outputs": [
    {
     "data": {
      "text/plain": [
       "array([[-1.77068297,  0.0356638 , -0.04208945,  0.12754638,  0.0037056 ,\n",
       "        -1.61446833,  1.48512481,  1.72551896,  0.55575679,  0.65054585],\n",
       "       [ 1.2497006 , -1.11952474, -0.66805254,  0.92679764, -0.73191334,\n",
       "         0.42445425, -0.68333435,  0.72479997, -1.965376  ,  0.48159312],\n",
       "       [ 0.5127344 ,  1.01383774,  1.63346804,  1.68813844,  0.86823449,\n",
       "         0.76657727,  1.25923133, -0.07441563,  0.50501742, -0.31917325],\n",
       "       [ 1.18380965, -1.78887431,  1.63437005, -0.80953395,  1.12309584,\n",
       "        -0.3683296 ,  0.8530412 , -0.22861287, -0.04798634, -0.32437863],\n",
       "       [ 1.67593833,  1.20209815,  0.10548177,  0.05017648, -1.08521434,\n",
       "        -0.15834467,  0.26366624,  0.67997289,  1.54177474, -1.04271267],\n",
       "       [ 1.25087239,  1.19988094, -1.76719216, -0.15461952,  0.55279631,\n",
       "        -0.02096007,  0.28795362, -2.18017549, -0.57263729, -0.29997895],\n",
       "       [-0.01753573,  0.07757554,  0.14497281, -0.6706126 , -1.71663096,\n",
       "        -0.56216134,  0.03054668,  0.66451086,  0.72235778,  0.31303149],\n",
       "       [ 0.34190029, -0.2133987 ,  0.65405619,  0.43601178, -0.37721482,\n",
       "        -0.70394144, -0.69667746,  0.27121669, -1.32429411, -0.20916511]])"
      ]
     },
     "execution_count": 61,
     "metadata": {},
     "output_type": "execute_result"
    }
   ],
   "source": [
    "stock_data # 随机生成的数据"
   ]
  },
  {
   "cell_type": "code",
   "execution_count": null,
   "id": "ef39dd73",
   "metadata": {
    "pycharm": {
     "is_executing": true
    }
   },
   "outputs": [],
   "source": [
    "# 获取第一个股票的前3个交易日的涨跌幅数据:\n"
   ]
  },
  {
   "cell_type": "code",
   "execution_count": null,
   "id": "2c38ff61",
   "metadata": {
    "pycharm": {
     "is_executing": true
    }
   },
   "outputs": [],
   "source": []
  },
  {
   "cell_type": "code",
   "execution_count": null,
   "id": "8f61d782",
   "metadata": {
    "pycharm": {
     "is_executing": true
    }
   },
   "outputs": [],
   "source": []
  },
  {
   "cell_type": "code",
   "execution_count": null,
   "id": "5258d785",
   "metadata": {
    "pycharm": {
     "is_executing": true
    }
   },
   "outputs": [],
   "source": []
  },
  {
   "cell_type": "code",
   "execution_count": null,
   "id": "e8abcb87",
   "metadata": {
    "pycharm": {
     "is_executing": true
    }
   },
   "outputs": [],
   "source": []
  },
  {
   "cell_type": "code",
   "execution_count": null,
   "id": "652507cf",
   "metadata": {
    "pycharm": {
     "is_executing": true
    }
   },
   "outputs": [],
   "source": []
  },
  {
   "cell_type": "code",
   "execution_count": null,
   "id": "8fbace0f",
   "metadata": {
    "pycharm": {
     "is_executing": true
    }
   },
   "outputs": [],
   "source": []
  },
  {
   "cell_type": "code",
   "execution_count": null,
   "id": "3793d080",
   "metadata": {
    "pycharm": {
     "is_executing": true
    }
   },
   "outputs": [],
   "source": []
  },
  {
   "cell_type": "code",
   "execution_count": null,
   "id": "fc8bfaf9",
   "metadata": {
    "pycharm": {
     "is_executing": true
    }
   },
   "outputs": [],
   "source": []
  },
  {
   "cell_type": "code",
   "execution_count": null,
   "id": "e39d0c70",
   "metadata": {
    "pycharm": {
     "is_executing": true
    }
   },
   "outputs": [],
   "source": []
  },
  {
   "cell_type": "code",
   "execution_count": null,
   "id": "298e7a5e",
   "metadata": {
    "pycharm": {
     "is_executing": true
    }
   },
   "outputs": [],
   "source": []
  },
  {
   "cell_type": "code",
   "execution_count": null,
   "id": "eb2bebcb",
   "metadata": {
    "pycharm": {
     "is_executing": true
    }
   },
   "outputs": [],
   "source": []
  },
  {
   "cell_type": "code",
   "execution_count": null,
   "id": "7843b4c1",
   "metadata": {
    "pycharm": {
     "is_executing": true
    }
   },
   "outputs": [],
   "source": []
  },
  {
   "cell_type": "code",
   "execution_count": null,
   "id": "ea049bbb",
   "metadata": {
    "pycharm": {
     "is_executing": true
    }
   },
   "outputs": [],
   "source": []
  },
  {
   "cell_type": "code",
   "execution_count": null,
   "id": "c4ff7c19",
   "metadata": {
    "pycharm": {
     "is_executing": true
    }
   },
   "outputs": [],
   "source": []
  },
  {
   "cell_type": "code",
   "execution_count": null,
   "id": "2656e039",
   "metadata": {
    "pycharm": {
     "is_executing": true
    }
   },
   "outputs": [],
   "source": []
  },
  {
   "cell_type": "code",
   "execution_count": null,
   "id": "996b8bc0",
   "metadata": {
    "pycharm": {
     "is_executing": true
    }
   },
   "outputs": [],
   "source": []
  },
  {
   "cell_type": "code",
   "execution_count": null,
   "id": "c6c422c8",
   "metadata": {
    "pycharm": {
     "is_executing": true
    }
   },
   "outputs": [],
   "source": []
  },
  {
   "cell_type": "code",
   "execution_count": null,
   "id": "a59f3d0f",
   "metadata": {
    "pycharm": {
     "is_executing": true
    }
   },
   "outputs": [],
   "source": []
  },
  {
   "cell_type": "code",
   "execution_count": null,
   "id": "b7151788",
   "metadata": {
    "pycharm": {
     "is_executing": true
    }
   },
   "outputs": [],
   "source": []
  }
 ],
 "metadata": {
  "kernelspec": {
   "display_name": "Python 3 (ipykernel)",
   "language": "python",
   "name": "python3"
  },
  "language_info": {
   "codemirror_mode": {
    "name": "ipython",
    "version": 3
   },
   "file_extension": ".py",
   "mimetype": "text/x-python",
   "name": "python",
   "nbconvert_exporter": "python",
   "pygments_lexer": "ipython3",
   "version": "3.9.9"
  },
  "latex_envs": {
   "LaTeX_envs_menu_present": true,
   "autoclose": false,
   "autocomplete": true,
   "bibliofile": "biblio.bib",
   "cite_by": "apalike",
   "current_citInitial": 1,
   "eqLabelWithNumbers": true,
   "eqNumInitial": 1,
   "hotkeys": {
    "equation": "Ctrl-E",
    "itemize": "Ctrl-I"
   },
   "labels_anchors": false,
   "latex_user_defs": false,
   "report_style_numbering": false,
   "user_envs_cfg": false
  }
 },
 "nbformat": 4,
 "nbformat_minor": 5
}
