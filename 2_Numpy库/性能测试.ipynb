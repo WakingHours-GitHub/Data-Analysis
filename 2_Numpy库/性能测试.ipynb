{
 "cells": [
  {
   "cell_type": "markdown",
   "source": [
    "# numpy和python原生list性能测试"
   ],
   "metadata": {
    "collapsed": false,
    "pycharm": {
     "name": "#%% md\n"
    }
   }
  },
  {
   "cell_type": "code",
   "execution_count": null,
   "outputs": [],
   "source": [
    "%timeit # 这是ipython中的魔术方法, 会自动多次执行该单cell, 然后取平均返回时间\n",
    "%%timeit # 如果cell是多行语句, 就是用%%两个%"
   ],
   "metadata": {
    "collapsed": false,
    "pycharm": {
     "name": "#%%\n"
    }
   }
  }
 ],
 "metadata": {
  "kernelspec": {
   "display_name": "Python 3",
   "language": "python",
   "name": "python3"
  },
  "language_info": {
   "codemirror_mode": {
    "name": "ipython",
    "version": 2
   },
   "file_extension": ".py",
   "mimetype": "text/x-python",
   "name": "python",
   "nbconvert_exporter": "python",
   "pygments_lexer": "ipython2",
   "version": "2.7.6"
  }
 },
 "nbformat": 4,
 "nbformat_minor": 0
}