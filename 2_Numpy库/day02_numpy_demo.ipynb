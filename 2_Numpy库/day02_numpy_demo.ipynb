{
 "cells": [
  {
   "cell_type": "code",
   "execution_count": 1,
   "metadata": {},
   "outputs": [],
   "source": [
    "import numpy as np # 导入numpy"
   ]
  },
  {
   "cell_type": "code",
   "execution_count": 2,
   "metadata": {},
   "outputs": [],
   "source": [
    "score = np.array([[80, 89, 86, 67, 79],\n",
    "[78, 97, 89, 67, 81],\n",
    "[90, 94, 78, 67, 74],\n",
    "[91, 91, 90, 67, 69],\n",
    "[76, 87, 75, 67, 86],\n",
    "[70, 79, 84, 67, 84],\n",
    "[94, 92, 93, 67, 64],\n",
    "[86, 85, 83, 67, 80]])"
   ]
  },
  {
   "cell_type": "code",
   "execution_count": 3,
   "metadata": {},
   "outputs": [
    {
     "data": {
      "text/plain": [
       "array([[80, 89, 86, 67, 79],\n",
       "       [78, 97, 89, 67, 81],\n",
       "       [90, 94, 78, 67, 74],\n",
       "       [91, 91, 90, 67, 69],\n",
       "       [76, 87, 75, 67, 86],\n",
       "       [70, 79, 84, 67, 84],\n",
       "       [94, 92, 93, 67, 64],\n",
       "       [86, 85, 83, 67, 80]])"
      ]
     },
     "execution_count": 3,
     "metadata": {},
     "output_type": "execute_result"
    }
   ],
   "source": [
    "score"
   ]
  },
  {
   "cell_type": "code",
   "execution_count": 4,
   "metadata": {},
   "outputs": [
    {
     "data": {
      "text/plain": [
       "numpy.ndarray"
      ]
     },
     "execution_count": 4,
     "metadata": {},
     "output_type": "execute_result"
    }
   ],
   "source": [
    "type(score)"
   ]
  },
  {
   "cell_type": "markdown",
   "metadata": {},
   "source": [
    "这种嵌套列表的形式, 我们为什么不使用python原生的list类型, 而是使用ndarray\n",
    "### 3.1.3 ndarray与Python原生list运算效率对比"
   ]
  },
  {
   "cell_type": "code",
   "execution_count": 5,
   "metadata": {},
   "outputs": [],
   "source": [
    "import random\n",
    "import time"
   ]
  },
  {
   "cell_type": "code",
   "execution_count": 6,
   "metadata": {},
   "outputs": [],
   "source": [
    "# 生成一个大数组\n",
    "python_list = []\n",
    "\n",
    "for i in range(100000000):\n",
    "    python_list.append(random.random())"
   ]
  },
  {
   "cell_type": "code",
   "execution_count": 7,
   "metadata": {},
   "outputs": [],
   "source": [
    "ndarray_list = np.array(python_list) # 转换到ndarray"
   ]
  },
  {
   "cell_type": "code",
   "execution_count": 9,
   "metadata": {},
   "outputs": [
    {
     "data": {
      "text/plain": [
       "100000000"
      ]
     },
     "execution_count": 9,
     "metadata": {},
     "output_type": "execute_result"
    }
   ],
   "source": [
    "len(ndarray_list)"
   ]
  },
  {
   "cell_type": "code",
   "execution_count": 10,
   "metadata": {},
   "outputs": [],
   "source": [
    "# 原生pythonlist求和\n",
    "t1 = time.time()\n",
    "a = sum(python_list)\n",
    "t2 = time.time()\n",
    "d1 = t2 - t1\n",
    "\n",
    "# ndarray求和\n",
    "t3 = time.time()\n",
    "b = np.sum(ndarray_list)\n",
    "t4 = time.time()\n",
    "d2 = t4 - t3"
   ]
  },
  {
   "cell_type": "code",
   "execution_count": 11,
   "metadata": {},
   "outputs": [
    {
     "data": {
      "text/plain": [
       "0.7309620380401611"
      ]
     },
     "execution_count": 11,
     "metadata": {},
     "output_type": "execute_result"
    }
   ],
   "source": [
    "d1"
   ]
  },
  {
   "cell_type": "code",
   "execution_count": 12,
   "metadata": {},
   "outputs": [
    {
     "data": {
      "text/plain": [
       "0.12980318069458008"
      ]
     },
     "execution_count": 12,
     "metadata": {},
     "output_type": "execute_result"
    }
   ],
   "source": [
    "d2"
   ]
  },
  {
   "cell_type": "markdown",
   "metadata": {},
   "source": [
    "    所以ndarray的计算速度要快很多, 节约时间.\n",
    "    后面再做机器学习的时候, 需要大量的数据计算.\n",
    "    \n",
    "    Numpy专门针对ndarray的操作和运算进行了设计, 所以数组的存储效率和输入输出性能优于Python中的嵌套列表, 数组越大, Numpy的优势就越明显"
   ]
  },
  {
   "cell_type": "markdown",
   "metadata": {},
   "source": [
    "### 3.2.1 ndarray的属性"
   ]
  },
  {
   "cell_type": "code",
   "execution_count": 13,
   "metadata": {},
   "outputs": [
    {
     "data": {
      "text/plain": [
       "array([[80, 89, 86, 67, 79],\n",
       "       [78, 97, 89, 67, 81],\n",
       "       [90, 94, 78, 67, 74],\n",
       "       [91, 91, 90, 67, 69],\n",
       "       [76, 87, 75, 67, 86],\n",
       "       [70, 79, 84, 67, 84],\n",
       "       [94, 92, 93, 67, 64],\n",
       "       [86, 85, 83, 67, 80]])"
      ]
     },
     "execution_count": 13,
     "metadata": {},
     "output_type": "execute_result"
    }
   ],
   "source": [
    "score"
   ]
  },
  {
   "cell_type": "code",
   "execution_count": 14,
   "metadata": {},
   "outputs": [
    {
     "data": {
      "text/plain": [
       "(8, 5)"
      ]
     },
     "execution_count": 14,
     "metadata": {},
     "output_type": "execute_result"
    }
   ],
   "source": [
    "score.shape # (8, 5)"
   ]
  },
  {
   "cell_type": "code",
   "execution_count": 15,
   "metadata": {},
   "outputs": [
    {
     "data": {
      "text/plain": [
       "2"
      ]
     },
     "execution_count": 15,
     "metadata": {},
     "output_type": "execute_result"
    }
   ],
   "source": [
    "score.ndim"
   ]
  },
  {
   "cell_type": "code",
   "execution_count": 16,
   "metadata": {},
   "outputs": [
    {
     "data": {
      "text/plain": [
       "40"
      ]
     },
     "execution_count": 16,
     "metadata": {},
     "output_type": "execute_result"
    }
   ],
   "source": [
    "score.size"
   ]
  },
  {
   "cell_type": "code",
   "execution_count": 17,
   "metadata": {},
   "outputs": [
    {
     "data": {
      "text/plain": [
       "dtype('int64')"
      ]
     },
     "execution_count": 17,
     "metadata": {},
     "output_type": "execute_result"
    }
   ],
   "source": [
    "score.dtype "
   ]
  },
  {
   "cell_type": "code",
   "execution_count": 18,
   "metadata": {},
   "outputs": [
    {
     "data": {
      "text/plain": [
       "8"
      ]
     },
     "execution_count": 18,
     "metadata": {},
     "output_type": "execute_result"
    }
   ],
   "source": [
    "score.itemsize"
   ]
  },
  {
   "cell_type": "markdown",
   "metadata": {},
   "source": [
    "### 3.2.2 ndarray的形状"
   ]
  },
  {
   "cell_type": "code",
   "execution_count": 19,
   "metadata": {},
   "outputs": [],
   "source": [
    "a = np.array([[1,2,3],[4,5,6]])\n",
    "b = np.array([1,2,3,4])\n",
    "c = np.array([[[1,2,3],[4,5,6]],[[1,2,3],[4,5,6]]])"
   ]
  },
  {
   "cell_type": "code",
   "execution_count": 20,
   "metadata": {},
   "outputs": [
    {
     "data": {
      "text/plain": [
       "array([[1, 2, 3],\n",
       "       [4, 5, 6]])"
      ]
     },
     "execution_count": 20,
     "metadata": {},
     "output_type": "execute_result"
    }
   ],
   "source": [
    "a # (2, 3)"
   ]
  },
  {
   "cell_type": "code",
   "execution_count": 21,
   "metadata": {},
   "outputs": [
    {
     "data": {
      "text/plain": [
       "array([1, 2, 3, 4])"
      ]
     },
     "execution_count": 21,
     "metadata": {},
     "output_type": "execute_result"
    }
   ],
   "source": [
    "b # (4,)"
   ]
  },
  {
   "cell_type": "code",
   "execution_count": 22,
   "metadata": {},
   "outputs": [
    {
     "data": {
      "text/plain": [
       "array([[[1, 2, 3],\n",
       "        [4, 5, 6]],\n",
       "\n",
       "       [[1, 2, 3],\n",
       "        [4, 5, 6]]])"
      ]
     },
     "execution_count": 22,
     "metadata": {},
     "output_type": "execute_result"
    }
   ],
   "source": [
    "c # (2, 2, 3)"
   ]
  },
  {
   "cell_type": "code",
   "execution_count": 23,
   "metadata": {},
   "outputs": [
    {
     "data": {
      "text/plain": [
       "(2, 3)"
      ]
     },
     "execution_count": 23,
     "metadata": {},
     "output_type": "execute_result"
    }
   ],
   "source": [
    "a.shape"
   ]
  },
  {
   "cell_type": "code",
   "execution_count": 24,
   "metadata": {},
   "outputs": [
    {
     "data": {
      "text/plain": [
       "(4,)"
      ]
     },
     "execution_count": 24,
     "metadata": {},
     "output_type": "execute_result"
    }
   ],
   "source": [
    "b.shape"
   ]
  },
  {
   "cell_type": "code",
   "execution_count": 25,
   "metadata": {},
   "outputs": [
    {
     "data": {
      "text/plain": [
       "(2, 2, 3)"
      ]
     },
     "execution_count": 25,
     "metadata": {},
     "output_type": "execute_result"
    }
   ],
   "source": [
    "c.shape"
   ]
  },
  {
   "cell_type": "markdown",
   "metadata": {},
   "source": [
    "### 3.2.3 ndarray的类型"
   ]
  },
  {
   "cell_type": "code",
   "execution_count": 26,
   "metadata": {},
   "outputs": [],
   "source": [
    "data = np.array([1.1, 2.2, 3.3])"
   ]
  },
  {
   "cell_type": "code",
   "execution_count": 27,
   "metadata": {},
   "outputs": [
    {
     "data": {
      "text/plain": [
       "array([1.1, 2.2, 3.3])"
      ]
     },
     "execution_count": 27,
     "metadata": {},
     "output_type": "execute_result"
    }
   ],
   "source": [
    "data"
   ]
  },
  {
   "cell_type": "code",
   "execution_count": 28,
   "metadata": {},
   "outputs": [
    {
     "data": {
      "text/plain": [
       "dtype('float64')"
      ]
     },
     "execution_count": 28,
     "metadata": {},
     "output_type": "execute_result"
    }
   ],
   "source": [
    "data.dtype"
   ]
  },
  {
   "cell_type": "code",
   "execution_count": 29,
   "metadata": {},
   "outputs": [
    {
     "data": {
      "text/plain": [
       "array([1.1, 2.2, 3.3], dtype=float32)"
      ]
     },
     "execution_count": 29,
     "metadata": {},
     "output_type": "execute_result"
    }
   ],
   "source": [
    "# 创建数组的时候指定类型\n",
    "np.array([1.1, 2.2, 3.3], dtype=\"float32\")"
   ]
  },
  {
   "cell_type": "code",
   "execution_count": 30,
   "metadata": {},
   "outputs": [
    {
     "data": {
      "text/plain": [
       "array([1.1, 2.2, 3.3], dtype=float32)"
      ]
     },
     "execution_count": 30,
     "metadata": {},
     "output_type": "execute_result"
    }
   ],
   "source": [
    "np.array([1.1, 2.2, 3.3], dtype=np.float32)"
   ]
  },
  {
   "cell_type": "markdown",
   "metadata": {},
   "source": [
    "### 3.3.1 生成数组的方法"
   ]
  },
  {
   "cell_type": "code",
   "execution_count": 32,
   "metadata": {},
   "outputs": [
    {
     "data": {
      "text/plain": [
       "array([[0., 0., 0., 0.],\n",
       "       [0., 0., 0., 0.],\n",
       "       [0., 0., 0., 0.]], dtype=float32)"
      ]
     },
     "execution_count": 32,
     "metadata": {},
     "output_type": "execute_result"
    }
   ],
   "source": [
    "# 1 生成0和1的数组\n",
    "np.zeros(shape=(3, 4), dtype=\"float32\")"
   ]
  },
  {
   "cell_type": "code",
   "execution_count": 33,
   "metadata": {},
   "outputs": [
    {
     "data": {
      "text/plain": [
       "array([[1, 1, 1],\n",
       "       [1, 1, 1]], dtype=int32)"
      ]
     },
     "execution_count": 33,
     "metadata": {},
     "output_type": "execute_result"
    }
   ],
   "source": [
    "np.ones(shape=[2, 3], dtype=np.int32)"
   ]
  },
  {
   "cell_type": "markdown",
   "metadata": {},
   "source": [
    "### 2 从现有数组生成\n"
   ]
  },
  {
   "cell_type": "code",
   "execution_count": 34,
   "metadata": {},
   "outputs": [
    {
     "data": {
      "text/plain": [
       "array([[80, 89, 86, 67, 79],\n",
       "       [78, 97, 89, 67, 81],\n",
       "       [90, 94, 78, 67, 74],\n",
       "       [91, 91, 90, 67, 69],\n",
       "       [76, 87, 75, 67, 86],\n",
       "       [70, 79, 84, 67, 84],\n",
       "       [94, 92, 93, 67, 64],\n",
       "       [86, 85, 83, 67, 80]])"
      ]
     },
     "execution_count": 34,
     "metadata": {},
     "output_type": "execute_result"
    }
   ],
   "source": [
    "score"
   ]
  },
  {
   "cell_type": "code",
   "execution_count": 35,
   "metadata": {},
   "outputs": [],
   "source": [
    "# np.array()\n",
    "data1 = np.array(score)"
   ]
  },
  {
   "cell_type": "code",
   "execution_count": 36,
   "metadata": {},
   "outputs": [
    {
     "data": {
      "text/plain": [
       "array([[80, 89, 86, 67, 79],\n",
       "       [78, 97, 89, 67, 81],\n",
       "       [90, 94, 78, 67, 74],\n",
       "       [91, 91, 90, 67, 69],\n",
       "       [76, 87, 75, 67, 86],\n",
       "       [70, 79, 84, 67, 84],\n",
       "       [94, 92, 93, 67, 64],\n",
       "       [86, 85, 83, 67, 80]])"
      ]
     },
     "execution_count": 36,
     "metadata": {},
     "output_type": "execute_result"
    }
   ],
   "source": [
    "data1"
   ]
  },
  {
   "cell_type": "code",
   "execution_count": 37,
   "metadata": {},
   "outputs": [],
   "source": [
    "# np.asarray()\n",
    "data2 = np.asarray(score)"
   ]
  },
  {
   "cell_type": "code",
   "execution_count": 38,
   "metadata": {},
   "outputs": [
    {
     "data": {
      "text/plain": [
       "array([[80, 89, 86, 67, 79],\n",
       "       [78, 97, 89, 67, 81],\n",
       "       [90, 94, 78, 67, 74],\n",
       "       [91, 91, 90, 67, 69],\n",
       "       [76, 87, 75, 67, 86],\n",
       "       [70, 79, 84, 67, 84],\n",
       "       [94, 92, 93, 67, 64],\n",
       "       [86, 85, 83, 67, 80]])"
      ]
     },
     "execution_count": 38,
     "metadata": {},
     "output_type": "execute_result"
    }
   ],
   "source": [
    "data2"
   ]
  },
  {
   "cell_type": "code",
   "execution_count": 39,
   "metadata": {},
   "outputs": [],
   "source": [
    "# np.copy()\n",
    "data3 = np.copy(score)"
   ]
  },
  {
   "cell_type": "code",
   "execution_count": 40,
   "metadata": {},
   "outputs": [
    {
     "data": {
      "text/plain": [
       "array([[80, 89, 86, 67, 79],\n",
       "       [78, 97, 89, 67, 81],\n",
       "       [90, 94, 78, 67, 74],\n",
       "       [91, 91, 90, 67, 69],\n",
       "       [76, 87, 75, 67, 86],\n",
       "       [70, 79, 84, 67, 84],\n",
       "       [94, 92, 93, 67, 64],\n",
       "       [86, 85, 83, 67, 80]])"
      ]
     },
     "execution_count": 40,
     "metadata": {},
     "output_type": "execute_result"
    }
   ],
   "source": [
    "data3"
   ]
  },
  {
   "cell_type": "code",
   "execution_count": 41,
   "metadata": {},
   "outputs": [
    {
     "data": {
      "text/plain": [
       "array([[80, 89, 86, 67, 79],\n",
       "       [78, 97, 89, 67, 81],\n",
       "       [90, 94, 78, 67, 74],\n",
       "       [91, 91, 90, 67, 69],\n",
       "       [76, 87, 75, 67, 86],\n",
       "       [70, 79, 84, 67, 84],\n",
       "       [94, 92, 93, 67, 64],\n",
       "       [86, 85, 83, 67, 80]])"
      ]
     },
     "execution_count": 41,
     "metadata": {},
     "output_type": "execute_result"
    }
   ],
   "source": [
    "score"
   ]
  },
  {
   "cell_type": "code",
   "execution_count": 43,
   "metadata": {},
   "outputs": [],
   "source": [
    "score[3, 1] = 10000"
   ]
  },
  {
   "cell_type": "code",
   "execution_count": 44,
   "metadata": {},
   "outputs": [
    {
     "data": {
      "text/plain": [
       "array([[   80,    89,    86,    67,    79],\n",
       "       [   78,    97,    89,    67,    81],\n",
       "       [   90,    94,    78,    67,    74],\n",
       "       [   91, 10000,    90,    67,    69],\n",
       "       [   76,    87,    75,    67,    86],\n",
       "       [   70,    79,    84,    67,    84],\n",
       "       [   94,    92,    93,    67,    64],\n",
       "       [   86,    85,    83,    67,    80]])"
      ]
     },
     "execution_count": 44,
     "metadata": {},
     "output_type": "execute_result"
    }
   ],
   "source": [
    "score"
   ]
  },
  {
   "cell_type": "code",
   "execution_count": 45,
   "metadata": {},
   "outputs": [
    {
     "data": {
      "text/plain": [
       "array([[80, 89, 86, 67, 79],\n",
       "       [78, 97, 89, 67, 81],\n",
       "       [90, 94, 78, 67, 74],\n",
       "       [91, 91, 90, 67, 69],\n",
       "       [76, 87, 75, 67, 86],\n",
       "       [70, 79, 84, 67, 84],\n",
       "       [94, 92, 93, 67, 64],\n",
       "       [86, 85, 83, 67, 80]])"
      ]
     },
     "execution_count": 45,
     "metadata": {},
     "output_type": "execute_result"
    }
   ],
   "source": [
    "data1"
   ]
  },
  {
   "cell_type": "code",
   "execution_count": 46,
   "metadata": {},
   "outputs": [
    {
     "data": {
      "text/plain": [
       "array([[   80,    89,    86,    67,    79],\n",
       "       [   78,    97,    89,    67,    81],\n",
       "       [   90,    94,    78,    67,    74],\n",
       "       [   91, 10000,    90,    67,    69],\n",
       "       [   76,    87,    75,    67,    86],\n",
       "       [   70,    79,    84,    67,    84],\n",
       "       [   94,    92,    93,    67,    64],\n",
       "       [   86,    85,    83,    67,    80]])"
      ]
     },
     "execution_count": 46,
     "metadata": {},
     "output_type": "execute_result"
    }
   ],
   "source": [
    "data2"
   ]
  },
  {
   "cell_type": "code",
   "execution_count": 47,
   "metadata": {},
   "outputs": [
    {
     "data": {
      "text/plain": [
       "array([[80, 89, 86, 67, 79],\n",
       "       [78, 97, 89, 67, 81],\n",
       "       [90, 94, 78, 67, 74],\n",
       "       [91, 91, 90, 67, 69],\n",
       "       [76, 87, 75, 67, 86],\n",
       "       [70, 79, 84, 67, 84],\n",
       "       [94, 92, 93, 67, 64],\n",
       "       [86, 85, 83, 67, 80]])"
      ]
     },
     "execution_count": 47,
     "metadata": {},
     "output_type": "execute_result"
    }
   ],
   "source": [
    "data3"
   ]
  },
  {
   "cell_type": "markdown",
   "metadata": {},
   "source": [
    "### 3 生成固定范围的数组"
   ]
  },
  {
   "cell_type": "code",
   "execution_count": 49,
   "metadata": {},
   "outputs": [
    {
     "data": {
      "text/plain": [
       "array([ 0. ,  2.5,  5. ,  7.5, 10. ])"
      ]
     },
     "execution_count": 49,
     "metadata": {},
     "output_type": "execute_result"
    }
   ],
   "source": [
    "np.linspace(0, 10, 5) # 等距离的生成arrag"
   ]
  },
  {
   "cell_type": "code",
   "execution_count": 51,
   "metadata": {},
   "outputs": [
    {
     "data": {
      "text/plain": [
       "array([ 0,  5, 10])"
      ]
     },
     "execution_count": 51,
     "metadata": {},
     "output_type": "execute_result"
    }
   ],
   "source": [
    "np.arange(0, 11, 5)"
   ]
  },
  {
   "cell_type": "markdown",
   "metadata": {},
   "source": [
    "### 4 生成随机数组"
   ]
  },
  {
   "cell_type": "code",
   "execution_count": 52,
   "metadata": {},
   "outputs": [],
   "source": [
    "data1 = np.random.uniform(low=-1, high=1, size=1000000)"
   ]
  },
  {
   "cell_type": "code",
   "execution_count": 53,
   "metadata": {},
   "outputs": [
    {
     "data": {
      "text/plain": [
       "array([-0.49795073, -0.28524454,  0.56473937, ...,  0.6141957 ,\n",
       "        0.4149972 ,  0.89473129])"
      ]
     },
     "execution_count": 53,
     "metadata": {},
     "output_type": "execute_result"
    }
   ],
   "source": [
    "data1 # 数据太长了, 这里直接省略了."
   ]
  },
  {
   "cell_type": "code",
   "execution_count": 37,
   "metadata": {},
   "outputs": [],
   "source": [
    "import matplotlib.pyplot as plt"
   ]
  },
  {
   "cell_type": "code",
   "execution_count": 55,
   "metadata": {
    "scrolled": true
   },
   "outputs": [
    {
     "data": {
      "image/png": "[encoded data removed]",
      "text/plain": [
       "<Figure size 1600x640 with 1 Axes>"
      ]
     },
     "metadata": {
      "needs_background": "light"
     },
     "output_type": "display_data"
    }
   ],
   "source": [
    "# 1、创建画布\n",
    "plt.figure(figsize=(20, 8), dpi=80)\n",
    "\n",
    "# 2、绘制直方图\n",
    "plt.hist(data1, 1000) # 基本是均匀的, 这就是均匀分布.\n",
    "# 参数:　数据, 数组.\n",
    "\n",
    "# 3、显示图像\n",
    "plt.show()"
   ]
  },
  {
   "cell_type": "code",
   "execution_count": 34,
   "metadata": {},
   "outputs": [],
   "source": [
    "# 正态分布\n",
    "data2 = np.random.normal(loc=1.75, scale=0.1, size=1000000)"
   ]
  },
  {
   "cell_type": "code",
   "execution_count": 35,
   "metadata": {},
   "outputs": [
    {
     "data": {
      "text/plain": [
       "array([1.88454428, 1.69791499, 1.61412662, ..., 1.57804629, 1.86664847,\n",
       "       1.67611458])"
      ]
     },
     "execution_count": 35,
     "metadata": {},
     "output_type": "execute_result"
    }
   ],
   "source": [
    "data2"
   ]
  },
  {
   "cell_type": "code",
   "execution_count": 38,
   "metadata": {},
   "outputs": [
    {
     "data": {
      "image/png": "[encoded data removed]",
      "text/plain": [
       "<Figure size 1600x640 with 1 Axes>"
      ]
     },
     "metadata": {
      "needs_background": "light"
     },
     "output_type": "display_data"
    }
   ],
   "source": [
    "# 1、创建画布\n",
    "plt.figure(figsize=(20, 8), dpi=80)\n",
    "\n",
    "# 2、绘制直方图\n",
    "plt.hist(data2, 1000)\n",
    "# x轴是数值, y轴是数量\n",
    "\n",
    "# 3、显示图像\n",
    "plt.show()"
   ]
  },
  {
   "cell_type": "markdown",
   "metadata": {},
   "source": [
    "### 案例：随机生成8只股票2周的交易日涨幅数据"
   ]
  },
  {
   "cell_type": "code",
   "execution_count": 59,
   "metadata": {},
   "outputs": [],
   "source": [
    "stock_change = np.random.normal(loc=0, scale=1, size=(8, 10))"
   ]
  },
  {
   "cell_type": "code",
   "execution_count": 60,
   "metadata": {},
   "outputs": [
    {
     "data": {
      "text/plain": [
       "array([[-0.03469926,  1.68760014,  0.05915316,  2.4473136 , -0.61776756,\n",
       "        -0.56253866, -1.24738637,  0.48320978,  1.01227938, -1.44509723],\n",
       "       [-1.8391253 , -1.10142576,  0.09582268,  1.01589092, -1.20262068,\n",
       "         0.76134643, -0.76782097, -1.11192773,  0.81609586,  0.07659056],\n",
       "       [-0.74293074, -0.7836588 ,  1.32639574, -0.52735663,  1.4167841 ,\n",
       "         2.10286726, -0.21687665, -0.33073563, -0.46648617,  0.07926839],\n",
       "       [ 0.45914676, -0.78330377, -1.10763289,  0.10612596, -0.63375855,\n",
       "        -1.88121415,  0.6523779 , -1.27459184, -0.1828502 , -0.76587891],\n",
       "       [-0.50413407, -1.35848099, -2.21633535, -1.39300681,  0.13159471,\n",
       "         0.65429138,  0.32207255,  1.41792558,  1.12357799, -0.68599018],\n",
       "       [ 0.3627785 ,  1.00279706, -0.68137875, -2.14800075, -2.82895231,\n",
       "        -1.69360338,  1.43816168, -2.02116677,  1.30746801,  1.41979011],\n",
       "       [-2.93762047,  0.22199761,  0.98788788,  0.37899235,  0.28281886,\n",
       "        -1.75837237, -0.09262863, -0.92354076,  1.11467277,  0.76034531],\n",
       "       [-0.39473551,  0.28402164, -0.15729195, -0.59342945, -1.0311294 ,\n",
       "        -1.07651428,  0.18618331,  1.5780439 ,  1.31285558,  0.10777784]])"
      ]
     },
     "execution_count": 60,
     "metadata": {},
     "output_type": "execute_result"
    }
   ],
   "source": [
    "stock_change"
   ]
  },
  {
   "cell_type": "code",
   "execution_count": 63,
   "metadata": {},
   "outputs": [
    {
     "data": {
      "text/plain": [
       "array([-0.03469926,  1.68760014,  0.05915316])"
      ]
     },
     "execution_count": 63,
     "metadata": {},
     "output_type": "execute_result"
    }
   ],
   "source": [
    "# 获取第一个股票的前3个交易日的涨跌幅数据\n",
    "stock_change[0, :3] # 与列表操作一样"
   ]
  },
  {
   "cell_type": "code",
   "execution_count": 64,
   "metadata": {},
   "outputs": [],
   "source": [
    "# 三维数据怎样获取\n",
    "a1 = np.array([ [[1,2,3],[4,5,6]], [[12,3,34],[5,6,7]]])"
   ]
  },
  {
   "cell_type": "code",
   "execution_count": 65,
   "metadata": {},
   "outputs": [
    {
     "data": {
      "text/plain": [
       "array([[[ 1,  2,  3],\n",
       "        [ 4,  5,  6]],\n",
       "\n",
       "       [[12,  3, 34],\n",
       "        [ 5,  6,  7]]])"
      ]
     },
     "execution_count": 65,
     "metadata": {},
     "output_type": "execute_result"
    }
   ],
   "source": [
    "a1 # (2, 2, 3)"
   ]
  },
  {
   "cell_type": "code",
   "execution_count": 66,
   "metadata": {},
   "outputs": [
    {
     "data": {
      "text/plain": [
       "(2, 2, 3)"
      ]
     },
     "execution_count": 66,
     "metadata": {},
     "output_type": "execute_result"
    }
   ],
   "source": [
    "a1.shape # 查看属性"
   ]
  },
  {
   "cell_type": "code",
   "execution_count": 68,
   "metadata": {},
   "outputs": [],
   "source": [
    "a1[1, 0, 2] = 100000"
   ]
  },
  {
   "cell_type": "code",
   "execution_count": 69,
   "metadata": {},
   "outputs": [
    {
     "data": {
      "text/plain": [
       "array([[[     1,      2,      3],\n",
       "        [     4,      5,      6]],\n",
       "\n",
       "       [[    12,      3, 100000],\n",
       "        [     5,      6,      7]]])"
      ]
     },
     "execution_count": 69,
     "metadata": {},
     "output_type": "execute_result"
    }
   ],
   "source": [
    "a1 # 修改成功"
   ]
  },
  {
   "cell_type": "markdown",
   "metadata": {},
   "source": [
    "### 3.3.3 形状修改"
   ]
  },
  {
   "cell_type": "code",
   "execution_count": 70,
   "metadata": {},
   "outputs": [
    {
     "data": {
      "text/plain": [
       "array([[-0.03469926,  1.68760014,  0.05915316,  2.4473136 , -0.61776756,\n",
       "        -0.56253866, -1.24738637,  0.48320978,  1.01227938, -1.44509723],\n",
       "       [-1.8391253 , -1.10142576,  0.09582268,  1.01589092, -1.20262068,\n",
       "         0.76134643, -0.76782097, -1.11192773,  0.81609586,  0.07659056],\n",
       "       [-0.74293074, -0.7836588 ,  1.32639574, -0.52735663,  1.4167841 ,\n",
       "         2.10286726, -0.21687665, -0.33073563, -0.46648617,  0.07926839],\n",
       "       [ 0.45914676, -0.78330377, -1.10763289,  0.10612596, -0.63375855,\n",
       "        -1.88121415,  0.6523779 , -1.27459184, -0.1828502 , -0.76587891],\n",
       "       [-0.50413407, -1.35848099, -2.21633535, -1.39300681,  0.13159471,\n",
       "         0.65429138,  0.32207255,  1.41792558,  1.12357799, -0.68599018],\n",
       "       [ 0.3627785 ,  1.00279706, -0.68137875, -2.14800075, -2.82895231,\n",
       "        -1.69360338,  1.43816168, -2.02116677,  1.30746801,  1.41979011],\n",
       "       [-2.93762047,  0.22199761,  0.98788788,  0.37899235,  0.28281886,\n",
       "        -1.75837237, -0.09262863, -0.92354076,  1.11467277,  0.76034531],\n",
       "       [-0.39473551,  0.28402164, -0.15729195, -0.59342945, -1.0311294 ,\n",
       "        -1.07651428,  0.18618331,  1.5780439 ,  1.31285558,  0.10777784]])"
      ]
     },
     "execution_count": 70,
     "metadata": {},
     "output_type": "execute_result"
    }
   ],
   "source": [
    "# 需求：让刚才的股票行、日期列反过来，变成日期行，股票列\n",
    "stock_change"
   ]
  },
  {
   "cell_type": "code",
   "execution_count": 72,
   "metadata": {},
   "outputs": [
    {
     "data": {
      "text/plain": [
       "array([[-0.03469926,  1.68760014,  0.05915316,  2.4473136 , -0.61776756,\n",
       "        -0.56253866, -1.24738637,  0.48320978],\n",
       "       [ 1.01227938, -1.44509723, -1.8391253 , -1.10142576,  0.09582268,\n",
       "         1.01589092, -1.20262068,  0.76134643],\n",
       "       [-0.76782097, -1.11192773,  0.81609586,  0.07659056, -0.74293074,\n",
       "        -0.7836588 ,  1.32639574, -0.52735663],\n",
       "       [ 1.4167841 ,  2.10286726, -0.21687665, -0.33073563, -0.46648617,\n",
       "         0.07926839,  0.45914676, -0.78330377],\n",
       "       [-1.10763289,  0.10612596, -0.63375855, -1.88121415,  0.6523779 ,\n",
       "        -1.27459184, -0.1828502 , -0.76587891],\n",
       "       [-0.50413407, -1.35848099, -2.21633535, -1.39300681,  0.13159471,\n",
       "         0.65429138,  0.32207255,  1.41792558],\n",
       "       [ 1.12357799, -0.68599018,  0.3627785 ,  1.00279706, -0.68137875,\n",
       "        -2.14800075, -2.82895231, -1.69360338],\n",
       "       [ 1.43816168, -2.02116677,  1.30746801,  1.41979011, -2.93762047,\n",
       "         0.22199761,  0.98788788,  0.37899235],\n",
       "       [ 0.28281886, -1.75837237, -0.09262863, -0.92354076,  1.11467277,\n",
       "         0.76034531, -0.39473551,  0.28402164],\n",
       "       [-0.15729195, -0.59342945, -1.0311294 , -1.07651428,  0.18618331,\n",
       "         1.5780439 ,  1.31285558,  0.10777784]])"
      ]
     },
     "execution_count": 72,
     "metadata": {},
     "output_type": "execute_result"
    }
   ],
   "source": [
    "stock_change.reshape((10, 8)) # 只是将原来的数据进行了分割"
   ]
  },
  {
   "cell_type": "code",
   "execution_count": 75,
   "metadata": {
    "scrolled": true
   },
   "outputs": [
    {
     "data": {
      "text/plain": [
       "array([[-0.03469926,  1.68760014,  0.05915316,  2.4473136 , -0.61776756,\n",
       "        -0.56253866, -1.24738637,  0.48320978,  1.01227938, -1.44509723],\n",
       "       [-1.8391253 , -1.10142576,  0.09582268,  1.01589092, -1.20262068,\n",
       "         0.76134643, -0.76782097, -1.11192773,  0.81609586,  0.07659056],\n",
       "       [-0.74293074, -0.7836588 ,  1.32639574, -0.52735663,  1.4167841 ,\n",
       "         2.10286726, -0.21687665, -0.33073563, -0.46648617,  0.07926839],\n",
       "       [ 0.45914676, -0.78330377, -1.10763289,  0.10612596, -0.63375855,\n",
       "        -1.88121415,  0.6523779 , -1.27459184, -0.1828502 , -0.76587891],\n",
       "       [-0.50413407, -1.35848099, -2.21633535, -1.39300681,  0.13159471,\n",
       "         0.65429138,  0.32207255,  1.41792558,  1.12357799, -0.68599018],\n",
       "       [ 0.3627785 ,  1.00279706, -0.68137875, -2.14800075, -2.82895231,\n",
       "        -1.69360338,  1.43816168, -2.02116677,  1.30746801,  1.41979011],\n",
       "       [-2.93762047,  0.22199761,  0.98788788,  0.37899235,  0.28281886,\n",
       "        -1.75837237, -0.09262863, -0.92354076,  1.11467277,  0.76034531],\n",
       "       [-0.39473551,  0.28402164, -0.15729195, -0.59342945, -1.0311294 ,\n",
       "        -1.07651428,  0.18618331,  1.5780439 ,  1.31285558,  0.10777784]])"
      ]
     },
     "execution_count": 75,
     "metadata": {},
     "output_type": "execute_result"
    }
   ],
   "source": [
    "stock_change"
   ]
  },
  {
   "cell_type": "code",
   "execution_count": 76,
   "metadata": {},
   "outputs": [],
   "source": [
    "stock_change.resize((10, 8)) # 没有返回值, 直接对原来的数组进行操作"
   ]
  },
  {
   "cell_type": "code",
   "execution_count": 77,
   "metadata": {},
   "outputs": [
    {
     "data": {
      "text/plain": [
       "(10, 8)"
      ]
     },
     "execution_count": 77,
     "metadata": {},
     "output_type": "execute_result"
    }
   ],
   "source": [
    "stock_change.shape"
   ]
  },
  {
   "cell_type": "code",
   "execution_count": 79,
   "metadata": {},
   "outputs": [],
   "source": [
    "stock_change.resize((8, 10)) "
   ]
  },
  {
   "cell_type": "code",
   "execution_count": 80,
   "metadata": {
    "scrolled": true
   },
   "outputs": [
    {
     "data": {
      "text/plain": [
       "array([[-0.03469926,  1.68760014,  0.05915316,  2.4473136 , -0.61776756,\n",
       "        -0.56253866, -1.24738637,  0.48320978,  1.01227938, -1.44509723],\n",
       "       [-1.8391253 , -1.10142576,  0.09582268,  1.01589092, -1.20262068,\n",
       "         0.76134643, -0.76782097, -1.11192773,  0.81609586,  0.07659056],\n",
       "       [-0.74293074, -0.7836588 ,  1.32639574, -0.52735663,  1.4167841 ,\n",
       "         2.10286726, -0.21687665, -0.33073563, -0.46648617,  0.07926839],\n",
       "       [ 0.45914676, -0.78330377, -1.10763289,  0.10612596, -0.63375855,\n",
       "        -1.88121415,  0.6523779 , -1.27459184, -0.1828502 , -0.76587891],\n",
       "       [-0.50413407, -1.35848099, -2.21633535, -1.39300681,  0.13159471,\n",
       "         0.65429138,  0.32207255,  1.41792558,  1.12357799, -0.68599018],\n",
       "       [ 0.3627785 ,  1.00279706, -0.68137875, -2.14800075, -2.82895231,\n",
       "        -1.69360338,  1.43816168, -2.02116677,  1.30746801,  1.41979011],\n",
       "       [-2.93762047,  0.22199761,  0.98788788,  0.37899235,  0.28281886,\n",
       "        -1.75837237, -0.09262863, -0.92354076,  1.11467277,  0.76034531],\n",
       "       [-0.39473551,  0.28402164, -0.15729195, -0.59342945, -1.0311294 ,\n",
       "        -1.07651428,  0.18618331,  1.5780439 ,  1.31285558,  0.10777784]])"
      ]
     },
     "execution_count": 80,
     "metadata": {},
     "output_type": "execute_result"
    }
   ],
   "source": [
    "stock_change"
   ]
  },
  {
   "cell_type": "code",
   "execution_count": 83,
   "metadata": {},
   "outputs": [
    {
     "data": {
      "text/plain": [
       "array([[-0.03469926, -1.8391253 , -0.74293074,  0.45914676, -0.50413407,\n",
       "         0.3627785 , -2.93762047, -0.39473551],\n",
       "       [ 1.68760014, -1.10142576, -0.7836588 , -0.78330377, -1.35848099,\n",
       "         1.00279706,  0.22199761,  0.28402164],\n",
       "       [ 0.05915316,  0.09582268,  1.32639574, -1.10763289, -2.21633535,\n",
       "        -0.68137875,  0.98788788, -0.15729195],\n",
       "       [ 2.4473136 ,  1.01589092, -0.52735663,  0.10612596, -1.39300681,\n",
       "        -2.14800075,  0.37899235, -0.59342945],\n",
       "       [-0.61776756, -1.20262068,  1.4167841 , -0.63375855,  0.13159471,\n",
       "        -2.82895231,  0.28281886, -1.0311294 ],\n",
       "       [-0.56253866,  0.76134643,  2.10286726, -1.88121415,  0.65429138,\n",
       "        -1.69360338, -1.75837237, -1.07651428],\n",
       "       [-1.24738637, -0.76782097, -0.21687665,  0.6523779 ,  0.32207255,\n",
       "         1.43816168, -0.09262863,  0.18618331],\n",
       "       [ 0.48320978, -1.11192773, -0.33073563, -1.27459184,  1.41792558,\n",
       "        -2.02116677, -0.92354076,  1.5780439 ],\n",
       "       [ 1.01227938,  0.81609586, -0.46648617, -0.1828502 ,  1.12357799,\n",
       "         1.30746801,  1.11467277,  1.31285558],\n",
       "       [-1.44509723,  0.07659056,  0.07926839, -0.76587891, -0.68599018,\n",
       "         1.41979011,  0.76034531,  0.10777784]])"
      ]
     },
     "execution_count": 83,
     "metadata": {},
     "output_type": "execute_result"
    }
   ],
   "source": [
    "stock_change.T"
   ]
  },
  {
   "cell_type": "markdown",
   "metadata": {},
   "source": [
    "### 3.3.4 类型修改"
   ]
  },
  {
   "cell_type": "code",
   "execution_count": 84,
   "metadata": {},
   "outputs": [
    {
     "data": {
      "text/plain": [
       "array([[ 0,  1,  0,  2,  0,  0, -1,  0,  1, -1],\n",
       "       [-1, -1,  0,  1, -1,  0,  0, -1,  0,  0],\n",
       "       [ 0,  0,  1,  0,  1,  2,  0,  0,  0,  0],\n",
       "       [ 0,  0, -1,  0,  0, -1,  0, -1,  0,  0],\n",
       "       [ 0, -1, -2, -1,  0,  0,  0,  1,  1,  0],\n",
       "       [ 0,  1,  0, -2, -2, -1,  1, -2,  1,  1],\n",
       "       [-2,  0,  0,  0,  0, -1,  0,  0,  1,  0],\n",
       "       [ 0,  0,  0,  0, -1, -1,  0,  1,  1,  0]], dtype=int32)"
      ]
     },
     "execution_count": 84,
     "metadata": {},
     "output_type": "execute_result"
    }
   ],
   "source": [
    "stock_change.astype(\"int32\")"
   ]
  },
  {
   "cell_type": "code",
   "execution_count": 87,
   "metadata": {
    "scrolled": true
   },
   "outputs": [
    {
     "data": {
      "text/plain": [
       "b'\\x95&\\x99\\xdd\\x19\\xc4\\xa1\\xbfm8\\x88\\x00i\\x00\\xfb?\\x92\\xbc\\x81\\xa1RI\\xae?\\xa2\\x95x&\\x19\\x94\\x03@\\x9f?\\xbev\\xc0\\xc4\\xe3\\xbf\\x87\\xf4H\\x13Q\\x00\\xe2\\xbf\\x9eM\\x85hK\\xf5\\xf3\\xbf\\x17mZ\\xb2\\xe8\\xec\\xde?U\\xca\\xd4\\xdbK2\\xf0?G\\xc6\\xbbD\\x1e\\x1f\\xf7\\xbf\\x9f-\\xb0\\xa5\\x0em\\xfd\\xbf\\x9b\\xd0h\\x9dp\\x9f\\xf1\\xbfyH\\x8e\\xc3\\xd5\\x87\\xb8?\\x1d\\x89v\\xd5\\x16A\\xf0?\\x89Aj-\\xef=\\xf3\\xbf\\xbc\\x8ea/\\xf3\\\\\\xe8?\\x94\\xb8\\xbaJ\\xfd\\x91\\xe8\\xbfv\\xc0\\x92\\xbct\\xca\\xf1\\xbf\\x82\\x82\\x19\\x11u\\x1d\\xea?\\xf2.\\x96Qp\\x9b\\xb3?g\\xed\\xef\\xb0\\x16\\xc6\\xe7\\xbf\\xf2\\xbf!\\x9c\\xbb\\x13\\xe9\\xbf\\x7fv\\x1e\\xbd\\xea8\\xf5?\\x1e \\x9d\\x02\\x1b\\xe0\\xe0\\xbf?\\x99O\\xce%\\xab\\xf6?\\x84;\\xb9\\x11\\xac\\xd2\\x00@p\\xe3\\xa07\\x9d\\xc2\\xcb\\xbfop\\x94\\xc4\\xc5*\\xd5\\xbfN\\x15)\\xca\\xe8\\xda\\xdd\\xbf4\\xa8\\x8b\\xf1\\xeeJ\\xb4?Qd\\x8e\\x1c\\xa9b\\xdd?\\xc8\\x92\\xb6\\x10\\xd3\\x10\\xe9\\xbf\\xf1\\x80\\x87C\\xdd\\xb8\\xf1\\xbf\\x18\\x02B \\x12+\\xbb?Xv\\xb4\\x02\\xc0G\\xe4\\xbf\\xa6,\\x8a\\x02t\\x19\\xfe\\xbf\\xb4\\xc9\\xaf\\x9cG\\xe0\\xe4?wCsj\\xbad\\xf4\\xbf\\xbc\\xb1\\xd5\\xa9\\xa2g\\xc7\\xbf\\xbc\\xc6\\x8d{\\x14\\x82\\xe8\\xbf>\\xf7\\xae\\xc6\\xdd!\\xe0\\xbf\\xacB\\x9c\\x90V\\xbc\\xf5\\xbfb\\xae\\xfa\\x06\\x0e\\xbb\\x01\\xc0_B\\xe1\\x82\\xc1I\\xf6\\xbfw\\x9f\\xb6m\\x18\\xd8\\xc0?\\x93\\xcb\\x8e{\\xf4\\xef\\xe4?\\xfe\\xc1\\xba,\\xd6\\x9c\\xd4?k\\x85)\\xbc\\xd2\\xaf\\xf6?{g\\x82\\xea,\\xfa\\xf1?s}\\xaf\\xad\\xa1\\xf3\\xe5\\xbfD(cM\\xc37\\xd7?(\\x1a\\xff\\xect\\x0b\\xf0?7e\\x80\\xce\\xda\\xcd\\xe5\\xbf\"\\xd5\\xe1\\x03\\x1b/\\x01\\xc0\\x94\\x85?\\xbf\\xb1\\xa1\\x06\\xc0w\\x08\\x14\\xdc\\xff\\x18\\xfb\\xbf\\x9f\\x1eL\\xd2\\xb5\\x02\\xf7?\\xb0-5{Y+\\x00\\xc0;\\xf5<\\x94c\\xeb\\xf4?a\\x8f\\xb1\\xd6u\\xb7\\xf6?%Kr)?\\x80\\x07\\xc0\\x9e\\x1c%\\xedjj\\xcc?F\\xa0C\\t\\xc7\\x9c\\xef?\\xf3\\xc3\\xfd\\x1eiA\\xd8?\\xcc\\x9e\\x84D\\xb4\\x19\\xd2?\\xdd$J\\x10K\"\\xfc\\xbf\\xe6E\\xb3\\x95\\x82\\xb6\\xb7\\xbf\\x0cN\\xa4Z\\xa5\\x8d\\xed\\xbf\\x96\\xdd\\xee\\x1c\\xb3\\xd5\\xf1?\\x05\\x8c\\x12\\xb0\\xbfT\\xe8?/\\xa5\\x1a\\xb9XC\\xd9\\xbf~Z!\\x1ci-\\xd2?\\x1f\\xe4\\xe3\\x83$\"\\xc4\\xbf_&\\xc5\\xc0_\\xfd\\xe2\\xbf\\xbf\\x16\\xac\\x8b\\x81\\x7f\\xf0\\xbf\\xf7\\xba)\\tg9\\xf1\\xbf\\xb7q\\x8c\\xd7\\xda\\xd4\\xc7?\\x98P\\xb7\\xf4\\xaa?\\xf9?\\x8c\\x98P\\xdbt\\x01\\xf5?t\\xd8 -T\\x97\\xbb?'"
      ]
     },
     "execution_count": 87,
     "metadata": {},
     "output_type": "execute_result"
    }
   ],
   "source": [
    "stock_change.tostring()\n",
    "# 返回值就是一堆字节码, bytes类型\n",
    "# 需要注意的就是, 如果数组太大, 转换成为bytes的时候, 输出(打印)的时候吗, jupyter可能会报错\n",
    "# 这是因为jupyter有一个输出限制, 不过可以修改配置文件, 不过不建议这样去做"
   ]
  },
  {
   "cell_type": "markdown",
   "metadata": {},
   "source": [
    "### 3.3.5 数组的去重"
   ]
  },
  {
   "cell_type": "code",
   "execution_count": 88,
   "metadata": {},
   "outputs": [],
   "source": [
    "temp = np.array([[1, 2, 3, 4] ,[3, 4, 5, 6]])"
   ]
  },
  {
   "cell_type": "code",
   "execution_count": 89,
   "metadata": {},
   "outputs": [
    {
     "data": {
      "text/plain": [
       "array([[1, 2, 3, 4],\n",
       "       [3, 4, 5, 6]])"
      ]
     },
     "execution_count": 89,
     "metadata": {},
     "output_type": "execute_result"
    }
   ],
   "source": [
    "temp"
   ]
  },
  {
   "cell_type": "code",
   "execution_count": 91,
   "metadata": {},
   "outputs": [
    {
     "data": {
      "text/plain": [
       "array([1, 2, 3, 4, 5, 6])"
      ]
     },
     "execution_count": 91,
     "metadata": {},
     "output_type": "execute_result"
    }
   ],
   "source": [
    "np.unique(temp) # 直接去重"
   ]
  },
  {
   "cell_type": "code",
   "execution_count": 94,
   "metadata": {},
   "outputs": [
    {
     "data": {
      "text/plain": [
       "{1, 2, 3, 4, 5, 6}"
      ]
     },
     "execution_count": 94,
     "metadata": {},
     "output_type": "execute_result"
    }
   ],
   "source": [
    "set(temp.flatten()) # 可以使用flatten, 这样数组就变成一维的了, 此时使用set就可以去重了"
   ]
  },
  {
   "cell_type": "markdown",
   "metadata": {},
   "source": [
    "### 3.4.1 逻辑运算"
   ]
  },
  {
   "cell_type": "code",
   "execution_count": 4,
   "metadata": {},
   "outputs": [],
   "source": [
    "import numpy as np\n",
    "stock_change = np.random.normal(loc=0, scale=1, size=(8, 10))"
   ]
  },
  {
   "cell_type": "code",
   "execution_count": 5,
   "metadata": {},
   "outputs": [
    {
     "data": {
      "text/plain": [
       "array([[-1.1719986 , -0.29727823, -1.5239101 , -0.15237961,  1.09367861,\n",
       "        -0.48517131, -1.16330689, -0.62351106, -1.16594071, -0.343023  ],\n",
       "       [ 0.4455699 ,  0.97458766,  0.16407109,  0.7164689 , -0.1709061 ,\n",
       "         1.87017019, -1.15816192,  2.49415893,  0.43970092, -0.56821779],\n",
       "       [ 0.9162449 ,  1.48040127,  1.53128204,  0.72596088,  0.88894318,\n",
       "        -0.74410391,  0.74532075,  0.30761885,  1.20681245, -0.76076437],\n",
       "       [ 0.03197968, -1.88232493,  0.49574482,  1.99008182,  0.42758753,\n",
       "         0.58559033, -0.07540988,  2.08901472, -0.90639183,  0.66129547],\n",
       "       [ 1.06259595,  0.12058545,  0.24574243, -1.22220806, -0.24587585,\n",
       "        -0.22951788, -0.44392249,  2.68052995,  1.42293001, -1.27126634],\n",
       "       [-0.68472695, -0.78166719, -0.89211022,  1.07448183,  0.78165363,\n",
       "         1.6280487 , -0.50633689, -2.73403123, -1.39564703,  0.15496603],\n",
       "       [ 1.8493281 , -0.52064083,  1.23486198,  0.86775055, -1.41890263,\n",
       "         0.0775862 ,  0.38114807, -1.04263391, -0.26164488, -0.61962291],\n",
       "       [-1.93843551, -0.56791896,  0.72546549,  1.22968725, -0.83975841,\n",
       "        -1.25640941, -0.40395999, -0.46501868,  0.17520155, -0.25888064]])"
      ]
     },
     "execution_count": 5,
     "metadata": {},
     "output_type": "execute_result"
    }
   ],
   "source": [
    "stock_change"
   ]
  },
  {
   "cell_type": "code",
   "execution_count": 7,
   "metadata": {},
   "outputs": [
    {
     "data": {
      "text/plain": [
       "array([[False, False, False, False,  True, False, False, False, False,\n",
       "        False],\n",
       "       [False,  True, False,  True, False,  True, False,  True, False,\n",
       "        False],\n",
       "       [ True,  True,  True,  True,  True, False,  True, False,  True,\n",
       "        False],\n",
       "       [False, False, False,  True, False,  True, False,  True, False,\n",
       "         True],\n",
       "       [ True, False, False, False, False, False, False,  True,  True,\n",
       "        False],\n",
       "       [False, False, False,  True,  True,  True, False, False, False,\n",
       "        False],\n",
       "       [ True, False,  True,  True, False, False, False, False, False,\n",
       "        False],\n",
       "       [False, False,  True,  True, False, False, False, False, False,\n",
       "        False]])"
      ]
     },
     "execution_count": 7,
     "metadata": {},
     "output_type": "execute_result"
    }
   ],
   "source": [
    "# 逻辑判断, 如果涨跌幅大于0.5就标记为True 否则为False\n",
    "stock_change > 0.5 # 返回一个逻辑数组, 这点与matlab相同\n"
   ]
  },
  {
   "cell_type": "code",
   "execution_count": 8,
   "metadata": {},
   "outputs": [],
   "source": [
    "# 如果我们需要操作大于0.5的数据怎么办, 这里介绍布尔索引\n",
    "# 我们不仅仅可以使用数字作为索引, 还可以使用bool值作为索引\n",
    "stock_change[stock_change > 0.5] = 1.1 # 直接将判断结果的返回值, 然后修改即可\n",
    "# 其他的运算符也同样可以"
   ]
  },
  {
   "cell_type": "code",
   "execution_count": 9,
   "metadata": {},
   "outputs": [
    {
     "data": {
      "text/plain": [
       "array([[-1.1719986 , -0.29727823, -1.5239101 , -0.15237961,  1.1       ,\n",
       "        -0.48517131, -1.16330689, -0.62351106, -1.16594071, -0.343023  ],\n",
       "       [ 0.4455699 ,  1.1       ,  0.16407109,  1.1       , -0.1709061 ,\n",
       "         1.1       , -1.15816192,  1.1       ,  0.43970092, -0.56821779],\n",
       "       [ 1.1       ,  1.1       ,  1.1       ,  1.1       ,  1.1       ,\n",
       "        -0.74410391,  1.1       ,  0.30761885,  1.1       , -0.76076437],\n",
       "       [ 0.03197968, -1.88232493,  0.49574482,  1.1       ,  0.42758753,\n",
       "         1.1       , -0.07540988,  1.1       , -0.90639183,  1.1       ],\n",
       "       [ 1.1       ,  0.12058545,  0.24574243, -1.22220806, -0.24587585,\n",
       "        -0.22951788, -0.44392249,  1.1       ,  1.1       , -1.27126634],\n",
       "       [-0.68472695, -0.78166719, -0.89211022,  1.1       ,  1.1       ,\n",
       "         1.1       , -0.50633689, -2.73403123, -1.39564703,  0.15496603],\n",
       "       [ 1.1       , -0.52064083,  1.1       ,  1.1       , -1.41890263,\n",
       "         0.0775862 ,  0.38114807, -1.04263391, -0.26164488, -0.61962291],\n",
       "       [-1.93843551, -0.56791896,  1.1       ,  1.1       , -0.83975841,\n",
       "        -1.25640941, -0.40395999, -0.46501868,  0.17520155, -0.25888064]])"
      ]
     },
     "execution_count": 9,
     "metadata": {},
     "output_type": "execute_result"
    }
   ],
   "source": [
    "stock_change"
   ]
  },
  {
   "cell_type": "code",
   "execution_count": 102,
   "metadata": {},
   "outputs": [
    {
     "data": {
      "text/plain": [
       "array([[ True, False,  True,  True,  True],\n",
       "       [ True,  True,  True,  True,  True]])"
      ]
     },
     "execution_count": 102,
     "metadata": {},
     "output_type": "execute_result"
    }
   ],
   "source": [
    "# 判断stock_change[0:2, 0:5]是否全是上涨的\n",
    "stock_change[0:2, 0:5] > 0 # 看一下是否全是上涨"
   ]
  },
  {
   "cell_type": "code",
   "execution_count": 103,
   "metadata": {},
   "outputs": [
    {
     "data": {
      "text/plain": [
       "False"
      ]
     },
     "execution_count": 103,
     "metadata": {},
     "output_type": "execute_result"
    }
   ],
   "source": [
    "np.all(stock_change[0:2, 0:5] > 0) # 全为True则返回True"
   ]
  },
  {
   "cell_type": "code",
   "execution_count": 107,
   "metadata": {},
   "outputs": [
    {
     "data": {
      "text/plain": [
       "True"
      ]
     },
     "execution_count": 107,
     "metadata": {},
     "output_type": "execute_result"
    }
   ],
   "source": [
    "# 判断前5只股票这段期间是否有上涨的\n",
    "np.any(stock_change[:5, :] > 0) # 有True则返回True"
   ]
  },
  {
   "cell_type": "markdown",
   "metadata": {},
   "source": [
    "### 3.4.3 np.where（三元运算符）"
   ]
  },
  {
   "cell_type": "code",
   "execution_count": 108,
   "metadata": {},
   "outputs": [],
   "source": [
    "# 判断前四个股票前四天的涨跌幅 大于0的置为1，否则为0\n",
    "temp = stock_change[:4, :4] # 前四个股票, 前四天的涨跌幅"
   ]
  },
  {
   "cell_type": "code",
   "execution_count": 111,
   "metadata": {},
   "outputs": [
    {
     "data": {
      "text/plain": [
       "array([[ 1.1       , -0.45576704,  0.29667843,  0.16606916],\n",
       "       [ 0.36775845,  0.24078108,  0.122042  ,  1.1       ],\n",
       "       [-1.48252741, -0.69347186,  1.1       , -0.30606473],\n",
       "       [ 0.39438905, -1.31770556,  1.1       , -1.52812773]])"
      ]
     },
     "execution_count": 111,
     "metadata": {},
     "output_type": "execute_result"
    }
   ],
   "source": [
    "temp"
   ]
  },
  {
   "cell_type": "code",
   "execution_count": 110,
   "metadata": {},
   "outputs": [
    {
     "data": {
      "text/plain": [
       "array([[1, 0, 1, 1],\n",
       "       [1, 1, 1, 1],\n",
       "       [0, 0, 1, 0],\n",
       "       [1, 0, 1, 0]])"
      ]
     },
     "execution_count": 110,
     "metadata": {},
     "output_type": "execute_result"
    }
   ],
   "source": [
    "np.where(temp > 0, 1, 0) \n",
    "# 参数: 逻辑矩阵, True位置的赋的值, False位置的值"
   ]
  },
  {
   "cell_type": "code",
   "execution_count": 112,
   "metadata": {},
   "outputs": [
    {
     "data": {
      "text/plain": [
       "array([[ True, False,  True,  True],\n",
       "       [ True,  True,  True,  True],\n",
       "       [False, False,  True, False],\n",
       "       [ True, False,  True, False]])"
      ]
     },
     "execution_count": 112,
     "metadata": {},
     "output_type": "execute_result"
    }
   ],
   "source": [
    "temp > 0"
   ]
  },
  {
   "cell_type": "code",
   "execution_count": 113,
   "metadata": {},
   "outputs": [
    {
     "data": {
      "text/plain": [
       "array([[1, 0, 1, 1],\n",
       "       [1, 1, 1, 1],\n",
       "       [0, 0, 1, 0],\n",
       "       [1, 0, 1, 0]])"
      ]
     },
     "execution_count": 113,
     "metadata": {},
     "output_type": "execute_result"
    }
   ],
   "source": [
    "# 效果一样\n",
    "np.where([[ True, False,  True,  True],\n",
    "       [ True,  True,  True,  True],\n",
    "       [False, False,  True, False],\n",
    "       [ True, False,  True, False]], 1, 0)"
   ]
  },
  {
   "cell_type": "code",
   "execution_count": 118,
   "metadata": {},
   "outputs": [
    {
     "data": {
      "text/plain": [
       "array([[ 1.1       , -0.45576704,  0.29667843,  0.16606916],\n",
       "       [ 0.36775845,  0.24078108,  0.122042  ,  1.1       ],\n",
       "       [-1.48252741, -0.69347186,  1.1       , -0.30606473],\n",
       "       [ 0.39438905, -1.31770556,  1.1       , -1.52812773]])"
      ]
     },
     "execution_count": 118,
     "metadata": {},
     "output_type": "execute_result"
    }
   ],
   "source": [
    "temp"
   ]
  },
  {
   "cell_type": "code",
   "execution_count": 117,
   "metadata": {},
   "outputs": [
    {
     "data": {
      "text/plain": [
       "array([[False, False, False, False],\n",
       "       [False, False, False, False],\n",
       "       [False, False, False, False],\n",
       "       [False, False, False, False]])"
      ]
     },
     "execution_count": 117,
     "metadata": {},
     "output_type": "execute_result"
    }
   ],
   "source": [
    "# 判断前四个股票前四天的涨跌幅 大于0.5并且小于1的，换为1，否则为0\n",
    "# 判断前四个股票前四天的涨跌幅 大于0.5或者小于-0.5的，换为1，否则为0\n",
    "# (temp > 0.5) and (temp < 1) 报错\n",
    "np.logical_and(temp > 0.5, temp < 1) # 使用逻辑矩阵操操作"
   ]
  },
  {
   "cell_type": "code",
   "execution_count": 119,
   "metadata": {},
   "outputs": [
    {
     "data": {
      "text/plain": [
       "array([[0, 0, 0, 0],\n",
       "       [0, 0, 0, 0],\n",
       "       [0, 0, 0, 0],\n",
       "       [0, 0, 0, 0]])"
      ]
     },
     "execution_count": 119,
     "metadata": {},
     "output_type": "execute_result"
    }
   ],
   "source": [
    "np.where([[False, False, False, False],\n",
    "       [False, False, False, False],\n",
    "       [False, False, False, False],\n",
    "       [False, False, False, False]], 1, 0) # "
   ]
  },
  {
   "cell_type": "code",
   "execution_count": 120,
   "metadata": {},
   "outputs": [
    {
     "data": {
      "text/plain": [
       "array([[0, 0, 0, 0],\n",
       "       [0, 0, 0, 0],\n",
       "       [0, 0, 0, 0],\n",
       "       [0, 0, 0, 0]])"
      ]
     },
     "execution_count": 120,
     "metadata": {},
     "output_type": "execute_result"
    }
   ],
   "source": [
    "np.where(np.logical_and(temp > 0.5, temp < 1), 1, 0)"
   ]
  },
  {
   "cell_type": "code",
   "execution_count": 121,
   "metadata": {},
   "outputs": [
    {
     "data": {
      "text/plain": [
       "array([[ True, False, False, False],\n",
       "       [False, False, False,  True],\n",
       "       [ True,  True,  True, False],\n",
       "       [False,  True,  True,  True]])"
      ]
     },
     "execution_count": 121,
     "metadata": {},
     "output_type": "execute_result"
    }
   ],
   "source": [
    "# 判断前四个股票前四天的涨跌幅 大于0.5或者小于-0.5的，换为1，否则为0\n",
    "np.logical_or(temp > 0.5, temp < -0.5)"
   ]
  },
  {
   "cell_type": "code",
   "execution_count": 122,
   "metadata": {},
   "outputs": [
    {
     "data": {
      "text/plain": [
       "array([[11,  3,  3,  3],\n",
       "       [ 3,  3,  3, 11],\n",
       "       [11, 11, 11,  3],\n",
       "       [ 3, 11, 11, 11]])"
      ]
     },
     "execution_count": 122,
     "metadata": {},
     "output_type": "execute_result"
    }
   ],
   "source": [
    "np.where(np.logical_or(temp > 0.5, temp < -0.5), 11, 3)"
   ]
  },
  {
   "cell_type": "markdown",
   "metadata": {},
   "source": [
    "### 2 股票涨跌幅统计运算"
   ]
  },
  {
   "cell_type": "code",
   "execution_count": 123,
   "metadata": {},
   "outputs": [
    {
     "data": {
      "text/plain": [
       "array([[ 1.1       , -0.45576704,  0.29667843,  0.16606916],\n",
       "       [ 0.36775845,  0.24078108,  0.122042  ,  1.1       ],\n",
       "       [-1.48252741, -0.69347186,  1.1       , -0.30606473],\n",
       "       [ 0.39438905, -1.31770556,  1.1       , -1.52812773]])"
      ]
     },
     "execution_count": 123,
     "metadata": {},
     "output_type": "execute_result"
    }
   ],
   "source": [
    "# 前四只股票前四天的最大涨幅\n",
    "temp # shape: (4, 4) 0  1"
   ]
  },
  {
   "cell_type": "code",
   "execution_count": 127,
   "metadata": {},
   "outputs": [
    {
     "data": {
      "text/plain": [
       "array([1.1       , 0.24078108, 1.1       , 1.1       ])"
      ]
     },
     "execution_count": 127,
     "metadata": {},
     "output_type": "execute_result"
    }
   ],
   "source": [
    " temp.max(axis=0) # 表示对第一维度进行求最大，也就是每一列的最大值"
   ]
  },
  {
   "cell_type": "code",
   "execution_count": 130,
   "metadata": {},
   "outputs": [
    {
     "data": {
      "text/plain": [
       "array([1.1, 1.1, 1.1, 1.1])"
      ]
     },
     "execution_count": 130,
     "metadata": {},
     "output_type": "execute_result"
    }
   ],
   "source": [
    "np.max(temp, axis=-1) #"
   ]
  },
  {
   "cell_type": "code",
   "execution_count": 132,
   "metadata": {},
   "outputs": [
    {
     "data": {
      "text/plain": [
       "array([0, 3, 2, 2])"
      ]
     },
     "execution_count": 132,
     "metadata": {},
     "output_type": "execute_result"
    }
   ],
   "source": [
    "np.argmax(temp, axis=-1) # 同理，对列进行操作，得到的是行向量"
   ]
  },
  {
   "cell_type": "markdown",
   "metadata": {},
   "source": [
    "### 3.5.2 数组与数的运算"
   ]
  },
  {
   "cell_type": "code",
   "execution_count": 136,
   "metadata": {},
   "outputs": [],
   "source": [
    "# ndarray对象:\n",
    "arr = np.array([[1, 2, 3, 2, 1, 4], [5, 6, 1, 2, 3, 1]])"
   ]
  },
  {
   "cell_type": "code",
   "execution_count": 141,
   "metadata": {},
   "outputs": [
    {
     "data": {
      "text/plain": [
       "array([[0.1, 0.2, 0.3, 0.2, 0.1, 0.4],\n",
       "       [0.5, 0.6, 0.1, 0.2, 0.3, 0.1]])"
      ]
     },
     "execution_count": 141,
     "metadata": {},
     "output_type": "execute_result"
    }
   ],
   "source": [
    "arr / 10 # 直接是对数组中的元素进行运算"
   ]
  },
  {
   "cell_type": "code",
   "execution_count": 142,
   "metadata": {},
   "outputs": [],
   "source": [
    "# python原生list: \n",
    "a = [1, 2, 3, 4, 5]"
   ]
  },
  {
   "cell_type": "code",
   "execution_count": 145,
   "metadata": {},
   "outputs": [],
   "source": [
    "# a * 10 # 并不是对元素进行操作\n",
    "# 不过我们可以使用列表生成器或者for或者map()函数, 对list进行操作"
   ]
  },
  {
   "cell_type": "markdown",
   "metadata": {},
   "source": [
    "### 3.5.3 数组与数组的运算"
   ]
  },
  {
   "cell_type": "code",
   "execution_count": 146,
   "metadata": {},
   "outputs": [],
   "source": [
    "arr1 = np.array([[1, 2, 3, 2, 1, 4], [5, 6, 1, 2, 3, 1]])\n",
    "arr2 = np.array([[1, 2, 3, 4], [3, 4, 5, 6]])\n"
   ]
  },
  {
   "cell_type": "code",
   "execution_count": 147,
   "metadata": {},
   "outputs": [
    {
     "data": {
      "text/plain": [
       "array([[1, 2, 3, 2, 1, 4],\n",
       "       [5, 6, 1, 2, 3, 1]])"
      ]
     },
     "execution_count": 147,
     "metadata": {},
     "output_type": "execute_result"
    }
   ],
   "source": [
    "arr1 # (2, 6)"
   ]
  },
  {
   "cell_type": "code",
   "execution_count": 148,
   "metadata": {},
   "outputs": [
    {
     "data": {
      "text/plain": [
       "array([[1, 2, 3, 4],\n",
       "       [3, 4, 5, 6]])"
      ]
     },
     "execution_count": 148,
     "metadata": {},
     "output_type": "execute_result"
    }
   ],
   "source": [
    "arr2 # (2, 4)"
   ]
  },
  {
   "cell_type": "code",
   "execution_count": 152,
   "metadata": {},
   "outputs": [],
   "source": [
    "# arr1 + arr2 # 报错, could not be broadcast: 不能被广播的\n",
    "# 我们如果想让不同形状的两个数组进行运算是需要满足广播机制的."
   ]
  },
  {
   "cell_type": "code",
   "execution_count": 153,
   "metadata": {},
   "outputs": [],
   "source": [
    "arr1 = np.array([[1, 2, 3, 2, 1, 4], [5, 6, 1, 2, 3, 1]])\n",
    "arr2 = np.array([[1], [3]])\n",
    "# - 维数相等\n",
    "# - shape(其中相对应的一个地方为1."
   ]
  },
  {
   "cell_type": "code",
   "execution_count": 154,
   "metadata": {},
   "outputs": [
    {
     "data": {
      "text/plain": [
       "array([[1, 2, 3, 2, 1, 4],\n",
       "       [5, 6, 1, 2, 3, 1]])"
      ]
     },
     "execution_count": 154,
     "metadata": {},
     "output_type": "execute_result"
    }
   ],
   "source": [
    "arr1 # (2, 6)"
   ]
  },
  {
   "cell_type": "code",
   "execution_count": 155,
   "metadata": {},
   "outputs": [
    {
     "data": {
      "text/plain": [
       "array([[1],\n",
       "       [3]])"
      ]
     },
     "execution_count": 155,
     "metadata": {},
     "output_type": "execute_result"
    }
   ],
   "source": [
    "arr2 # (2, 1)\n",
    "# 第一个维度, 维数相等, 第二个维度, shape=1, 所以两个数组是能够进行运算的"
   ]
  },
  {
   "cell_type": "code",
   "execution_count": 156,
   "metadata": {},
   "outputs": [
    {
     "data": {
      "text/plain": [
       "array([[2, 3, 4, 3, 2, 5],\n",
       "       [8, 9, 4, 5, 6, 4]])"
      ]
     },
     "execution_count": 156,
     "metadata": {},
     "output_type": "execute_result"
    }
   ],
   "source": [
    "arr1 + arr2 # 最终的结果就是取每个维度的最大值 "
   ]
  },
  {
   "cell_type": "code",
   "execution_count": 157,
   "metadata": {},
   "outputs": [
    {
     "data": {
      "text/plain": [
       "array([[ 1,  2,  3,  2,  1,  4],\n",
       "       [15, 18,  3,  6,  9,  3]])"
      ]
     },
     "execution_count": 157,
     "metadata": {},
     "output_type": "execute_result"
    }
   ],
   "source": [
    "arr1 * arr2"
   ]
  },
  {
   "cell_type": "code",
   "execution_count": 158,
   "metadata": {},
   "outputs": [
    {
     "data": {
      "text/plain": [
       "array([[1.        , 2.        , 3.        , 2.        , 1.        ,\n",
       "        4.        ],\n",
       "       [1.66666667, 2.        , 0.33333333, 0.66666667, 1.        ,\n",
       "        0.33333333]])"
      ]
     },
     "execution_count": 158,
     "metadata": {},
     "output_type": "execute_result"
    }
   ],
   "source": [
    "arr1 / arr2"
   ]
  },
  {
   "cell_type": "markdown",
   "metadata": {},
   "source": [
    "### 3.5.5 矩阵运算"
   ]
  },
  {
   "cell_type": "code",
   "execution_count": 159,
   "metadata": {},
   "outputs": [],
   "source": [
    "# ndarray存储矩阵\n",
    "data = np.array([[80, 86],\n",
    "[82, 80],\n",
    "[85, 78],\n",
    "[90, 90],\n",
    "[86, 82],\n",
    "[82, 90],\n",
    "[78, 80],\n",
    "[92, 94]])"
   ]
  },
  {
   "cell_type": "code",
   "execution_count": 160,
   "metadata": {},
   "outputs": [
    {
     "data": {
      "text/plain": [
       "array([[80, 86],\n",
       "       [82, 80],\n",
       "       [85, 78],\n",
       "       [90, 90],\n",
       "       [86, 82],\n",
       "       [82, 90],\n",
       "       [78, 80],\n",
       "       [92, 94]])"
      ]
     },
     "execution_count": 160,
     "metadata": {},
     "output_type": "execute_result"
    }
   ],
   "source": [
    "data"
   ]
  },
  {
   "cell_type": "code",
   "execution_count": 161,
   "metadata": {},
   "outputs": [],
   "source": [
    "# matrix存储矩阵\n",
    "data_mat = np.mat([[80, 86],\n",
    "[82, 80],\n",
    "[85, 78],\n",
    "[90, 90],\n",
    "[86, 82],\n",
    "[82, 90],\n",
    "[78, 80],\n",
    "[92, 94]])"
   ]
  },
  {
   "cell_type": "code",
   "execution_count": 163,
   "metadata": {},
   "outputs": [
    {
     "data": {
      "text/plain": [
       "numpy.matrixlib.defmatrix.matrix"
      ]
     },
     "execution_count": 163,
     "metadata": {},
     "output_type": "execute_result"
    }
   ],
   "source": [
    "type(data_mat)"
   ]
  },
  {
   "cell_type": "code",
   "execution_count": 164,
   "metadata": {},
   "outputs": [
    {
     "data": {
      "text/plain": [
       "array([[80, 86],\n",
       "       [82, 80],\n",
       "       [85, 78],\n",
       "       [90, 90],\n",
       "       [86, 82],\n",
       "       [82, 90],\n",
       "       [78, 80],\n",
       "       [92, 94]])"
      ]
     },
     "execution_count": 164,
     "metadata": {},
     "output_type": "execute_result"
    }
   ],
   "source": [
    "# 矩阵的运算: 这里主要介绍矩阵乘法 -> 这里与线性代数的算法一样 \n",
    "data # (8, 2) * (2, 1) = (8, 1)"
   ]
  },
  {
   "cell_type": "code",
   "execution_count": 165,
   "metadata": {},
   "outputs": [],
   "source": [
    "weights = np.array([[0.3], [0.7]])"
   ]
  },
  {
   "cell_type": "code",
   "execution_count": 166,
   "metadata": {},
   "outputs": [
    {
     "data": {
      "text/plain": [
       "array([[0.3],\n",
       "       [0.7]])"
      ]
     },
     "execution_count": 166,
     "metadata": {},
     "output_type": "execute_result"
    }
   ],
   "source": [
    "weights # (2, 1) "
   ]
  },
  {
   "cell_type": "code",
   "execution_count": 167,
   "metadata": {},
   "outputs": [],
   "source": [
    "weights_mat = np.mat([[0.3], [0.7]])"
   ]
  },
  {
   "cell_type": "code",
   "execution_count": 168,
   "metadata": {},
   "outputs": [
    {
     "data": {
      "text/plain": [
       "matrix([[0.3],\n",
       "        [0.7]])"
      ]
     },
     "execution_count": 168,
     "metadata": {},
     "output_type": "execute_result"
    }
   ],
   "source": [
    "weights_mat"
   ]
  },
  {
   "cell_type": "code",
   "execution_count": 169,
   "metadata": {},
   "outputs": [
    {
     "data": {
      "text/plain": [
       "array([[80, 86],\n",
       "       [82, 80],\n",
       "       [85, 78],\n",
       "       [90, 90],\n",
       "       [86, 82],\n",
       "       [82, 90],\n",
       "       [78, 80],\n",
       "       [92, 94]])"
      ]
     },
     "execution_count": 169,
     "metadata": {},
     "output_type": "execute_result"
    }
   ],
   "source": [
    "# 矩阵运算\n",
    "data"
   ]
  },
  {
   "cell_type": "code",
   "execution_count": 170,
   "metadata": {},
   "outputs": [
    {
     "data": {
      "text/plain": [
       "array([[0.3],\n",
       "       [0.7]])"
      ]
     },
     "execution_count": 170,
     "metadata": {},
     "output_type": "execute_result"
    }
   ],
   "source": [
    "weights"
   ]
  },
  {
   "cell_type": "code",
   "execution_count": 171,
   "metadata": {},
   "outputs": [
    {
     "data": {
      "text/plain": [
       "array([[84.2],\n",
       "       [80.6],\n",
       "       [80.1],\n",
       "       [90. ],\n",
       "       [83.2],\n",
       "       [87.6],\n",
       "       [79.4],\n",
       "       [93.4]])"
      ]
     },
     "execution_count": 171,
     "metadata": {},
     "output_type": "execute_result"
    }
   ],
   "source": [
    "np.matmul(data, weights) # 矩阵乘法"
   ]
  },
  {
   "cell_type": "code",
   "execution_count": 172,
   "metadata": {},
   "outputs": [
    {
     "data": {
      "text/plain": [
       "array([[84.2],\n",
       "       [80.6],\n",
       "       [80.1],\n",
       "       [90. ],\n",
       "       [83.2],\n",
       "       [87.6],\n",
       "       [79.4],\n",
       "       [93.4]])"
      ]
     },
     "execution_count": 172,
     "metadata": {},
     "output_type": "execute_result"
    }
   ],
   "source": [
    "np.dot(data, weights) # 也是矩阵相乘"
   ]
  },
  {
   "cell_type": "code",
   "execution_count": 173,
   "metadata": {},
   "outputs": [
    {
     "data": {
      "text/plain": [
       "matrix([[84.2],\n",
       "        [80.6],\n",
       "        [80.1],\n",
       "        [90. ],\n",
       "        [83.2],\n",
       "        [87.6],\n",
       "        [79.4],\n",
       "        [93.4]])"
      ]
     },
     "execution_count": 173,
     "metadata": {},
     "output_type": "execute_result"
    }
   ],
   "source": [
    "data_mat * weights_mat # 直接用matrix之间的乘法"
   ]
  },
  {
   "cell_type": "code",
   "execution_count": 174,
   "metadata": {},
   "outputs": [
    {
     "data": {
      "text/plain": [
       "array([[84.2],\n",
       "       [80.6],\n",
       "       [80.1],\n",
       "       [90. ],\n",
       "       [83.2],\n",
       "       [87.6],\n",
       "       [79.4],\n",
       "       [93.4]])"
      ]
     },
     "execution_count": 174,
     "metadata": {},
     "output_type": "execute_result"
    }
   ],
   "source": [
    "data @ weights # 这是ndarray之间, 直接用运算符进行矩阵乘法(拓展内容)"
   ]
  },
  {
   "cell_type": "code",
   "execution_count": 175,
   "metadata": {},
   "outputs": [
    {
     "data": {
      "text/plain": [
       "array([[80, 86],\n",
       "       [82, 80],\n",
       "       [85, 78],\n",
       "       [90, 90],\n",
       "       [86, 82],\n",
       "       [82, 90],\n",
       "       [78, 80],\n",
       "       [92, 94]])"
      ]
     },
     "execution_count": 175,
     "metadata": {},
     "output_type": "execute_result"
    }
   ],
   "source": [
    "data # (8, 2)"
   ]
  },
  {
   "cell_type": "code",
   "execution_count": 176,
   "metadata": {},
   "outputs": [
    {
     "data": {
      "text/plain": [
       "array([[0.3],\n",
       "       [0.7]])"
      ]
     },
     "execution_count": 176,
     "metadata": {},
     "output_type": "execute_result"
    }
   ],
   "source": [
    "weights (2, 1)"
   ]
  },
  {
   "cell_type": "code",
   "execution_count": 178,
   "metadata": {},
   "outputs": [],
   "source": [
    "# data * weights 不满足广播机制，不能进行数组运算\n",
    "# 这两个是数组, 如果是matrix类型, 那么就可以进行运算, 但是他们是数组, 所以不可以运算\n",
    "# 所以, 矩阵一定是二维数组, 但是二维数组不一定是矩阵"
   ]
  },
  {
   "cell_type": "markdown",
   "metadata": {},
   "source": [
    "### 3.6.1 合并"
   ]
  },
  {
   "cell_type": "code",
   "execution_count": 179,
   "metadata": {},
   "outputs": [],
   "source": [
    "a = stock_change[:2, 0:4]\n",
    "b = stock_change[4:6, 0:4]"
   ]
  },
  {
   "cell_type": "code",
   "execution_count": 180,
   "metadata": {},
   "outputs": [
    {
     "data": {
      "text/plain": [
       "array([[ 1.1       , -0.45576704,  0.29667843,  0.16606916],\n",
       "       [ 0.36775845,  0.24078108,  0.122042  ,  1.1       ]])"
      ]
     },
     "execution_count": 180,
     "metadata": {},
     "output_type": "execute_result"
    }
   ],
   "source": [
    "a"
   ]
  },
  {
   "cell_type": "code",
   "execution_count": 193,
   "metadata": {},
   "outputs": [
    {
     "data": {
      "text/plain": [
       "(2, 4)"
      ]
     },
     "execution_count": 193,
     "metadata": {},
     "output_type": "execute_result"
    }
   ],
   "source": [
    "a.shape"
   ]
  },
  {
   "cell_type": "code",
   "execution_count": 194,
   "metadata": {},
   "outputs": [
    {
     "data": {
      "text/plain": [
       "array([[ 1.1       , -0.45576704],\n",
       "       [ 0.29667843,  0.16606916],\n",
       "       [ 0.36775845,  0.24078108],\n",
       "       [ 0.122042  ,  1.1       ]])"
      ]
     },
     "execution_count": 194,
     "metadata": {},
     "output_type": "execute_result"
    }
   ],
   "source": [
    "a.reshape((-1, 2))"
   ]
  },
  {
   "cell_type": "code",
   "execution_count": 181,
   "metadata": {
    "scrolled": true
   },
   "outputs": [
    {
     "data": {
      "text/plain": [
       "array([[-0.9822216 , -1.09482936, -0.81834523,  1.1       ],\n",
       "       [ 0.41739964, -0.26826893, -0.70003442, -0.58593912]])"
      ]
     },
     "execution_count": 181,
     "metadata": {},
     "output_type": "execute_result"
    }
   ],
   "source": [
    "b"
   ]
  },
  {
   "cell_type": "code",
   "execution_count": 182,
   "metadata": {
    "scrolled": true
   },
   "outputs": [
    {
     "data": {
      "text/plain": [
       "array([[ 1.1       , -0.45576704,  0.29667843,  0.16606916, -0.9822216 ,\n",
       "        -1.09482936, -0.81834523,  1.1       ],\n",
       "       [ 0.36775845,  0.24078108,  0.122042  ,  1.1       ,  0.41739964,\n",
       "        -0.26826893, -0.70003442, -0.58593912]])"
      ]
     },
     "execution_count": 182,
     "metadata": {},
     "output_type": "execute_result"
    }
   ],
   "source": [
    "np.hstack((a, b))"
   ]
  },
  {
   "cell_type": "code",
   "execution_count": 183,
   "metadata": {},
   "outputs": [
    {
     "data": {
      "text/plain": [
       "array([[ 1.1       , -0.45576704,  0.29667843,  0.16606916, -0.9822216 ,\n",
       "        -1.09482936, -0.81834523,  1.1       ],\n",
       "       [ 0.36775845,  0.24078108,  0.122042  ,  1.1       ,  0.41739964,\n",
       "        -0.26826893, -0.70003442, -0.58593912]])"
      ]
     },
     "execution_count": 183,
     "metadata": {},
     "output_type": "execute_result"
    }
   ],
   "source": [
    "np.concatenate((a, b), axis=1)"
   ]
  },
  {
   "cell_type": "code",
   "execution_count": 184,
   "metadata": {},
   "outputs": [
    {
     "data": {
      "text/plain": [
       "array([[ 1.1       , -0.45576704,  0.29667843,  0.16606916],\n",
       "       [ 0.36775845,  0.24078108,  0.122042  ,  1.1       ],\n",
       "       [-0.9822216 , -1.09482936, -0.81834523,  1.1       ],\n",
       "       [ 0.41739964, -0.26826893, -0.70003442, -0.58593912]])"
      ]
     },
     "execution_count": 184,
     "metadata": {},
     "output_type": "execute_result"
    }
   ],
   "source": [
    "np.vstack((a, b))"
   ]
  },
  {
   "cell_type": "code",
   "execution_count": 185,
   "metadata": {},
   "outputs": [
    {
     "data": {
      "text/plain": [
       "array([[ 1.1       , -0.45576704,  0.29667843,  0.16606916],\n",
       "       [ 0.36775845,  0.24078108,  0.122042  ,  1.1       ],\n",
       "       [-0.9822216 , -1.09482936, -0.81834523,  1.1       ],\n",
       "       [ 0.41739964, -0.26826893, -0.70003442, -0.58593912]])"
      ]
     },
     "execution_count": 185,
     "metadata": {},
     "output_type": "execute_result"
    }
   ],
   "source": [
    "np.concatenate((a, b), axis=0)"
   ]
  },
  {
   "cell_type": "markdown",
   "metadata": {},
   "source": [
    "### 3.7.1 Numpy读取"
   ]
  },
  {
   "cell_type": "code",
   "execution_count": 186,
   "metadata": {},
   "outputs": [],
   "source": [
    "data = np.genfromtxt(\"test.csv\", delimiter=\",\")\n",
    "# 参数:　文件路径，指定的分隔符"
   ]
  },
  {
   "cell_type": "code",
   "execution_count": 187,
   "metadata": {},
   "outputs": [
    {
     "data": {
      "text/plain": [
       "array([[  nan,   nan,   nan,   nan],\n",
       "       [  1. , 123. ,   1.4,  23. ],\n",
       "       [  2. , 110. ,   nan,  18. ],\n",
       "       [  3. ,   nan,   2.1,  19. ]])"
      ]
     },
     "execution_count": 187,
     "metadata": {},
     "output_type": "execute_result"
    }
   ],
   "source": [
    "data\n",
    "# 首先第一行没有解释出来, 应该是字符串类型,  但是到了数组中确实nan\n",
    "# 其次, 有缺失值, 在数组中也是nan\n",
    "# numpy是运算工具, 而不是读取数据工具"
   ]
  },
  {
   "cell_type": "code",
   "execution_count": 189,
   "metadata": {},
   "outputs": [
    {
     "data": {
      "text/plain": [
       "numpy.float64"
      ]
     },
     "execution_count": 189,
     "metadata": {},
     "output_type": "execute_result"
    }
   ],
   "source": [
    "type(data[2, 2]) # nan是float类型的"
   ]
  },
  {
   "cell_type": "code",
   "execution_count": 190,
   "metadata": {},
   "outputs": [],
   "source": [
    "# 使用numpy处理缺失值\n",
    "def fill_nan_by_column_mean(t):\n",
    "    for i in range(t.shape[1]): # 遍历列\n",
    "        # 计算nan的个数\n",
    "        nan_num = np.count_nonzero(t[:, i][t[:, i] != t[:, i]])\n",
    "        if nan_num > 0:\n",
    "            now_col = t[:, i]\n",
    "            # 求和\n",
    "            now_col_not_nan = now_col[np.isnan(now_col) == False].sum()\n",
    "            # 和/个数\n",
    "            now_col_mean = now_col_not_nan / (t.shape[0] - nan_num) # 平均值\n",
    "            # 赋值给now_col\n",
    "            now_col[np.isnan(now_col)] = now_col_mean\n",
    "            # 赋值给t，即更新t的当前列\n",
    "            t[:, i] = now_col\n",
    "    return t"
   ]
  },
  {
   "cell_type": "code",
   "execution_count": 191,
   "metadata": {},
   "outputs": [
    {
     "data": {
      "text/plain": [
       "array([[  nan,   nan,   nan,   nan],\n",
       "       [  1. , 123. ,   1.4,  23. ],\n",
       "       [  2. , 110. ,   nan,  18. ],\n",
       "       [  3. ,   nan,   2.1,  19. ]])"
      ]
     },
     "execution_count": 191,
     "metadata": {},
     "output_type": "execute_result"
    }
   ],
   "source": [
    "data # 差补齐或者替换, \n"
   ]
  },
  {
   "cell_type": "code",
   "execution_count": 192,
   "metadata": {},
   "outputs": [
    {
     "data": {
      "text/plain": [
       "array([[  2.  , 116.5 ,   1.75,  20.  ],\n",
       "       [  1.  , 123.  ,   1.4 ,  23.  ],\n",
       "       [  2.  , 110.  ,   1.75,  18.  ],\n",
       "       [  3.  , 116.5 ,   2.1 ,  19.  ]])"
      ]
     },
     "execution_count": 192,
     "metadata": {},
     "output_type": "execute_result"
    }
   ],
   "source": [
    "fill_nan_by_column_mean(data)"
   ]
  },
  {
   "cell_type": "code",
   "execution_count": null,
   "metadata": {},
   "outputs": [],
   "source": []
  }
 ],
 "metadata": {
  "kernelspec": {
   "display_name": "Python 3 (ipykernel)",
   "language": "python",
   "name": "python3"
  },
  "language_info": {
   "codemirror_mode": {
    "name": "ipython",
    "version": 3
   },
   "file_extension": ".py",
   "mimetype": "text/x-python",
   "name": "python",
   "nbconvert_exporter": "python",
   "pygments_lexer": "ipython3",
   "version": "3.9.9"
  },
  "latex_envs": {
   "LaTeX_envs_menu_present": true,
   "autoclose": false,
   "autocomplete": true,
   "bibliofile": "biblio.bib",
   "cite_by": "apalike",
   "current_citInitial": 1,
   "eqLabelWithNumbers": true,
   "eqNumInitial": 1,
   "hotkeys": {
    "equation": "Ctrl-E",
    "itemize": "Ctrl-I"
   },
   "labels_anchors": false,
   "latex_user_defs": false,
   "report_style_numbering": false,
   "user_envs_cfg": false
  }
 },
 "nbformat": 4,
 "nbformat_minor": 2
}
