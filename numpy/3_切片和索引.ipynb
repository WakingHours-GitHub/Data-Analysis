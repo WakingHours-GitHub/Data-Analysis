{
 "cells": [
  {
   "cell_type": "code",
   "execution_count": 12,
   "outputs": [],
   "source": [],
   "metadata": {
    "collapsed": false,
    "pycharm": {
     "name": "#%%\n"
    }
   }
  },
  {
   "cell_type": "code",
   "execution_count": 13,
   "outputs": [],
   "source": [
    "import numpy as np"
   ],
   "metadata": {
    "collapsed": false,
    "pycharm": {
     "name": "#%%\n"
    }
   }
  },
  {
   "cell_type": "code",
   "execution_count": 14,
   "outputs": [
    {
     "name": "stdout",
     "output_type": "stream",
     "text": [
      "[0 1 2 3 4 5 6 7 8 9]\n"
     ]
    },
    {
     "data": {
      "text/plain": "2"
     },
     "execution_count": 14,
     "metadata": {},
     "output_type": "execute_result"
    }
   ],
   "source": [
    "arr = np.arange(10)\n",
    "print(arr)\n",
    "arr[2]"
   ],
   "metadata": {
    "collapsed": false,
    "pycharm": {
     "name": "#%%\n"
    }
   }
  },
  {
   "cell_type": "code",
   "execution_count": 15,
   "outputs": [
    {
     "name": "stdout",
     "output_type": "stream",
     "text": [
      "slice(2, 7, 1)\n",
      "[2 3 4 5 6]\n"
     ]
    }
   ],
   "source": [
    "# 切片, 我们通过创建一个slice对象, 然后直接使用索引对array进行切片.#\n",
    "s = slice(2, 7, 1)\n",
    "print(s)\n",
    "print(arr[s])"
   ],
   "metadata": {
    "collapsed": false,
    "pycharm": {
     "name": "#%%\n"
    }
   }
  },
  {
   "cell_type": "code",
   "execution_count": 16,
   "outputs": [
    {
     "name": "stdout",
     "output_type": "stream",
     "text": [
      "[[ 0  1  2  3  4]\n",
      " [ 5  6  7  8  9]\n",
      " [10 11 12 13 14]]\n",
      "\n",
      "\n",
      "[5 6 7 8 9]\n",
      "\n",
      "\n",
      "[1 2 3]\n"
     ]
    }
   ],
   "source": [
    "# 或者使用索引中的::来进行切片.\n",
    "# 举例:\n",
    "arr = np.arange(15)\n",
    "arr.shape = (3, 5)  # 显示修改shape属性, 与reshape修改是一样的\n",
    "# arr.shape <==> np.reshape(arr, (3, 5))\n",
    "print(arr)  #\n",
    "print('\\n')\n",
    "print(arr[1]) # 也就是取出第一个元素.\n",
    "\n",
    "print(\"\\n\")\n",
    "print(arr[0, 1: 4])"
   ],
   "metadata": {
    "collapsed": false,
    "pycharm": {
     "name": "#%%\n"
    }
   }
  },
  {
   "cell_type": "code",
   "execution_count": 17,
   "outputs": [
    {
     "name": "stdout",
     "output_type": "stream",
     "text": [
      "[[ 0  1  2  3  4]\n",
      " [ 5  6  7  8  9]\n",
      " [10 11 12 13 14]]\n",
      "[[ 0  1  2]\n",
      " [ 5  6  7]\n",
      " [10 11 12]]\n",
      "[5 6 7 8 9]\n"
     ]
    }
   ],
   "source": [
    "# 切片包括省略号..., 来选择元组的长度与数组的维度相同. 如果在行位置使用省略号, 他将返回包含行中元素的ndarray.\n",
    "# 其实就表示所有. 也就是这一维度上所有的元素.拿出来.\n",
    "\n",
    "print(arr)\n",
    "print(arr[..., 0: 3])\n",
    "print(arr[1, ...])\n",
    "# 所以...充当是:的作用, 也就是前面所有的元素."
   ],
   "metadata": {
    "collapsed": false,
    "pycharm": {
     "name": "#%%\n"
    }
   }
  },
  {
   "cell_type": "code",
   "execution_count": 18,
   "outputs": [
    {
     "name": "stdout",
     "output_type": "stream",
     "text": [
      "[[0 1 2]\n",
      " [3 4 5]\n",
      " [6 7 8]]\n",
      "[0 4 6]\n"
     ]
    }
   ],
   "source": [
    "# 高级索引.\n",
    "# ndarray还提供了由整数数组索引、布尔索引。\n",
    "\n",
    "import numpy as np\n",
    "\n",
    "arr = np.arange(9)\n",
    "arr.shape = (3, 3) # 直接修改\n",
    "\n",
    "print(arr)\n",
    "\n",
    "print(arr[[0, 1, 2], [0, 1, 0]])\n",
    "# 0行第0个元素, 1行1个元素, 2行0元素.就是这些"
   ],
   "metadata": {
    "collapsed": false,
    "pycharm": {
     "name": "#%%\n"
    }
   }
  },
  {
   "cell_type": "code",
   "execution_count": 19,
   "outputs": [
    {
     "name": "stdout",
     "output_type": "stream",
     "text": [
      "[[ 0  1  2]\n",
      " [ 3  4  5]\n",
      " [ 6  7  8]\n",
      " [ 9 10 11]]\n",
      "\n",
      "\n",
      "[[ 0  2]\n",
      " [ 9 11]]\n"
     ]
    }
   ],
   "source": [
    "arr = np.arange(12)\n",
    "arr.shape = (4, 3)\n",
    "print(arr)\n",
    "rows = np.array([[0, 0], [3, 3]])\n",
    "cols = np.array([[0, 2], [0, 2]])\n",
    "\n",
    "print(\"\\n\")\n",
    "\n",
    "print(arr[rows, cols])\n"
   ],
   "metadata": {
    "collapsed": false,
    "pycharm": {
     "name": "#%%\n"
    }
   }
  },
  {
   "cell_type": "code",
   "execution_count": 20,
   "outputs": [
    {
     "name": "stdout",
     "output_type": "stream",
     "text": [
      "[ 0  2  9 11]\n"
     ]
    }
   ],
   "source": [
    "# 实验\n",
    "rows = np.array([0, 0, 3, 3])\n",
    "cols = np.array([0, 2, 0, 2])\n",
    "\n",
    "print(arr[rows, cols])\n",
    "\n",
    "\n",
    "# 所以, 最终的形状, 与你如何索引有关."
   ],
   "metadata": {
    "collapsed": false,
    "pycharm": {
     "name": "#%%\n"
    }
   }
  },
  {
   "cell_type": "code",
   "execution_count": 21,
   "outputs": [
    {
     "name": "stdout",
     "output_type": "stream",
     "text": [
      "[[ 0  1  2]\n",
      " [ 3  4  5]\n",
      " [ 6  7  8]\n",
      " [ 9 10 11]]\n"
     ]
    }
   ],
   "source": [
    "# 借助..., :来进行数组切片.\n",
    "print(arr)\n",
    "print(\"\\n\")\n",
    "\n"
   ],
   "metadata": {
    "collapsed": false,
    "pycharm": {
     "name": "#%%\n"
    }
   }
  },
  {
   "cell_type": "code",
   "execution_count": 22,
   "outputs": [
    {
     "name": "stdout",
     "output_type": "stream",
     "text": [
      "[ 6  7  8  9 10 11]\n"
     ]
    }
   ],
   "source": [
    "# 布尔索引, 通过布尔运算, 如比较运算符, 来获取符合指定条件的元素的数组.\n",
    "print(arr[arr > 5])"
   ],
   "metadata": {
    "collapsed": false,
    "pycharm": {
     "name": "#%%\n"
    }
   }
  },
  {
   "cell_type": "code",
   "execution_count": 24,
   "outputs": [
    {
     "name": "stdout",
     "output_type": "stream",
     "text": [
      "[ True False False False  True]\n",
      "[1. 1. 2.]\n"
     ]
    }
   ],
   "source": [
    "arr = np.array([np.nan, 1, 1, 2, np.nan])\n",
    "print(np.isnan(arr))\n",
    "print(arr[~np.isnan(arr)])"
   ],
   "metadata": {
    "collapsed": false,
    "pycharm": {
     "name": "#%%\n"
    }
   }
  },
  {
   "cell_type": "code",
   "execution_count": null,
   "outputs": [],
   "source": [],
   "metadata": {
    "collapsed": false,
    "pycharm": {
     "name": "#%%\n"
    }
   }
  }
 ],
 "metadata": {
  "kernelspec": {
   "display_name": "Python 3",
   "language": "python",
   "name": "python3"
  },
  "language_info": {
   "codemirror_mode": {
    "name": "ipython",
    "version": 2
   },
   "file_extension": ".py",
   "mimetype": "text/x-python",
   "name": "python",
   "nbconvert_exporter": "python",
   "pygments_lexer": "ipython2",
   "version": "2.7.6"
  }
 },
 "nbformat": 4,
 "nbformat_minor": 0
}