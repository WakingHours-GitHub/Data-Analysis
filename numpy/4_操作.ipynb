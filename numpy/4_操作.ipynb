{
 "cells": [
  {
   "cell_type": "code",
   "execution_count": 22,
   "outputs": [
    {
     "name": "stdout",
     "output_type": "stream",
     "text": [
      "[[ 0  2  4]\n",
      " [ 3  5  7]\n",
      " [ 6  8 10]\n",
      " [ 9 11 13]]\n"
     ]
    }
   ],
   "source": [
    "# 广播: 是numpy对不同形状(shape)的数组进行数值计算的方式, 对数组的算数计算同查收那个在相应的元素上进行.\n",
    "\n",
    "# 如果两个数组形状相同, 即满足a.shape==b.shape, 那么默认就是对应元素进行运算.\n",
    "\n",
    "# 如果是形状不同的, 那么numpy会先使用广播机制,将两个数组进行广播, 变成形状相同, 然后进行运算.\n",
    "\n",
    "import numpy as np\n",
    "\n",
    "\n",
    "a = np.arange(12)\n",
    "a.shape = (4, 3)\n",
    "b = np.arange(3)\n",
    "c = a+b\n",
    "print(c) # 相加成功.\n",
    "# b先广播到a的形状, 然后进行对应元素相加.\n",
    "\n"
   ],
   "metadata": {
    "collapsed": false,
    "pycharm": {
     "name": "#%%\n"
    }
   }
  },
  {
   "cell_type": "code",
   "execution_count": 23,
   "outputs": [
    {
     "name": "stdout",
     "output_type": "stream",
     "text": [
      "[[0 1 2]\n",
      " [0 1 2]\n",
      " [0 1 2]\n",
      " [0 1 2]]\n",
      "-----\n",
      "[[ 0  2  4]\n",
      " [ 3  5  7]\n",
      " [ 6  8 10]\n",
      " [ 9 11 13]]\n"
     ]
    }
   ],
   "source": [
    "# 相当于:\n",
    "bb = np.tile(b, (4, 1)) # 将b为一个unit, 复制4行, 1列\n",
    "# np.tile(a, reps) # 就是将a作为单元, 复制reps的形状.\n",
    "print(bb)\n",
    "print(\"-\" * 5)\n",
    "print(a  + bb)"
   ],
   "metadata": {
    "collapsed": false,
    "pycharm": {
     "name": "#%%\n"
    }
   }
  },
  {
   "cell_type": "code",
   "execution_count": 24,
   "outputs": [],
   "source": [
    "# 广播的规则:\n",
    "# 所有输入数组向形状最长的数组看起, 形状不足的部分都通过在前面加1补齐.\n",
    "# 输出数组的形状是输入数组形状的各个维度上的最大值\n",
    "# 如果输入数组的某个维度和输出数组的对应维度的长度相同或者其长度为1时, 这个数组能够用来计算, 否则报错\n",
    "# 当输入数组的某个维度长度为1时, 沿着此维度运算时都用此维度上的第一组值.\n",
    "# 简单理解:\n",
    "# 对比两个数组, 分别比较他们的每隔一个维度, 满足以下, 则可以使用广播机制\n",
    "# 数组拥有相同形状\n",
    "# 当前维度的值相等\n",
    "# 当前维度的值有一个是1."
   ],
   "metadata": {
    "collapsed": false,
    "pycharm": {
     "name": "#%%\n"
    }
   }
  },
  {
   "cell_type": "code",
   "execution_count": 34,
   "outputs": [
    {
     "name": "stdout",
     "output_type": "stream",
     "text": [
      "[[ 0  1  2  3]\n",
      " [ 4  5  6  7]\n",
      " [ 8  9 10 11]]\n",
      "0, 1, 2, 3, 4, 5, 6, 7, 8, 9, 10, 11, \n",
      "\n"
     ]
    }
   ],
   "source": [
    "# 迭代\n",
    "# numpy.nditer基本使用\n",
    "# 他是一个有效的多维迭代器对象, 可以在数组上进行迭代. 数组的每个元素都可以使用python的标准iterator接口来访问.\n",
    "\n",
    "import numpy as np\n",
    "\n",
    "a = np.arange(12)\n",
    "a = a.reshape(3, 4)\n",
    "\n",
    "print(a)\n",
    "\n",
    "for x in np.nditer(a):\n",
    "    print(x, end=', ')\n",
    "\n",
    "print(\"\\n\")\n",
    "\n",
    "# 不是使用C或者Fortan顺序, 选择的顺序是和数组内存布局一致的, 这样做是为了提供访问的效率, 默认是行序有限(row-major order)或者说是C-order, 反映了默认情况下只需要访问每个元素, 而无需考虑其特定的顺序. 可以通过迭代上述的转置数组, 并且以C顺序访问数组转置的copy的方式进行对比.\n",
    "# a和a.T的遍历顺序是一样的, 因为在内存中他们的存储顺序也是一样的,但是a.T.copy(order='C')的遍历结构是不同的, 因为它和前两种的存储方式是不一样的, 默认是按行访问.\n",
    "\n"
   ],
   "metadata": {
    "collapsed": false,
    "pycharm": {
     "name": "#%%\n"
    }
   }
  },
  {
   "cell_type": "code",
   "execution_count": 36,
   "outputs": [
    {
     "name": "stdout",
     "output_type": "stream",
     "text": [
      "0,1,2,3,4,5,6,7,8,9,10,11,\n",
      "\n",
      "[[ 0  4  8]\n",
      " [ 1  5  9]\n",
      " [ 2  6 10]\n",
      " [ 3  7 11]]\n",
      "------------------------------\n",
      "[[ 0  4  8]\n",
      " [ 1  5  9]\n",
      " [ 2  6 10]\n",
      " [ 3  7 11]]\n",
      "\n",
      "\n",
      "0,4,8,1,5,9,2,6,10,3,7,11,"
     ]
    }
   ],
   "source": [
    "for x in np.nditer(a.T):\n",
    "    print(x, end=',')\n",
    "print(\"\\n\")\n",
    "print(a.T)\n",
    "\n",
    "print(\"---\"*10)\n",
    "b = a.T.copy(order='C') # 重新深拷贝, 以'C'\n",
    "print(b)\n",
    "print(\"\\n\")\n",
    "\n",
    "# 得到了一个新的数组, 在内存中的存放方式就与上面不同.\n",
    "for x in np.nditer(b):\n",
    "    print(x, end=',')"
   ],
   "metadata": {
    "collapsed": false,
    "pycharm": {
     "name": "#%%\n"
    }
   }
  },
  {
   "cell_type": "code",
   "execution_count": 41,
   "outputs": [
    {
     "name": "stdout",
     "output_type": "stream",
     "text": [
      "[[ 0  1  2  3]\n",
      " [ 4  5  6  7]\n",
      " [ 8  9 10 11]]\n",
      "\n",
      "\n",
      "[[ 0  4  8]\n",
      " [ 1  5  9]\n",
      " [ 2  6 10]\n",
      " [ 3  7 11]]\n",
      "0, 1, 2, 3, 4, 5, 6, 7, 8, 9, 10, 11, \n",
      "\n",
      "0, 4, 8, 1, 5, 9, 2, 6, 10, 3, 7, 11, \n",
      "\n"
     ]
    }
   ],
   "source": [
    "# 控制遍顺序: 也就是行优先, 还是列优先.\n",
    "# Fortran order 列序有限: order='F'\n",
    "# C order 行序优先: order='C'\n",
    "# 注意, 一种是存储方式, 是按照行,还是列优先存储, 另一种就是遍历的方式, 是行还是列优先.\n",
    "print(a)\n",
    "print(\"\\n\")\n",
    "\n",
    "b = a.T.copy(order=\"F\") # 列优先存储\n",
    "print(b) # 转置,\n",
    "for x in np.nditer(b):\n",
    "    print(x, end=', ') # 因为是列优先存储, 所以遍历是按照内存中的.\n",
    "print(\"\\n\")\n",
    "\n",
    "for x in np.nditer(b, order='C'): # 按照列来遍历\n",
    "    print(x, end=', ')\n",
    "print(\"\\n\")"
   ],
   "metadata": {
    "collapsed": false,
    "pycharm": {
     "name": "#%%\n"
    }
   }
  },
  {
   "cell_type": "code",
   "execution_count": 46,
   "outputs": [
    {
     "name": "stdout",
     "output_type": "stream",
     "text": [
      "[[ 0  2  4  6]\n",
      " [ 8 10 12 14]\n",
      " [16 18 20 22]]\n",
      "\n",
      "\n",
      "[[ 0  4  8 12]\n",
      " [16 20 24 28]\n",
      " [32 36 40 44]]\n"
     ]
    }
   ],
   "source": [
    "# 那么我们在遍历的时候修改元素:\n",
    "print(a)\n",
    "print(\"\\n\")\n",
    "\n",
    "for x in np.nditer(a, order='F', op_flags=[\"readwrite\"]):\n",
    "    x[...] = x * 2 # 这样才能写.\n",
    "# print(\"\\n\")\n",
    "print(a)"
   ],
   "metadata": {
    "collapsed": false,
    "pycharm": {
     "name": "#%%\n"
    }
   }
  },
  {
   "cell_type": "code",
   "execution_count": 49,
   "outputs": [
    {
     "name": "stdout",
     "output_type": "stream",
     "text": [
      "[0 4 8], [1 5 9], [ 2  6 10], [ 3  7 11], "
     ]
    }
   ],
   "source": [
    "# 外部循环:\n",
    "# nditer类的构造器拥有flags参数, 他接受以下值:\n",
    "# c_index: 可以跟踪C顺序的索引\n",
    "# f_index: 可以跟踪Fortran顺序的索引\n",
    "# multi-index: 每次迭代可以跟踪一种索引类型\n",
    "# external_loop: 给出的值具有多个值的一维数组, 而不是零维数组.\n",
    "#   也就是遍历出来的值是一个数组, 而不是数据.\n",
    "\n",
    "a = np.arange(12)\n",
    "a = a.reshape(3, 4)\n",
    "for x in np.nditer(a, flags=['external_loop'], order='F'):\n",
    "    print(x, end=', ')\n",
    "    # 按照列遍历, 将那个列当成元组对待.\n",
    "\n"
   ],
   "metadata": {
    "collapsed": false,
    "pycharm": {
     "name": "#%%\n"
    }
   }
  },
  {
   "cell_type": "code",
   "execution_count": 54,
   "outputs": [
    {
     "name": "stdout",
     "output_type": "stream",
     "text": [
      "[[ 0  1  2  3]\n",
      " [ 4  5  6  7]\n",
      " [ 8  9 10 11]]\n",
      "[1 2 3 4]\n",
      "[array([[ 0,  1,  2,  3],\n",
      "       [ 4,  5,  6,  7],\n",
      "       [ 8,  9, 10, 11]]), array([1, 2, 3, 4])]\n",
      "0:1, 1:2, 2:3, 3:4, 4:1, 5:2, 6:3, 7:4, 8:1, 9:2, 10:3, 11:4, "
     ]
    }
   ],
   "source": [
    "# 广播迭代: 如果两个数组是可广播的, nditer组合对象能够同时迭代它们. 假设数组a具有维度3*4, 并且存在1*4的另一个数组b, 则使用以下类型的迭代器,(数组b被广播到a的大小).\n",
    "a = np.arange(12).reshape(3, 4)\n",
    "\n",
    "print(a)\n",
    "\n",
    "b = np.arange(1, 5)\n",
    "print(b)\n",
    "\n",
    "print([a, b])\n",
    "\n",
    "\n",
    "for x, y in np.nditer([a, b]): # 前提a,b是可以广播的.\n",
    "    print(\"%d:%d\" % (x, y), end=', ')"
   ],
   "metadata": {
    "collapsed": false,
    "pycharm": {
     "name": "#%%\n"
    }
   }
  },
  {
   "cell_type": "code",
   "execution_count": 2,
   "outputs": [
    {
     "name": "stdout",
     "output_type": "stream",
     "text": [
      "[[ 0  1  2  3]\n",
      " [ 4  5  6  7]\n",
      " [ 8  9 10 11]]\n"
     ]
    }
   ],
   "source": [
    "# 继续数组的修改。\n",
    "# 数组修改形状\n",
    "# Ndarray.reshape(shape, order='C')\n",
    "# order: C行, F列, A原顺序, k元素在内存中的出现顺序\n",
    "import numpy as np\n",
    "\n",
    "a = np.arange(12)\n",
    "b = a.reshape((3, 4))\n",
    "print(b)"
   ],
   "metadata": {
    "collapsed": false,
    "pycharm": {
     "name": "#%%\n"
    }
   }
  },
  {
   "cell_type": "code",
   "execution_count": 4,
   "outputs": [
    {
     "name": "stdout",
     "output_type": "stream",
     "text": [
      "[[ 0  1  2  3]\n",
      " [ 4  5  6  7]\n",
      " [ 8  9 10 11]]\n",
      "0\n",
      "1\n",
      "2\n",
      "3\n",
      "4\n",
      "5\n",
      "6\n",
      "7\n",
      "8\n",
      "9\n",
      "10\n",
      "11\n"
     ]
    }
   ],
   "source": [
    "# flat: 一个数组元素的迭代器.\n",
    "# Ndarray.flat\n",
    "a = np.arange(12).reshape((3, 4))\n",
    "print(a)\n",
    "for x in a.flat:\n",
    "    print(x) # 进行迭代.\n"
   ],
   "metadata": {
    "collapsed": false,
    "pycharm": {
     "name": "#%%\n"
    }
   }
  },
  {
   "cell_type": "code",
   "execution_count": 10,
   "outputs": [
    {
     "name": "stdout",
     "output_type": "stream",
     "text": [
      "[[ 0  1  2  3]\n",
      " [ 4  5  6  7]\n",
      " [ 8  9 10 11]]\n",
      "\n",
      "\n",
      "[ 0  1  2  3  4  5  6  7  8  9 10 11]\n",
      "[ 0  4  8  1  5  9  2  6 10  3  7 11]\n"
     ]
    }
   ],
   "source": [
    "# Ndarray.flatten(order='C')\n",
    "# 展平数组元素并且拷贝一份, 通常是按照C风格. 注意是拷贝, 而不是a的视图.\n",
    "# order: 参数和作用和上面一样.\n",
    "a = np.arange(12).reshape((3, 4))\n",
    "print(a)\n",
    "print(\"\\n\")\n",
    "\n",
    "b = a.flatten() # copy了一份, flatten后给b.\n",
    "b[0] = 100\n",
    "\n",
    "print(b)\n",
    "\n",
    "c = a.flatten(order='F')\n",
    "print(c)\n",
    "\n",
    "\n"
   ],
   "metadata": {
    "collapsed": false,
    "pycharm": {
     "name": "#%%\n"
    }
   }
  },
  {
   "cell_type": "code",
   "execution_count": 13,
   "outputs": [
    {
     "name": "stdout",
     "output_type": "stream",
     "text": [
      "[ 0  1  2  3  4  5  6  7  8  9 10 11]\n",
      "[100   1   2   3   4   5   6   7   8   9  10  11]\n",
      "[[100   1   2   3]\n",
      " [  4   5   6   7]\n",
      " [  8   9  10  11]]\n",
      "[100   4   8   1   5   9   2   6  10   3   7  11]\n",
      "[100 100   8   1   5   9   2   6  10   3   7  11]\n",
      "[[100   1   2   3]\n",
      " [  4   5   6   7]\n",
      " [  8   9  10  11]]\n"
     ]
    }
   ],
   "source": [
    "# ravel()\n",
    "# 展平的数组元素, 顺序通常是按照C, 返回的是数组的视图(View, 有点类似于C/C++引用reference的意味)\n",
    "# View, 就有点类似reference. 有点像映射. 有点像起别名的操作.\n",
    "# 注意, 修改会影响原来的数组. 因为返回的是view. 所以会影响原始的数组.\n",
    "\n",
    "a = np.arange(12).reshape((3, 4))\n",
    "\n",
    "b = a.ravel() # 创建了一个视图给b. 实际上,b和a指向的是同一个内存地址.\n",
    "print(b)\n",
    "b[0] = 100\n",
    "print(b)\n",
    "print(a)\n",
    "# 可见, a和b的地方都改变了.\n",
    "\n",
    "\n",
    "# 但是我们来看这样一种情况,\n",
    "c = a.ravel(order='F') # 此时涉及到内存地址了, 所以是重新copy了一份, 然后再将view给c\n",
    "print(c)\n",
    "c[1] = 100\n",
    "print(c)\n",
    "print(a)\n",
    "# 这也是比较特殊的地方."
   ],
   "metadata": {
    "collapsed": false,
    "pycharm": {
     "name": "#%%\n"
    }
   }
  },
  {
   "cell_type": "code",
   "execution_count": 16,
   "outputs": [
    {
     "name": "stdout",
     "output_type": "stream",
     "text": [
      "[[ 0  1  2  3]\n",
      " [ 4  5  6  7]\n",
      " [ 8  9 10 11]]\n",
      "\n",
      "\n",
      "[[ 0  4  8]\n",
      " [ 1  5  9]\n",
      " [ 2  6 10]\n",
      " [ 3  7 11]]\n"
     ]
    }
   ],
   "source": [
    "# 翻转数组:\n",
    "# 四种方式实现数组的翻转\n",
    "# transpose(a, axes=None)\n",
    "# 对换数组的维度,\n",
    "# a: 需要操作的数组.\n",
    "# axes整数列表, 对应维度, 通常所有维度都要对换\n",
    "# 注意: 修改会影响原始数组.\n",
    "\n",
    "import numpy as np\n",
    "\n",
    "a = np.arange(12).reshape((3, 4))\n",
    "print(a)\n",
    "print(\"\\n\")\n",
    "\n",
    "b = np.transpose(a)\n",
    "print(b) # 转置了.\n"
   ],
   "metadata": {
    "collapsed": false,
    "pycharm": {
     "name": "#%%\n"
    }
   }
  },
  {
   "cell_type": "code",
   "execution_count": 19,
   "outputs": [
    {
     "name": "stdout",
     "output_type": "stream",
     "text": [
      "[[ 0  1  2  3]\n",
      " [ 4  5  6  7]\n",
      " [ 8  9 10 11]]\n",
      "\n",
      "\n",
      "[[ 0  4  8]\n",
      " [ 1  5  9]\n",
      " [ 2  6 10]\n",
      " [ 3  7 11]]\n",
      "[[100   1   2   3]\n",
      " [100   5   6   7]\n",
      " [100   9  10  11]]\n",
      "[[100 100 100]\n",
      " [  1   5   9]\n",
      " [  2   6  10]\n",
      " [  3   7  11]]\n"
     ]
    }
   ],
   "source": [
    "# ndarray.T\n",
    "# 属性, 求转置, 类似于transpose.\n",
    "a = np.arange(12).reshape((3, 4))\n",
    "print(a)\n",
    "print(\"\\n\")\n",
    "\n",
    "b = a.T # 同样返回的是view\n",
    "print(b)\n",
    "b[0] =100 #\n",
    "\n",
    "print(a)\n",
    "print(b)"
   ],
   "metadata": {
    "collapsed": false,
    "pycharm": {
     "name": "#%%\n"
    }
   }
  },
  {
   "cell_type": "code",
   "execution_count": 23,
   "outputs": [
    {
     "name": "stdout",
     "output_type": "stream",
     "text": [
      "[[[ 0  1  2  3]\n",
      "  [ 4  5  6  7]\n",
      "  [ 8  9 10 11]]\n",
      "\n",
      " [[12 13 14 15]\n",
      "  [16 17 18 19]\n",
      "  [20 21 22 23]]]\n",
      "(2, 3, 4)\n",
      "\n",
      "\n",
      "[[[ 0  1  2  3]\n",
      "  [12 13 14 15]]\n",
      "\n",
      " [[ 4  5  6  7]\n",
      "  [16 17 18 19]]\n",
      "\n",
      " [[ 8  9 10 11]\n",
      "  [20 21 22 23]]]\n",
      "(3, 2, 4)\n"
     ]
    }
   ],
   "source": [
    "# rollaxis()\n",
    "# numpy.rollaxis(a, axis, start=0)\n",
    "# 作用: 向后滚动特定的轴体到一个特定的位置.\n",
    "# axis: 需要向后滚动的轴, 其他轴的相对位置不会改变.\n",
    "# start=0, 表示完整的滚动, 会滚动到特定位置.\n",
    "\n",
    "\n",
    "a = np.arange(24).reshape((2, 3, 4))\n",
    "print(a)\n",
    "print(a.shape)\n",
    "print(\"\\n\")\n",
    "\n",
    "b = np.rollaxis(a, 1) # 将axis=1, 滚动第二轴, 滚动到start的位置.\n",
    "print(b)\n",
    "print(b.shape)"
   ],
   "metadata": {
    "collapsed": false,
    "pycharm": {
     "name": "#%%\n"
    }
   }
  },
  {
   "cell_type": "code",
   "execution_count": 24,
   "outputs": [
    {
     "name": "stdout",
     "output_type": "stream",
     "text": [
      "[[[ 0  1  2  3]\n",
      "  [ 4  5  6  7]\n",
      "  [ 8  9 10 11]]\n",
      "\n",
      " [[12 13 14 15]\n",
      "  [16 17 18 19]\n",
      "  [20 21 22 23]]]\n",
      "(2, 3, 4)\n",
      "\n",
      "\n",
      "(4, 3, 2)\n"
     ]
    }
   ],
   "source": [
    "# swapaxes()\n",
    "# numpy.swapaxes(a, axis1, axis2)\n",
    "# 交换数组两个轴\n",
    "a = np.arange(24).reshape((2, 3, 4))\n",
    "print(a)\n",
    "print(a.shape)\n",
    "print(\"\\n\")\n",
    "\n",
    "\n",
    "b = np.swapaxes(a, 0, 2)\n",
    "print(b.shape)"
   ],
   "metadata": {
    "collapsed": false,
    "pycharm": {
     "name": "#%%\n"
    }
   }
  },
  {
   "cell_type": "code",
   "execution_count": null,
   "outputs": [],
   "source": [],
   "metadata": {
    "collapsed": false,
    "pycharm": {
     "name": "#%%\n"
    }
   }
  }
 ],
 "metadata": {
  "kernelspec": {
   "display_name": "Python 3",
   "language": "python",
   "name": "python3"
  },
  "language_info": {
   "codemirror_mode": {
    "name": "ipython",
    "version": 2
   },
   "file_extension": ".py",
   "mimetype": "text/x-python",
   "name": "python",
   "nbconvert_exporter": "python",
   "pygments_lexer": "ipython2",
   "version": "2.7.6"
  }
 },
 "nbformat": 4,
 "nbformat_minor": 0
}