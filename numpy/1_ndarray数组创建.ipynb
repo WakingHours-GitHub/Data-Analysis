{
 "cells": [
  {
   "cell_type": "code",
   "execution_count": 24,
   "outputs": [],
   "source": [
    "import numpy as np\n",
    "\n"
   ],
   "metadata": {
    "collapsed": false,
    "pycharm": {
     "name": "#%%\n"
    }
   }
  },
  {
   "cell_type": "code",
   "execution_count": 25,
   "outputs": [
    {
     "name": "stdout",
     "output_type": "stream",
     "text": [
      "uint32\n",
      "<class 'numpy.dtype[uint32]'>\n"
     ]
    }
   ],
   "source": [
    "dt = np.dtype(np.uint32)\n",
    "\n",
    "print(dt)\n",
    "print(type(dt))"
   ],
   "metadata": {
    "collapsed": false,
    "pycharm": {
     "name": "#%%\n"
    }
   }
  },
  {
   "cell_type": "code",
   "execution_count": 26,
   "outputs": [
    {
     "name": "stdout",
     "output_type": "stream",
     "text": [
      "int32\n",
      "<class 'numpy.dtype[int32]'>\n"
     ]
    }
   ],
   "source": [
    "# 每一个类型都有其唯一一个对应的标识符.\n",
    "\n",
    "dt = np.dtype('i4')\n",
    "\n",
    "print(dt)\n",
    "print(type(dt))"
   ],
   "metadata": {
    "collapsed": false,
    "pycharm": {
     "name": "#%%\n"
    }
   }
  },
  {
   "cell_type": "code",
   "execution_count": 27,
   "outputs": [
    {
     "name": "stdout",
     "output_type": "stream",
     "text": [
      "int32\n",
      "<class 'numpy.dtype[int32]'>\n"
     ]
    }
   ],
   "source": [
    "\n",
    "dt = np.dtype(\"<i4\") # 就表示以小端方式存储的int32类型\n",
    "\n",
    "print(dt)\n",
    "print(type(dt))\n"
   ],
   "metadata": {
    "collapsed": false,
    "pycharm": {
     "name": "#%%\n"
    }
   }
  },
  {
   "cell_type": "code",
   "execution_count": 28,
   "outputs": [
    {
     "name": "stdout",
     "output_type": "stream",
     "text": [
      "[('name', 'S20'), ('age', '<i4'), ('marks', '<f4')]\n"
     ]
    }
   ],
   "source": [
    "\n",
    "student = np.dtype([(\"name\", \"S20\"), (\"age\", \"i4\"), (\"marks\", \"f4\")]) # 这就是结构化数据.\n",
    "\n",
    "print(student)"
   ],
   "metadata": {
    "collapsed": false,
    "pycharm": {
     "name": "#%%\n"
    }
   }
  },
  {
   "cell_type": "code",
   "execution_count": 29,
   "outputs": [],
   "source": [
    "\n",
    "\n",
    "# 创建Ndarray数组对象.\n",
    "# numpy默认ndarray的所有元素的类型是相同的, 这一点与python中的list不同, 如果传进来的列表中包含不同的类型, 则统一为同一类型, 优先级: str>float>int\n",
    "\n",
    "# np.array(object, dtype, copy=True, order=None, subok=False, ndmin=0)\n",
    "# object: 数组或者嵌套的列表.\n",
    "# dtype: 数组元素的数据类型, 可选.\n",
    "# copy: 对象是都需要复制.\n",
    "# order: 创建数组的央视, C:行方向, F:列方向, A任意方向(default)\n",
    "# subok: 默认返回一个与基类类型一致的数组\n",
    "# ndmin: 指定生成数组的最小维度.\n",
    "\n"
   ],
   "metadata": {
    "collapsed": false,
    "pycharm": {
     "name": "#%%\n"
    }
   }
  },
  {
   "cell_type": "code",
   "execution_count": 30,
   "outputs": [
    {
     "name": "stdout",
     "output_type": "stream",
     "text": [
      "[1 2 3 4 5]\n",
      "<class 'numpy.ndarray'>\n"
     ]
    }
   ],
   "source": [
    "\n",
    "# 创建一维度数组\n",
    "import numpy as np\n",
    "\n",
    "arr = np.array([1, 2, 3, 4, 5]) # 使用array, 从原生python数据类型等, 直接转换为ndarray对象.\n",
    "print(arr)\n",
    "\n",
    "print(type(arr))"
   ],
   "metadata": {
    "collapsed": false,
    "pycharm": {
     "name": "#%%\n"
    }
   }
  },
  {
   "cell_type": "code",
   "execution_count": 31,
   "outputs": [
    {
     "name": "stdout",
     "output_type": "stream",
     "text": [
      "[1. 2. 3. 4. 5. 6. 7. 8. 9.]\n",
      "<class 'numpy.ndarray'>\n"
     ]
    }
   ],
   "source": [
    "# 元素类型相同\n",
    "\n",
    "arr = np.array([1, 2, 3, 4, 5.0, 6, 7, 8, 9])\n",
    "print(arr)\n",
    "# 都变成浮点数了, 这其中有一个优先级的问题.\n",
    "\n",
    "print(type(arr))\n",
    "\n"
   ],
   "metadata": {
    "collapsed": false,
    "pycharm": {
     "name": "#%%\n"
    }
   }
  },
  {
   "cell_type": "code",
   "execution_count": 32,
   "outputs": [
    {
     "name": "stdout",
     "output_type": "stream",
     "text": [
      "[[1 2 3]\n",
      " [4 5 6]]\n"
     ]
    }
   ],
   "source": [
    "# 多维数组.\n",
    "arr = np.array([[1, 2, 3], [4, 5, 6]])\n",
    "\n",
    "print(arr)\n"
   ],
   "metadata": {
    "collapsed": false,
    "pycharm": {
     "name": "#%%\n"
    }
   }
  },
  {
   "cell_type": "code",
   "execution_count": 33,
   "outputs": [
    {
     "name": "stdout",
     "output_type": "stream",
     "text": [
      "[[1 2 3]]\n",
      "(1, 3)\n"
     ]
    },
    {
     "data": {
      "text/plain": "array([[1, 2, 3]])"
     },
     "execution_count": 33,
     "metadata": {},
     "output_type": "execute_result"
    }
   ],
   "source": [
    "arr = np.array([1, 2, 3], ndmin=2) # 规定最小维度为2\n",
    "print(arr)\n",
    "print(arr.shape)\n",
    "\n",
    "arr\n"
   ],
   "metadata": {
    "collapsed": false,
    "pycharm": {
     "name": "#%%\n"
    }
   }
  },
  {
   "cell_type": "code",
   "execution_count": 34,
   "outputs": [
    {
     "name": "stdout",
     "output_type": "stream",
     "text": [
      "[1. 2. 3. 4. 5.]\n"
     ]
    }
   ],
   "source": [
    "# dtype参数:\n",
    "arr = np.array([1, 2, 3 ,4 ,5], dtype=np.float32)\n",
    "\n",
    "print(arr)"
   ],
   "metadata": {
    "collapsed": false,
    "pycharm": {
     "name": "#%%\n"
    }
   }
  },
  {
   "cell_type": "code",
   "execution_count": 35,
   "outputs": [
    {
     "name": "stdout",
     "output_type": "stream",
     "text": [
      "[1. 2. 3. 4. 5.]\n"
     ]
    }
   ],
   "source": [
    "arr = np.array([1, 2, 3 ,4 ,5], dtype='f')\n",
    "# 底层创建一个dtype对象, 然后开辟空间.\n",
    "print(arr)"
   ],
   "metadata": {
    "collapsed": false,
    "pycharm": {
     "name": "#%%\n"
    }
   }
  },
  {
   "cell_type": "code",
   "execution_count": 36,
   "outputs": [
    {
     "name": "stdout",
     "output_type": "stream",
     "text": [
      "[('name', 'S20'), ('age', '<i4'), ('marks', '<f4')]\n"
     ]
    },
    {
     "data": {
      "text/plain": "array([(b'jack', 18, 98. ), (b'kaige', 17,  9.8)],\n      dtype=[('name', 'S20'), ('age', '<i4'), ('marks', '<f4')])"
     },
     "execution_count": 36,
     "metadata": {},
     "output_type": "execute_result"
    }
   ],
   "source": [
    "# 结构化数据类型\n",
    "student = np.dtype([(\"name\", \"S20\"), (\"age\", \"i4\"), (\"marks\", \"f4\")]) # dtype对象.\n",
    "\n",
    "print(student)\n",
    "\n",
    "arr = np.array([(\"jack\", 18, 98.0), (\"kaige\", 17, 09.8)], dtype=student)\n",
    "arr\n"
   ],
   "metadata": {
    "collapsed": false,
    "pycharm": {
     "name": "#%%\n"
    }
   }
  },
  {
   "cell_type": "code",
   "execution_count": 37,
   "outputs": [],
   "source": [
    "\n",
    "# asarray()函数:\n",
    "# np.asarray(a, dtype=None, order=None)\n",
    "# a任意形式的输入参数, 可以是各种迭代嵌套. 元组, 列表, 列表的列表, 多为数组.\n",
    "# 返回ndarray对象.\n",
    "\n",
    "arr = np.asarray([1, 2, 3, 4, 5])\n"
   ],
   "metadata": {
    "collapsed": false,
    "pycharm": {
     "name": "#%%\n"
    }
   }
  },
  {
   "cell_type": "code",
   "execution_count": 38,
   "outputs": [
    {
     "data": {
      "text/plain": "array([[1, 2, 3],\n       [4, 5, 6]])"
     },
     "execution_count": 38,
     "metadata": {},
     "output_type": "execute_result"
    }
   ],
   "source": [
    "arr = np.asarray([(1, 2, 3), (4, 5, 6)])\n",
    "arr\n",
    "\n",
    "# 一般使用asarray, 改变已有ndarray类型.\n"
   ],
   "metadata": {
    "collapsed": false,
    "pycharm": {
     "name": "#%%\n"
    }
   }
  },
  {
   "cell_type": "code",
   "execution_count": 39,
   "outputs": [
    {
     "data": {
      "text/plain": "array([[2, 0],\n       [1, 0],\n       [0, 0]])"
     },
     "execution_count": 39,
     "metadata": {},
     "output_type": "execute_result"
    }
   ],
   "source": [
    "# 一些创建数组对象的函数:\n",
    "# empty(shape, dtype, order)\n",
    "# 创建一个指定shape, dtype, 且未初始化的数组.\n",
    "# shape: 数组形状.\n",
    "#\n",
    "import numpy as np\n",
    "arr = np.empty((3, 2), dtype=np.int32) # 3row, 2col.o\n",
    "\n",
    "arr # 未初始化, 其中的值是随意的.\n",
    "\n",
    "\n"
   ],
   "metadata": {
    "collapsed": false,
    "pycharm": {
     "name": "#%%\n"
    }
   }
  },
  {
   "cell_type": "code",
   "execution_count": 40,
   "outputs": [
    {
     "name": "stdout",
     "output_type": "stream",
     "text": [
      "[0 0 0 0 0]\n",
      "[[(0, 0.) (0, 0.)]\n",
      " [(0, 0.) (0, 0.)]\n",
      " [(0, 0.) (0, 0.)]]\n"
     ]
    }
   ],
   "source": [
    "# zeros(shape, dtype=None, order=None)\n",
    "# 创建shape大小的全0数组.\n",
    "\n",
    "arr = np.zeros(5, dtype=np.int32)\n",
    "print(arr)\n",
    "\n",
    "arr = np.zeros((3, 2), dtype=[(\"x\", \"i4\"), (\"y\", 'f')]) # 结构化数据, 进行zeros. 也是如此.\n",
    "print(arr)"
   ],
   "metadata": {
    "collapsed": false,
    "pycharm": {
     "name": "#%%\n"
    }
   }
  },
  {
   "cell_type": "code",
   "execution_count": 41,
   "outputs": [
    {
     "name": "stdout",
     "output_type": "stream",
     "text": [
      "[[1. 1.]\n",
      " [1. 1.]\n",
      " [1. 1.]]\n"
     ]
    }
   ],
   "source": [
    "# ones()\n",
    "# 创建shape大小的全1数组.\n",
    "arr = np.ones((3, 2))\n",
    "\n",
    "print(arr)\n"
   ],
   "metadata": {
    "collapsed": false,
    "pycharm": {
     "name": "#%%\n"
    }
   }
  },
  {
   "cell_type": "code",
   "execution_count": 42,
   "outputs": [
    {
     "name": "stdout",
     "output_type": "stream",
     "text": [
      "[[1024]\n",
      " [1024]\n",
      " [1024]\n",
      " [1024]\n",
      " [1024]]\n"
     ]
    }
   ],
   "source": [
    "# full(shape, fill_value, dtype=None, order='C')\n",
    "# 创建指定形状的数组, 用fill_value填充.\n",
    "arr = np.full((5, 1), fill_value=1024)\n",
    "print(arr)"
   ],
   "metadata": {
    "collapsed": false,
    "pycharm": {
     "name": "#%%\n"
    }
   }
  },
  {
   "cell_type": "code",
   "execution_count": 43,
   "outputs": [
    {
     "name": "stdout",
     "output_type": "stream",
     "text": [
      "[[1. 0. 0. 0. 0. 0. 0. 0. 0. 0.]\n",
      " [0. 1. 0. 0. 0. 0. 0. 0. 0. 0.]\n",
      " [0. 0. 1. 0. 0. 0. 0. 0. 0. 0.]\n",
      " [0. 0. 0. 1. 0. 0. 0. 0. 0. 0.]\n",
      " [0. 0. 0. 0. 1. 0. 0. 0. 0. 0.]\n",
      " [0. 0. 0. 0. 0. 1. 0. 0. 0. 0.]\n",
      " [0. 0. 0. 0. 0. 0. 1. 0. 0. 0.]\n",
      " [0. 0. 0. 0. 0. 0. 0. 1. 0. 0.]\n",
      " [0. 0. 0. 0. 0. 0. 0. 0. 1. 0.]\n",
      " [0. 0. 0. 0. 0. 0. 0. 0. 0. 1.]]\n"
     ]
    }
   ],
   "source": [
    "\n",
    "# eye(N, M=None, k=0, dtype=None, order='C')\n",
    "# 对角线为1, 其他为0.\n",
    "# N: 行数\n",
    "# M: 列数, 默认等于行数, 可选.\n",
    "# dtype: 数据类型, 可选.\n",
    "arr = np.eye(10)\n",
    "\n",
    "print(arr)\n"
   ],
   "metadata": {
    "collapsed": false,
    "pycharm": {
     "name": "#%%\n"
    }
   }
  },
  {
   "cell_type": "code",
   "execution_count": 44,
   "outputs": [
    {
     "name": "stdout",
     "output_type": "stream",
     "text": [
      "[ 1  2  3  4  5  6  7  8  9 10]\n"
     ]
    }
   ],
   "source": [
    "# arange(start, stop, step, dtype)\n",
    "# 类似于range. 生成序列 ndarray对象.\n",
    "# start=0.\n",
    "# stop # 不包含\n",
    "# step=1, 步长.\n",
    "\n",
    "arr = np.arange(1, 11, 1)\n",
    "\n",
    "print(arr)\n",
    "# 不包含11.\n",
    "\n"
   ],
   "metadata": {
    "collapsed": false,
    "pycharm": {
     "name": "#%%\n"
    }
   }
  },
  {
   "cell_type": "code",
   "execution_count": 47,
   "outputs": [
    {
     "name": "stdout",
     "output_type": "stream",
     "text": [
      "b'sunck is a good man'\n",
      "[b'n' b'c' b'k' b' ' b'i']\n"
     ]
    }
   ],
   "source": [
    "# 一系列的from函数。\n",
    "\n",
    "# frombuffer(buffer, dtype=float, count=-1, offset=0)\n",
    "# 用于实现动态数组, 接受buffer输入参数, 以流的形式读入转化成ndarray对象.\n",
    "# buffer是字符串类型的时候, python3默认str是unicode类型, 所以要转成bytestring在原str前加上b.\n",
    "# buffer: 可以是任意对象, 会以流的形式读入.\n",
    "# dtype: 返回数组的数据类型, 可选.\n",
    "# count: 读取数据的数量, 默认为-1, 读取所有数据.\n",
    "# offset: 读取启示位置, 默认为0, 从头开始读取.\n",
    "\n",
    "s = b\"sunck is a good man\"\n",
    "print(s)\n",
    "arr = np.frombuffer(s, dtype=\"S1\", count=5, offset=2)\n",
    "print(arr) # 这样就会从index=2的地方开始拿, 然后只读取5个."
   ],
   "metadata": {
    "collapsed": false,
    "pycharm": {
     "name": "#%%\n"
    }
   }
  },
  {
   "cell_type": "code",
   "execution_count": 49,
   "outputs": [
    {
     "name": "stdout",
     "output_type": "stream",
     "text": [
      "[1. 2. 3. 4. 5.]\n"
     ]
    }
   ],
   "source": [
    "# fromiter(iterable, dtype, count=-1)\n",
    "# 作用: 可以从可迭代对象中建立ndarray对象, 返回维度数组.\n",
    "# iterable: 可迭代对象.\n",
    "# dtype: 数据类型.\n",
    "# count: 读取的数据数量, 默认为-1, 读取所有数据.\n",
    "\n",
    "x = [1, 2, 3 ,4, 5]\n",
    "z = iter(x) # transfer x to iter object.\n",
    "arr = np.fromiter(z, dtype='f')\n",
    "print(arr) # 也创建了一维的数组."
   ],
   "metadata": {
    "collapsed": false,
    "pycharm": {
     "name": "#%%\n"
    }
   }
  },
  {
   "cell_type": "code",
   "execution_count": 51,
   "outputs": [
    {
     "name": "stdout",
     "output_type": "stream",
     "text": [
      "(array([ 1,  2,  3,  4,  5,  6,  7,  8,  9, 10]), 1.0)\n"
     ]
    }
   ],
   "source": [
    "# linspace(start, stop, num=50, endpoint=True, retstep=False, dtype=None)\n",
    "# 生成一个start开始, stop结束, 个数为num的等差数列, 是一个一维的列表.\n",
    "# start: 序列的起始值\n",
    "# stop: 序列的终止值\n",
    "# num: 生成的序列点的个数.\n",
    "# endpoint: True, 默认包含stop值, 反之不包含, 默认是True.\n",
    "# restep: 如果为True时, 生成的数组会显示间距, 反之不显示. 返回一个元组.\n",
    "\n",
    "arr = np.linspace(1, 10 , 10, dtype=\"i4\", retstep=True)\n",
    "print(arr)"
   ],
   "metadata": {
    "collapsed": false,
    "pycharm": {
     "name": "#%%\n"
    }
   }
  },
  {
   "cell_type": "code",
   "execution_count": 53,
   "outputs": [
    {
     "name": "stdout",
     "output_type": "stream",
     "text": [
      "[ 10.          12.91549665  16.68100537  21.5443469   27.82559402\n",
      "  35.93813664  46.41588834  59.94842503  77.42636827 100.        ]\n",
      "[2.         2.16011948 2.33305808 2.5198421  2.72158    2.93946898\n",
      " 3.1748021  3.42897593 3.70349885 4.        ]\n"
     ]
    }
   ],
   "source": [
    "# logspace(start, stop, num=50, endpoint=True, base=10.0, dtype=None)\n",
    "# 作用: 创建一个等比数列.\n",
    "# start: 序列起始值: base ** start\n",
    "# stop: 序列终止值: base ** stop\n",
    "# num: 样本数量, 默认=50\n",
    "# endpoint: True, 默认包含stop值.\n",
    "# base: 对数log的底数, 默认是10.\n",
    "#\n",
    "\n",
    "arr = np.logspace(1.0, 2.0, num=10)\n",
    "print(arr)\n",
    "\n",
    "arr = np.logspace(1.0, 2.0, num=10, base=2)\n",
    "print(arr)"
   ],
   "metadata": {
    "collapsed": false,
    "pycharm": {
     "name": "#%%\n"
    }
   }
  },
  {
   "cell_type": "code",
   "execution_count": 59,
   "outputs": [
    {
     "name": "stdout",
     "output_type": "stream",
     "text": [
      "0.6653451418059501 <class 'float'>\n",
      "(3, 2)\n"
     ]
    }
   ],
   "source": [
    "# 继续创建ndarray对象.\n",
    "# 主要是针对random模块.\n",
    "import numpy as np\n",
    "# import random\n",
    "arr = np.random.rand() # 默认生成一个数字, [0, 1)\n",
    "print(arr, type(arr))\n",
    "\n",
    "arr = np.random.rand(3, 2)\n",
    "print(arr.shape)\n",
    "# 其实都是一维的. 在内存中都是一维的, 只不过"
   ],
   "metadata": {
    "collapsed": false,
    "pycharm": {
     "name": "#%%\n"
    }
   }
  },
  {
   "cell_type": "code",
   "execution_count": 60,
   "outputs": [
    {
     "name": "stdout",
     "output_type": "stream",
     "text": [
      "0.31580295605935815\n",
      "(3, 2)\n"
     ]
    }
   ],
   "source": [
    "# np.random.random(size) # 生成[0, 1)的随机数\n",
    "arr = np.random.random()\n",
    "print(arr)\n",
    "\n",
    "arr = np.random.random((3, 2))\n",
    "print(arr.shape)"
   ],
   "metadata": {
    "collapsed": false,
    "pycharm": {
     "name": "#%%\n"
    }
   }
  },
  {
   "cell_type": "code",
   "execution_count": null,
   "outputs": [],
   "source": [],
   "metadata": {
    "collapsed": false,
    "pycharm": {
     "name": "#%%\n"
    }
   }
  },
  {
   "cell_type": "code",
   "execution_count": null,
   "outputs": [],
   "source": [],
   "metadata": {
    "collapsed": false,
    "pycharm": {
     "name": "#%%\n"
    }
   }
  },
  {
   "cell_type": "code",
   "execution_count": null,
   "outputs": [],
   "source": [],
   "metadata": {
    "collapsed": false,
    "pycharm": {
     "name": "#%%\n"
    }
   }
  },
  {
   "cell_type": "code",
   "execution_count": null,
   "outputs": [],
   "source": [],
   "metadata": {
    "collapsed": false,
    "pycharm": {
     "name": "#%%\n"
    }
   }
  },
  {
   "cell_type": "code",
   "execution_count": null,
   "outputs": [],
   "source": [],
   "metadata": {
    "collapsed": false,
    "pycharm": {
     "name": "#%%\n"
    }
   }
  },
  {
   "cell_type": "code",
   "execution_count": null,
   "outputs": [],
   "source": [],
   "metadata": {
    "collapsed": false,
    "pycharm": {
     "name": "#%%\n"
    }
   }
  },
  {
   "cell_type": "code",
   "execution_count": null,
   "outputs": [],
   "source": [
    "# ndarray和list对比.\n"
   ],
   "metadata": {
    "collapsed": false,
    "pycharm": {
     "name": "#%%\n"
    }
   }
  }
 ],
 "metadata": {
  "kernelspec": {
   "display_name": "Python 3",
   "language": "python",
   "name": "python3"
  },
  "language_info": {
   "codemirror_mode": {
    "name": "ipython",
    "version": 2
   },
   "file_extension": ".py",
   "mimetype": "text/x-python",
   "name": "python",
   "nbconvert_exporter": "python",
   "pygments_lexer": "ipython2",
   "version": "2.7.6"
  }
 },
 "nbformat": 4,
 "nbformat_minor": 0
}