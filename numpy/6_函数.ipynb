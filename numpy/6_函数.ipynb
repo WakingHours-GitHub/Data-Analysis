{
 "cells": [
  {
   "cell_type": "code",
   "execution_count": 1,
   "outputs": [],
   "source": [
    "# 函数\n",
    "# 字符串函数：是用于dtype为numpy.string_或者numpy.unicode_的数组执行向量化字符串操作.\n",
    "# 字符串函数基于python内置库当中的标准字符串函数在字符数组类(numpy.char)中定义. 也就是所有的操作都在numpy.char这个类下面.\n",
    "\n",
    "# 基本都返回ndarray对象.\n",
    "# 默认都是对ndarray中的元素进行操作, 也就是对元素进行操作, 每个元素是一个字符串.\n",
    "# add(): 对两个数组的元素进行字符串连接.\n",
    "# multiply(): 返回按照元素多重连接后的字符串.\n",
    "# center(): 将字符串居中, 并使用指定字符串在左侧和右侧进行填充.\n",
    "# capitalize(): 将字符串中第一个字符转换为大写.\n",
    "# title(): 将字符串中每个单词的第一个字母转换为大写\n",
    "# lower(): 数组元素转换为小写.\n",
    "# upper(): 数组元素转换为大写\n",
    "# split(): 指定分隔符对字符串进行凤娥, 并返回数组列表.\n",
    "# splitlines(): 返回元素中的行列表, 以换行符分割.\n",
    "# strip(): 移除元素开头或者结尾处的指定字符.\n",
    "# join(): 通过指定分隔符来连接数组中的元素.\n",
    "# replace(): 使用新字符串替代字符串当中所有的子字符串.\n",
    "# encode(): 编码, 数组元素会依次调用str.encode\n",
    "# decode(): 解码, 数组元素会依次调用str.decode."
   ],
   "metadata": {
    "collapsed": false,
    "pycharm": {
     "name": "#%%\n"
    }
   }
  },
  {
   "cell_type": "code",
   "execution_count": 4,
   "outputs": [
    {
     "name": "stdout",
     "output_type": "stream",
     "text": [
      "['sunckgood']\n",
      "['sunckgood' 'kaimingjob']\n"
     ]
    }
   ],
   "source": [
    "import numpy as np\n",
    "\n",
    "print(np.char.add([\"sunck\"], [\"good\"]))\n",
    "print(np.char.add([\"sunck\", \"kaiming\"], [\"good\", \"job\"]))\n",
    "\n"
   ],
   "metadata": {
    "collapsed": false,
    "pycharm": {
     "name": "#%%\n"
    }
   }
  },
  {
   "cell_type": "code",
   "execution_count": 6,
   "outputs": [
    {
     "name": "stdout",
     "output_type": "stream",
     "text": [
      "goodgoodgood\n"
     ]
    }
   ],
   "source": [
    "print(np.char.multiply(\"good\", 3))"
   ],
   "metadata": {
    "collapsed": false,
    "pycharm": {
     "name": "#%%\n"
    }
   }
  },
  {
   "cell_type": "code",
   "execution_count": 12,
   "outputs": [
    {
     "name": "stdout",
     "output_type": "stream",
     "text": [
      "['********nice********' '******handsome******' 'bilibilibiliworinima']\n"
     ]
    }
   ],
   "source": [
    "print(np.char.center([\"nice\", \"handsome\", \"bilibilibiliworinimafadjkflajkfakl\"], 20, fillchar=\"*\"))\n",
    "# 就是每个元素居中显示, 总宽度20, 使用fillchar进行填充, 超过的会截断."
   ],
   "metadata": {
    "collapsed": false,
    "pycharm": {
     "name": "#%%\n"
    }
   }
  },
  {
   "cell_type": "code",
   "execution_count": 14,
   "outputs": [
    {
     "name": "stdout",
     "output_type": "stream",
     "text": [
      "['Sunck is a good man' 'Kaige is a nice man']\n"
     ]
    }
   ],
   "source": [
    "print(np.char.capitalize([\"sunck is a good man\", \"kaige is a nice man\"]))"
   ],
   "metadata": {
    "collapsed": false,
    "pycharm": {
     "name": "#%%\n"
    }
   }
  },
  {
   "cell_type": "code",
   "execution_count": 15,
   "outputs": [
    {
     "name": "stdout",
     "output_type": "stream",
     "text": [
      "['Sunck Is A Good Man' 'Kaige Is A Nice Man']\n"
     ]
    }
   ],
   "source": [
    "print(np.char.title([\"sunck is a good man\", \"kaige is a nice man\"]))"
   ],
   "metadata": {
    "collapsed": false,
    "pycharm": {
     "name": "#%%\n"
    }
   }
  },
  {
   "cell_type": "code",
   "execution_count": 16,
   "outputs": [
    {
     "name": "stdout",
     "output_type": "stream",
     "text": [
      "['sunck is a good man' 'kaige is a nice man']\n"
     ]
    }
   ],
   "source": [
    "print(np.char.lower([\"sunck is a good man\", \"kaige is a nice man\"]))"
   ],
   "metadata": {
    "collapsed": false,
    "pycharm": {
     "name": "#%%\n"
    }
   }
  },
  {
   "cell_type": "code",
   "execution_count": 17,
   "outputs": [
    {
     "name": "stdout",
     "output_type": "stream",
     "text": [
      "['SUNCK IS A GOOD MAN' 'KAIGE IS A NICE MAN']\n"
     ]
    }
   ],
   "source": [
    "print(np.char.upper([\"sunck is a good man\", \"kaige is a nice man\"]))"
   ],
   "metadata": {
    "collapsed": false,
    "pycharm": {
     "name": "#%%\n"
    }
   }
  },
  {
   "cell_type": "code",
   "execution_count": 19,
   "outputs": [
    {
     "name": "stdout",
     "output_type": "stream",
     "text": [
      "[list(['sunck', 'is', 'a', 'good', 'man'])\n",
      " list(['kaige', 'is', 'a', 'nice', 'man'])]\n"
     ]
    }
   ],
   "source": [
    "print(np.char.split([\"sunck is a good man\", \"kaige is a nice man\"], \" \"))\n",
    "# 得到了一个列表. 按照空格' '进行切割. 然后返回ndarray元素, 里面是个列表, 实际上就是遍历这个数组, 然后对其中的元素应用split."
   ],
   "metadata": {
    "collapsed": false,
    "pycharm": {
     "name": "#%%\n"
    }
   }
  },
  {
   "cell_type": "code",
   "execution_count": 21,
   "outputs": [
    {
     "name": "stdout",
     "output_type": "stream",
     "text": [
      "[list(['sunck is a ', 'good man']) list(['kaige is a nice man'])]\n"
     ]
    }
   ],
   "source": [
    "print(np.char.splitlines([\"sunck is a \\ngood man\", \"kaige is a nice man\"]))"
   ],
   "metadata": {
    "collapsed": false,
    "pycharm": {
     "name": "#%%\n"
    }
   }
  },
  {
   "cell_type": "code",
   "execution_count": 23,
   "outputs": [
    {
     "name": "stdout",
     "output_type": "stream",
     "text": [
      "['sunck is a good man' 'kaige is a nice man']\n"
     ]
    }
   ],
   "source": [
    "print(np.char.strip([\"**sunck is a good man****\", \"kaige is a nice man****\"], \"*\"))\n",
    "# 移除*."
   ],
   "metadata": {
    "collapsed": false,
    "pycharm": {
     "name": "#%%\n"
    }
   }
  },
  {
   "cell_type": "code",
   "execution_count": 26,
   "outputs": [
    {
     "name": "stdout",
     "output_type": "stream",
     "text": [
      "['n-i-c-e' 'g-o-o-d']\n",
      "['n-i-c-e' 'g.o.o.d']\n"
     ]
    }
   ],
   "source": [
    "print(np.char.join(\"-\", [\"nice\", \"good\"]))\n",
    "print(np.char.join([\"-\", '.'], [\"nice\", \"good\"]))\n"
   ],
   "metadata": {
    "collapsed": false,
    "pycharm": {
     "name": "#%%\n"
    }
   }
  },
  {
   "cell_type": "code",
   "execution_count": 27,
   "outputs": [
    {
     "name": "stdout",
     "output_type": "stream",
     "text": [
      "['sunck is a fuck man' 'kaige is a fuck man']\n"
     ]
    }
   ],
   "source": [
    "print(np.char.replace([\"sunck is a good man\", \"kaige is a nice man\"], [\"good\", \"nice\"], \"fuck\"))\n",
    "# 针对第一个句子good替换为fuck, 第二个元素nice替换fuck.让然你也可更换."
   ],
   "metadata": {
    "collapsed": false,
    "pycharm": {
     "name": "#%%\n"
    }
   }
  },
  {
   "cell_type": "code",
   "execution_count": 33,
   "outputs": [
    {
     "name": "stdout",
     "output_type": "stream",
     "text": [
      "[b'such']\n"
     ]
    }
   ],
   "source": [
    "a = np.char.encode([\"such\"], encoding=\"utf-8\")\n",
    "print(a)\n",
    "# 编码, 字节流."
   ],
   "metadata": {
    "collapsed": false,
    "pycharm": {
     "name": "#%%\n"
    }
   }
  },
  {
   "cell_type": "code",
   "execution_count": 35,
   "outputs": [
    {
     "name": "stdout",
     "output_type": "stream",
     "text": [
      "['such']\n"
     ]
    }
   ],
   "source": [
    "print(np.char.decode(a, encoding=\"utf-8\"))\n",
    "# 解码. 变成字符数组."
   ],
   "metadata": {
    "collapsed": false,
    "pycharm": {
     "name": "#%%\n"
    }
   }
  },
  {
   "cell_type": "code",
   "execution_count": 38,
   "outputs": [
    {
     "name": "stdout",
     "output_type": "stream",
     "text": [
      "不同角度的正弦值\n",
      "[0.         0.5        0.70710678 0.8660254  1.        ]\n",
      "不同角度的cos值\n",
      "[1.00000000e+00 8.66025404e-01 7.07106781e-01 5.00000000e-01\n",
      " 6.12323400e-17]\n",
      "不同角度的正切值\n",
      "[0.00000000e+00 5.77350269e-01 1.00000000e+00 1.73205081e+00\n",
      " 1.63312394e+16]\n"
     ]
    }
   ],
   "source": [
    "# 数学函数:\n",
    "# 标准三角函数: sin(), cos(), tan()\n",
    "# 都在np中.\n",
    "# np.sin(弧度制) # 这里的数值是弧度制. 也就是角度*pi, 然后除以180\n",
    "# 弧度制/pi = 角度制/180.\n",
    "\n",
    "import numpy as np\n",
    "\n",
    "a = np.array([0, 30, 45, 60, 90])\n",
    "print(\"不同角度的正弦值\")\n",
    "print(np.sin(a * np.pi / 180))\n",
    "\n",
    "print(\"不同角度的cos值\")\n",
    "print(np.cos(a * np.pi / 180))\n",
    "\n",
    "print(\"不同角度的正切值\")\n",
    "print(np.tan(a * np.pi / 180))"
   ],
   "metadata": {
    "collapsed": false,
    "pycharm": {
     "name": "#%%\n"
    }
   }
  },
  {
   "cell_type": "code",
   "execution_count": 46,
   "outputs": [
    {
     "name": "stdout",
     "output_type": "stream",
     "text": [
      "[ 0. 30. 45. 60. 90.]\n",
      "[ 0. 30. 45. 60. 90.]\n"
     ]
    }
   ],
   "source": [
    "# 反三角函数: arcsin(), arccos(), arctan()\n",
    "# 从弧度制, 返回弧度制值.\n",
    "a = np.array([0, 30, 45, 60, 90])\n",
    "\n",
    "b = np.sin(a * np.pi / 180)\n",
    "inv = np.arcsin(b) # 以弧度为单位.\n",
    "# 然后转换为角度值来查看结果:\n",
    "print(np.degrees(inv)) # 转换为角度值.\n",
    "print(inv*180/np.pi) # 一个道理.\n",
    "\n",
    "# 同理, 其他的反三角函数也是同理.\n",
    "# 这里不在演示."
   ],
   "metadata": {
    "collapsed": false,
    "pycharm": {
     "name": "#%%\n"
    }
   }
  },
  {
   "cell_type": "code",
   "execution_count": 50,
   "outputs": [
    {
     "name": "stdout",
     "output_type": "stream",
     "text": [
      "[1. 1. 2.]\n",
      "[1.  1.4 1.6]\n",
      "[0. 0. 0.]\n"
     ]
    }
   ],
   "source": [
    "# 其他函数:\n",
    "# around(): 返回指定数字的四舍五入数值\n",
    "# 就是原生python中的round函数, array round同理\n",
    "# np.around(a, decimals=0)\n",
    "# a: 数组, 对数组中的每个元素进行运算\n",
    "# decimals: 舍的小数位.默认为0, 如果为负, 整数将四舍五入到小数点左侧的位置.\n",
    "x = np.array([1.0, 1.45, 1.60])\n",
    "print(np.around(x))\n",
    "print(np.around(x, 1)) # 就是在小数点右边一位,进行四舍五入.\n",
    "print(np.around(x, -1)) # 就是在小数点左边一位, 进行四舍五入.\n",
    "\n"
   ],
   "metadata": {
    "collapsed": false,
    "pycharm": {
     "name": "#%%\n"
    }
   }
  },
  {
   "cell_type": "code",
   "execution_count": 53,
   "outputs": [
    {
     "name": "stdout",
     "output_type": "stream",
     "text": [
      "[1.   1.45 1.6 ]\n",
      "[1. 1. 1.]\n",
      "[1. 2. 2.]\n"
     ]
    }
   ],
   "source": [
    "# floor(): 向下取整. 返回不大于输入参数的最大整数.#\n",
    "# 即标量x的下限是最大的整数i, 使得i <= x.注意在python中, 向下取整总是从0设入.\n",
    "# ceil(): 向上取整, 返回输入值的上限, 即标量x的上线是最小的整数i, 使得i >= x..\n",
    "print(x)\n",
    "print(np.floor(x))\n",
    "print(np.ceil(x))\n"
   ],
   "metadata": {
    "collapsed": false,
    "pycharm": {
     "name": "#%%\n"
    }
   }
  },
  {
   "cell_type": "code",
   "execution_count": 2,
   "outputs": [
    {
     "name": "stdout",
     "output_type": "stream",
     "text": [
      "[[0. 1. 2.]\n",
      " [3. 4. 5.]\n",
      " [6. 7. 8.]]\n",
      "[10 10 10]\n"
     ]
    }
   ],
   "source": [
    "# 算数函数：\n",
    "# add(), subtract(), multiply(), divide()\n",
    "# 相加, 相减, 相乘, 相除.\n",
    "\n",
    "import numpy as np\n",
    "\n",
    "x = np.arange(9, dtype=np.float32).reshape((3, 3))\n",
    "y = np.array([10, 10, 10])\n",
    "print(x)\n",
    "print(y)"
   ],
   "metadata": {
    "collapsed": false,
    "pycharm": {
     "name": "#%%\n"
    }
   }
  },
  {
   "cell_type": "code",
   "execution_count": 5,
   "outputs": [
    {
     "name": "stdout",
     "output_type": "stream",
     "text": [
      "[[10. 11. 12.]\n",
      " [13. 14. 15.]\n",
      " [16. 17. 18.]]\n",
      "[[10. 11. 12.]\n",
      " [13. 14. 15.]\n",
      " [16. 17. 18.]]\n"
     ]
    }
   ],
   "source": [
    "print(np.add(x, y))\n",
    "# 广播, 然后相加.\n",
    "print(x + y) # 默认是对元素进行操作.\n",
    "# 结果一样"
   ],
   "metadata": {
    "collapsed": false,
    "pycharm": {
     "name": "#%%\n"
    }
   }
  },
  {
   "cell_type": "code",
   "execution_count": 6,
   "outputs": [
    {
     "name": "stdout",
     "output_type": "stream",
     "text": [
      "[[-10.  -9.  -8.]\n",
      " [ -7.  -6.  -5.]\n",
      " [ -4.  -3.  -2.]]\n",
      "[[-10.  -9.  -8.]\n",
      " [ -7.  -6.  -5.]\n",
      " [ -4.  -3.  -2.]]\n"
     ]
    }
   ],
   "source": [
    "print(np.subtract(x, y))\n",
    "print(x - y)"
   ],
   "metadata": {
    "collapsed": false,
    "pycharm": {
     "name": "#%%\n"
    }
   }
  },
  {
   "cell_type": "code",
   "execution_count": 8,
   "outputs": [
    {
     "name": "stdout",
     "output_type": "stream",
     "text": [
      "[[ 0. 10. 20.]\n",
      " [30. 40. 50.]\n",
      " [60. 70. 80.]]\n",
      "[[ 0. 10. 20.]\n",
      " [30. 40. 50.]\n",
      " [60. 70. 80.]]\n"
     ]
    }
   ],
   "source": [
    "print(np.multiply(x, y))\n",
    "\n",
    "print(x * y)"
   ],
   "metadata": {
    "collapsed": false,
    "pycharm": {
     "name": "#%%\n"
    }
   }
  },
  {
   "cell_type": "code",
   "execution_count": 9,
   "outputs": [
    {
     "name": "stdout",
     "output_type": "stream",
     "text": [
      "[[0.  0.1 0.2]\n",
      " [0.3 0.4 0.5]\n",
      " [0.6 0.7 0.8]]\n",
      "[[0.  0.1 0.2]\n",
      " [0.3 0.4 0.5]\n",
      " [0.6 0.7 0.8]]\n"
     ]
    }
   ],
   "source": [
    "print(np.divide(x, y))\n",
    "print(x / y)\n",
    "# 实际上就是对运算符号进行重载了, 在针对array类型的时候."
   ],
   "metadata": {
    "collapsed": false,
    "pycharm": {
     "name": "#%%\n"
    }
   }
  },
  {
   "cell_type": "code",
   "execution_count": 15,
   "outputs": [
    {
     "name": "stdout",
     "output_type": "stream",
     "text": [
      "[  0.25   0.5    1.   100.  ]\n",
      "[4.   2.   1.   0.01]\n"
     ]
    }
   ],
   "source": [
    "# reciprocal(): 返回数组元素的倒数\n",
    "# power(): 将第一个输入数组中的元素作为底数, 然后计算他与第二个输入数组中相应元素的幂, 可以进行广播.\n",
    "# mod(), remainder(). 计算输入数组中相应元素的相除后的余数.\n",
    "\n",
    "x = np.array([0.25, 0.5, 1, 100])\n",
    "print(x)\n",
    "print(np.reciprocal(x)) # 每个元素进行倒数.\n"
   ],
   "metadata": {
    "collapsed": false,
    "pycharm": {
     "name": "#%%\n"
    }
   }
  },
  {
   "cell_type": "code",
   "execution_count": 16,
   "outputs": [
    {
     "name": "stdout",
     "output_type": "stream",
     "text": [
      "[ 2  9 64]\n",
      "[ 2  9 64]\n",
      "[ 4  9 16]\n",
      "[ 4  9 16]\n"
     ]
    }
   ],
   "source": [
    "\n",
    "x = np.array([2, 3, 4])\n",
    "y = np.array([1, 2, 3])\n",
    "print(np.power(x, y))\n",
    "print(x ** y) # 同理操作.\n",
    "print(np.power(x, 2)) # x的所有元素平方.\n",
    "print(x ** 2) # 同理操作."
   ],
   "metadata": {
    "collapsed": false,
    "pycharm": {
     "name": "#%%\n"
    }
   }
  },
  {
   "cell_type": "code",
   "execution_count": 18,
   "outputs": [
    {
     "name": "stdout",
     "output_type": "stream",
     "text": [
      "[0 1 2]\n",
      "[0 1 2]\n"
     ]
    }
   ],
   "source": [
    "x = np.array([10, 10, 10])\n",
    "y = np.array([2, 3, 4])\n",
    "\n",
    "print(np.mod(x, y))\n",
    "print(np.remainder(x, y))\n",
    "# 得到的余数."
   ],
   "metadata": {
    "collapsed": false,
    "pycharm": {
     "name": "#%%\n"
    }
   }
  },
  {
   "cell_type": "code",
   "execution_count": 32,
   "outputs": [
    {
     "name": "stdout",
     "output_type": "stream",
     "text": [
      "[[ 7  9  7]\n",
      " [ 8 10  3]\n",
      " [ 8  4  8]]\n"
     ]
    }
   ],
   "source": [
    "# 统计函数:\n",
    "# amax(array, axis=None), amin()\n",
    "# 计算数组中的元素沿指定轴的最大值, 最小值. 默认是看整个数组.\n",
    "# ptp(): 计算数组中元素最大值与最小值的差(最大值-最小值)\n",
    "import numpy as np\n",
    "x = np.random.randint(1, 11, 9).reshape((3, 3))\n",
    "print(x)"
   ],
   "metadata": {
    "collapsed": false,
    "pycharm": {
     "name": "#%%\n"
    }
   }
  },
  {
   "cell_type": "code",
   "execution_count": 36,
   "outputs": [
    {
     "name": "stdout",
     "output_type": "stream",
     "text": [
      "[[ 7  9  7]\n",
      " [ 8 10  3]\n",
      " [ 8  4  8]]\n",
      "[ 8 10  8]\n",
      "[ 9 10  8]\n",
      "3\n"
     ]
    }
   ],
   "source": [
    "print(x)\n",
    "print(np.amax(x, axis=0)) # 以行为元素, 比较列..\n",
    "print(np.amax(x, axis=1)) # 以列为元素, 比较行.\n",
    "print(np.amin(x)) # 整个数组最小值."
   ],
   "metadata": {
    "collapsed": false,
    "pycharm": {
     "name": "#%%\n"
    }
   }
  },
  {
   "cell_type": "code",
   "execution_count": 35,
   "outputs": [
    {
     "name": "stdout",
     "output_type": "stream",
     "text": [
      "[[ 7  9  7]\n",
      " [ 8 10  3]\n",
      " [ 8  4  8]]\n",
      "7\n",
      "[1 6 5]\n",
      "[2 7 4]\n"
     ]
    }
   ],
   "source": [
    "print(x)\n",
    "print(np.ptp(x)) # 最大值 - 最小值.\n",
    "\n",
    "print(np.ptp(x, axis=0)) # axis=0, 元素是每行的数组. 所以比较的是列\n",
    "print(np.ptp(x, axis=1)) #  按照一行, 每行的最大值和最小值相减.\n"
   ],
   "metadata": {
    "collapsed": false,
    "pycharm": {
     "name": "#%%\n"
    }
   }
  },
  {
   "cell_type": "code",
   "execution_count": 38,
   "outputs": [
    {
     "name": "stdout",
     "output_type": "stream",
     "text": [
      "[[ 7  9  7]\n",
      " [ 8 10  3]\n",
      " [ 8  4  8]]\n",
      "8.0\n"
     ]
    }
   ],
   "source": [
    "# percentile(a, p, axis)\n",
    "# 百分位是统计使用的度量, 表示小于这个值的观察值的百分比.\n",
    "# a: 输入数组,\n",
    "# p: 要计算的百分比数, 在0-100之间\n",
    "# axis: 沿着它计算百分比数的轴.\n",
    "\n",
    "print(x)\n",
    "print(np.percentile(x, 50)) # 也就是50%的那个数值, 是8.0"
   ],
   "metadata": {
    "collapsed": false,
    "pycharm": {
     "name": "#%%\n"
    }
   }
  },
  {
   "cell_type": "code",
   "execution_count": 47,
   "outputs": [
    {
     "name": "stdout",
     "output_type": "stream",
     "text": [
      "[1 2 3 4]\n",
      "2.5\n",
      "2.0\n",
      "(2.0, 10.0)\n"
     ]
    }
   ],
   "source": [
    "# median(): 计算数组中元素的中位数(中值)\n",
    "# mean(): 返回数组元素中的算数平均数, 如果提供了轴, 则按照轴计算.\n",
    "# average(): 根据另一个数组给出的权重计算数组中元素的加权平均值, 可以接受一个轴参数. 如果没有指定轴, 则数组会被自动展开.\n",
    "\n",
    "# 加权平均值: 将各数组乘以相对应的权数, 然后加总求和得到总体值, 再除以总的单位数.\n",
    "# 例如: [1, 2, 3, 4], 权重[4, 3, 2, 1], 对应元素相乘然后相加, 然后除以权重相加.: (1*4+2*3+3*2+4*1)/(4+3+2+1)\n",
    "\n",
    "x = np.array([1,2,3,4])\n",
    "print(x)\n",
    "weight = np.array([4, 3, 2, 1])\n",
    "print(np.average(x)) # x的平均值\n",
    "\n",
    "print(np.average(x, weights=weight))\n",
    "\n",
    "# 如果returned=True, 则返回权重的和. 也就是分母.\n",
    "print(np.average(x, weights=weight, returned=True))\n",
    "# 返回一个元组, 第一个是加权平均值, 第二个是权重的和.\n",
    "\n",
    "# 也能在多维数组中使用."
   ],
   "metadata": {
    "collapsed": false,
    "pycharm": {
     "name": "#%%\n"
    }
   }
  },
  {
   "cell_type": "code",
   "execution_count": 50,
   "outputs": [
    {
     "name": "stdout",
     "output_type": "stream",
     "text": [
      "1.118033988749895\n"
     ]
    }
   ],
   "source": [
    "# 标准差.\n",
    "# 标准差是一组数据平均值分散程度的一种度量.\n",
    "# 标准差是方差的算数平方根.\n",
    "# std = sqrt(mean((x - x.mead())**2)).\n",
    "# np.std(a, axis=None)\n",
    "print(np.std(np.array([1, 2, 3, 4])))\n",
    "\n",
    "\n",
    "\n",
    "\n",
    "\n"
   ],
   "metadata": {
    "collapsed": false,
    "pycharm": {
     "name": "#%%\n"
    }
   }
  },
  {
   "cell_type": "code",
   "execution_count": 51,
   "outputs": [
    {
     "name": "stdout",
     "output_type": "stream",
     "text": [
      "1.25\n"
     ]
    }
   ],
   "source": [
    "# 方差: 统计中的方差(样本方差)是每个样本值与全体样本值的平均数之差的平方值的平均数, 即: mean((x - x.mean()) ** 2. 换句话说, 标准差是方差的平方根.\n",
    "# np.var()\n",
    "\n",
    "print(np.var(x))\n",
    "\n",
    "\n"
   ],
   "metadata": {
    "collapsed": false,
    "pycharm": {
     "name": "#%%\n"
    }
   }
  },
  {
   "cell_type": "code",
   "execution_count": 49,
   "outputs": [],
   "source": [],
   "metadata": {
    "collapsed": false,
    "pycharm": {
     "name": "#%%\n"
    }
   }
  },
  {
   "cell_type": "code",
   "execution_count": 49,
   "outputs": [],
   "source": [],
   "metadata": {
    "collapsed": false,
    "pycharm": {
     "name": "#%%\n"
    }
   }
  },
  {
   "cell_type": "code",
   "execution_count": 49,
   "outputs": [],
   "source": [],
   "metadata": {
    "collapsed": false,
    "pycharm": {
     "name": "#%%\n"
    }
   }
  },
  {
   "cell_type": "code",
   "execution_count": null,
   "outputs": [],
   "source": [],
   "metadata": {
    "collapsed": false,
    "pycharm": {
     "name": "#%%\n"
    }
   }
  }
 ],
 "metadata": {
  "kernelspec": {
   "display_name": "Python 3",
   "language": "python",
   "name": "python3"
  },
  "language_info": {
   "codemirror_mode": {
    "name": "ipython",
    "version": 2
   },
   "file_extension": ".py",
   "mimetype": "text/x-python",
   "name": "python",
   "nbconvert_exporter": "python",
   "pygments_lexer": "ipython2",
   "version": "2.7.6"
  }
 },
 "nbformat": 4,
 "nbformat_minor": 0
}