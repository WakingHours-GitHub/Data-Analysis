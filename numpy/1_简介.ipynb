{
 "cells": [
  {
   "cell_type": "code",
   "execution_count": 2,
   "outputs": [],
   "source": [
    "import numpy as np\n",
    "\n"
   ],
   "metadata": {
    "collapsed": false,
    "pycharm": {
     "name": "#%%\n"
    }
   }
  },
  {
   "cell_type": "code",
   "execution_count": 4,
   "outputs": [
    {
     "name": "stdout",
     "output_type": "stream",
     "text": [
      "uint32\n",
      "<class 'numpy.dtype[uint32]'>\n"
     ]
    }
   ],
   "source": [
    "dt = np.dtype(np.uint32)\n",
    "\n",
    "print(dt)\n",
    "print(type(dt))"
   ],
   "metadata": {
    "collapsed": false,
    "pycharm": {
     "name": "#%%\n"
    }
   }
  },
  {
   "cell_type": "code",
   "execution_count": 6,
   "outputs": [
    {
     "name": "stdout",
     "output_type": "stream",
     "text": [
      "int32\n",
      "<class 'numpy.dtype[int32]'>\n"
     ]
    }
   ],
   "source": [
    "# 每一个类型都有其唯一一个对应的标识符.\n",
    "\n",
    "dt = np.dtype('i4')\n",
    "\n",
    "print(dt)\n",
    "print(type(dt))"
   ],
   "metadata": {
    "collapsed": false,
    "pycharm": {
     "name": "#%%\n"
    }
   }
  },
  {
   "cell_type": "code",
   "execution_count": 7,
   "outputs": [
    {
     "name": "stdout",
     "output_type": "stream",
     "text": [
      "int32\n",
      "<class 'numpy.dtype[int32]'>\n"
     ]
    }
   ],
   "source": [
    "\n",
    "dt = np.dtype(\"<i4\") # 就表示以小端方式存储的int32类型\n",
    "\n",
    "print(dt)\n",
    "print(type(dt))\n"
   ],
   "metadata": {
    "collapsed": false,
    "pycharm": {
     "name": "#%%\n"
    }
   }
  },
  {
   "cell_type": "code",
   "execution_count": 12,
   "outputs": [
    {
     "name": "stdout",
     "output_type": "stream",
     "text": [
      "[('name', 'S20'), ('age', '<i4'), ('marks', '<f4')]\n"
     ]
    }
   ],
   "source": [
    "\n",
    "student = np.dtype([(\"name\", \"S20\"), (\"age\", \"i4\"), (\"marks\", \"f4\")]) # 这就是结构化数据.\n",
    "\n",
    "print(student)"
   ],
   "metadata": {
    "collapsed": false,
    "pycharm": {
     "name": "#%%\n"
    }
   }
  },
  {
   "cell_type": "code",
   "execution_count": 31,
   "outputs": [],
   "source": [
    "\n",
    "\n",
    "# 创建Ndarray数组对象.\n",
    "# numpy默认ndarray的所有元素的类型是相同的, 这一点与python中的list不同, 如果传进来的列表中包含不同的类型, 则统一为同一类型, 优先级: str>float>int\n",
    "\n",
    "# np.array(object, dtype, copy=True, order=None, subok=False, ndmin=0)\n",
    "# object: 数组或者嵌套的列表.\n",
    "# dtype: 数组元素的数据类型, 可选.\n",
    "# copy: 对象是都需要复制.\n",
    "# order: 创建数组的央视, C:行方向, F:列方向, A任意方向(default)\n",
    "# subok: 默认返回一个与基类类型一致的数组\n",
    "# ndmin: 指定生成数组的最小维度.\n",
    "\n"
   ],
   "metadata": {
    "collapsed": false,
    "pycharm": {
     "name": "#%%\n"
    }
   }
  },
  {
   "cell_type": "code",
   "execution_count": 33,
   "outputs": [
    {
     "name": "stdout",
     "output_type": "stream",
     "text": [
      "[1 2 3 4 5]\n",
      "<class 'numpy.ndarray'>\n"
     ]
    }
   ],
   "source": [
    "\n",
    "# 创建一维度数组\n",
    "import numpy as np\n",
    "\n",
    "arr = np.array([1, 2, 3, 4, 5])\n",
    "print(arr)\n",
    "\n",
    "print(type(arr))"
   ],
   "metadata": {
    "collapsed": false,
    "pycharm": {
     "name": "#%%\n"
    }
   }
  },
  {
   "cell_type": "code",
   "execution_count": 34,
   "outputs": [
    {
     "name": "stdout",
     "output_type": "stream",
     "text": [
      "[1. 2. 3. 4. 5. 6. 7. 8. 9.]\n",
      "<class 'numpy.ndarray'>\n"
     ]
    }
   ],
   "source": [
    "# 元素类型相同\n",
    "\n",
    "arr = np.array([1, 2, 3, 4, 5.0, 6, 7, 8, 9])\n",
    "print(arr)\n",
    "# 都变成浮点数了, 这其中有一个优先级的问题.\n",
    "\n",
    "print(type(arr))\n",
    "\n"
   ],
   "metadata": {
    "collapsed": false,
    "pycharm": {
     "name": "#%%\n"
    }
   }
  },
  {
   "cell_type": "code",
   "execution_count": 36,
   "outputs": [
    {
     "name": "stdout",
     "output_type": "stream",
     "text": [
      "[[1 2 3]\n",
      " [4 5 6]]\n"
     ]
    }
   ],
   "source": [
    "# 多维数组.\n",
    "arr = np.array([[1, 2, 3], [4, 5, 6]])\n",
    "\n",
    "print(arr)\n"
   ],
   "metadata": {
    "collapsed": false,
    "pycharm": {
     "name": "#%%\n"
    }
   }
  },
  {
   "cell_type": "code",
   "execution_count": 38,
   "outputs": [
    {
     "name": "stdout",
     "output_type": "stream",
     "text": [
      "[[1 2 3]]\n",
      "(1, 3)\n"
     ]
    },
    {
     "data": {
      "text/plain": "array([[1, 2, 3]])"
     },
     "execution_count": 38,
     "metadata": {},
     "output_type": "execute_result"
    }
   ],
   "source": [
    "arr = np.array([1, 2, 3], ndmin=2) # 规定最小维度为2\n",
    "print(arr)\n",
    "print(arr.shape)\n",
    "\n",
    "arr\n"
   ],
   "metadata": {
    "collapsed": false,
    "pycharm": {
     "name": "#%%\n"
    }
   }
  },
  {
   "cell_type": "code",
   "execution_count": 43,
   "outputs": [
    {
     "name": "stdout",
     "output_type": "stream",
     "text": [
      "[1. 2. 3. 4. 5.]\n"
     ]
    }
   ],
   "source": [
    "# dtype参数:\n",
    "arr = np.array([1, 2, 3 ,4 ,5], dtype=np.float32)\n",
    "\n",
    "print(arr)"
   ],
   "metadata": {
    "collapsed": false,
    "pycharm": {
     "name": "#%%\n"
    }
   }
  },
  {
   "cell_type": "code",
   "execution_count": 44,
   "outputs": [
    {
     "name": "stdout",
     "output_type": "stream",
     "text": [
      "[1. 2. 3. 4. 5.]\n"
     ]
    }
   ],
   "source": [
    "arr = np.array([1, 2, 3 ,4 ,5], dtype='f')\n",
    "# 底层创建一个dtype对象, 然后开辟空间.\n",
    "print(arr)"
   ],
   "metadata": {
    "collapsed": false,
    "pycharm": {
     "name": "#%%\n"
    }
   }
  },
  {
   "cell_type": "code",
   "execution_count": 53,
   "outputs": [
    {
     "name": "stdout",
     "output_type": "stream",
     "text": [
      "[('name', 'S20'), ('age', '<i4'), ('marks', '<f4')]\n"
     ]
    },
    {
     "data": {
      "text/plain": "array([(b'jack', 18, 98. ), (b'kaige', 17,  9.8)],\n      dtype=[('name', 'S20'), ('age', '<i4'), ('marks', '<f4')])"
     },
     "execution_count": 53,
     "metadata": {},
     "output_type": "execute_result"
    }
   ],
   "source": [
    "# 结构化数据类型\n",
    "student = np.dtype([(\"name\", \"S20\"), (\"age\", \"i4\"), (\"marks\", \"f4\")]) # dtype对象.\n",
    "\n",
    "print(student)\n",
    "\n",
    "arr = np.array([(\"jack\", 18, 98.0), (\"kaige\", 17, 09.8)], dtype=student)\n",
    "arr\n"
   ],
   "metadata": {
    "collapsed": false,
    "pycharm": {
     "name": "#%%\n"
    }
   }
  },
  {
   "cell_type": "code",
   "execution_count": 55,
   "outputs": [],
   "source": [
    "\n",
    "# asarray()函数:\n",
    "# np.asarray(a, dtype=None, order=None)\n",
    "# a任意形式的输入参数, 可以是各种迭代嵌套. 元组, 列表, 列表的列表, 多为数组.\n",
    "# 返回ndarray对象.\n",
    "\n",
    "arr = np.asarray([1, 2, 3, 4, 5])\n"
   ],
   "metadata": {
    "collapsed": false,
    "pycharm": {
     "name": "#%%\n"
    }
   }
  },
  {
   "cell_type": "code",
   "execution_count": 56,
   "outputs": [
    {
     "data": {
      "text/plain": "array([[1, 2, 3],\n       [4, 5, 6]])"
     },
     "execution_count": 56,
     "metadata": {},
     "output_type": "execute_result"
    }
   ],
   "source": [
    "arr = np.asarray([(1, 2, 3), (4, 5, 6)])\n",
    "arr\n",
    "\n",
    "# 一般使用asarray, 改变已有ndarray类型.\n"
   ],
   "metadata": {
    "collapsed": false,
    "pycharm": {
     "name": "#%%\n"
    }
   }
  },
  {
   "cell_type": "code",
   "execution_count": 61,
   "outputs": [
    {
     "data": {
      "text/plain": "array([[247272048,     32761],\n       [247279520,     32761],\n       [247274816,     32761]])"
     },
     "execution_count": 61,
     "metadata": {},
     "output_type": "execute_result"
    }
   ],
   "source": [
    "# 一些创建数组对象的函数:\n",
    "# empty(shape, dtype, order)\n",
    "# 创建一个指定shape, dtype, 且未初始化的数组.\n",
    "# shape: 数组形状.\n",
    "#\n",
    "import numpy as np\n",
    "arr = np.empty((3, 2), dtype=np.int32) # 3row, 2col.o\n",
    "\n",
    "arr # 未初始化, 其中的值是随意的.\n",
    "\n",
    "\n"
   ],
   "metadata": {
    "collapsed": false,
    "pycharm": {
     "name": "#%%\n"
    }
   }
  },
  {
   "cell_type": "code",
   "execution_count": 64,
   "outputs": [
    {
     "name": "stdout",
     "output_type": "stream",
     "text": [
      "[0 0 0 0 0]\n",
      "[[(0, 0.) (0, 0.)]\n",
      " [(0, 0.) (0, 0.)]\n",
      " [(0, 0.) (0, 0.)]]\n"
     ]
    }
   ],
   "source": [
    "# zeros(shape, dtype=None, order=None)\n",
    "# 创建shape大小的全0数组.\n",
    "\n",
    "arr = np.zeros(5, dtype=np.int32)\n",
    "print(arr)\n",
    "\n",
    "arr = np.zeros((3, 2), dtype=[(\"x\", \"i4\"), (\"y\", 'f')]) # 结构化数据, 进行zeros. 也是如此.\n",
    "print(arr)"
   ],
   "metadata": {
    "collapsed": false,
    "pycharm": {
     "name": "#%%\n"
    }
   }
  },
  {
   "cell_type": "code",
   "execution_count": 65,
   "outputs": [
    {
     "name": "stdout",
     "output_type": "stream",
     "text": [
      "[[1. 1.]\n",
      " [1. 1.]\n",
      " [1. 1.]]\n"
     ]
    }
   ],
   "source": [
    "# ones()\n",
    "# 创建shape大小的全1数组.\n",
    "arr = np.ones((3, 2))\n",
    "\n",
    "print(arr)\n"
   ],
   "metadata": {
    "collapsed": false,
    "pycharm": {
     "name": "#%%\n"
    }
   }
  },
  {
   "cell_type": "code",
   "execution_count": 69,
   "outputs": [
    {
     "name": "stdout",
     "output_type": "stream",
     "text": [
      "[[1024]\n",
      " [1024]\n",
      " [1024]\n",
      " [1024]\n",
      " [1024]]\n"
     ]
    }
   ],
   "source": [
    "# full(shape, fill_value, dtype=None, order='C')\n",
    "# 创建指定形状的数组, 用fill_value填充.\n",
    "arr = np.full((5, 1), fill_value=1024)\n",
    "print(arr)"
   ],
   "metadata": {
    "collapsed": false,
    "pycharm": {
     "name": "#%%\n"
    }
   }
  },
  {
   "cell_type": "code",
   "execution_count": 70,
   "outputs": [
    {
     "name": "stdout",
     "output_type": "stream",
     "text": [
      "[[1. 0. 0. 0. 0. 0. 0. 0. 0. 0.]\n",
      " [0. 1. 0. 0. 0. 0. 0. 0. 0. 0.]\n",
      " [0. 0. 1. 0. 0. 0. 0. 0. 0. 0.]\n",
      " [0. 0. 0. 1. 0. 0. 0. 0. 0. 0.]\n",
      " [0. 0. 0. 0. 1. 0. 0. 0. 0. 0.]\n",
      " [0. 0. 0. 0. 0. 1. 0. 0. 0. 0.]\n",
      " [0. 0. 0. 0. 0. 0. 1. 0. 0. 0.]\n",
      " [0. 0. 0. 0. 0. 0. 0. 1. 0. 0.]\n",
      " [0. 0. 0. 0. 0. 0. 0. 0. 1. 0.]\n",
      " [0. 0. 0. 0. 0. 0. 0. 0. 0. 1.]]\n"
     ]
    }
   ],
   "source": [
    "\n",
    "# eye(N, M=None, k=0, dtype=None, order='C')\n",
    "# 对角线为1, 其他为0.\n",
    "# N: 行数\n",
    "# M: 列数, 默认等于行数, 可选.\n",
    "# dtype: 数据类型, 可选.\n",
    "arr = np.eye(10)\n",
    "\n",
    "print(arr)\n"
   ],
   "metadata": {
    "collapsed": false,
    "pycharm": {
     "name": "#%%\n"
    }
   }
  },
  {
   "cell_type": "code",
   "execution_count": 73,
   "outputs": [
    {
     "name": "stdout",
     "output_type": "stream",
     "text": [
      "[ 1  2  3  4  5  6  7  8  9 10]\n"
     ]
    }
   ],
   "source": [
    "# arange(start, stop, step, dtype)\n",
    "# 类似于range. 生成序列 ndarray对象.\n",
    "# start=0.\n",
    "# stop # 不包含\n",
    "# step=1, 步长.\n",
    "\n",
    "arr = np.arange(1, 11, 1)\n",
    "\n",
    "print(arr)\n",
    "# 不包含11.\n",
    "\n"
   ],
   "metadata": {
    "collapsed": false,
    "pycharm": {
     "name": "#%%\n"
    }
   }
  },
  {
   "cell_type": "code",
   "execution_count": 33,
   "outputs": [],
   "source": [
    "# frombuffer(buffer, dtype=float, count=-1, offset=0)\n",
    "# 用于实现动态数组, 接受buffer输入参数, 以流的形式读入转化成ndarray对象.\n",
    "# buffer是字符串类型的时候, python3默认str是unicode类型, 所以要转成bytestring在原str前加上b."
   ],
   "metadata": {
    "collapsed": false,
    "pycharm": {
     "name": "#%%\n"
    }
   }
  },
  {
   "cell_type": "code",
   "execution_count": null,
   "outputs": [],
   "source": [],
   "metadata": {
    "collapsed": false,
    "pycharm": {
     "name": "#%%\n"
    }
   }
  }
 ],
 "metadata": {
  "kernelspec": {
   "display_name": "Python 3",
   "language": "python",
   "name": "python3"
  },
  "language_info": {
   "codemirror_mode": {
    "name": "ipython",
    "version": 2
   },
   "file_extension": ".py",
   "mimetype": "text/x-python",
   "name": "python",
   "nbconvert_exporter": "python",
   "pygments_lexer": "ipython2",
   "version": "2.7.6"
  }
 },
 "nbformat": 4,
 "nbformat_minor": 0
}