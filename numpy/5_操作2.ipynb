{
 "cells": [
  {
   "cell_type": "code",
   "execution_count": null,
   "metadata": {
    "collapsed": true,
    "pycharm": {
     "name": "#%%\n"
    }
   },
   "outputs": [],
   "source": []
  },
  {
   "cell_type": "code",
   "execution_count": null,
   "outputs": [],
   "source": [],
   "metadata": {
    "collapsed": false,
    "pycharm": {
     "name": "#%%\n"
    }
   }
  },
  {
   "cell_type": "code",
   "execution_count": 6,
   "outputs": [
    {
     "name": "stdout",
     "output_type": "stream",
     "text": [
      "[[0 1]\n",
      " [2 3]] \n",
      "\n",
      " [[4 5]\n",
      " [6 7]]\n",
      "[[0 1]\n",
      " [2 3]\n",
      " [4 5]\n",
      " [6 7]]\n"
     ]
    }
   ],
   "source": [
    "# 连接数组. 相关操作 # 四种方式.\n",
    "import numpy as np\n",
    "\n",
    "# np.concatenate([a1, a2, ...], axis)\n",
    "# 相同类型的数组的集合. (注意, array必须是相同形状的)\n",
    "# axis: 沿着它连接数组的轴, 默认0.\n",
    "\n",
    "a = np.arange(4).reshape((2, 2))\n",
    "b = np.arange(4, 8).reshape((2, 2))\n",
    "\n",
    "print(a, \"\\n\\n\", b)\n",
    "\n",
    "print(np.concatenate([a, b], axis=0))\n"
   ],
   "metadata": {
    "collapsed": false,
    "pycharm": {
     "name": "#%%\n"
    }
   }
  },
  {
   "cell_type": "code",
   "execution_count": 8,
   "outputs": [
    {
     "name": "stdout",
     "output_type": "stream",
     "text": [
      "[[0 1 4 5]\n",
      " [2 3 6 7]]\n"
     ]
    }
   ],
   "source": [
    "print(np.concatenate([a, b], axis=1)) # 等同于hstack方法."
   ],
   "metadata": {
    "collapsed": false,
    "pycharm": {
     "name": "#%%\n"
    }
   }
  },
  {
   "cell_type": "code",
   "execution_count": null,
   "outputs": [],
   "source": [
    "# a = n"
   ],
   "metadata": {
    "collapsed": false,
    "pycharm": {
     "name": "#%%\n"
    }
   }
  },
  {
   "cell_type": "code",
   "execution_count": 13,
   "outputs": [
    {
     "name": "stdout",
     "output_type": "stream",
     "text": [
      "[[0 1]\n",
      " [2 3]] \n",
      "\n",
      " [[4 5]\n",
      " [6 7]]\n",
      "\n",
      "\n",
      "(2, 2, 2) 3\n",
      "[[[0 1]\n",
      "  [4 5]]\n",
      "\n",
      " [[2 3]\n",
      "  [6 7]]]\n"
     ]
    }
   ],
   "source": [
    "# stack(arrays, axis)\n",
    "# arrays: 相同形状的数组序列.\n",
    "# axis: 数组中的轴, 输入数组沿着axis进行堆叠.\n",
    "a = np.arange(4).reshape((2, 2))\n",
    "b = np.arange(4, 8).reshape((2, 2))\n",
    "\n",
    "print(a, \"\\n\\n\", b)\n",
    "print(\"\\n\")\n",
    "c = np.stack([a, b], axis=0) # 按照axis=0进行堆叠. 就是相叠起来.\n",
    "print(c.shape, c.ndim) # 变成3维的.\n",
    "\n",
    "d = np.stack([a, b], axis=1)\n",
    "print(d)"
   ],
   "metadata": {
    "collapsed": false,
    "pycharm": {
     "name": "#%%\n"
    }
   }
  },
  {
   "cell_type": "code",
   "execution_count": 15,
   "outputs": [
    {
     "name": "stdout",
     "output_type": "stream",
     "text": [
      "(2, 4) 2\n",
      "[[0 1 4 5]\n",
      " [2 3 6 7]]\n"
     ]
    }
   ],
   "source": [
    "# hstack(arrays) # 是stack函数的变种, 它通过水平堆叠来生成数组.\n",
    "# 维度不增加, 只是在水平方向进行stack堆叠.\n",
    "\n",
    "a = np.arange(4).reshape((2, 2))\n",
    "b = np.arange(4, 8).reshape((2, 2))\n",
    "\n",
    "c = np.hstack([a, b])\n",
    "print(c.shape, c.ndim)\n",
    "print(c) # 就是水平方向进行堆叠, 前提必须是形状相同."
   ],
   "metadata": {
    "collapsed": false,
    "pycharm": {
     "name": "#%%\n"
    }
   }
  },
  {
   "cell_type": "code",
   "execution_count": 17,
   "outputs": [
    {
     "name": "stdout",
     "output_type": "stream",
     "text": [
      "(4, 2) 2\n",
      "[[0 1]\n",
      " [2 3]\n",
      " [4 5]\n",
      " [6 7]]\n"
     ]
    }
   ],
   "source": [
    "# 同理: vstack. # 就是沿着垂直进行堆叠.\n",
    "a = np.arange(4).reshape((2, 2))\n",
    "b = np.arange(4, 8).reshape((2, 2))\n",
    "\n",
    "c = np.vstack([a, b])\n",
    "print(c.shape, c.ndim)\n",
    "print(c)"
   ],
   "metadata": {
    "collapsed": false,
    "pycharm": {
     "name": "#%%\n"
    }
   }
  },
  {
   "cell_type": "code",
   "execution_count": 2,
   "outputs": [
    {
     "name": "stdout",
     "output_type": "stream",
     "text": [
      "[array([0, 1, 2, 3]), array([4, 5, 6, 7]), array([ 8,  9, 10, 11])]\n",
      "[array([0, 1]), array([2, 3, 4]), array([ 5,  6,  7,  8,  9, 10, 11])]\n"
     ]
    }
   ],
   "source": [
    "# 分割数组：\n",
    "# np.split(ary, indices_or_sections, axis=0)\n",
    "# 作用, 函数沿特定的轴将数组切分为子数组.\n",
    "# ary: 被分割的数组\n",
    "# indices_or_sections: 是一个整数, 就用该数平均切分, 如果是一个数组, 为沿轴切分的位置. 分成几份, 以及索引分\n",
    "# axis: 沿着哪个维度进行切分, 默认为0, 横向切分. 为1, 纵向切分.\n",
    "\n",
    "\n",
    "import numpy as np\n",
    "\n",
    "x = np.arange(12)\n",
    "\n",
    "a = np.split(x, 3)\n",
    "print(a)\n",
    "\n",
    "\n",
    "a = np.split(x, [2, 5]) # 就是从索引为2, 5进行分割\n",
    "print(a)"
   ],
   "metadata": {
    "collapsed": false,
    "pycharm": {
     "name": "#%%\n"
    }
   }
  },
  {
   "cell_type": "code",
   "execution_count": 5,
   "outputs": [
    {
     "name": "stdout",
     "output_type": "stream",
     "text": [
      "[[ 0  1  2  3]\n",
      " [ 4  5  6  7]\n",
      " [ 8  9 10 11]]\n",
      "\n",
      "\n",
      "[array([[0, 1, 2, 3]]), array([[4, 5, 6, 7]]), array([[ 8,  9, 10, 11]])]\n",
      "[array([[0, 1],\n",
      "       [4, 5],\n",
      "       [8, 9]]), array([[ 2,  3],\n",
      "       [ 6,  7],\n",
      "       [10, 11]])]\n"
     ]
    }
   ],
   "source": [
    "x = np.arange(12).reshape((3, 4))\n",
    "\n",
    "print(x)\n",
    "print(\"\\n\")\n",
    "\n",
    "\n",
    "\n",
    "a = np.split(x, 3)\n",
    "# 以一行为一个元素, 因为axis=0..\n",
    "print(a)\n",
    "\n",
    "\n",
    "a = np.split(x, 2, 1) # 按照列来切.\n",
    "print(a)"
   ],
   "metadata": {
    "collapsed": false,
    "pycharm": {
     "name": "#%%\n"
    }
   }
  },
  {
   "cell_type": "code",
   "execution_count": 7,
   "outputs": [
    {
     "name": "stdout",
     "output_type": "stream",
     "text": [
      "[[ 0  1  2  3  4  5]\n",
      " [ 6  7  8  9 10 11]]\n",
      "[array([[0, 1],\n",
      "       [6, 7]]), array([[2, 3],\n",
      "       [8, 9]]), array([[ 4,  5],\n",
      "       [10, 11]])]\n"
     ]
    }
   ],
   "source": [
    "# hsplit()\n",
    "# 用于水平分割数组, 通过指定要返回的相同形状的数组来拆分原数组.\n",
    "# 相当于split axis=1的情况, 将列进行切割.\n",
    "x = np.arange(12).reshape((2, 6))\n",
    "print(x)\n",
    "a = np.hsplit(x, 3)\n",
    "print(a)\n"
   ],
   "metadata": {
    "collapsed": false,
    "pycharm": {
     "name": "#%%\n"
    }
   }
  },
  {
   "cell_type": "code",
   "execution_count": 10,
   "outputs": [
    {
     "name": "stdout",
     "output_type": "stream",
     "text": [
      "[array([[0, 1, 2, 3, 4, 5]]), array([[ 6,  7,  8,  9, 10, 11]])]\n"
     ]
    }
   ],
   "source": [
    "a = np.vsplit(x, 2)\n",
    "print(a)"
   ],
   "metadata": {
    "collapsed": false,
    "pycharm": {
     "name": "#%%\n"
    }
   }
  },
  {
   "cell_type": "code",
   "execution_count": 12,
   "outputs": [
    {
     "name": "stdout",
     "output_type": "stream",
     "text": [
      "[[0 1 2]\n",
      " [3 4 5]]\n",
      "\n",
      "\n",
      "[[0 1]\n",
      " [2 3]\n",
      " [4 5]]\n",
      "[[0 1 2]\n",
      " [3 4 5]\n",
      " [0 1 2]]\n"
     ]
    }
   ],
   "source": [
    "# 数组元素的添加与删除:\n",
    "\n",
    "# resize(arr, shape)\n",
    "# arr: 数组\n",
    "# shape: 返回数组新的形状.\n",
    "\n",
    "import numpy as np\n",
    "\n",
    "x = np.arange(6).reshape(2, 3)\n",
    "print(x)\n",
    "print(\"\\n\")\n",
    "\n",
    "\n",
    "y = np.resize(x, (3, 2))\n",
    "print(y) # 按照内存中的存放来看待.\n",
    "\n",
    "\n",
    "\n",
    "z = np.resize(x, (3, 3))\n",
    "print(z) # 他会将x中的元素进行重复.\n",
    "\n",
    "\n",
    "\n",
    "\n",
    "\n"
   ],
   "metadata": {
    "collapsed": false,
    "pycharm": {
     "name": "#%%\n"
    }
   }
  },
  {
   "cell_type": "code",
   "execution_count": null,
   "outputs": [],
   "source": [],
   "metadata": {
    "collapsed": false,
    "pycharm": {
     "name": "#%%\n"
    }
   }
  }
 ],
 "metadata": {
  "kernelspec": {
   "display_name": "Python 3",
   "language": "python",
   "name": "python3"
  },
  "language_info": {
   "codemirror_mode": {
    "name": "ipython",
    "version": 2
   },
   "file_extension": ".py",
   "mimetype": "text/x-python",
   "name": "python",
   "nbconvert_exporter": "python",
   "pygments_lexer": "ipython2",
   "version": "2.7.6"
  }
 },
 "nbformat": 4,
 "nbformat_minor": 0
}