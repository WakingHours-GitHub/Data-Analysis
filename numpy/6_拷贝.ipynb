{
 "cells": [
  {
   "cell_type": "code",
   "execution_count": 6,
   "outputs": [
    {
     "name": "stdout",
     "output_type": "stream",
     "text": [
      "[[0 1 2]\n",
      " [3 4 5]]\n",
      "2944735801136\n",
      "==============================\n",
      "[[0 1 2]\n",
      " [3 4 5]]\n",
      "2944735801136\n"
     ]
    },
    {
     "data": {
      "text/plain": "(3, 2)"
     },
     "execution_count": 6,
     "metadata": {},
     "output_type": "execute_result"
    }
   ],
   "source": [
    "import numpy as np\n",
    "\n",
    "\n",
    "# 拷贝: 三种拷贝:\n",
    "# 赋值, 视图, 副本.\n",
    "# 简单的赋值不会创建数组对象的副本(不会深拷贝, 只是引用, 指向). 相反, 它使用原数组的相同id()来访问它.id()返回Python对象通用的标识符, 类似于C中的指针.\n",
    "\n",
    "x = np.arange(6).reshape(2, 3)\n",
    "print(x)\n",
    "print(id(x))\n",
    "\n",
    "print(\"===\" * 10)\n",
    "y = x\n",
    "print(y)\n",
    "print(id(y))\n",
    "\n",
    "# 可见, 内容, 地址都是一样的. 说明.x和y都指向堆区的那个数组.\n",
    "\n",
    "y.shape=(3,2)\n",
    "x.shape # 也变化了."
   ],
   "metadata": {
    "collapsed": false,
    "pycharm": {
     "name": "#%%\n"
    }
   }
  },
  {
   "cell_type": "code",
   "execution_count": 12,
   "outputs": [
    {
     "name": "stdout",
     "output_type": "stream",
     "text": [
      "[ 0  1  2  3  4  5  6  7  8  9 10 11]\n",
      "[ 3  4  5  6  7  8  9 10 11]\n",
      "[  3 400   5   6   7   8   9  10  11]\n",
      "[  0   1   2   3 400   5   6   7   8   9  10  11]\n",
      "2944720556560\n",
      "2944753077200\n",
      "2944739440272\n"
     ]
    }
   ],
   "source": [
    "# 视图: 又可成为浅拷贝, 是数据的一个别称或者引用, 通过该名称或者引用, 即可以访问, 操作原有数据, 但原有数据不会产生拷贝(不是深拷贝, 还是浅拷贝). 对视图进行修改, 他会影响原始数据, 因为是同一个物理内存.\n",
    "# 这有点类似于子集的概念.\n",
    "\n",
    "\n",
    "# 发生情况: numpy的切片操作会返回元数据的视图, 修改数据则会影响到原始数组.\n",
    "x = np.arange(12)\n",
    "print(x)\n",
    "\n",
    "# 切片数组:\n",
    "y = x[3:]\n",
    "print(y) # 这就是x的一个视图. 有点类似于子集的概念.\n",
    "\n",
    "y[1] = 400\n",
    "print(y)\n",
    "print(x)\n",
    "\n",
    "print(id(x))\n",
    "print(id(y)) # 这是一个视图\n",
    "print(id(x[3:])) # 产生一个另一个视图, 视图和前面的视图地址不一样.\n",
    "# 地址是不一样的\n"
   ],
   "metadata": {
    "collapsed": false,
    "pycharm": {
     "name": "#%%\n"
    }
   }
  },
  {
   "cell_type": "code",
   "execution_count": 25,
   "outputs": [
    {
     "name": "stdout",
     "output_type": "stream",
     "text": [
      "[[0 1 2]\n",
      " [3 4 5]]\n",
      "[[0 1 2]\n",
      " [3 4 5]]\n",
      "[[  0   1   2]\n",
      " [200   4   5]]\n",
      "[[  0   1   2]\n",
      " [200   4   5]]\n",
      "(3, 2)\n",
      "(2, 3)\n"
     ]
    }
   ],
   "source": [
    "# ndarray.view()函数产生一个视图.\n",
    "# 创建一个新的数组对象, 该方法创建的新数组的维数更改不会更改原始数据的维数.\n",
    "# print(x.reshape(3, 4))\n",
    "x = np.arange(6).reshape(2,3)\n",
    "print(x)\n",
    "\n",
    "\n",
    "y = x.view()\n",
    "print(y)\n",
    "\n",
    "y[1][0] = 200\n",
    "\n",
    "print(y)\n",
    "print(x)\n",
    "# 都变了\n",
    "y.shape = (3, 2)\n",
    "print(y.shape)\n",
    "print(x.shape) # 但是形状没有改的.\n"
   ],
   "metadata": {
    "collapsed": false,
    "pycharm": {
     "name": "#%%\n"
    }
   }
  },
  {
   "cell_type": "code",
   "execution_count": 30,
   "outputs": [
    {
     "name": "stdout",
     "output_type": "stream",
     "text": [
      "[[  0   1   2]\n",
      " [200   4   5]]\n",
      "[[100   1   2]\n",
      " [200   4   5]]\n",
      "[[  0   1   2]\n",
      " [200   4   5]]\n"
     ]
    }
   ],
   "source": [
    "# 副本: 又可以称为深拷贝, 是一个数据的完整的拷贝, 如果我们对副本进行修改, 它不会影响到原始数据, 不是同一个物理内存.\n",
    "\n",
    "# 发生情况:\n",
    "# 调用ndarray的copy()函数会产生一个副本.\n",
    "# 创建一个副本. 是重新copy一份.\n",
    "\n",
    "y = x.copy()\n",
    "print(y)\n",
    "\n",
    "y[0][0] = 100\n",
    "print(y)\n",
    "print(x)\n",
    "# x没有变化\n",
    "\n",
    "\n",
    "\n",
    "import copy\n",
    "\n",
    "copy.deepcopy() # 这个函数也同样是可以达到深拷贝的效果.\n"
   ],
   "metadata": {
    "collapsed": false,
    "pycharm": {
     "name": "#%%\n"
    }
   }
  },
  {
   "cell_type": "code",
   "execution_count": null,
   "outputs": [],
   "source": [],
   "metadata": {
    "collapsed": false,
    "pycharm": {
     "name": "#%%\n"
    }
   }
  }
 ],
 "metadata": {
  "kernelspec": {
   "display_name": "Python 3",
   "language": "python",
   "name": "python3"
  },
  "language_info": {
   "codemirror_mode": {
    "name": "ipython",
    "version": 2
   },
   "file_extension": ".py",
   "mimetype": "text/x-python",
   "name": "python",
   "nbconvert_exporter": "python",
   "pygments_lexer": "ipython2",
   "version": "2.7.6"
  }
 },
 "nbformat": 4,
 "nbformat_minor": 0
}