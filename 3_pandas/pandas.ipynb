{
 "cells": [
  {
   "cell_type": "code",
   "execution_count": 1,
   "id": "2319e611",
   "metadata": {},
   "outputs": [],
   "source": [
    "import numpy as np\n",
    "import pandas as pd"
   ]
  },
  {
   "cell_type": "code",
   "execution_count": 2,
   "id": "e687e4e5",
   "metadata": {},
   "outputs": [],
   "source": [
    "# 创建一个符合正态分布的10个股票5天的涨跌幅数据:\n",
    "stock_change = np.random.normal(loc=0, scale=1.0, size=[10, 5])"
   ]
  },
  {
   "cell_type": "code",
   "execution_count": 3,
   "id": "0d14dc7c",
   "metadata": {},
   "outputs": [
    {
     "data": {
      "text/plain": [
       "array([[-5.10086244e-01, -1.30445276e+00,  7.31938251e-01,\n",
       "         1.27815756e+00,  5.76020745e-01],\n",
       "       [-5.97502069e-01, -7.02154194e-01,  1.42922305e+00,\n",
       "         1.64269977e-01,  4.02010906e-01],\n",
       "       [-2.15858650e+00, -1.38129157e+00,  4.23083133e-01,\n",
       "         4.69593404e-01,  7.98054625e-01],\n",
       "       [ 4.65521203e-01,  1.37723882e+00,  4.60134860e-02,\n",
       "         1.49147284e+00, -5.50973099e-01],\n",
       "       [-6.48582905e-01, -1.11061535e+00,  8.75127630e-02,\n",
       "        -1.18758800e+00, -1.21861456e+00],\n",
       "       [-1.37291736e-01,  3.79712782e-01,  5.23579996e-03,\n",
       "         1.36294265e+00, -3.51084399e-01],\n",
       "       [-7.62029524e-01, -1.53686193e-02,  3.89791103e-01,\n",
       "        -4.80809059e-01, -1.34350574e+00],\n",
       "       [-1.05573136e-01, -1.16584547e+00,  7.89067146e-01,\n",
       "         1.64566000e+00,  4.75926746e-01],\n",
       "       [ 1.68850850e-01, -1.69036481e+00, -5.47058006e-01,\n",
       "         2.54388313e-01, -6.28376997e-01],\n",
       "       [-5.19738980e-01, -4.89809878e-01, -2.67100827e-02,\n",
       "         3.47952806e-04, -8.10358700e-01]])"
      ]
     },
     "execution_count": 3,
     "metadata": {},
     "output_type": "execute_result"
    }
   ],
   "source": [
    "stock_change"
   ]
  },
  {
   "cell_type": "markdown",
   "id": "f615f06c",
   "metadata": {},
   "source": [
    "### DataFrame\n",
    "        结构：既有行索引，又有列索引的二维数组 -> 类似二维表\n",
    "        DataFrame对象既有行索引, 又有列索引\n",
    "            - 行索引, 表明不同行, 横向索引, 叫index\n",
    "            - 列索引, 表明不同列, 纵向索引, 叫columms"
   ]
  },
  {
   "cell_type": "code",
   "execution_count": 4,
   "id": "a17c850d",
   "metadata": {},
   "outputs": [
    {
     "data": {
      "text/html": [
       "<div>\n",
       "<style scoped>\n",
       "    .dataframe tbody tr th:only-of-type {\n",
       "        vertical-align: middle;\n",
       "    }\n",
       "\n",
       "    .dataframe tbody tr th {\n",
       "        vertical-align: top;\n",
       "    }\n",
       "\n",
       "    .dataframe thead th {\n",
       "        text-align: right;\n",
       "    }\n",
       "</style>\n",
       "<table border=\"1\" class=\"dataframe\">\n",
       "  <thead>\n",
       "    <tr style=\"text-align: right;\">\n",
       "      <th></th>\n",
       "      <th>0</th>\n",
       "      <th>1</th>\n",
       "      <th>2</th>\n",
       "      <th>3</th>\n",
       "      <th>4</th>\n",
       "    </tr>\n",
       "  </thead>\n",
       "  <tbody>\n",
       "    <tr>\n",
       "      <th>0</th>\n",
       "      <td>-0.510086</td>\n",
       "      <td>-1.304453</td>\n",
       "      <td>0.731938</td>\n",
       "      <td>1.278158</td>\n",
       "      <td>0.576021</td>\n",
       "    </tr>\n",
       "    <tr>\n",
       "      <th>1</th>\n",
       "      <td>-0.597502</td>\n",
       "      <td>-0.702154</td>\n",
       "      <td>1.429223</td>\n",
       "      <td>0.164270</td>\n",
       "      <td>0.402011</td>\n",
       "    </tr>\n",
       "    <tr>\n",
       "      <th>2</th>\n",
       "      <td>-2.158586</td>\n",
       "      <td>-1.381292</td>\n",
       "      <td>0.423083</td>\n",
       "      <td>0.469593</td>\n",
       "      <td>0.798055</td>\n",
       "    </tr>\n",
       "    <tr>\n",
       "      <th>3</th>\n",
       "      <td>0.465521</td>\n",
       "      <td>1.377239</td>\n",
       "      <td>0.046013</td>\n",
       "      <td>1.491473</td>\n",
       "      <td>-0.550973</td>\n",
       "    </tr>\n",
       "    <tr>\n",
       "      <th>4</th>\n",
       "      <td>-0.648583</td>\n",
       "      <td>-1.110615</td>\n",
       "      <td>0.087513</td>\n",
       "      <td>-1.187588</td>\n",
       "      <td>-1.218615</td>\n",
       "    </tr>\n",
       "    <tr>\n",
       "      <th>5</th>\n",
       "      <td>-0.137292</td>\n",
       "      <td>0.379713</td>\n",
       "      <td>0.005236</td>\n",
       "      <td>1.362943</td>\n",
       "      <td>-0.351084</td>\n",
       "    </tr>\n",
       "    <tr>\n",
       "      <th>6</th>\n",
       "      <td>-0.762030</td>\n",
       "      <td>-0.015369</td>\n",
       "      <td>0.389791</td>\n",
       "      <td>-0.480809</td>\n",
       "      <td>-1.343506</td>\n",
       "    </tr>\n",
       "    <tr>\n",
       "      <th>7</th>\n",
       "      <td>-0.105573</td>\n",
       "      <td>-1.165845</td>\n",
       "      <td>0.789067</td>\n",
       "      <td>1.645660</td>\n",
       "      <td>0.475927</td>\n",
       "    </tr>\n",
       "    <tr>\n",
       "      <th>8</th>\n",
       "      <td>0.168851</td>\n",
       "      <td>-1.690365</td>\n",
       "      <td>-0.547058</td>\n",
       "      <td>0.254388</td>\n",
       "      <td>-0.628377</td>\n",
       "    </tr>\n",
       "    <tr>\n",
       "      <th>9</th>\n",
       "      <td>-0.519739</td>\n",
       "      <td>-0.489810</td>\n",
       "      <td>-0.026710</td>\n",
       "      <td>0.000348</td>\n",
       "      <td>-0.810359</td>\n",
       "    </tr>\n",
       "  </tbody>\n",
       "</table>\n",
       "</div>"
      ],
      "text/plain": [
       "          0         1         2         3         4\n",
       "0 -0.510086 -1.304453  0.731938  1.278158  0.576021\n",
       "1 -0.597502 -0.702154  1.429223  0.164270  0.402011\n",
       "2 -2.158586 -1.381292  0.423083  0.469593  0.798055\n",
       "3  0.465521  1.377239  0.046013  1.491473 -0.550973\n",
       "4 -0.648583 -1.110615  0.087513 -1.187588 -1.218615\n",
       "5 -0.137292  0.379713  0.005236  1.362943 -0.351084\n",
       "6 -0.762030 -0.015369  0.389791 -0.480809 -1.343506\n",
       "7 -0.105573 -1.165845  0.789067  1.645660  0.475927\n",
       "8  0.168851 -1.690365 -0.547058  0.254388 -0.628377\n",
       "9 -0.519739 -0.489810 -0.026710  0.000348 -0.810359"
      ]
     },
     "execution_count": 4,
     "metadata": {},
     "output_type": "execute_result"
    }
   ],
   "source": [
    "# 转换成DataFrame数据类型的数据：\n",
    "pd.DataFrame(stock_change)\n",
    "# 我们没有指定索引, 所以它默认就是0~..."
   ]
  },
  {
   "cell_type": "code",
   "execution_count": 5,
   "id": "6c3cc286",
   "metadata": {},
   "outputs": [
    {
     "data": {
      "text/html": [
       "<div>\n",
       "<style scoped>\n",
       "    .dataframe tbody tr th:only-of-type {\n",
       "        vertical-align: middle;\n",
       "    }\n",
       "\n",
       "    .dataframe tbody tr th {\n",
       "        vertical-align: top;\n",
       "    }\n",
       "\n",
       "    .dataframe thead th {\n",
       "        text-align: right;\n",
       "    }\n",
       "</style>\n",
       "<table border=\"1\" class=\"dataframe\">\n",
       "  <thead>\n",
       "    <tr style=\"text-align: right;\">\n",
       "      <th></th>\n",
       "      <th>0</th>\n",
       "      <th>1</th>\n",
       "      <th>2</th>\n",
       "      <th>3</th>\n",
       "      <th>4</th>\n",
       "    </tr>\n",
       "  </thead>\n",
       "  <tbody>\n",
       "    <tr>\n",
       "      <th>股票0</th>\n",
       "      <td>-0.510086</td>\n",
       "      <td>-1.304453</td>\n",
       "      <td>0.731938</td>\n",
       "      <td>1.278158</td>\n",
       "      <td>0.576021</td>\n",
       "    </tr>\n",
       "    <tr>\n",
       "      <th>股票1</th>\n",
       "      <td>-0.597502</td>\n",
       "      <td>-0.702154</td>\n",
       "      <td>1.429223</td>\n",
       "      <td>0.164270</td>\n",
       "      <td>0.402011</td>\n",
       "    </tr>\n",
       "    <tr>\n",
       "      <th>股票2</th>\n",
       "      <td>-2.158586</td>\n",
       "      <td>-1.381292</td>\n",
       "      <td>0.423083</td>\n",
       "      <td>0.469593</td>\n",
       "      <td>0.798055</td>\n",
       "    </tr>\n",
       "    <tr>\n",
       "      <th>股票3</th>\n",
       "      <td>0.465521</td>\n",
       "      <td>1.377239</td>\n",
       "      <td>0.046013</td>\n",
       "      <td>1.491473</td>\n",
       "      <td>-0.550973</td>\n",
       "    </tr>\n",
       "    <tr>\n",
       "      <th>股票4</th>\n",
       "      <td>-0.648583</td>\n",
       "      <td>-1.110615</td>\n",
       "      <td>0.087513</td>\n",
       "      <td>-1.187588</td>\n",
       "      <td>-1.218615</td>\n",
       "    </tr>\n",
       "    <tr>\n",
       "      <th>股票5</th>\n",
       "      <td>-0.137292</td>\n",
       "      <td>0.379713</td>\n",
       "      <td>0.005236</td>\n",
       "      <td>1.362943</td>\n",
       "      <td>-0.351084</td>\n",
       "    </tr>\n",
       "    <tr>\n",
       "      <th>股票6</th>\n",
       "      <td>-0.762030</td>\n",
       "      <td>-0.015369</td>\n",
       "      <td>0.389791</td>\n",
       "      <td>-0.480809</td>\n",
       "      <td>-1.343506</td>\n",
       "    </tr>\n",
       "    <tr>\n",
       "      <th>股票7</th>\n",
       "      <td>-0.105573</td>\n",
       "      <td>-1.165845</td>\n",
       "      <td>0.789067</td>\n",
       "      <td>1.645660</td>\n",
       "      <td>0.475927</td>\n",
       "    </tr>\n",
       "    <tr>\n",
       "      <th>股票8</th>\n",
       "      <td>0.168851</td>\n",
       "      <td>-1.690365</td>\n",
       "      <td>-0.547058</td>\n",
       "      <td>0.254388</td>\n",
       "      <td>-0.628377</td>\n",
       "    </tr>\n",
       "    <tr>\n",
       "      <th>股票9</th>\n",
       "      <td>-0.519739</td>\n",
       "      <td>-0.489810</td>\n",
       "      <td>-0.026710</td>\n",
       "      <td>0.000348</td>\n",
       "      <td>-0.810359</td>\n",
       "    </tr>\n",
       "  </tbody>\n",
       "</table>\n",
       "</div>"
      ],
      "text/plain": [
       "            0         1         2         3         4\n",
       "股票0 -0.510086 -1.304453  0.731938  1.278158  0.576021\n",
       "股票1 -0.597502 -0.702154  1.429223  0.164270  0.402011\n",
       "股票2 -2.158586 -1.381292  0.423083  0.469593  0.798055\n",
       "股票3  0.465521  1.377239  0.046013  1.491473 -0.550973\n",
       "股票4 -0.648583 -1.110615  0.087513 -1.187588 -1.218615\n",
       "股票5 -0.137292  0.379713  0.005236  1.362943 -0.351084\n",
       "股票6 -0.762030 -0.015369  0.389791 -0.480809 -1.343506\n",
       "股票7 -0.105573 -1.165845  0.789067  1.645660  0.475927\n",
       "股票8  0.168851 -1.690365 -0.547058  0.254388 -0.628377\n",
       "股票9 -0.519739 -0.489810 -0.026710  0.000348 -0.810359"
      ]
     },
     "execution_count": 5,
     "metadata": {},
     "output_type": "execute_result"
    }
   ],
   "source": [
    "# 添加行索引：\n",
    "stock_change_index = [f\"股票{i}\" for i in range(10)]\n",
    "pd.DataFrame(stock_change, index=stock_change_index)"
   ]
  },
  {
   "cell_type": "code",
   "execution_count": 6,
   "id": "4f73a490",
   "metadata": {},
   "outputs": [
    {
     "data": {
      "text/plain": [
       "DatetimeIndex(['2018-01-01', '2018-01-02', '2018-01-03', '2018-01-04',\n",
       "               '2018-01-05'],\n",
       "              dtype='datetime64[ns]', freq='B')"
      ]
     },
     "execution_count": 6,
     "metadata": {},
     "output_type": "execute_result"
    }
   ],
   "source": [
    "# 添加列索引\n",
    "# date_range是专门处理日期的函数\n",
    "date = pd.date_range(start=\"20180101\", periods=5, freq=\"B\")\n",
    "date"
   ]
  },
  {
   "cell_type": "code",
   "execution_count": 7,
   "id": "1ed7496e",
   "metadata": {},
   "outputs": [],
   "source": [
    "data = pd.DataFrame(stock_change, index=stock_change_index, columns=date)\n",
    "# 成功将列索引添加上去"
   ]
  },
  {
   "cell_type": "code",
   "execution_count": 8,
   "id": "0fecf0e6",
   "metadata": {},
   "outputs": [
    {
     "data": {
      "text/html": [
       "<div>\n",
       "<style scoped>\n",
       "    .dataframe tbody tr th:only-of-type {\n",
       "        vertical-align: middle;\n",
       "    }\n",
       "\n",
       "    .dataframe tbody tr th {\n",
       "        vertical-align: top;\n",
       "    }\n",
       "\n",
       "    .dataframe thead th {\n",
       "        text-align: right;\n",
       "    }\n",
       "</style>\n",
       "<table border=\"1\" class=\"dataframe\">\n",
       "  <thead>\n",
       "    <tr style=\"text-align: right;\">\n",
       "      <th></th>\n",
       "      <th>2018-01-01</th>\n",
       "      <th>2018-01-02</th>\n",
       "      <th>2018-01-03</th>\n",
       "      <th>2018-01-04</th>\n",
       "      <th>2018-01-05</th>\n",
       "    </tr>\n",
       "  </thead>\n",
       "  <tbody>\n",
       "    <tr>\n",
       "      <th>股票0</th>\n",
       "      <td>-0.510086</td>\n",
       "      <td>-1.304453</td>\n",
       "      <td>0.731938</td>\n",
       "      <td>1.278158</td>\n",
       "      <td>0.576021</td>\n",
       "    </tr>\n",
       "    <tr>\n",
       "      <th>股票1</th>\n",
       "      <td>-0.597502</td>\n",
       "      <td>-0.702154</td>\n",
       "      <td>1.429223</td>\n",
       "      <td>0.164270</td>\n",
       "      <td>0.402011</td>\n",
       "    </tr>\n",
       "    <tr>\n",
       "      <th>股票2</th>\n",
       "      <td>-2.158586</td>\n",
       "      <td>-1.381292</td>\n",
       "      <td>0.423083</td>\n",
       "      <td>0.469593</td>\n",
       "      <td>0.798055</td>\n",
       "    </tr>\n",
       "    <tr>\n",
       "      <th>股票3</th>\n",
       "      <td>0.465521</td>\n",
       "      <td>1.377239</td>\n",
       "      <td>0.046013</td>\n",
       "      <td>1.491473</td>\n",
       "      <td>-0.550973</td>\n",
       "    </tr>\n",
       "    <tr>\n",
       "      <th>股票4</th>\n",
       "      <td>-0.648583</td>\n",
       "      <td>-1.110615</td>\n",
       "      <td>0.087513</td>\n",
       "      <td>-1.187588</td>\n",
       "      <td>-1.218615</td>\n",
       "    </tr>\n",
       "  </tbody>\n",
       "</table>\n",
       "</div>"
      ],
      "text/plain": [
       "     2018-01-01  2018-01-02  2018-01-03  2018-01-04  2018-01-05\n",
       "股票0   -0.510086   -1.304453    0.731938    1.278158    0.576021\n",
       "股票1   -0.597502   -0.702154    1.429223    0.164270    0.402011\n",
       "股票2   -2.158586   -1.381292    0.423083    0.469593    0.798055\n",
       "股票3    0.465521    1.377239    0.046013    1.491473   -0.550973\n",
       "股票4   -0.648583   -1.110615    0.087513   -1.187588   -1.218615"
      ]
     },
     "execution_count": 8,
     "metadata": {},
     "output_type": "execute_result"
    }
   ],
   "source": [
    "data.head()"
   ]
  },
  {
   "cell_type": "markdown",
   "id": "b257b3b0",
   "metadata": {},
   "source": [
    "### DataFrame的属性:\n",
    "        shape -> 形状\n",
    "        index -> 行索引列表\n",
    "        columns -> 列索引列表\n",
    "        values -> 直接获取其中array的值 (刨除行索引和列索引的值)\n",
    "        T -> 转置\n",
    "### 方法:\n",
    "        head() 返回前几行, 默认是前五行\n",
    "        tail() 返回后几行, 默认是后五行"
   ]
  },
  {
   "cell_type": "code",
   "execution_count": 9,
   "id": "7763bf53",
   "metadata": {},
   "outputs": [
    {
     "data": {
      "text/html": [
       "<div>\n",
       "<style scoped>\n",
       "    .dataframe tbody tr th:only-of-type {\n",
       "        vertical-align: middle;\n",
       "    }\n",
       "\n",
       "    .dataframe tbody tr th {\n",
       "        vertical-align: top;\n",
       "    }\n",
       "\n",
       "    .dataframe thead th {\n",
       "        text-align: right;\n",
       "    }\n",
       "</style>\n",
       "<table border=\"1\" class=\"dataframe\">\n",
       "  <thead>\n",
       "    <tr style=\"text-align: right;\">\n",
       "      <th></th>\n",
       "      <th>2018-01-01</th>\n",
       "      <th>2018-01-02</th>\n",
       "      <th>2018-01-03</th>\n",
       "      <th>2018-01-04</th>\n",
       "      <th>2018-01-05</th>\n",
       "    </tr>\n",
       "  </thead>\n",
       "  <tbody>\n",
       "    <tr>\n",
       "      <th>股票0</th>\n",
       "      <td>-0.510086</td>\n",
       "      <td>-1.304453</td>\n",
       "      <td>0.731938</td>\n",
       "      <td>1.278158</td>\n",
       "      <td>0.576021</td>\n",
       "    </tr>\n",
       "    <tr>\n",
       "      <th>股票1</th>\n",
       "      <td>-0.597502</td>\n",
       "      <td>-0.702154</td>\n",
       "      <td>1.429223</td>\n",
       "      <td>0.164270</td>\n",
       "      <td>0.402011</td>\n",
       "    </tr>\n",
       "    <tr>\n",
       "      <th>股票2</th>\n",
       "      <td>-2.158586</td>\n",
       "      <td>-1.381292</td>\n",
       "      <td>0.423083</td>\n",
       "      <td>0.469593</td>\n",
       "      <td>0.798055</td>\n",
       "    </tr>\n",
       "    <tr>\n",
       "      <th>股票3</th>\n",
       "      <td>0.465521</td>\n",
       "      <td>1.377239</td>\n",
       "      <td>0.046013</td>\n",
       "      <td>1.491473</td>\n",
       "      <td>-0.550973</td>\n",
       "    </tr>\n",
       "    <tr>\n",
       "      <th>股票4</th>\n",
       "      <td>-0.648583</td>\n",
       "      <td>-1.110615</td>\n",
       "      <td>0.087513</td>\n",
       "      <td>-1.187588</td>\n",
       "      <td>-1.218615</td>\n",
       "    </tr>\n",
       "    <tr>\n",
       "      <th>股票5</th>\n",
       "      <td>-0.137292</td>\n",
       "      <td>0.379713</td>\n",
       "      <td>0.005236</td>\n",
       "      <td>1.362943</td>\n",
       "      <td>-0.351084</td>\n",
       "    </tr>\n",
       "    <tr>\n",
       "      <th>股票6</th>\n",
       "      <td>-0.762030</td>\n",
       "      <td>-0.015369</td>\n",
       "      <td>0.389791</td>\n",
       "      <td>-0.480809</td>\n",
       "      <td>-1.343506</td>\n",
       "    </tr>\n",
       "    <tr>\n",
       "      <th>股票7</th>\n",
       "      <td>-0.105573</td>\n",
       "      <td>-1.165845</td>\n",
       "      <td>0.789067</td>\n",
       "      <td>1.645660</td>\n",
       "      <td>0.475927</td>\n",
       "    </tr>\n",
       "    <tr>\n",
       "      <th>股票8</th>\n",
       "      <td>0.168851</td>\n",
       "      <td>-1.690365</td>\n",
       "      <td>-0.547058</td>\n",
       "      <td>0.254388</td>\n",
       "      <td>-0.628377</td>\n",
       "    </tr>\n",
       "    <tr>\n",
       "      <th>股票9</th>\n",
       "      <td>-0.519739</td>\n",
       "      <td>-0.489810</td>\n",
       "      <td>-0.026710</td>\n",
       "      <td>0.000348</td>\n",
       "      <td>-0.810359</td>\n",
       "    </tr>\n",
       "  </tbody>\n",
       "</table>\n",
       "</div>"
      ],
      "text/plain": [
       "     2018-01-01  2018-01-02  2018-01-03  2018-01-04  2018-01-05\n",
       "股票0   -0.510086   -1.304453    0.731938    1.278158    0.576021\n",
       "股票1   -0.597502   -0.702154    1.429223    0.164270    0.402011\n",
       "股票2   -2.158586   -1.381292    0.423083    0.469593    0.798055\n",
       "股票3    0.465521    1.377239    0.046013    1.491473   -0.550973\n",
       "股票4   -0.648583   -1.110615    0.087513   -1.187588   -1.218615\n",
       "股票5   -0.137292    0.379713    0.005236    1.362943   -0.351084\n",
       "股票6   -0.762030   -0.015369    0.389791   -0.480809   -1.343506\n",
       "股票7   -0.105573   -1.165845    0.789067    1.645660    0.475927\n",
       "股票8    0.168851   -1.690365   -0.547058    0.254388   -0.628377\n",
       "股票9   -0.519739   -0.489810   -0.026710    0.000348   -0.810359"
      ]
     },
     "execution_count": 9,
     "metadata": {},
     "output_type": "execute_result"
    }
   ],
   "source": [
    "data"
   ]
  },
  {
   "cell_type": "code",
   "execution_count": 10,
   "id": "a6ef0598",
   "metadata": {},
   "outputs": [
    {
     "data": {
      "text/plain": [
       "(10, 5)"
      ]
     },
     "execution_count": 10,
     "metadata": {},
     "output_type": "execute_result"
    }
   ],
   "source": [
    "data.shape # data的形状"
   ]
  },
  {
   "cell_type": "code",
   "execution_count": 11,
   "id": "6cbdbbea",
   "metadata": {},
   "outputs": [
    {
     "data": {
      "text/plain": [
       "Index(['股票0', '股票1', '股票2', '股票3', '股票4', '股票5', '股票6', '股票7', '股票8', '股票9'], dtype='object')"
      ]
     },
     "execution_count": 11,
     "metadata": {},
     "output_type": "execute_result"
    }
   ],
   "source": [
    "data.index # 行索引, 代表一行"
   ]
  },
  {
   "cell_type": "code",
   "execution_count": 12,
   "id": "7e8353f9",
   "metadata": {},
   "outputs": [
    {
     "data": {
      "text/plain": [
       "DatetimeIndex(['2018-01-01', '2018-01-02', '2018-01-03', '2018-01-04',\n",
       "               '2018-01-05'],\n",
       "              dtype='datetime64[ns]', freq='B')"
      ]
     },
     "execution_count": 12,
     "metadata": {},
     "output_type": "execute_result"
    }
   ],
   "source": [
    "data.columns # 列索引, 表示一列"
   ]
  },
  {
   "cell_type": "code",
   "execution_count": 13,
   "id": "63035e77",
   "metadata": {},
   "outputs": [
    {
     "data": {
      "text/plain": [
       "array([[-5.10086244e-01, -1.30445276e+00,  7.31938251e-01,\n",
       "         1.27815756e+00,  5.76020745e-01],\n",
       "       [-5.97502069e-01, -7.02154194e-01,  1.42922305e+00,\n",
       "         1.64269977e-01,  4.02010906e-01],\n",
       "       [-2.15858650e+00, -1.38129157e+00,  4.23083133e-01,\n",
       "         4.69593404e-01,  7.98054625e-01],\n",
       "       [ 4.65521203e-01,  1.37723882e+00,  4.60134860e-02,\n",
       "         1.49147284e+00, -5.50973099e-01],\n",
       "       [-6.48582905e-01, -1.11061535e+00,  8.75127630e-02,\n",
       "        -1.18758800e+00, -1.21861456e+00],\n",
       "       [-1.37291736e-01,  3.79712782e-01,  5.23579996e-03,\n",
       "         1.36294265e+00, -3.51084399e-01],\n",
       "       [-7.62029524e-01, -1.53686193e-02,  3.89791103e-01,\n",
       "        -4.80809059e-01, -1.34350574e+00],\n",
       "       [-1.05573136e-01, -1.16584547e+00,  7.89067146e-01,\n",
       "         1.64566000e+00,  4.75926746e-01],\n",
       "       [ 1.68850850e-01, -1.69036481e+00, -5.47058006e-01,\n",
       "         2.54388313e-01, -6.28376997e-01],\n",
       "       [-5.19738980e-01, -4.89809878e-01, -2.67100827e-02,\n",
       "         3.47952806e-04, -8.10358700e-01]])"
      ]
     },
     "execution_count": 13,
     "metadata": {},
     "output_type": "execute_result"
    }
   ],
   "source": [
    "data.values # 去除行列索引, 只表示里面的数值\n",
    "# 是ndarray类型"
   ]
  },
  {
   "cell_type": "code",
   "execution_count": 14,
   "id": "e865afad",
   "metadata": {},
   "outputs": [
    {
     "data": {
      "text/plain": [
       "numpy.ndarray"
      ]
     },
     "execution_count": 14,
     "metadata": {},
     "output_type": "execute_result"
    }
   ],
   "source": [
    "type(data.values)"
   ]
  },
  {
   "cell_type": "code",
   "execution_count": 15,
   "id": "53e64ace",
   "metadata": {},
   "outputs": [
    {
     "data": {
      "text/html": [
       "<div>\n",
       "<style scoped>\n",
       "    .dataframe tbody tr th:only-of-type {\n",
       "        vertical-align: middle;\n",
       "    }\n",
       "\n",
       "    .dataframe tbody tr th {\n",
       "        vertical-align: top;\n",
       "    }\n",
       "\n",
       "    .dataframe thead th {\n",
       "        text-align: right;\n",
       "    }\n",
       "</style>\n",
       "<table border=\"1\" class=\"dataframe\">\n",
       "  <thead>\n",
       "    <tr style=\"text-align: right;\">\n",
       "      <th></th>\n",
       "      <th>股票0</th>\n",
       "      <th>股票1</th>\n",
       "      <th>股票2</th>\n",
       "      <th>股票3</th>\n",
       "      <th>股票4</th>\n",
       "      <th>股票5</th>\n",
       "      <th>股票6</th>\n",
       "      <th>股票7</th>\n",
       "      <th>股票8</th>\n",
       "      <th>股票9</th>\n",
       "    </tr>\n",
       "  </thead>\n",
       "  <tbody>\n",
       "    <tr>\n",
       "      <th>2018-01-01</th>\n",
       "      <td>-0.510086</td>\n",
       "      <td>-0.597502</td>\n",
       "      <td>-2.158586</td>\n",
       "      <td>0.465521</td>\n",
       "      <td>-0.648583</td>\n",
       "      <td>-0.137292</td>\n",
       "      <td>-0.762030</td>\n",
       "      <td>-0.105573</td>\n",
       "      <td>0.168851</td>\n",
       "      <td>-0.519739</td>\n",
       "    </tr>\n",
       "    <tr>\n",
       "      <th>2018-01-02</th>\n",
       "      <td>-1.304453</td>\n",
       "      <td>-0.702154</td>\n",
       "      <td>-1.381292</td>\n",
       "      <td>1.377239</td>\n",
       "      <td>-1.110615</td>\n",
       "      <td>0.379713</td>\n",
       "      <td>-0.015369</td>\n",
       "      <td>-1.165845</td>\n",
       "      <td>-1.690365</td>\n",
       "      <td>-0.489810</td>\n",
       "    </tr>\n",
       "    <tr>\n",
       "      <th>2018-01-03</th>\n",
       "      <td>0.731938</td>\n",
       "      <td>1.429223</td>\n",
       "      <td>0.423083</td>\n",
       "      <td>0.046013</td>\n",
       "      <td>0.087513</td>\n",
       "      <td>0.005236</td>\n",
       "      <td>0.389791</td>\n",
       "      <td>0.789067</td>\n",
       "      <td>-0.547058</td>\n",
       "      <td>-0.026710</td>\n",
       "    </tr>\n",
       "    <tr>\n",
       "      <th>2018-01-04</th>\n",
       "      <td>1.278158</td>\n",
       "      <td>0.164270</td>\n",
       "      <td>0.469593</td>\n",
       "      <td>1.491473</td>\n",
       "      <td>-1.187588</td>\n",
       "      <td>1.362943</td>\n",
       "      <td>-0.480809</td>\n",
       "      <td>1.645660</td>\n",
       "      <td>0.254388</td>\n",
       "      <td>0.000348</td>\n",
       "    </tr>\n",
       "    <tr>\n",
       "      <th>2018-01-05</th>\n",
       "      <td>0.576021</td>\n",
       "      <td>0.402011</td>\n",
       "      <td>0.798055</td>\n",
       "      <td>-0.550973</td>\n",
       "      <td>-1.218615</td>\n",
       "      <td>-0.351084</td>\n",
       "      <td>-1.343506</td>\n",
       "      <td>0.475927</td>\n",
       "      <td>-0.628377</td>\n",
       "      <td>-0.810359</td>\n",
       "    </tr>\n",
       "  </tbody>\n",
       "</table>\n",
       "</div>"
      ],
      "text/plain": [
       "                 股票0       股票1       股票2       股票3       股票4       股票5  \\\n",
       "2018-01-01 -0.510086 -0.597502 -2.158586  0.465521 -0.648583 -0.137292   \n",
       "2018-01-02 -1.304453 -0.702154 -1.381292  1.377239 -1.110615  0.379713   \n",
       "2018-01-03  0.731938  1.429223  0.423083  0.046013  0.087513  0.005236   \n",
       "2018-01-04  1.278158  0.164270  0.469593  1.491473 -1.187588  1.362943   \n",
       "2018-01-05  0.576021  0.402011  0.798055 -0.550973 -1.218615 -0.351084   \n",
       "\n",
       "                 股票6       股票7       股票8       股票9  \n",
       "2018-01-01 -0.762030 -0.105573  0.168851 -0.519739  \n",
       "2018-01-02 -0.015369 -1.165845 -1.690365 -0.489810  \n",
       "2018-01-03  0.389791  0.789067 -0.547058 -0.026710  \n",
       "2018-01-04 -0.480809  1.645660  0.254388  0.000348  \n",
       "2018-01-05 -1.343506  0.475927 -0.628377 -0.810359  "
      ]
     },
     "execution_count": 15,
     "metadata": {},
     "output_type": "execute_result"
    }
   ],
   "source": [
    "data.T # 转置"
   ]
  },
  {
   "cell_type": "code",
   "execution_count": 16,
   "id": "710c9849",
   "metadata": {},
   "outputs": [
    {
     "data": {
      "text/html": [
       "<div>\n",
       "<style scoped>\n",
       "    .dataframe tbody tr th:only-of-type {\n",
       "        vertical-align: middle;\n",
       "    }\n",
       "\n",
       "    .dataframe tbody tr th {\n",
       "        vertical-align: top;\n",
       "    }\n",
       "\n",
       "    .dataframe thead th {\n",
       "        text-align: right;\n",
       "    }\n",
       "</style>\n",
       "<table border=\"1\" class=\"dataframe\">\n",
       "  <thead>\n",
       "    <tr style=\"text-align: right;\">\n",
       "      <th></th>\n",
       "      <th>2018-01-01</th>\n",
       "      <th>2018-01-02</th>\n",
       "      <th>2018-01-03</th>\n",
       "      <th>2018-01-04</th>\n",
       "      <th>2018-01-05</th>\n",
       "    </tr>\n",
       "  </thead>\n",
       "  <tbody>\n",
       "    <tr>\n",
       "      <th>股票0</th>\n",
       "      <td>-0.510086</td>\n",
       "      <td>-1.304453</td>\n",
       "      <td>0.731938</td>\n",
       "      <td>1.278158</td>\n",
       "      <td>0.576021</td>\n",
       "    </tr>\n",
       "    <tr>\n",
       "      <th>股票1</th>\n",
       "      <td>-0.597502</td>\n",
       "      <td>-0.702154</td>\n",
       "      <td>1.429223</td>\n",
       "      <td>0.164270</td>\n",
       "      <td>0.402011</td>\n",
       "    </tr>\n",
       "    <tr>\n",
       "      <th>股票2</th>\n",
       "      <td>-2.158586</td>\n",
       "      <td>-1.381292</td>\n",
       "      <td>0.423083</td>\n",
       "      <td>0.469593</td>\n",
       "      <td>0.798055</td>\n",
       "    </tr>\n",
       "    <tr>\n",
       "      <th>股票3</th>\n",
       "      <td>0.465521</td>\n",
       "      <td>1.377239</td>\n",
       "      <td>0.046013</td>\n",
       "      <td>1.491473</td>\n",
       "      <td>-0.550973</td>\n",
       "    </tr>\n",
       "    <tr>\n",
       "      <th>股票4</th>\n",
       "      <td>-0.648583</td>\n",
       "      <td>-1.110615</td>\n",
       "      <td>0.087513</td>\n",
       "      <td>-1.187588</td>\n",
       "      <td>-1.218615</td>\n",
       "    </tr>\n",
       "  </tbody>\n",
       "</table>\n",
       "</div>"
      ],
      "text/plain": [
       "     2018-01-01  2018-01-02  2018-01-03  2018-01-04  2018-01-05\n",
       "股票0   -0.510086   -1.304453    0.731938    1.278158    0.576021\n",
       "股票1   -0.597502   -0.702154    1.429223    0.164270    0.402011\n",
       "股票2   -2.158586   -1.381292    0.423083    0.469593    0.798055\n",
       "股票3    0.465521    1.377239    0.046013    1.491473   -0.550973\n",
       "股票4   -0.648583   -1.110615    0.087513   -1.187588   -1.218615"
      ]
     },
     "execution_count": 16,
     "metadata": {},
     "output_type": "execute_result"
    }
   ],
   "source": [
    "# DataFrame的方法:\n",
    "data.head() # 默认查询前五行数据\n",
    "\n",
    "# 我们有时候经常需要看列索引, 但是还不想将所有的数据打印出来\n",
    "# 所以我们经常使用head"
   ]
  },
  {
   "cell_type": "code",
   "execution_count": 17,
   "id": "3822de12",
   "metadata": {},
   "outputs": [
    {
     "data": {
      "text/html": [
       "<div>\n",
       "<style scoped>\n",
       "    .dataframe tbody tr th:only-of-type {\n",
       "        vertical-align: middle;\n",
       "    }\n",
       "\n",
       "    .dataframe tbody tr th {\n",
       "        vertical-align: top;\n",
       "    }\n",
       "\n",
       "    .dataframe thead th {\n",
       "        text-align: right;\n",
       "    }\n",
       "</style>\n",
       "<table border=\"1\" class=\"dataframe\">\n",
       "  <thead>\n",
       "    <tr style=\"text-align: right;\">\n",
       "      <th></th>\n",
       "      <th>2018-01-01</th>\n",
       "      <th>2018-01-02</th>\n",
       "      <th>2018-01-03</th>\n",
       "      <th>2018-01-04</th>\n",
       "      <th>2018-01-05</th>\n",
       "    </tr>\n",
       "  </thead>\n",
       "  <tbody>\n",
       "    <tr>\n",
       "      <th>股票8</th>\n",
       "      <td>0.168851</td>\n",
       "      <td>-1.690365</td>\n",
       "      <td>-0.547058</td>\n",
       "      <td>0.254388</td>\n",
       "      <td>-0.628377</td>\n",
       "    </tr>\n",
       "    <tr>\n",
       "      <th>股票9</th>\n",
       "      <td>-0.519739</td>\n",
       "      <td>-0.489810</td>\n",
       "      <td>-0.026710</td>\n",
       "      <td>0.000348</td>\n",
       "      <td>-0.810359</td>\n",
       "    </tr>\n",
       "  </tbody>\n",
       "</table>\n",
       "</div>"
      ],
      "text/plain": [
       "     2018-01-01  2018-01-02  2018-01-03  2018-01-04  2018-01-05\n",
       "股票8    0.168851   -1.690365   -0.547058    0.254388   -0.628377\n",
       "股票9   -0.519739   -0.489810   -0.026710    0.000348   -0.810359"
      ]
     },
     "execution_count": 17,
     "metadata": {},
     "output_type": "execute_result"
    }
   ],
   "source": [
    "data.tail(2) # 默认显示后五行数据, 但是可以设置后几行\n",
    "\n"
   ]
  },
  {
   "cell_type": "markdown",
   "id": "ec1f90fa",
   "metadata": {},
   "source": [
    "### 修改行列索引值\n",
    "    修改行列的索引值:\n",
    "        索引必须整体修改, 不可以的单独修改某个索引值\n",
    "    重设索引:\n",
    "        reset_index(drop=False)\n",
    "        设置新的索引\n",
    "        drop: 默认为False, 不删除原来的索引, 如果为True, 则删除原来的索引值\n",
    "    设置新的索引:\n",
    "        设置某列值为新的索引:\n",
    "        set_index(keys, drop=True)\n",
    "            keys: 列所以名或列索引名称的列表\n",
    "            drop: 当作为新的索引时, 删除原来的列.\n",
    "    如果我们设置多个索引的时候:\n",
    "    返回的就是MUltiIndex了, 此时数据就是三维数据\n",
    "    MultiIndex: 多级或分层索对象\n",
    "        "
   ]
  },
  {
   "cell_type": "code",
   "execution_count": 19,
   "id": "c6c83325",
   "metadata": {},
   "outputs": [
    {
     "data": {
      "text/html": [
       "<div>\n",
       "<style scoped>\n",
       "    .dataframe tbody tr th:only-of-type {\n",
       "        vertical-align: middle;\n",
       "    }\n",
       "\n",
       "    .dataframe tbody tr th {\n",
       "        vertical-align: top;\n",
       "    }\n",
       "\n",
       "    .dataframe thead th {\n",
       "        text-align: right;\n",
       "    }\n",
       "</style>\n",
       "<table border=\"1\" class=\"dataframe\">\n",
       "  <thead>\n",
       "    <tr style=\"text-align: right;\">\n",
       "      <th></th>\n",
       "      <th>2018-01-01</th>\n",
       "      <th>2018-01-02</th>\n",
       "      <th>2018-01-03</th>\n",
       "      <th>2018-01-04</th>\n",
       "      <th>2018-01-05</th>\n",
       "    </tr>\n",
       "  </thead>\n",
       "  <tbody>\n",
       "    <tr>\n",
       "      <th>股票0</th>\n",
       "      <td>-0.510086</td>\n",
       "      <td>-1.304453</td>\n",
       "      <td>0.731938</td>\n",
       "      <td>1.278158</td>\n",
       "      <td>0.576021</td>\n",
       "    </tr>\n",
       "    <tr>\n",
       "      <th>股票1</th>\n",
       "      <td>-0.597502</td>\n",
       "      <td>-0.702154</td>\n",
       "      <td>1.429223</td>\n",
       "      <td>0.164270</td>\n",
       "      <td>0.402011</td>\n",
       "    </tr>\n",
       "    <tr>\n",
       "      <th>股票2</th>\n",
       "      <td>-2.158586</td>\n",
       "      <td>-1.381292</td>\n",
       "      <td>0.423083</td>\n",
       "      <td>0.469593</td>\n",
       "      <td>0.798055</td>\n",
       "    </tr>\n",
       "    <tr>\n",
       "      <th>股票3</th>\n",
       "      <td>0.465521</td>\n",
       "      <td>1.377239</td>\n",
       "      <td>0.046013</td>\n",
       "      <td>1.491473</td>\n",
       "      <td>-0.550973</td>\n",
       "    </tr>\n",
       "    <tr>\n",
       "      <th>股票4</th>\n",
       "      <td>-0.648583</td>\n",
       "      <td>-1.110615</td>\n",
       "      <td>0.087513</td>\n",
       "      <td>-1.187588</td>\n",
       "      <td>-1.218615</td>\n",
       "    </tr>\n",
       "  </tbody>\n",
       "</table>\n",
       "</div>"
      ],
      "text/plain": [
       "     2018-01-01  2018-01-02  2018-01-03  2018-01-04  2018-01-05\n",
       "股票0   -0.510086   -1.304453    0.731938    1.278158    0.576021\n",
       "股票1   -0.597502   -0.702154    1.429223    0.164270    0.402011\n",
       "股票2   -2.158586   -1.381292    0.423083    0.469593    0.798055\n",
       "股票3    0.465521    1.377239    0.046013    1.491473   -0.550973\n",
       "股票4   -0.648583   -1.110615    0.087513   -1.187588   -1.218615"
      ]
     },
     "execution_count": 19,
     "metadata": {},
     "output_type": "execute_result"
    }
   ],
   "source": [
    "data.head()"
   ]
  },
  {
   "cell_type": "code",
   "execution_count": 22,
   "id": "d28d0dba",
   "metadata": {},
   "outputs": [],
   "source": [
    "# 显然有行列索引。\n",
    "# 但是行列索引不可以单独修改：\n",
    "# data.index[2] =  \"股票3\" # 这是错误的修改方式，索引不可以单独修改"
   ]
  },
  {
   "cell_type": "code",
   "execution_count": 23,
   "id": "c6581c3d",
   "metadata": {},
   "outputs": [],
   "source": [
    "# 索引只能整体修改："
   ]
  },
  {
   "cell_type": "code",
   "execution_count": 24,
   "id": "1f2718a3",
   "metadata": {},
   "outputs": [],
   "source": [
    "stock_index = [f\"股票_{i}\" for i in range(data.shape[0])]"
   ]
  },
  {
   "cell_type": "code",
   "execution_count": 26,
   "id": "53e9118b",
   "metadata": {},
   "outputs": [
    {
     "data": {
      "text/plain": [
       "['股票_0',\n",
       " '股票_1',\n",
       " '股票_2',\n",
       " '股票_3',\n",
       " '股票_4',\n",
       " '股票_5',\n",
       " '股票_6',\n",
       " '股票_7',\n",
       " '股票_8',\n",
       " '股票_9']"
      ]
     },
     "execution_count": 26,
     "metadata": {},
     "output_type": "execute_result"
    }
   ],
   "source": [
    "stock_index # 得到一个列表，此时我们就可以整体修改data的索引了"
   ]
  },
  {
   "cell_type": "code",
   "execution_count": 27,
   "id": "2faf8ddb",
   "metadata": {},
   "outputs": [],
   "source": [
    "data.index = stock_index"
   ]
  },
  {
   "cell_type": "code",
   "execution_count": 31,
   "id": "e329c4d1",
   "metadata": {},
   "outputs": [
    {
     "data": {
      "text/plain": [
       "Index(['股票_0', '股票_1', '股票_2', '股票_3', '股票_4', '股票_5', '股票_6', '股票_7', '股票_8',\n",
       "       '股票_9'],\n",
       "      dtype='object')"
      ]
     },
     "execution_count": 31,
     "metadata": {},
     "output_type": "execute_result"
    }
   ],
   "source": [
    "data.index # 这样就成功修改了索引"
   ]
  },
  {
   "cell_type": "code",
   "execution_count": 32,
   "id": "03126b7c",
   "metadata": {},
   "outputs": [
    {
     "data": {
      "text/html": [
       "<div>\n",
       "<style scoped>\n",
       "    .dataframe tbody tr th:only-of-type {\n",
       "        vertical-align: middle;\n",
       "    }\n",
       "\n",
       "    .dataframe tbody tr th {\n",
       "        vertical-align: top;\n",
       "    }\n",
       "\n",
       "    .dataframe thead th {\n",
       "        text-align: right;\n",
       "    }\n",
       "</style>\n",
       "<table border=\"1\" class=\"dataframe\">\n",
       "  <thead>\n",
       "    <tr style=\"text-align: right;\">\n",
       "      <th></th>\n",
       "      <th>2018-01-01</th>\n",
       "      <th>2018-01-02</th>\n",
       "      <th>2018-01-03</th>\n",
       "      <th>2018-01-04</th>\n",
       "      <th>2018-01-05</th>\n",
       "    </tr>\n",
       "  </thead>\n",
       "  <tbody>\n",
       "    <tr>\n",
       "      <th>股票_0</th>\n",
       "      <td>-0.510086</td>\n",
       "      <td>-1.304453</td>\n",
       "      <td>0.731938</td>\n",
       "      <td>1.278158</td>\n",
       "      <td>0.576021</td>\n",
       "    </tr>\n",
       "    <tr>\n",
       "      <th>股票_1</th>\n",
       "      <td>-0.597502</td>\n",
       "      <td>-0.702154</td>\n",
       "      <td>1.429223</td>\n",
       "      <td>0.164270</td>\n",
       "      <td>0.402011</td>\n",
       "    </tr>\n",
       "    <tr>\n",
       "      <th>股票_2</th>\n",
       "      <td>-2.158586</td>\n",
       "      <td>-1.381292</td>\n",
       "      <td>0.423083</td>\n",
       "      <td>0.469593</td>\n",
       "      <td>0.798055</td>\n",
       "    </tr>\n",
       "    <tr>\n",
       "      <th>股票_3</th>\n",
       "      <td>0.465521</td>\n",
       "      <td>1.377239</td>\n",
       "      <td>0.046013</td>\n",
       "      <td>1.491473</td>\n",
       "      <td>-0.550973</td>\n",
       "    </tr>\n",
       "    <tr>\n",
       "      <th>股票_4</th>\n",
       "      <td>-0.648583</td>\n",
       "      <td>-1.110615</td>\n",
       "      <td>0.087513</td>\n",
       "      <td>-1.187588</td>\n",
       "      <td>-1.218615</td>\n",
       "    </tr>\n",
       "  </tbody>\n",
       "</table>\n",
       "</div>"
      ],
      "text/plain": [
       "      2018-01-01  2018-01-02  2018-01-03  2018-01-04  2018-01-05\n",
       "股票_0   -0.510086   -1.304453    0.731938    1.278158    0.576021\n",
       "股票_1   -0.597502   -0.702154    1.429223    0.164270    0.402011\n",
       "股票_2   -2.158586   -1.381292    0.423083    0.469593    0.798055\n",
       "股票_3    0.465521    1.377239    0.046013    1.491473   -0.550973\n",
       "股票_4   -0.648583   -1.110615    0.087513   -1.187588   -1.218615"
      ]
     },
     "execution_count": 32,
     "metadata": {},
     "output_type": "execute_result"
    }
   ],
   "source": [
    "data.head()"
   ]
  },
  {
   "cell_type": "code",
   "execution_count": null,
   "id": "650af13c",
   "metadata": {},
   "outputs": [],
   "source": []
  }
 ],
 "metadata": {
  "kernelspec": {
   "display_name": "Python 3 (ipykernel)",
   "language": "python",
   "name": "python3"
  },
  "language_info": {
   "codemirror_mode": {
    "name": "ipython",
    "version": 3
   },
   "file_extension": ".py",
   "mimetype": "text/x-python",
   "name": "python",
   "nbconvert_exporter": "python",
   "pygments_lexer": "ipython3",
   "version": "3.9.9"
  },
  "latex_envs": {
   "LaTeX_envs_menu_present": true,
   "autoclose": false,
   "autocomplete": true,
   "bibliofile": "biblio.bib",
   "cite_by": "apalike",
   "current_citInitial": 1,
   "eqLabelWithNumbers": true,
   "eqNumInitial": 1,
   "hotkeys": {
    "equation": "Ctrl-E",
    "itemize": "Ctrl-I"
   },
   "labels_anchors": false,
   "latex_user_defs": false,
   "report_style_numbering": false,
   "user_envs_cfg": false
  }
 },
 "nbformat": 4,
 "nbformat_minor": 5
}
